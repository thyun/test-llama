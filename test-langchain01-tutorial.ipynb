{
 "cells": [
  {
   "cell_type": "code",
   "execution_count": 1,
   "id": "5c89eb9f-719a-4f4c-9177-91dce9960305",
   "metadata": {},
   "outputs": [],
   "source": [
    "from langchain.llms import OpenAI\n",
    "from langchain.chat_models import ChatOpenAI\n",
    "\n",
    "import os\n",
    "import ssl\n",
    "#os.environ['REQUESTS_CA_BUNDLE'] = '/home/thyun/cacert.pem'\n",
    "#ssl._create_default_https_context = ssl._create_unverified_context\n",
    "#ssl.SSLContext.verify_mode = ssl.VerifyMode.CERT_OPTIONAL\n",
    "#os.environ['PYTHONHTTPSVERIFY'] = '0'\n",
    "\n",
    "llm = OpenAI()\n",
    "chat_model = ChatOpenAI()"
   ]
  },
  {
   "cell_type": "code",
   "execution_count": 2,
   "id": "eedd6a18-33a6-4021-bb75-c0c2e1fb6f89",
   "metadata": {},
   "outputs": [],
   "source": [
    "from langchain.schema import HumanMessage\n",
    "\n",
    "text = \"What would be a good company name for a company that makes colorful socks?\"\n",
    "messages = [HumanMessage(content=text)]\n"
   ]
  },
  {
   "cell_type": "code",
   "execution_count": 3,
   "id": "88ed16a6-6b22-4dc1-afc6-a95d5361fa29",
   "metadata": {},
   "outputs": [
    {
     "data": {
      "text/plain": [
       "'\\n\\nFancy Feet Socks.'"
      ]
     },
     "execution_count": 3,
     "metadata": {},
     "output_type": "execute_result"
    }
   ],
   "source": [
    "llm.invoke(text)\n",
    "# >> Feetful of Fun"
   ]
  },
  {
   "cell_type": "code",
   "execution_count": 4,
   "id": "aceea7f3-1912-40e0-9d8f-b523a89363ad",
   "metadata": {},
   "outputs": [
    {
     "data": {
      "text/plain": [
       "AIMessage(content='Spectrum Socks')"
      ]
     },
     "execution_count": 4,
     "metadata": {},
     "output_type": "execute_result"
    }
   ],
   "source": [
    "chat_model.invoke(messages)\n",
    "# >> AIMessage(content=\"Socks O'Color\")"
   ]
  },
  {
   "cell_type": "code",
   "execution_count": null,
   "id": "a33a7e84-f872-4536-8fb3-2679b3c2582a",
   "metadata": {},
   "outputs": [],
   "source": []
  }
 ],
 "metadata": {
  "kernelspec": {
   "display_name": "Python 3 (ipykernel)",
   "language": "python",
   "name": "python3"
  },
  "language_info": {
   "codemirror_mode": {
    "name": "ipython",
    "version": 3
   },
   "file_extension": ".py",
   "mimetype": "text/x-python",
   "name": "python",
   "nbconvert_exporter": "python",
   "pygments_lexer": "ipython3",
   "version": "3.11.5"
  }
 },
 "nbformat": 4,
 "nbformat_minor": 5
}
