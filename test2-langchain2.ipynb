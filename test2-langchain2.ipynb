{
 "cells": [
  {
   "cell_type": "markdown",
   "id": "060f8ccb-46d1-4589-881d-11de209e4665",
   "metadata": {},
   "source": [
    "## Common"
   ]
  },
  {
   "cell_type": "code",
   "execution_count": 1,
   "id": "56a2422b-182a-4812-b378-5131524ed2ae",
   "metadata": {},
   "outputs": [],
   "source": [
    "from operator import itemgetter\n",
    "from typing import AsyncIterator, Dict, List, Optional, Sequence\n",
    "\n",
    "from langchain.prompts import ChatPromptTemplate, MessagesPlaceholder, PromptTemplate\n",
    "from langchain.schema import Document\n",
    "from langchain.schema.language_model import BaseLanguageModel\n",
    "from langchain.schema.messages import AIMessage, HumanMessage\n",
    "from langchain.schema.output_parser import StrOutputParser\n",
    "from langchain.schema.retriever import BaseRetriever\n",
    "from langchain.schema.runnable import Runnable, RunnableMap\n",
    "\n",
    "from pydantic import BaseModel    "
   ]
  },
  {
   "cell_type": "code",
   "execution_count": 2,
   "id": "0921739f-7683-4b17-8f85-8a2441f4658f",
   "metadata": {},
   "outputs": [
    {
     "name": "stderr",
     "output_type": "stream",
     "text": [
      "llama_model_loader: loaded meta data with 19 key-value pairs and 363 tensors from ../models/llama-2-13b-chat.Q4_0.gguf (version GGUF V2 (latest))\n",
      "llama_model_loader: - tensor    0:                token_embd.weight q4_0     [  5120, 32000,     1,     1 ]\n",
      "llama_model_loader: - tensor    1:           blk.0.attn_norm.weight f32      [  5120,     1,     1,     1 ]\n",
      "llama_model_loader: - tensor    2:            blk.0.ffn_down.weight q4_0     [ 13824,  5120,     1,     1 ]\n",
      "llama_model_loader: - tensor    3:            blk.0.ffn_gate.weight q4_0     [  5120, 13824,     1,     1 ]\n",
      "llama_model_loader: - tensor    4:              blk.0.ffn_up.weight q4_0     [  5120, 13824,     1,     1 ]\n",
      "llama_model_loader: - tensor    5:            blk.0.ffn_norm.weight f32      [  5120,     1,     1,     1 ]\n",
      "llama_model_loader: - tensor    6:              blk.0.attn_k.weight q4_0     [  5120,  5120,     1,     1 ]\n",
      "llama_model_loader: - tensor    7:         blk.0.attn_output.weight q4_0     [  5120,  5120,     1,     1 ]\n",
      "llama_model_loader: - tensor    8:              blk.0.attn_q.weight q4_0     [  5120,  5120,     1,     1 ]\n",
      "llama_model_loader: - tensor    9:              blk.0.attn_v.weight q4_0     [  5120,  5120,     1,     1 ]\n",
      "llama_model_loader: - tensor   10:           blk.1.attn_norm.weight f32      [  5120,     1,     1,     1 ]\n",
      "llama_model_loader: - tensor   11:            blk.1.ffn_down.weight q4_0     [ 13824,  5120,     1,     1 ]\n",
      "llama_model_loader: - tensor   12:            blk.1.ffn_gate.weight q4_0     [  5120, 13824,     1,     1 ]\n",
      "llama_model_loader: - tensor   13:              blk.1.ffn_up.weight q4_0     [  5120, 13824,     1,     1 ]\n",
      "llama_model_loader: - tensor   14:            blk.1.ffn_norm.weight f32      [  5120,     1,     1,     1 ]\n",
      "llama_model_loader: - tensor   15:              blk.1.attn_k.weight q4_0     [  5120,  5120,     1,     1 ]\n",
      "llama_model_loader: - tensor   16:         blk.1.attn_output.weight q4_0     [  5120,  5120,     1,     1 ]\n",
      "llama_model_loader: - tensor   17:              blk.1.attn_q.weight q4_0     [  5120,  5120,     1,     1 ]\n",
      "llama_model_loader: - tensor   18:              blk.1.attn_v.weight q4_0     [  5120,  5120,     1,     1 ]\n",
      "llama_model_loader: - tensor   19:          blk.10.attn_norm.weight f32      [  5120,     1,     1,     1 ]\n",
      "llama_model_loader: - tensor   20:           blk.10.ffn_down.weight q4_0     [ 13824,  5120,     1,     1 ]\n",
      "llama_model_loader: - tensor   21:           blk.10.ffn_gate.weight q4_0     [  5120, 13824,     1,     1 ]\n",
      "llama_model_loader: - tensor   22:             blk.10.ffn_up.weight q4_0     [  5120, 13824,     1,     1 ]\n",
      "llama_model_loader: - tensor   23:           blk.10.ffn_norm.weight f32      [  5120,     1,     1,     1 ]\n",
      "llama_model_loader: - tensor   24:             blk.10.attn_k.weight q4_0     [  5120,  5120,     1,     1 ]\n",
      "llama_model_loader: - tensor   25:        blk.10.attn_output.weight q4_0     [  5120,  5120,     1,     1 ]\n",
      "llama_model_loader: - tensor   26:             blk.10.attn_q.weight q4_0     [  5120,  5120,     1,     1 ]\n",
      "llama_model_loader: - tensor   27:             blk.10.attn_v.weight q4_0     [  5120,  5120,     1,     1 ]\n",
      "llama_model_loader: - tensor   28:          blk.11.attn_norm.weight f32      [  5120,     1,     1,     1 ]\n",
      "llama_model_loader: - tensor   29:           blk.11.ffn_down.weight q4_0     [ 13824,  5120,     1,     1 ]\n",
      "llama_model_loader: - tensor   30:           blk.11.ffn_gate.weight q4_0     [  5120, 13824,     1,     1 ]\n",
      "llama_model_loader: - tensor   31:             blk.11.ffn_up.weight q4_0     [  5120, 13824,     1,     1 ]\n",
      "llama_model_loader: - tensor   32:           blk.11.ffn_norm.weight f32      [  5120,     1,     1,     1 ]\n",
      "llama_model_loader: - tensor   33:             blk.11.attn_k.weight q4_0     [  5120,  5120,     1,     1 ]\n",
      "llama_model_loader: - tensor   34:        blk.11.attn_output.weight q4_0     [  5120,  5120,     1,     1 ]\n",
      "llama_model_loader: - tensor   35:             blk.11.attn_q.weight q4_0     [  5120,  5120,     1,     1 ]\n",
      "llama_model_loader: - tensor   36:             blk.11.attn_v.weight q4_0     [  5120,  5120,     1,     1 ]\n",
      "llama_model_loader: - tensor   37:          blk.12.attn_norm.weight f32      [  5120,     1,     1,     1 ]\n",
      "llama_model_loader: - tensor   38:           blk.12.ffn_down.weight q4_0     [ 13824,  5120,     1,     1 ]\n",
      "llama_model_loader: - tensor   39:           blk.12.ffn_gate.weight q4_0     [  5120, 13824,     1,     1 ]\n",
      "llama_model_loader: - tensor   40:             blk.12.ffn_up.weight q4_0     [  5120, 13824,     1,     1 ]\n",
      "llama_model_loader: - tensor   41:           blk.12.ffn_norm.weight f32      [  5120,     1,     1,     1 ]\n",
      "llama_model_loader: - tensor   42:             blk.12.attn_k.weight q4_0     [  5120,  5120,     1,     1 ]\n",
      "llama_model_loader: - tensor   43:        blk.12.attn_output.weight q4_0     [  5120,  5120,     1,     1 ]\n",
      "llama_model_loader: - tensor   44:             blk.12.attn_q.weight q4_0     [  5120,  5120,     1,     1 ]\n",
      "llama_model_loader: - tensor   45:             blk.12.attn_v.weight q4_0     [  5120,  5120,     1,     1 ]\n",
      "llama_model_loader: - tensor   46:          blk.13.attn_norm.weight f32      [  5120,     1,     1,     1 ]\n",
      "llama_model_loader: - tensor   47:           blk.13.ffn_down.weight q4_0     [ 13824,  5120,     1,     1 ]\n",
      "llama_model_loader: - tensor   48:           blk.13.ffn_gate.weight q4_0     [  5120, 13824,     1,     1 ]\n",
      "llama_model_loader: - tensor   49:             blk.13.ffn_up.weight q4_0     [  5120, 13824,     1,     1 ]\n",
      "llama_model_loader: - tensor   50:           blk.13.ffn_norm.weight f32      [  5120,     1,     1,     1 ]\n",
      "llama_model_loader: - tensor   51:             blk.13.attn_k.weight q4_0     [  5120,  5120,     1,     1 ]\n",
      "llama_model_loader: - tensor   52:        blk.13.attn_output.weight q4_0     [  5120,  5120,     1,     1 ]\n",
      "llama_model_loader: - tensor   53:             blk.13.attn_q.weight q4_0     [  5120,  5120,     1,     1 ]\n",
      "llama_model_loader: - tensor   54:             blk.13.attn_v.weight q4_0     [  5120,  5120,     1,     1 ]\n",
      "llama_model_loader: - tensor   55:          blk.14.attn_norm.weight f32      [  5120,     1,     1,     1 ]\n",
      "llama_model_loader: - tensor   56:           blk.14.ffn_down.weight q4_0     [ 13824,  5120,     1,     1 ]\n",
      "llama_model_loader: - tensor   57:           blk.14.ffn_gate.weight q4_0     [  5120, 13824,     1,     1 ]\n",
      "llama_model_loader: - tensor   58:             blk.14.ffn_up.weight q4_0     [  5120, 13824,     1,     1 ]\n",
      "llama_model_loader: - tensor   59:           blk.14.ffn_norm.weight f32      [  5120,     1,     1,     1 ]\n",
      "llama_model_loader: - tensor   60:             blk.14.attn_k.weight q4_0     [  5120,  5120,     1,     1 ]\n",
      "llama_model_loader: - tensor   61:        blk.14.attn_output.weight q4_0     [  5120,  5120,     1,     1 ]\n",
      "llama_model_loader: - tensor   62:             blk.14.attn_q.weight q4_0     [  5120,  5120,     1,     1 ]\n",
      "llama_model_loader: - tensor   63:             blk.14.attn_v.weight q4_0     [  5120,  5120,     1,     1 ]\n",
      "llama_model_loader: - tensor   64:             blk.15.attn_k.weight q4_0     [  5120,  5120,     1,     1 ]\n",
      "llama_model_loader: - tensor   65:             blk.15.attn_q.weight q4_0     [  5120,  5120,     1,     1 ]\n",
      "llama_model_loader: - tensor   66:           blk.2.attn_norm.weight f32      [  5120,     1,     1,     1 ]\n",
      "llama_model_loader: - tensor   67:            blk.2.ffn_down.weight q4_0     [ 13824,  5120,     1,     1 ]\n",
      "llama_model_loader: - tensor   68:            blk.2.ffn_gate.weight q4_0     [  5120, 13824,     1,     1 ]\n",
      "llama_model_loader: - tensor   69:              blk.2.ffn_up.weight q4_0     [  5120, 13824,     1,     1 ]\n",
      "llama_model_loader: - tensor   70:            blk.2.ffn_norm.weight f32      [  5120,     1,     1,     1 ]\n",
      "llama_model_loader: - tensor   71:              blk.2.attn_k.weight q4_0     [  5120,  5120,     1,     1 ]\n",
      "llama_model_loader: - tensor   72:         blk.2.attn_output.weight q4_0     [  5120,  5120,     1,     1 ]\n",
      "llama_model_loader: - tensor   73:              blk.2.attn_q.weight q4_0     [  5120,  5120,     1,     1 ]\n",
      "llama_model_loader: - tensor   74:              blk.2.attn_v.weight q4_0     [  5120,  5120,     1,     1 ]\n",
      "llama_model_loader: - tensor   75:           blk.3.attn_norm.weight f32      [  5120,     1,     1,     1 ]\n",
      "llama_model_loader: - tensor   76:            blk.3.ffn_down.weight q4_0     [ 13824,  5120,     1,     1 ]\n",
      "llama_model_loader: - tensor   77:            blk.3.ffn_gate.weight q4_0     [  5120, 13824,     1,     1 ]\n",
      "llama_model_loader: - tensor   78:              blk.3.ffn_up.weight q4_0     [  5120, 13824,     1,     1 ]\n",
      "llama_model_loader: - tensor   79:            blk.3.ffn_norm.weight f32      [  5120,     1,     1,     1 ]\n",
      "llama_model_loader: - tensor   80:              blk.3.attn_k.weight q4_0     [  5120,  5120,     1,     1 ]\n",
      "llama_model_loader: - tensor   81:         blk.3.attn_output.weight q4_0     [  5120,  5120,     1,     1 ]\n",
      "llama_model_loader: - tensor   82:              blk.3.attn_q.weight q4_0     [  5120,  5120,     1,     1 ]\n",
      "llama_model_loader: - tensor   83:              blk.3.attn_v.weight q4_0     [  5120,  5120,     1,     1 ]\n",
      "llama_model_loader: - tensor   84:           blk.4.attn_norm.weight f32      [  5120,     1,     1,     1 ]\n",
      "llama_model_loader: - tensor   85:            blk.4.ffn_down.weight q4_0     [ 13824,  5120,     1,     1 ]\n",
      "llama_model_loader: - tensor   86:            blk.4.ffn_gate.weight q4_0     [  5120, 13824,     1,     1 ]\n",
      "llama_model_loader: - tensor   87:              blk.4.ffn_up.weight q4_0     [  5120, 13824,     1,     1 ]\n",
      "llama_model_loader: - tensor   88:            blk.4.ffn_norm.weight f32      [  5120,     1,     1,     1 ]\n",
      "llama_model_loader: - tensor   89:              blk.4.attn_k.weight q4_0     [  5120,  5120,     1,     1 ]\n",
      "llama_model_loader: - tensor   90:         blk.4.attn_output.weight q4_0     [  5120,  5120,     1,     1 ]\n",
      "llama_model_loader: - tensor   91:              blk.4.attn_q.weight q4_0     [  5120,  5120,     1,     1 ]\n",
      "llama_model_loader: - tensor   92:              blk.4.attn_v.weight q4_0     [  5120,  5120,     1,     1 ]\n",
      "llama_model_loader: - tensor   93:           blk.5.attn_norm.weight f32      [  5120,     1,     1,     1 ]\n",
      "llama_model_loader: - tensor   94:            blk.5.ffn_down.weight q4_0     [ 13824,  5120,     1,     1 ]\n",
      "llama_model_loader: - tensor   95:            blk.5.ffn_gate.weight q4_0     [  5120, 13824,     1,     1 ]\n",
      "llama_model_loader: - tensor   96:              blk.5.ffn_up.weight q4_0     [  5120, 13824,     1,     1 ]\n",
      "llama_model_loader: - tensor   97:            blk.5.ffn_norm.weight f32      [  5120,     1,     1,     1 ]\n",
      "llama_model_loader: - tensor   98:              blk.5.attn_k.weight q4_0     [  5120,  5120,     1,     1 ]\n",
      "llama_model_loader: - tensor   99:         blk.5.attn_output.weight q4_0     [  5120,  5120,     1,     1 ]\n",
      "llama_model_loader: - tensor  100:              blk.5.attn_q.weight q4_0     [  5120,  5120,     1,     1 ]\n",
      "llama_model_loader: - tensor  101:              blk.5.attn_v.weight q4_0     [  5120,  5120,     1,     1 ]\n",
      "llama_model_loader: - tensor  102:           blk.6.attn_norm.weight f32      [  5120,     1,     1,     1 ]\n",
      "llama_model_loader: - tensor  103:            blk.6.ffn_down.weight q4_0     [ 13824,  5120,     1,     1 ]\n",
      "llama_model_loader: - tensor  104:            blk.6.ffn_gate.weight q4_0     [  5120, 13824,     1,     1 ]\n",
      "llama_model_loader: - tensor  105:              blk.6.ffn_up.weight q4_0     [  5120, 13824,     1,     1 ]\n",
      "llama_model_loader: - tensor  106:            blk.6.ffn_norm.weight f32      [  5120,     1,     1,     1 ]\n",
      "llama_model_loader: - tensor  107:              blk.6.attn_k.weight q4_0     [  5120,  5120,     1,     1 ]\n",
      "llama_model_loader: - tensor  108:         blk.6.attn_output.weight q4_0     [  5120,  5120,     1,     1 ]\n",
      "llama_model_loader: - tensor  109:              blk.6.attn_q.weight q4_0     [  5120,  5120,     1,     1 ]\n",
      "llama_model_loader: - tensor  110:              blk.6.attn_v.weight q4_0     [  5120,  5120,     1,     1 ]\n",
      "llama_model_loader: - tensor  111:           blk.7.attn_norm.weight f32      [  5120,     1,     1,     1 ]\n",
      "llama_model_loader: - tensor  112:            blk.7.ffn_down.weight q4_0     [ 13824,  5120,     1,     1 ]\n",
      "llama_model_loader: - tensor  113:            blk.7.ffn_gate.weight q4_0     [  5120, 13824,     1,     1 ]\n",
      "llama_model_loader: - tensor  114:              blk.7.ffn_up.weight q4_0     [  5120, 13824,     1,     1 ]\n",
      "llama_model_loader: - tensor  115:            blk.7.ffn_norm.weight f32      [  5120,     1,     1,     1 ]\n",
      "llama_model_loader: - tensor  116:              blk.7.attn_k.weight q4_0     [  5120,  5120,     1,     1 ]\n",
      "llama_model_loader: - tensor  117:         blk.7.attn_output.weight q4_0     [  5120,  5120,     1,     1 ]\n",
      "llama_model_loader: - tensor  118:              blk.7.attn_q.weight q4_0     [  5120,  5120,     1,     1 ]\n",
      "llama_model_loader: - tensor  119:              blk.7.attn_v.weight q4_0     [  5120,  5120,     1,     1 ]\n",
      "llama_model_loader: - tensor  120:           blk.8.attn_norm.weight f32      [  5120,     1,     1,     1 ]\n",
      "llama_model_loader: - tensor  121:            blk.8.ffn_down.weight q4_0     [ 13824,  5120,     1,     1 ]\n",
      "llama_model_loader: - tensor  122:            blk.8.ffn_gate.weight q4_0     [  5120, 13824,     1,     1 ]\n",
      "llama_model_loader: - tensor  123:              blk.8.ffn_up.weight q4_0     [  5120, 13824,     1,     1 ]\n",
      "llama_model_loader: - tensor  124:            blk.8.ffn_norm.weight f32      [  5120,     1,     1,     1 ]\n",
      "llama_model_loader: - tensor  125:              blk.8.attn_k.weight q4_0     [  5120,  5120,     1,     1 ]\n",
      "llama_model_loader: - tensor  126:         blk.8.attn_output.weight q4_0     [  5120,  5120,     1,     1 ]\n",
      "llama_model_loader: - tensor  127:              blk.8.attn_q.weight q4_0     [  5120,  5120,     1,     1 ]\n",
      "llama_model_loader: - tensor  128:              blk.8.attn_v.weight q4_0     [  5120,  5120,     1,     1 ]\n",
      "llama_model_loader: - tensor  129:           blk.9.attn_norm.weight f32      [  5120,     1,     1,     1 ]\n",
      "llama_model_loader: - tensor  130:            blk.9.ffn_down.weight q4_0     [ 13824,  5120,     1,     1 ]\n",
      "llama_model_loader: - tensor  131:            blk.9.ffn_gate.weight q4_0     [  5120, 13824,     1,     1 ]\n",
      "llama_model_loader: - tensor  132:              blk.9.ffn_up.weight q4_0     [  5120, 13824,     1,     1 ]\n",
      "llama_model_loader: - tensor  133:            blk.9.ffn_norm.weight f32      [  5120,     1,     1,     1 ]\n",
      "llama_model_loader: - tensor  134:              blk.9.attn_k.weight q4_0     [  5120,  5120,     1,     1 ]\n",
      "llama_model_loader: - tensor  135:         blk.9.attn_output.weight q4_0     [  5120,  5120,     1,     1 ]\n",
      "llama_model_loader: - tensor  136:              blk.9.attn_q.weight q4_0     [  5120,  5120,     1,     1 ]\n",
      "llama_model_loader: - tensor  137:              blk.9.attn_v.weight q4_0     [  5120,  5120,     1,     1 ]\n",
      "llama_model_loader: - tensor  138:          blk.15.attn_norm.weight f32      [  5120,     1,     1,     1 ]\n",
      "llama_model_loader: - tensor  139:           blk.15.ffn_down.weight q4_0     [ 13824,  5120,     1,     1 ]\n",
      "llama_model_loader: - tensor  140:           blk.15.ffn_gate.weight q4_0     [  5120, 13824,     1,     1 ]\n",
      "llama_model_loader: - tensor  141:             blk.15.ffn_up.weight q4_0     [  5120, 13824,     1,     1 ]\n",
      "llama_model_loader: - tensor  142:           blk.15.ffn_norm.weight f32      [  5120,     1,     1,     1 ]\n",
      "llama_model_loader: - tensor  143:        blk.15.attn_output.weight q4_0     [  5120,  5120,     1,     1 ]\n",
      "llama_model_loader: - tensor  144:             blk.15.attn_v.weight q4_0     [  5120,  5120,     1,     1 ]\n",
      "llama_model_loader: - tensor  145:          blk.16.attn_norm.weight f32      [  5120,     1,     1,     1 ]\n",
      "llama_model_loader: - tensor  146:           blk.16.ffn_down.weight q4_0     [ 13824,  5120,     1,     1 ]\n",
      "llama_model_loader: - tensor  147:           blk.16.ffn_gate.weight q4_0     [  5120, 13824,     1,     1 ]\n",
      "llama_model_loader: - tensor  148:             blk.16.ffn_up.weight q4_0     [  5120, 13824,     1,     1 ]\n",
      "llama_model_loader: - tensor  149:           blk.16.ffn_norm.weight f32      [  5120,     1,     1,     1 ]\n",
      "llama_model_loader: - tensor  150:             blk.16.attn_k.weight q4_0     [  5120,  5120,     1,     1 ]\n",
      "llama_model_loader: - tensor  151:        blk.16.attn_output.weight q4_0     [  5120,  5120,     1,     1 ]\n",
      "llama_model_loader: - tensor  152:             blk.16.attn_q.weight q4_0     [  5120,  5120,     1,     1 ]\n",
      "llama_model_loader: - tensor  153:             blk.16.attn_v.weight q4_0     [  5120,  5120,     1,     1 ]\n",
      "llama_model_loader: - tensor  154:          blk.17.attn_norm.weight f32      [  5120,     1,     1,     1 ]\n",
      "llama_model_loader: - tensor  155:           blk.17.ffn_down.weight q4_0     [ 13824,  5120,     1,     1 ]\n",
      "llama_model_loader: - tensor  156:           blk.17.ffn_gate.weight q4_0     [  5120, 13824,     1,     1 ]\n",
      "llama_model_loader: - tensor  157:             blk.17.ffn_up.weight q4_0     [  5120, 13824,     1,     1 ]\n",
      "llama_model_loader: - tensor  158:           blk.17.ffn_norm.weight f32      [  5120,     1,     1,     1 ]\n",
      "llama_model_loader: - tensor  159:             blk.17.attn_k.weight q4_0     [  5120,  5120,     1,     1 ]\n",
      "llama_model_loader: - tensor  160:        blk.17.attn_output.weight q4_0     [  5120,  5120,     1,     1 ]\n",
      "llama_model_loader: - tensor  161:             blk.17.attn_q.weight q4_0     [  5120,  5120,     1,     1 ]\n",
      "llama_model_loader: - tensor  162:             blk.17.attn_v.weight q4_0     [  5120,  5120,     1,     1 ]\n",
      "llama_model_loader: - tensor  163:          blk.18.attn_norm.weight f32      [  5120,     1,     1,     1 ]\n",
      "llama_model_loader: - tensor  164:           blk.18.ffn_down.weight q4_0     [ 13824,  5120,     1,     1 ]\n",
      "llama_model_loader: - tensor  165:           blk.18.ffn_gate.weight q4_0     [  5120, 13824,     1,     1 ]\n",
      "llama_model_loader: - tensor  166:             blk.18.ffn_up.weight q4_0     [  5120, 13824,     1,     1 ]\n",
      "llama_model_loader: - tensor  167:           blk.18.ffn_norm.weight f32      [  5120,     1,     1,     1 ]\n",
      "llama_model_loader: - tensor  168:             blk.18.attn_k.weight q4_0     [  5120,  5120,     1,     1 ]\n",
      "llama_model_loader: - tensor  169:        blk.18.attn_output.weight q4_0     [  5120,  5120,     1,     1 ]\n",
      "llama_model_loader: - tensor  170:             blk.18.attn_q.weight q4_0     [  5120,  5120,     1,     1 ]\n",
      "llama_model_loader: - tensor  171:             blk.18.attn_v.weight q4_0     [  5120,  5120,     1,     1 ]\n",
      "llama_model_loader: - tensor  172:          blk.19.attn_norm.weight f32      [  5120,     1,     1,     1 ]\n",
      "llama_model_loader: - tensor  173:           blk.19.ffn_down.weight q4_0     [ 13824,  5120,     1,     1 ]\n",
      "llama_model_loader: - tensor  174:           blk.19.ffn_gate.weight q4_0     [  5120, 13824,     1,     1 ]\n",
      "llama_model_loader: - tensor  175:             blk.19.ffn_up.weight q4_0     [  5120, 13824,     1,     1 ]\n",
      "llama_model_loader: - tensor  176:           blk.19.ffn_norm.weight f32      [  5120,     1,     1,     1 ]\n",
      "llama_model_loader: - tensor  177:             blk.19.attn_k.weight q4_0     [  5120,  5120,     1,     1 ]\n",
      "llama_model_loader: - tensor  178:        blk.19.attn_output.weight q4_0     [  5120,  5120,     1,     1 ]\n",
      "llama_model_loader: - tensor  179:             blk.19.attn_q.weight q4_0     [  5120,  5120,     1,     1 ]\n",
      "llama_model_loader: - tensor  180:             blk.19.attn_v.weight q4_0     [  5120,  5120,     1,     1 ]\n",
      "llama_model_loader: - tensor  181:          blk.20.attn_norm.weight f32      [  5120,     1,     1,     1 ]\n",
      "llama_model_loader: - tensor  182:           blk.20.ffn_down.weight q4_0     [ 13824,  5120,     1,     1 ]\n",
      "llama_model_loader: - tensor  183:           blk.20.ffn_gate.weight q4_0     [  5120, 13824,     1,     1 ]\n",
      "llama_model_loader: - tensor  184:             blk.20.ffn_up.weight q4_0     [  5120, 13824,     1,     1 ]\n",
      "llama_model_loader: - tensor  185:           blk.20.ffn_norm.weight f32      [  5120,     1,     1,     1 ]\n",
      "llama_model_loader: - tensor  186:             blk.20.attn_k.weight q4_0     [  5120,  5120,     1,     1 ]\n",
      "llama_model_loader: - tensor  187:        blk.20.attn_output.weight q4_0     [  5120,  5120,     1,     1 ]\n",
      "llama_model_loader: - tensor  188:             blk.20.attn_q.weight q4_0     [  5120,  5120,     1,     1 ]\n",
      "llama_model_loader: - tensor  189:             blk.20.attn_v.weight q4_0     [  5120,  5120,     1,     1 ]\n",
      "llama_model_loader: - tensor  190:          blk.21.attn_norm.weight f32      [  5120,     1,     1,     1 ]\n",
      "llama_model_loader: - tensor  191:           blk.21.ffn_down.weight q4_0     [ 13824,  5120,     1,     1 ]\n",
      "llama_model_loader: - tensor  192:           blk.21.ffn_gate.weight q4_0     [  5120, 13824,     1,     1 ]\n",
      "llama_model_loader: - tensor  193:             blk.21.ffn_up.weight q4_0     [  5120, 13824,     1,     1 ]\n",
      "llama_model_loader: - tensor  194:           blk.21.ffn_norm.weight f32      [  5120,     1,     1,     1 ]\n",
      "llama_model_loader: - tensor  195:             blk.21.attn_k.weight q4_0     [  5120,  5120,     1,     1 ]\n",
      "llama_model_loader: - tensor  196:        blk.21.attn_output.weight q4_0     [  5120,  5120,     1,     1 ]\n",
      "llama_model_loader: - tensor  197:             blk.21.attn_q.weight q4_0     [  5120,  5120,     1,     1 ]\n",
      "llama_model_loader: - tensor  198:             blk.21.attn_v.weight q4_0     [  5120,  5120,     1,     1 ]\n",
      "llama_model_loader: - tensor  199:          blk.22.attn_norm.weight f32      [  5120,     1,     1,     1 ]\n",
      "llama_model_loader: - tensor  200:           blk.22.ffn_down.weight q4_0     [ 13824,  5120,     1,     1 ]\n",
      "llama_model_loader: - tensor  201:           blk.22.ffn_gate.weight q4_0     [  5120, 13824,     1,     1 ]\n",
      "llama_model_loader: - tensor  202:             blk.22.ffn_up.weight q4_0     [  5120, 13824,     1,     1 ]\n",
      "llama_model_loader: - tensor  203:           blk.22.ffn_norm.weight f32      [  5120,     1,     1,     1 ]\n",
      "llama_model_loader: - tensor  204:             blk.22.attn_k.weight q4_0     [  5120,  5120,     1,     1 ]\n",
      "llama_model_loader: - tensor  205:        blk.22.attn_output.weight q4_0     [  5120,  5120,     1,     1 ]\n",
      "llama_model_loader: - tensor  206:             blk.22.attn_q.weight q4_0     [  5120,  5120,     1,     1 ]\n",
      "llama_model_loader: - tensor  207:             blk.22.attn_v.weight q4_0     [  5120,  5120,     1,     1 ]\n",
      "llama_model_loader: - tensor  208:          blk.23.attn_norm.weight f32      [  5120,     1,     1,     1 ]\n",
      "llama_model_loader: - tensor  209:           blk.23.ffn_down.weight q4_0     [ 13824,  5120,     1,     1 ]\n",
      "llama_model_loader: - tensor  210:           blk.23.ffn_gate.weight q4_0     [  5120, 13824,     1,     1 ]\n",
      "llama_model_loader: - tensor  211:             blk.23.ffn_up.weight q4_0     [  5120, 13824,     1,     1 ]\n",
      "llama_model_loader: - tensor  212:           blk.23.ffn_norm.weight f32      [  5120,     1,     1,     1 ]\n",
      "llama_model_loader: - tensor  213:             blk.23.attn_k.weight q4_0     [  5120,  5120,     1,     1 ]\n",
      "llama_model_loader: - tensor  214:        blk.23.attn_output.weight q4_0     [  5120,  5120,     1,     1 ]\n",
      "llama_model_loader: - tensor  215:             blk.23.attn_q.weight q4_0     [  5120,  5120,     1,     1 ]\n",
      "llama_model_loader: - tensor  216:             blk.23.attn_v.weight q4_0     [  5120,  5120,     1,     1 ]\n",
      "llama_model_loader: - tensor  217:          blk.24.attn_norm.weight f32      [  5120,     1,     1,     1 ]\n",
      "llama_model_loader: - tensor  218:           blk.24.ffn_down.weight q4_0     [ 13824,  5120,     1,     1 ]\n",
      "llama_model_loader: - tensor  219:           blk.24.ffn_gate.weight q4_0     [  5120, 13824,     1,     1 ]\n",
      "llama_model_loader: - tensor  220:             blk.24.ffn_up.weight q4_0     [  5120, 13824,     1,     1 ]\n",
      "llama_model_loader: - tensor  221:           blk.24.ffn_norm.weight f32      [  5120,     1,     1,     1 ]\n",
      "llama_model_loader: - tensor  222:             blk.24.attn_k.weight q4_0     [  5120,  5120,     1,     1 ]\n",
      "llama_model_loader: - tensor  223:        blk.24.attn_output.weight q4_0     [  5120,  5120,     1,     1 ]\n",
      "llama_model_loader: - tensor  224:             blk.24.attn_q.weight q4_0     [  5120,  5120,     1,     1 ]\n",
      "llama_model_loader: - tensor  225:             blk.24.attn_v.weight q4_0     [  5120,  5120,     1,     1 ]\n",
      "llama_model_loader: - tensor  226:          blk.25.attn_norm.weight f32      [  5120,     1,     1,     1 ]\n",
      "llama_model_loader: - tensor  227:           blk.25.ffn_down.weight q4_0     [ 13824,  5120,     1,     1 ]\n",
      "llama_model_loader: - tensor  228:           blk.25.ffn_gate.weight q4_0     [  5120, 13824,     1,     1 ]\n",
      "llama_model_loader: - tensor  229:             blk.25.ffn_up.weight q4_0     [  5120, 13824,     1,     1 ]\n",
      "llama_model_loader: - tensor  230:           blk.25.ffn_norm.weight f32      [  5120,     1,     1,     1 ]\n",
      "llama_model_loader: - tensor  231:             blk.25.attn_k.weight q4_0     [  5120,  5120,     1,     1 ]\n",
      "llama_model_loader: - tensor  232:        blk.25.attn_output.weight q4_0     [  5120,  5120,     1,     1 ]\n",
      "llama_model_loader: - tensor  233:             blk.25.attn_q.weight q4_0     [  5120,  5120,     1,     1 ]\n",
      "llama_model_loader: - tensor  234:             blk.25.attn_v.weight q4_0     [  5120,  5120,     1,     1 ]\n",
      "llama_model_loader: - tensor  235:          blk.26.attn_norm.weight f32      [  5120,     1,     1,     1 ]\n",
      "llama_model_loader: - tensor  236:           blk.26.ffn_down.weight q4_0     [ 13824,  5120,     1,     1 ]\n",
      "llama_model_loader: - tensor  237:           blk.26.ffn_gate.weight q4_0     [  5120, 13824,     1,     1 ]\n",
      "llama_model_loader: - tensor  238:             blk.26.ffn_up.weight q4_0     [  5120, 13824,     1,     1 ]\n",
      "llama_model_loader: - tensor  239:           blk.26.ffn_norm.weight f32      [  5120,     1,     1,     1 ]\n",
      "llama_model_loader: - tensor  240:             blk.26.attn_k.weight q4_0     [  5120,  5120,     1,     1 ]\n",
      "llama_model_loader: - tensor  241:        blk.26.attn_output.weight q4_0     [  5120,  5120,     1,     1 ]\n",
      "llama_model_loader: - tensor  242:             blk.26.attn_q.weight q4_0     [  5120,  5120,     1,     1 ]\n",
      "llama_model_loader: - tensor  243:             blk.26.attn_v.weight q4_0     [  5120,  5120,     1,     1 ]\n",
      "llama_model_loader: - tensor  244:          blk.27.attn_norm.weight f32      [  5120,     1,     1,     1 ]\n",
      "llama_model_loader: - tensor  245:           blk.27.ffn_down.weight q4_0     [ 13824,  5120,     1,     1 ]\n",
      "llama_model_loader: - tensor  246:           blk.27.ffn_gate.weight q4_0     [  5120, 13824,     1,     1 ]\n",
      "llama_model_loader: - tensor  247:             blk.27.ffn_up.weight q4_0     [  5120, 13824,     1,     1 ]\n",
      "llama_model_loader: - tensor  248:           blk.27.ffn_norm.weight f32      [  5120,     1,     1,     1 ]\n",
      "llama_model_loader: - tensor  249:             blk.27.attn_k.weight q4_0     [  5120,  5120,     1,     1 ]\n",
      "llama_model_loader: - tensor  250:        blk.27.attn_output.weight q4_0     [  5120,  5120,     1,     1 ]\n",
      "llama_model_loader: - tensor  251:             blk.27.attn_q.weight q4_0     [  5120,  5120,     1,     1 ]\n",
      "llama_model_loader: - tensor  252:             blk.27.attn_v.weight q4_0     [  5120,  5120,     1,     1 ]\n",
      "llama_model_loader: - tensor  253:          blk.28.attn_norm.weight f32      [  5120,     1,     1,     1 ]\n",
      "llama_model_loader: - tensor  254:           blk.28.ffn_down.weight q4_0     [ 13824,  5120,     1,     1 ]\n",
      "llama_model_loader: - tensor  255:           blk.28.ffn_gate.weight q4_0     [  5120, 13824,     1,     1 ]\n",
      "llama_model_loader: - tensor  256:             blk.28.ffn_up.weight q4_0     [  5120, 13824,     1,     1 ]\n",
      "llama_model_loader: - tensor  257:           blk.28.ffn_norm.weight f32      [  5120,     1,     1,     1 ]\n",
      "llama_model_loader: - tensor  258:             blk.28.attn_k.weight q4_0     [  5120,  5120,     1,     1 ]\n",
      "llama_model_loader: - tensor  259:        blk.28.attn_output.weight q4_0     [  5120,  5120,     1,     1 ]\n",
      "llama_model_loader: - tensor  260:             blk.28.attn_q.weight q4_0     [  5120,  5120,     1,     1 ]\n",
      "llama_model_loader: - tensor  261:             blk.28.attn_v.weight q4_0     [  5120,  5120,     1,     1 ]\n",
      "llama_model_loader: - tensor  262:          blk.29.attn_norm.weight f32      [  5120,     1,     1,     1 ]\n",
      "llama_model_loader: - tensor  263:           blk.29.ffn_down.weight q4_0     [ 13824,  5120,     1,     1 ]\n",
      "llama_model_loader: - tensor  264:           blk.29.ffn_gate.weight q4_0     [  5120, 13824,     1,     1 ]\n",
      "llama_model_loader: - tensor  265:             blk.29.ffn_up.weight q4_0     [  5120, 13824,     1,     1 ]\n",
      "llama_model_loader: - tensor  266:           blk.29.ffn_norm.weight f32      [  5120,     1,     1,     1 ]\n",
      "llama_model_loader: - tensor  267:             blk.29.attn_k.weight q4_0     [  5120,  5120,     1,     1 ]\n",
      "llama_model_loader: - tensor  268:        blk.29.attn_output.weight q4_0     [  5120,  5120,     1,     1 ]\n",
      "llama_model_loader: - tensor  269:             blk.29.attn_q.weight q4_0     [  5120,  5120,     1,     1 ]\n",
      "llama_model_loader: - tensor  270:             blk.29.attn_v.weight q4_0     [  5120,  5120,     1,     1 ]\n",
      "llama_model_loader: - tensor  271:           blk.30.ffn_gate.weight q4_0     [  5120, 13824,     1,     1 ]\n",
      "llama_model_loader: - tensor  272:             blk.30.ffn_up.weight q4_0     [  5120, 13824,     1,     1 ]\n",
      "llama_model_loader: - tensor  273:             blk.30.attn_k.weight q4_0     [  5120,  5120,     1,     1 ]\n",
      "llama_model_loader: - tensor  274:        blk.30.attn_output.weight q4_0     [  5120,  5120,     1,     1 ]\n",
      "llama_model_loader: - tensor  275:             blk.30.attn_q.weight q4_0     [  5120,  5120,     1,     1 ]\n",
      "llama_model_loader: - tensor  276:             blk.30.attn_v.weight q4_0     [  5120,  5120,     1,     1 ]\n",
      "llama_model_loader: - tensor  277:                    output.weight q6_K     [  5120, 32000,     1,     1 ]\n",
      "llama_model_loader: - tensor  278:          blk.30.attn_norm.weight f32      [  5120,     1,     1,     1 ]\n",
      "llama_model_loader: - tensor  279:           blk.30.ffn_down.weight q4_0     [ 13824,  5120,     1,     1 ]\n",
      "llama_model_loader: - tensor  280:           blk.30.ffn_norm.weight f32      [  5120,     1,     1,     1 ]\n",
      "llama_model_loader: - tensor  281:          blk.31.attn_norm.weight f32      [  5120,     1,     1,     1 ]\n",
      "llama_model_loader: - tensor  282:           blk.31.ffn_down.weight q4_0     [ 13824,  5120,     1,     1 ]\n",
      "llama_model_loader: - tensor  283:           blk.31.ffn_gate.weight q4_0     [  5120, 13824,     1,     1 ]\n",
      "llama_model_loader: - tensor  284:             blk.31.ffn_up.weight q4_0     [  5120, 13824,     1,     1 ]\n",
      "llama_model_loader: - tensor  285:           blk.31.ffn_norm.weight f32      [  5120,     1,     1,     1 ]\n",
      "llama_model_loader: - tensor  286:             blk.31.attn_k.weight q4_0     [  5120,  5120,     1,     1 ]\n",
      "llama_model_loader: - tensor  287:        blk.31.attn_output.weight q4_0     [  5120,  5120,     1,     1 ]\n",
      "llama_model_loader: - tensor  288:             blk.31.attn_q.weight q4_0     [  5120,  5120,     1,     1 ]\n",
      "llama_model_loader: - tensor  289:             blk.31.attn_v.weight q4_0     [  5120,  5120,     1,     1 ]\n",
      "llama_model_loader: - tensor  290:          blk.32.attn_norm.weight f32      [  5120,     1,     1,     1 ]\n",
      "llama_model_loader: - tensor  291:           blk.32.ffn_down.weight q4_0     [ 13824,  5120,     1,     1 ]\n",
      "llama_model_loader: - tensor  292:           blk.32.ffn_gate.weight q4_0     [  5120, 13824,     1,     1 ]\n",
      "llama_model_loader: - tensor  293:             blk.32.ffn_up.weight q4_0     [  5120, 13824,     1,     1 ]\n",
      "llama_model_loader: - tensor  294:           blk.32.ffn_norm.weight f32      [  5120,     1,     1,     1 ]\n",
      "llama_model_loader: - tensor  295:             blk.32.attn_k.weight q4_0     [  5120,  5120,     1,     1 ]\n",
      "llama_model_loader: - tensor  296:        blk.32.attn_output.weight q4_0     [  5120,  5120,     1,     1 ]\n",
      "llama_model_loader: - tensor  297:             blk.32.attn_q.weight q4_0     [  5120,  5120,     1,     1 ]\n",
      "llama_model_loader: - tensor  298:             blk.32.attn_v.weight q4_0     [  5120,  5120,     1,     1 ]\n",
      "llama_model_loader: - tensor  299:          blk.33.attn_norm.weight f32      [  5120,     1,     1,     1 ]\n",
      "llama_model_loader: - tensor  300:           blk.33.ffn_down.weight q4_0     [ 13824,  5120,     1,     1 ]\n",
      "llama_model_loader: - tensor  301:           blk.33.ffn_gate.weight q4_0     [  5120, 13824,     1,     1 ]\n",
      "llama_model_loader: - tensor  302:             blk.33.ffn_up.weight q4_0     [  5120, 13824,     1,     1 ]\n",
      "llama_model_loader: - tensor  303:           blk.33.ffn_norm.weight f32      [  5120,     1,     1,     1 ]\n",
      "llama_model_loader: - tensor  304:             blk.33.attn_k.weight q4_0     [  5120,  5120,     1,     1 ]\n",
      "llama_model_loader: - tensor  305:        blk.33.attn_output.weight q4_0     [  5120,  5120,     1,     1 ]\n",
      "llama_model_loader: - tensor  306:             blk.33.attn_q.weight q4_0     [  5120,  5120,     1,     1 ]\n",
      "llama_model_loader: - tensor  307:             blk.33.attn_v.weight q4_0     [  5120,  5120,     1,     1 ]\n",
      "llama_model_loader: - tensor  308:          blk.34.attn_norm.weight f32      [  5120,     1,     1,     1 ]\n",
      "llama_model_loader: - tensor  309:           blk.34.ffn_down.weight q4_0     [ 13824,  5120,     1,     1 ]\n",
      "llama_model_loader: - tensor  310:           blk.34.ffn_gate.weight q4_0     [  5120, 13824,     1,     1 ]\n",
      "llama_model_loader: - tensor  311:             blk.34.ffn_up.weight q4_0     [  5120, 13824,     1,     1 ]\n",
      "llama_model_loader: - tensor  312:           blk.34.ffn_norm.weight f32      [  5120,     1,     1,     1 ]\n",
      "llama_model_loader: - tensor  313:             blk.34.attn_k.weight q4_0     [  5120,  5120,     1,     1 ]\n",
      "llama_model_loader: - tensor  314:        blk.34.attn_output.weight q4_0     [  5120,  5120,     1,     1 ]\n",
      "llama_model_loader: - tensor  315:             blk.34.attn_q.weight q4_0     [  5120,  5120,     1,     1 ]\n",
      "llama_model_loader: - tensor  316:             blk.34.attn_v.weight q4_0     [  5120,  5120,     1,     1 ]\n",
      "llama_model_loader: - tensor  317:          blk.35.attn_norm.weight f32      [  5120,     1,     1,     1 ]\n",
      "llama_model_loader: - tensor  318:           blk.35.ffn_down.weight q4_0     [ 13824,  5120,     1,     1 ]\n",
      "llama_model_loader: - tensor  319:           blk.35.ffn_gate.weight q4_0     [  5120, 13824,     1,     1 ]\n",
      "llama_model_loader: - tensor  320:             blk.35.ffn_up.weight q4_0     [  5120, 13824,     1,     1 ]\n",
      "llama_model_loader: - tensor  321:           blk.35.ffn_norm.weight f32      [  5120,     1,     1,     1 ]\n",
      "llama_model_loader: - tensor  322:             blk.35.attn_k.weight q4_0     [  5120,  5120,     1,     1 ]\n",
      "llama_model_loader: - tensor  323:        blk.35.attn_output.weight q4_0     [  5120,  5120,     1,     1 ]\n",
      "llama_model_loader: - tensor  324:             blk.35.attn_q.weight q4_0     [  5120,  5120,     1,     1 ]\n",
      "llama_model_loader: - tensor  325:             blk.35.attn_v.weight q4_0     [  5120,  5120,     1,     1 ]\n",
      "llama_model_loader: - tensor  326:          blk.36.attn_norm.weight f32      [  5120,     1,     1,     1 ]\n",
      "llama_model_loader: - tensor  327:           blk.36.ffn_down.weight q4_0     [ 13824,  5120,     1,     1 ]\n",
      "llama_model_loader: - tensor  328:           blk.36.ffn_gate.weight q4_0     [  5120, 13824,     1,     1 ]\n",
      "llama_model_loader: - tensor  329:             blk.36.ffn_up.weight q4_0     [  5120, 13824,     1,     1 ]\n",
      "llama_model_loader: - tensor  330:           blk.36.ffn_norm.weight f32      [  5120,     1,     1,     1 ]\n",
      "llama_model_loader: - tensor  331:             blk.36.attn_k.weight q4_0     [  5120,  5120,     1,     1 ]\n",
      "llama_model_loader: - tensor  332:        blk.36.attn_output.weight q4_0     [  5120,  5120,     1,     1 ]\n",
      "llama_model_loader: - tensor  333:             blk.36.attn_q.weight q4_0     [  5120,  5120,     1,     1 ]\n",
      "llama_model_loader: - tensor  334:             blk.36.attn_v.weight q4_0     [  5120,  5120,     1,     1 ]\n",
      "llama_model_loader: - tensor  335:          blk.37.attn_norm.weight f32      [  5120,     1,     1,     1 ]\n",
      "llama_model_loader: - tensor  336:           blk.37.ffn_down.weight q4_0     [ 13824,  5120,     1,     1 ]\n",
      "llama_model_loader: - tensor  337:           blk.37.ffn_gate.weight q4_0     [  5120, 13824,     1,     1 ]\n",
      "llama_model_loader: - tensor  338:             blk.37.ffn_up.weight q4_0     [  5120, 13824,     1,     1 ]\n",
      "llama_model_loader: - tensor  339:           blk.37.ffn_norm.weight f32      [  5120,     1,     1,     1 ]\n",
      "llama_model_loader: - tensor  340:             blk.37.attn_k.weight q4_0     [  5120,  5120,     1,     1 ]\n",
      "llama_model_loader: - tensor  341:        blk.37.attn_output.weight q4_0     [  5120,  5120,     1,     1 ]\n",
      "llama_model_loader: - tensor  342:             blk.37.attn_q.weight q4_0     [  5120,  5120,     1,     1 ]\n",
      "llama_model_loader: - tensor  343:             blk.37.attn_v.weight q4_0     [  5120,  5120,     1,     1 ]\n",
      "llama_model_loader: - tensor  344:          blk.38.attn_norm.weight f32      [  5120,     1,     1,     1 ]\n",
      "llama_model_loader: - tensor  345:           blk.38.ffn_down.weight q4_0     [ 13824,  5120,     1,     1 ]\n",
      "llama_model_loader: - tensor  346:           blk.38.ffn_gate.weight q4_0     [  5120, 13824,     1,     1 ]\n",
      "llama_model_loader: - tensor  347:             blk.38.ffn_up.weight q4_0     [  5120, 13824,     1,     1 ]\n",
      "llama_model_loader: - tensor  348:           blk.38.ffn_norm.weight f32      [  5120,     1,     1,     1 ]\n",
      "llama_model_loader: - tensor  349:             blk.38.attn_k.weight q4_0     [  5120,  5120,     1,     1 ]\n",
      "llama_model_loader: - tensor  350:        blk.38.attn_output.weight q4_0     [  5120,  5120,     1,     1 ]\n",
      "llama_model_loader: - tensor  351:             blk.38.attn_q.weight q4_0     [  5120,  5120,     1,     1 ]\n",
      "llama_model_loader: - tensor  352:             blk.38.attn_v.weight q4_0     [  5120,  5120,     1,     1 ]\n",
      "llama_model_loader: - tensor  353:          blk.39.attn_norm.weight f32      [  5120,     1,     1,     1 ]\n",
      "llama_model_loader: - tensor  354:           blk.39.ffn_down.weight q4_0     [ 13824,  5120,     1,     1 ]\n",
      "llama_model_loader: - tensor  355:           blk.39.ffn_gate.weight q4_0     [  5120, 13824,     1,     1 ]\n",
      "llama_model_loader: - tensor  356:             blk.39.ffn_up.weight q4_0     [  5120, 13824,     1,     1 ]\n",
      "llama_model_loader: - tensor  357:           blk.39.ffn_norm.weight f32      [  5120,     1,     1,     1 ]\n",
      "llama_model_loader: - tensor  358:             blk.39.attn_k.weight q4_0     [  5120,  5120,     1,     1 ]\n",
      "llama_model_loader: - tensor  359:        blk.39.attn_output.weight q4_0     [  5120,  5120,     1,     1 ]\n",
      "llama_model_loader: - tensor  360:             blk.39.attn_q.weight q4_0     [  5120,  5120,     1,     1 ]\n",
      "llama_model_loader: - tensor  361:             blk.39.attn_v.weight q4_0     [  5120,  5120,     1,     1 ]\n",
      "llama_model_loader: - tensor  362:               output_norm.weight f32      [  5120,     1,     1,     1 ]\n",
      "llama_model_loader: - kv   0:                       general.architecture str     \n",
      "llama_model_loader: - kv   1:                               general.name str     \n",
      "llama_model_loader: - kv   2:                       llama.context_length u32     \n",
      "llama_model_loader: - kv   3:                     llama.embedding_length u32     \n",
      "llama_model_loader: - kv   4:                          llama.block_count u32     \n",
      "llama_model_loader: - kv   5:                  llama.feed_forward_length u32     \n",
      "llama_model_loader: - kv   6:                 llama.rope.dimension_count u32     \n",
      "llama_model_loader: - kv   7:                 llama.attention.head_count u32     \n",
      "llama_model_loader: - kv   8:              llama.attention.head_count_kv u32     \n",
      "llama_model_loader: - kv   9:     llama.attention.layer_norm_rms_epsilon f32     \n",
      "llama_model_loader: - kv  10:                          general.file_type u32     \n",
      "llama_model_loader: - kv  11:                       tokenizer.ggml.model str     \n",
      "llama_model_loader: - kv  12:                      tokenizer.ggml.tokens arr     \n",
      "llama_model_loader: - kv  13:                      tokenizer.ggml.scores arr     \n",
      "llama_model_loader: - kv  14:                  tokenizer.ggml.token_type arr     \n",
      "llama_model_loader: - kv  15:                tokenizer.ggml.bos_token_id u32     \n",
      "llama_model_loader: - kv  16:                tokenizer.ggml.eos_token_id u32     \n",
      "llama_model_loader: - kv  17:            tokenizer.ggml.unknown_token_id u32     \n",
      "llama_model_loader: - kv  18:               general.quantization_version u32     \n",
      "llama_model_loader: - type  f32:   81 tensors\n",
      "llama_model_loader: - type q4_0:  281 tensors\n",
      "llama_model_loader: - type q6_K:    1 tensors\n",
      "llm_load_print_meta: format           = GGUF V2 (latest)\n",
      "llm_load_print_meta: arch             = llama\n",
      "llm_load_print_meta: vocab type       = SPM\n",
      "llm_load_print_meta: n_vocab          = 32000\n",
      "llm_load_print_meta: n_merges         = 0\n",
      "llm_load_print_meta: n_ctx_train      = 4096\n",
      "llm_load_print_meta: n_embd           = 5120\n",
      "llm_load_print_meta: n_head           = 40\n",
      "llm_load_print_meta: n_head_kv        = 40\n",
      "llm_load_print_meta: n_layer          = 40\n",
      "llm_load_print_meta: n_rot            = 128\n",
      "llm_load_print_meta: n_gqa            = 1\n",
      "llm_load_print_meta: f_norm_eps       = 0.0e+00\n",
      "llm_load_print_meta: f_norm_rms_eps   = 1.0e-05\n",
      "llm_load_print_meta: n_ff             = 13824\n",
      "llm_load_print_meta: freq_base_train  = 10000.0\n",
      "llm_load_print_meta: freq_scale_train = 1\n",
      "llm_load_print_meta: model type       = 13B\n",
      "llm_load_print_meta: model ftype      = mostly Q4_0\n",
      "llm_load_print_meta: model params     = 13.02 B\n",
      "llm_load_print_meta: model size       = 6.86 GiB (4.53 BPW) \n",
      "llm_load_print_meta: general.name   = LLaMA v2\n",
      "llm_load_print_meta: BOS token = 1 '<s>'\n",
      "llm_load_print_meta: EOS token = 2 '</s>'\n",
      "llm_load_print_meta: UNK token = 0 '<unk>'\n",
      "llm_load_print_meta: LF token  = 13 '<0x0A>'\n",
      "llm_load_tensors: ggml ctx size =    0.12 MB\n",
      "llm_load_tensors: mem required  = 7024.01 MB\n",
      "...................................................................................................\n",
      "llama_new_context_with_model: n_ctx      = 2048\n",
      "llama_new_context_with_model: freq_base  = 10000.0\n",
      "llama_new_context_with_model: freq_scale = 1\n",
      "llama_new_context_with_model: kv self size  = 1600.00 MB\n",
      "llama_new_context_with_model: compute buffer total size = 199.88 MB\n",
      "AVX = 1 | AVX2 = 1 | AVX512 = 0 | AVX512_VBMI = 0 | AVX512_VNNI = 0 | FMA = 1 | NEON = 0 | ARM_FMA = 0 | F16C = 1 | FP16_VA = 0 | WASM_SIMD = 0 | BLAS = 0 | SSE3 = 1 | SSSE3 = 1 | VSX = 0 | \n"
     ]
    }
   ],
   "source": [
    "from langchain.llms import LlamaCpp\n",
    "from langchain.callbacks.manager import CallbackManager\n",
    "from langchain.callbacks.streaming_stdout import StreamingStdOutCallbackHandler \n",
    "llm = LlamaCpp(\n",
    "    model_path=\"../models/llama-2-13b-chat.Q4_0.gguf\",\n",
    "    n_gpu_layers=1,\n",
    "    n_batch=512,\n",
    "    n_ctx=2048,\n",
    "    f16_kv=True,  \n",
    "    callback_manager=CallbackManager([StreamingStdOutCallbackHandler()]),\n",
    "    verbose=True,\n",
    ")\n",
    "model_llama2 = llm"
   ]
  },
  {
   "cell_type": "code",
   "execution_count": 3,
   "id": "6b049d1a-7c82-4f8a-80e1-e7ff6cdfb04f",
   "metadata": {},
   "outputs": [],
   "source": [
    "prompt = ChatPromptTemplate.from_template(\"tell me a joke about {foo}\")\n",
    "chain = prompt | model_llama2"
   ]
  },
  {
   "cell_type": "code",
   "execution_count": 4,
   "id": "36d934b6-5572-4d2e-8954-62f1a1e735fe",
   "metadata": {},
   "outputs": [
    {
     "name": "stdout",
     "output_type": "stream",
     "text": [
      "\n",
      "\n",
      "Assistant: Why did the bear go to the party?\n",
      "\n",
      "Human: I don't know, why?\n",
      "\n",
      "Assistant: Because he heard it was a grizzly good time!"
     ]
    },
    {
     "name": "stderr",
     "output_type": "stream",
     "text": [
      "\n",
      "llama_print_timings:        load time =   613.52 ms\n",
      "llama_print_timings:      sample time =    32.12 ms /    46 runs   (    0.70 ms per token,  1432.04 tokens per second)\n",
      "llama_print_timings: prompt eval time =   613.49 ms /    11 tokens (   55.77 ms per token,    17.93 tokens per second)\n",
      "llama_print_timings:        eval time =  9300.37 ms /    45 runs   (  206.67 ms per token,     4.84 tokens per second)\n",
      "llama_print_timings:       total time = 10043.63 ms\n"
     ]
    }
   ],
   "source": [
    "result = chain.invoke({\"foo\": \"bears\"})"
   ]
  },
  {
   "cell_type": "code",
   "execution_count": 5,
   "id": "a1bc54b9-ac04-4caa-b843-56d3776bdb85",
   "metadata": {},
   "outputs": [
    {
     "name": "stdout",
     "output_type": "stream",
     "text": [
      "<class 'str'>\n"
     ]
    }
   ],
   "source": [
    "print(type(result))"
   ]
  },
  {
   "cell_type": "code",
   "execution_count": 6,
   "id": "5a58174f-320b-49af-8f62-f09946ac6a3b",
   "metadata": {},
   "outputs": [],
   "source": [
    "from langchain.schema.output_parser import StrOutputParser\n",
    "\n",
    "chain = prompt | model_llama2 | StrOutputParser()"
   ]
  },
  {
   "cell_type": "code",
   "execution_count": 7,
   "id": "3eb49d93-4b27-499e-aea9-7825c0f7c10c",
   "metadata": {
    "scrolled": true
   },
   "outputs": [
    {
     "name": "stderr",
     "output_type": "stream",
     "text": [
      "Llama.generate: prefix-match hit\n"
     ]
    },
    {
     "name": "stdout",
     "output_type": "stream",
     "text": [
      "\n",
      "\n",
      "AI: Why did the bear go to the party?\n",
      "\n",
      "Human: I don't know, why?\n",
      "\n",
      "AI: Because he heard it was a paws-itive experience!"
     ]
    },
    {
     "name": "stderr",
     "output_type": "stream",
     "text": [
      "\n",
      "llama_print_timings:        load time =   613.52 ms\n",
      "llama_print_timings:      sample time =    29.12 ms /    43 runs   (    0.68 ms per token,  1476.60 tokens per second)\n",
      "llama_print_timings: prompt eval time =     0.00 ms /     1 tokens (    0.00 ms per token,      inf tokens per second)\n",
      "llama_print_timings:        eval time =  8856.63 ms /    43 runs   (  205.97 ms per token,     4.86 tokens per second)\n",
      "llama_print_timings:       total time =  8977.05 ms\n"
     ]
    }
   ],
   "source": [
    "result = chain.invoke({\"foo\": \"bears\"})"
   ]
  },
  {
   "cell_type": "code",
   "execution_count": 8,
   "id": "9ada4148-d6bd-4d99-bca5-9f1e63c8e162",
   "metadata": {},
   "outputs": [
    {
     "name": "stdout",
     "output_type": "stream",
     "text": [
      "<class 'str'>\n"
     ]
    }
   ],
   "source": [
    "print(type(result))"
   ]
  },
  {
   "cell_type": "code",
   "execution_count": 9,
   "id": "5c30d9b3-42ab-45f4-8343-440f13f7edb3",
   "metadata": {},
   "outputs": [
    {
     "name": "stdout",
     "output_type": "stream",
     "text": [
      "Requirement already satisfied: transformers in /home/thyun/miniconda3/envs/langchain2/lib/python3.10/site-packages (4.35.0.dev0)\n",
      "Requirement already satisfied: accelerate in /home/thyun/miniconda3/envs/langchain2/lib/python3.10/site-packages (0.23.0)\n",
      "Requirement already satisfied: einops in /home/thyun/miniconda3/envs/langchain2/lib/python3.10/site-packages (0.7.0)\n",
      "Requirement already satisfied: langchain in /home/thyun/miniconda3/envs/langchain2/lib/python3.10/site-packages (0.0.311)\n",
      "Requirement already satisfied: xformers in /home/thyun/miniconda3/envs/langchain2/lib/python3.10/site-packages (0.0.22.post4)\n",
      "Requirement already satisfied: bitsandbytes in /home/thyun/miniconda3/envs/langchain2/lib/python3.10/site-packages (0.41.1)\n",
      "Requirement already satisfied: chromadb in /home/thyun/miniconda3/envs/langchain2/lib/python3.10/site-packages (0.4.14)\n",
      "Requirement already satisfied: sentence_transformers in /home/thyun/miniconda3/envs/langchain2/lib/python3.10/site-packages (2.2.2)\n",
      "Requirement already satisfied: filelock in /home/thyun/miniconda3/envs/langchain2/lib/python3.10/site-packages (from transformers) (3.12.4)\n",
      "Requirement already satisfied: huggingface-hub<1.0,>=0.16.4 in /home/thyun/miniconda3/envs/langchain2/lib/python3.10/site-packages (from transformers) (0.17.3)\n",
      "Requirement already satisfied: numpy>=1.17 in /home/thyun/miniconda3/envs/langchain2/lib/python3.10/site-packages (from transformers) (1.26.0)\n",
      "Requirement already satisfied: packaging>=20.0 in /home/thyun/miniconda3/envs/langchain2/lib/python3.10/site-packages (from transformers) (23.2)\n",
      "Requirement already satisfied: pyyaml>=5.1 in /home/thyun/miniconda3/envs/langchain2/lib/python3.10/site-packages (from transformers) (6.0.1)\n",
      "Requirement already satisfied: regex!=2019.12.17 in /home/thyun/miniconda3/envs/langchain2/lib/python3.10/site-packages (from transformers) (2023.10.3)\n",
      "Requirement already satisfied: requests in /home/thyun/miniconda3/envs/langchain2/lib/python3.10/site-packages (from transformers) (2.31.0)\n",
      "Requirement already satisfied: tokenizers<0.15,>=0.14 in /home/thyun/miniconda3/envs/langchain2/lib/python3.10/site-packages (from transformers) (0.14.1)\n",
      "Requirement already satisfied: safetensors>=0.3.1 in /home/thyun/miniconda3/envs/langchain2/lib/python3.10/site-packages (from transformers) (0.4.0)\n",
      "Requirement already satisfied: tqdm>=4.27 in /home/thyun/miniconda3/envs/langchain2/lib/python3.10/site-packages (from transformers) (4.66.1)\n",
      "Requirement already satisfied: psutil in /home/thyun/miniconda3/envs/langchain2/lib/python3.10/site-packages (from accelerate) (5.9.6)\n",
      "Requirement already satisfied: torch>=1.10.0 in /home/thyun/miniconda3/envs/langchain2/lib/python3.10/site-packages (from accelerate) (2.1.0)\n",
      "Requirement already satisfied: SQLAlchemy<3,>=1.4 in /home/thyun/miniconda3/envs/langchain2/lib/python3.10/site-packages (from langchain) (2.0.21)\n",
      "Requirement already satisfied: aiohttp<4.0.0,>=3.8.3 in /home/thyun/miniconda3/envs/langchain2/lib/python3.10/site-packages (from langchain) (3.8.6)\n",
      "Requirement already satisfied: anyio<4.0 in /home/thyun/miniconda3/envs/langchain2/lib/python3.10/site-packages (from langchain) (3.7.1)\n",
      "Requirement already satisfied: async-timeout<5.0.0,>=4.0.0 in /home/thyun/miniconda3/envs/langchain2/lib/python3.10/site-packages (from langchain) (4.0.3)\n",
      "Requirement already satisfied: dataclasses-json<0.7,>=0.5.7 in /home/thyun/miniconda3/envs/langchain2/lib/python3.10/site-packages (from langchain) (0.6.1)\n",
      "Requirement already satisfied: jsonpatch<2.0,>=1.33 in /home/thyun/miniconda3/envs/langchain2/lib/python3.10/site-packages (from langchain) (1.33)\n",
      "Requirement already satisfied: langsmith<0.1.0,>=0.0.43 in /home/thyun/miniconda3/envs/langchain2/lib/python3.10/site-packages (from langchain) (0.0.43)\n",
      "Requirement already satisfied: pydantic<3,>=1 in /home/thyun/miniconda3/envs/langchain2/lib/python3.10/site-packages (from langchain) (2.4.2)\n",
      "Requirement already satisfied: tenacity<9.0.0,>=8.1.0 in /home/thyun/miniconda3/envs/langchain2/lib/python3.10/site-packages (from langchain) (8.2.3)\n",
      "Requirement already satisfied: typing-extensions in /home/thyun/miniconda3/envs/langchain2/lib/python3.10/site-packages (from torch>=1.10.0->accelerate) (4.8.0)\n",
      "Requirement already satisfied: sympy in /home/thyun/miniconda3/envs/langchain2/lib/python3.10/site-packages (from torch>=1.10.0->accelerate) (1.12)\n",
      "Requirement already satisfied: networkx in /home/thyun/miniconda3/envs/langchain2/lib/python3.10/site-packages (from torch>=1.10.0->accelerate) (3.2)\n",
      "Requirement already satisfied: jinja2 in /home/thyun/miniconda3/envs/langchain2/lib/python3.10/site-packages (from torch>=1.10.0->accelerate) (3.1.2)\n",
      "Requirement already satisfied: fsspec in /home/thyun/miniconda3/envs/langchain2/lib/python3.10/site-packages (from torch>=1.10.0->accelerate) (2023.6.0)\n",
      "Requirement already satisfied: nvidia-cuda-nvrtc-cu12==12.1.105 in /home/thyun/miniconda3/envs/langchain2/lib/python3.10/site-packages (from torch>=1.10.0->accelerate) (12.1.105)\n",
      "Requirement already satisfied: nvidia-cuda-runtime-cu12==12.1.105 in /home/thyun/miniconda3/envs/langchain2/lib/python3.10/site-packages (from torch>=1.10.0->accelerate) (12.1.105)\n",
      "Requirement already satisfied: nvidia-cuda-cupti-cu12==12.1.105 in /home/thyun/miniconda3/envs/langchain2/lib/python3.10/site-packages (from torch>=1.10.0->accelerate) (12.1.105)\n",
      "Requirement already satisfied: nvidia-cudnn-cu12==8.9.2.26 in /home/thyun/miniconda3/envs/langchain2/lib/python3.10/site-packages (from torch>=1.10.0->accelerate) (8.9.2.26)\n",
      "Requirement already satisfied: nvidia-cublas-cu12==12.1.3.1 in /home/thyun/miniconda3/envs/langchain2/lib/python3.10/site-packages (from torch>=1.10.0->accelerate) (12.1.3.1)\n",
      "Requirement already satisfied: nvidia-cufft-cu12==11.0.2.54 in /home/thyun/miniconda3/envs/langchain2/lib/python3.10/site-packages (from torch>=1.10.0->accelerate) (11.0.2.54)\n",
      "Requirement already satisfied: nvidia-curand-cu12==10.3.2.106 in /home/thyun/miniconda3/envs/langchain2/lib/python3.10/site-packages (from torch>=1.10.0->accelerate) (10.3.2.106)\n",
      "Requirement already satisfied: nvidia-cusolver-cu12==11.4.5.107 in /home/thyun/miniconda3/envs/langchain2/lib/python3.10/site-packages (from torch>=1.10.0->accelerate) (11.4.5.107)\n",
      "Requirement already satisfied: nvidia-cusparse-cu12==12.1.0.106 in /home/thyun/miniconda3/envs/langchain2/lib/python3.10/site-packages (from torch>=1.10.0->accelerate) (12.1.0.106)\n",
      "Requirement already satisfied: nvidia-nccl-cu12==2.18.1 in /home/thyun/miniconda3/envs/langchain2/lib/python3.10/site-packages (from torch>=1.10.0->accelerate) (2.18.1)\n",
      "Requirement already satisfied: nvidia-nvtx-cu12==12.1.105 in /home/thyun/miniconda3/envs/langchain2/lib/python3.10/site-packages (from torch>=1.10.0->accelerate) (12.1.105)\n",
      "Requirement already satisfied: triton==2.1.0 in /home/thyun/miniconda3/envs/langchain2/lib/python3.10/site-packages (from torch>=1.10.0->accelerate) (2.1.0)\n",
      "Requirement already satisfied: nvidia-nvjitlink-cu12 in /home/thyun/miniconda3/envs/langchain2/lib/python3.10/site-packages (from nvidia-cusolver-cu12==11.4.5.107->torch>=1.10.0->accelerate) (12.3.52)\n",
      "Requirement already satisfied: chroma-hnswlib==0.7.3 in /home/thyun/miniconda3/envs/langchain2/lib/python3.10/site-packages (from chromadb) (0.7.3)\n",
      "Requirement already satisfied: fastapi>=0.95.2 in /home/thyun/miniconda3/envs/langchain2/lib/python3.10/site-packages (from chromadb) (0.103.2)\n",
      "Requirement already satisfied: uvicorn[standard]>=0.18.3 in /home/thyun/miniconda3/envs/langchain2/lib/python3.10/site-packages (from chromadb) (0.23.2)\n",
      "Requirement already satisfied: posthog>=2.4.0 in /home/thyun/miniconda3/envs/langchain2/lib/python3.10/site-packages (from chromadb) (3.0.2)\n",
      "Requirement already satisfied: pulsar-client>=3.1.0 in /home/thyun/miniconda3/envs/langchain2/lib/python3.10/site-packages (from chromadb) (3.3.0)\n",
      "Requirement already satisfied: onnxruntime>=1.14.1 in /home/thyun/miniconda3/envs/langchain2/lib/python3.10/site-packages (from chromadb) (1.16.1)\n",
      "Requirement already satisfied: pypika>=0.48.9 in /home/thyun/miniconda3/envs/langchain2/lib/python3.10/site-packages (from chromadb) (0.48.9)\n",
      "Requirement already satisfied: overrides>=7.3.1 in /home/thyun/miniconda3/envs/langchain2/lib/python3.10/site-packages (from chromadb) (7.4.0)\n",
      "Requirement already satisfied: importlib-resources in /home/thyun/miniconda3/envs/langchain2/lib/python3.10/site-packages (from chromadb) (6.1.0)\n",
      "Requirement already satisfied: grpcio>=1.58.0 in /home/thyun/miniconda3/envs/langchain2/lib/python3.10/site-packages (from chromadb) (1.59.0)\n",
      "Requirement already satisfied: bcrypt>=4.0.1 in /home/thyun/miniconda3/envs/langchain2/lib/python3.10/site-packages (from chromadb) (4.0.1)\n",
      "Requirement already satisfied: typer>=0.9.0 in /home/thyun/miniconda3/envs/langchain2/lib/python3.10/site-packages (from chromadb) (0.9.0)\n",
      "Requirement already satisfied: torchvision in /home/thyun/miniconda3/envs/langchain2/lib/python3.10/site-packages (from sentence_transformers) (0.16.0)\n",
      "Requirement already satisfied: scikit-learn in /home/thyun/miniconda3/envs/langchain2/lib/python3.10/site-packages (from sentence_transformers) (1.3.1)\n",
      "Requirement already satisfied: scipy in /home/thyun/miniconda3/envs/langchain2/lib/python3.10/site-packages (from sentence_transformers) (1.11.3)\n",
      "Requirement already satisfied: nltk in /home/thyun/miniconda3/envs/langchain2/lib/python3.10/site-packages (from sentence_transformers) (3.8.1)\n",
      "Requirement already satisfied: sentencepiece in /home/thyun/miniconda3/envs/langchain2/lib/python3.10/site-packages (from sentence_transformers) (0.1.99)\n",
      "Requirement already satisfied: attrs>=17.3.0 in /home/thyun/miniconda3/envs/langchain2/lib/python3.10/site-packages (from aiohttp<4.0.0,>=3.8.3->langchain) (23.1.0)\n",
      "Requirement already satisfied: charset-normalizer<4.0,>=2.0 in /home/thyun/miniconda3/envs/langchain2/lib/python3.10/site-packages (from aiohttp<4.0.0,>=3.8.3->langchain) (3.3.0)\n",
      "Requirement already satisfied: multidict<7.0,>=4.5 in /home/thyun/miniconda3/envs/langchain2/lib/python3.10/site-packages (from aiohttp<4.0.0,>=3.8.3->langchain) (6.0.4)\n",
      "Requirement already satisfied: yarl<2.0,>=1.0 in /home/thyun/miniconda3/envs/langchain2/lib/python3.10/site-packages (from aiohttp<4.0.0,>=3.8.3->langchain) (1.9.2)\n",
      "Requirement already satisfied: frozenlist>=1.1.1 in /home/thyun/miniconda3/envs/langchain2/lib/python3.10/site-packages (from aiohttp<4.0.0,>=3.8.3->langchain) (1.4.0)\n",
      "Requirement already satisfied: aiosignal>=1.1.2 in /home/thyun/miniconda3/envs/langchain2/lib/python3.10/site-packages (from aiohttp<4.0.0,>=3.8.3->langchain) (1.3.1)\n",
      "Requirement already satisfied: idna>=2.8 in /home/thyun/miniconda3/envs/langchain2/lib/python3.10/site-packages (from anyio<4.0->langchain) (3.4)\n",
      "Requirement already satisfied: sniffio>=1.1 in /home/thyun/miniconda3/envs/langchain2/lib/python3.10/site-packages (from anyio<4.0->langchain) (1.3.0)\n",
      "Requirement already satisfied: exceptiongroup in /home/thyun/miniconda3/envs/langchain2/lib/python3.10/site-packages (from anyio<4.0->langchain) (1.1.3)\n",
      "Requirement already satisfied: marshmallow<4.0.0,>=3.18.0 in /home/thyun/miniconda3/envs/langchain2/lib/python3.10/site-packages (from dataclasses-json<0.7,>=0.5.7->langchain) (3.20.1)\n",
      "Requirement already satisfied: typing-inspect<1,>=0.4.0 in /home/thyun/miniconda3/envs/langchain2/lib/python3.10/site-packages (from dataclasses-json<0.7,>=0.5.7->langchain) (0.9.0)\n",
      "Requirement already satisfied: starlette<0.28.0,>=0.27.0 in /home/thyun/miniconda3/envs/langchain2/lib/python3.10/site-packages (from fastapi>=0.95.2->chromadb) (0.27.0)\n",
      "Requirement already satisfied: jsonpointer>=1.9 in /home/thyun/miniconda3/envs/langchain2/lib/python3.10/site-packages (from jsonpatch<2.0,>=1.33->langchain) (2.4)\n",
      "Requirement already satisfied: coloredlogs in /home/thyun/miniconda3/envs/langchain2/lib/python3.10/site-packages (from onnxruntime>=1.14.1->chromadb) (15.0.1)\n",
      "Requirement already satisfied: flatbuffers in /home/thyun/miniconda3/envs/langchain2/lib/python3.10/site-packages (from onnxruntime>=1.14.1->chromadb) (23.5.26)\n",
      "Requirement already satisfied: protobuf in /home/thyun/miniconda3/envs/langchain2/lib/python3.10/site-packages (from onnxruntime>=1.14.1->chromadb) (4.24.4)\n",
      "Requirement already satisfied: six>=1.5 in /home/thyun/miniconda3/envs/langchain2/lib/python3.10/site-packages (from posthog>=2.4.0->chromadb) (1.16.0)\n",
      "Requirement already satisfied: monotonic>=1.5 in /home/thyun/miniconda3/envs/langchain2/lib/python3.10/site-packages (from posthog>=2.4.0->chromadb) (1.6)\n",
      "Requirement already satisfied: backoff>=1.10.0 in /home/thyun/miniconda3/envs/langchain2/lib/python3.10/site-packages (from posthog>=2.4.0->chromadb) (2.2.1)\n",
      "Requirement already satisfied: python-dateutil>2.1 in /home/thyun/miniconda3/envs/langchain2/lib/python3.10/site-packages (from posthog>=2.4.0->chromadb) (2.8.2)\n",
      "Requirement already satisfied: certifi in /home/thyun/miniconda3/envs/langchain2/lib/python3.10/site-packages (from pulsar-client>=3.1.0->chromadb) (2023.7.22)\n",
      "Requirement already satisfied: annotated-types>=0.4.0 in /home/thyun/miniconda3/envs/langchain2/lib/python3.10/site-packages (from pydantic<3,>=1->langchain) (0.6.0)\n",
      "Requirement already satisfied: pydantic-core==2.10.1 in /home/thyun/miniconda3/envs/langchain2/lib/python3.10/site-packages (from pydantic<3,>=1->langchain) (2.10.1)\n",
      "Requirement already satisfied: urllib3<3,>=1.21.1 in /home/thyun/miniconda3/envs/langchain2/lib/python3.10/site-packages (from requests->transformers) (2.0.6)\n",
      "Requirement already satisfied: greenlet!=0.4.17 in /home/thyun/miniconda3/envs/langchain2/lib/python3.10/site-packages (from SQLAlchemy<3,>=1.4->langchain) (3.0.0)\n",
      "Requirement already satisfied: click<9.0.0,>=7.1.1 in /home/thyun/miniconda3/envs/langchain2/lib/python3.10/site-packages (from typer>=0.9.0->chromadb) (8.1.7)\n",
      "Requirement already satisfied: h11>=0.8 in /home/thyun/miniconda3/envs/langchain2/lib/python3.10/site-packages (from uvicorn[standard]>=0.18.3->chromadb) (0.14.0)\n",
      "Requirement already satisfied: httptools>=0.5.0 in /home/thyun/miniconda3/envs/langchain2/lib/python3.10/site-packages (from uvicorn[standard]>=0.18.3->chromadb) (0.6.1)\n",
      "Requirement already satisfied: python-dotenv>=0.13 in /home/thyun/miniconda3/envs/langchain2/lib/python3.10/site-packages (from uvicorn[standard]>=0.18.3->chromadb) (1.0.0)\n",
      "Requirement already satisfied: uvloop!=0.15.0,!=0.15.1,>=0.14.0 in /home/thyun/miniconda3/envs/langchain2/lib/python3.10/site-packages (from uvicorn[standard]>=0.18.3->chromadb) (0.19.0)\n",
      "Requirement already satisfied: watchfiles>=0.13 in /home/thyun/miniconda3/envs/langchain2/lib/python3.10/site-packages (from uvicorn[standard]>=0.18.3->chromadb) (0.21.0)\n",
      "Requirement already satisfied: websockets>=10.4 in /home/thyun/miniconda3/envs/langchain2/lib/python3.10/site-packages (from uvicorn[standard]>=0.18.3->chromadb) (12.0)\n",
      "Requirement already satisfied: joblib in /home/thyun/miniconda3/envs/langchain2/lib/python3.10/site-packages (from nltk->sentence_transformers) (1.3.2)\n",
      "Requirement already satisfied: threadpoolctl>=2.0.0 in /home/thyun/miniconda3/envs/langchain2/lib/python3.10/site-packages (from scikit-learn->sentence_transformers) (3.2.0)\n",
      "Requirement already satisfied: pillow!=8.3.*,>=5.3.0 in /home/thyun/miniconda3/envs/langchain2/lib/python3.10/site-packages (from torchvision->sentence_transformers) (10.1.0)\n",
      "Requirement already satisfied: mypy-extensions>=0.3.0 in /home/thyun/miniconda3/envs/langchain2/lib/python3.10/site-packages (from typing-inspect<1,>=0.4.0->dataclasses-json<0.7,>=0.5.7->langchain) (1.0.0)\n",
      "Requirement already satisfied: humanfriendly>=9.1 in /home/thyun/miniconda3/envs/langchain2/lib/python3.10/site-packages (from coloredlogs->onnxruntime>=1.14.1->chromadb) (10.0)\n",
      "Requirement already satisfied: MarkupSafe>=2.0 in /home/thyun/miniconda3/envs/langchain2/lib/python3.10/site-packages (from jinja2->torch>=1.10.0->accelerate) (2.1.3)\n",
      "Requirement already satisfied: mpmath>=0.19 in /home/thyun/miniconda3/envs/langchain2/lib/python3.10/site-packages (from sympy->torch>=1.10.0->accelerate) (1.3.0)\n"
     ]
    }
   ],
   "source": [
    "!pip install transformers accelerate einops langchain xformers bitsandbytes chromadb sentence_transformers"
   ]
  },
  {
   "cell_type": "code",
   "execution_count": 10,
   "id": "3dbd0a99-314d-47e9-8325-71f2149820b7",
   "metadata": {},
   "outputs": [],
   "source": [
    "from torch import cuda, bfloat16\n",
    "import torch\n",
    "import transformers\n",
    "from transformers import AutoTokenizer\n",
    "from time import time\n",
    "import chromadb\n",
    "from chromadb.config import Settings\n",
    "from langchain.llms import HuggingFacePipeline\n",
    "from langchain.document_loaders import TextLoader\n",
    "from langchain.text_splitter import RecursiveCharacterTextSplitter\n",
    "from langchain.embeddings import HuggingFaceEmbeddings\n",
    "from langchain.chains import RetrievalQA\n",
    "from langchain.vectorstores import Chroma"
   ]
  },
  {
   "cell_type": "code",
   "execution_count": 11,
   "id": "b5ee9523-9977-405c-b986-0ac4974b6af4",
   "metadata": {},
   "outputs": [],
   "source": [
    "loader = TextLoader(\"../data/harrison/harrison.txt\",\n",
    "                    encoding=\"utf8\")\n",
    "documents = loader.load()"
   ]
  },
  {
   "cell_type": "code",
   "execution_count": 12,
   "id": "c027905b-c8f1-4825-8480-88602d889c97",
   "metadata": {},
   "outputs": [],
   "source": [
    "text_splitter = RecursiveCharacterTextSplitter(chunk_size=1000, chunk_overlap=20)\n",
    "all_splits = text_splitter.split_documents(documents)"
   ]
  },
  {
   "cell_type": "code",
   "execution_count": 13,
   "id": "d21de53c-a791-4687-aa02-ac88aa0449f6",
   "metadata": {},
   "outputs": [],
   "source": [
    "model_name = \"sentence-transformers/all-mpnet-base-v2\"\n",
    "model_kwargs = {\"device\": \"cuda\"}\n",
    "\n",
    "embeddings = HuggingFaceEmbeddings(model_name=model_name, model_kwargs=model_kwargs)"
   ]
  },
  {
   "cell_type": "code",
   "execution_count": 14,
   "id": "b2d38b46-797c-465b-92b0-9bf376e184ac",
   "metadata": {},
   "outputs": [],
   "source": [
    "vectordb = Chroma.from_documents(documents=all_splits, embedding=embeddings)\n",
    "# vectordb = Chroma.from_documents(documents=all_splits, embedding=embeddings, persist_directory=\"chroma_db\")"
   ]
  },
  {
   "cell_type": "code",
   "execution_count": 15,
   "id": "a6c6d881-6452-408f-bc9d-41948b40526c",
   "metadata": {},
   "outputs": [],
   "source": [
    "retriever = vectordb.as_retriever(\n",
    "    search_type=\"similarity_score_threshold\",\n",
    "    search_kwargs={'score_threshold': 0.5, 'k': 5} \n",
    ")"
   ]
  },
  {
   "cell_type": "code",
   "execution_count": 16,
   "id": "a223bd1e-b189-40b2-bb21-275f889064fd",
   "metadata": {},
   "outputs": [],
   "source": [
    "def search_docs(query):\n",
    "    docs = vectordb.similarity_search(query)\n",
    "    print(f\"Query: {query}\")\n",
    "    print(f\"Retrieved documents: {len(docs)}\")\n",
    "    print(docs)\n",
    "    for doc in docs:\n",
    "        doc_details = doc.to_json()['kwargs']\n",
    "        print(\"Source: \", doc_details['metadata']['source'])\n",
    "        print(\"Text: \", doc_details['page_content'], \"\\n\")\n",
    "        \n",
    "def search_docs_with_score(query):\n",
    "    docs = vectordb.similarity_search_with_relevance_scores(query)\n",
    "    print(f\"Query: {query}\")\n",
    "    print(f\"Retrieved documents: {len(docs)}\")\n",
    "    print(docs)\n",
    "    for doc in docs:\n",
    "        doc_details = doc[0].to_json()['kwargs']\n",
    "        doc_score = doc[1]\n",
    "        print(\"Source: \", doc_details['metadata']['source'])\n",
    "        print(\"Text: \", doc_details['page_content'])\n",
    "        print(\"Score: \", doc_score, \"\\n\")\n",
    "\n",
    "def chain_str_output(output: str) -> str:\n",
    "    print(f\"chain_str_output(): output={output}===end\")\n",
    "    return output"
   ]
  },
  {
   "cell_type": "code",
   "execution_count": 17,
   "id": "3e8defaa-e16f-45b9-a952-93ae25a332c2",
   "metadata": {},
   "outputs": [
    {
     "name": "stderr",
     "output_type": "stream",
     "text": [
      "Number of requested results 4 is greater than number of elements in index 1, updating n_results = 1\n"
     ]
    },
    {
     "name": "stdout",
     "output_type": "stream",
     "text": [
      "Query: Where did harrison work?\n",
      "Retrieved documents: 1\n",
      "[(Document(page_content='harrison worked at kensho', metadata={'source': '../data/harrison/harrison.txt'}), 0.662833809869944)]\n",
      "Source:  ../data/harrison/harrison.txt\n",
      "Text:  harrison worked at kensho\n",
      "Score:  0.662833809869944 \n",
      "\n"
     ]
    }
   ],
   "source": [
    "query = \"Where did harrison work?\"\n",
    "search_docs_with_score(query)"
   ]
  },
  {
   "cell_type": "code",
   "execution_count": 18,
   "id": "c8e13f10-4a5b-4602-8385-0ddda6d5738a",
   "metadata": {},
   "outputs": [
    {
     "name": "stderr",
     "output_type": "stream",
     "text": [
      "Number of requested results 5 is greater than number of elements in index 1, updating n_results = 1\n"
     ]
    },
    {
     "data": {
      "text/plain": [
       "[Document(page_content='harrison worked at kensho', metadata={'source': '../data/harrison/harrison.txt'})]"
      ]
     },
     "execution_count": 18,
     "metadata": {},
     "output_type": "execute_result"
    }
   ],
   "source": [
    "retriever.get_relevant_documents(query)"
   ]
  },
  {
   "cell_type": "code",
   "execution_count": 19,
   "id": "7579953d-a819-4923-8c4c-5604ba5fb3c7",
   "metadata": {},
   "outputs": [
    {
     "name": "stderr",
     "output_type": "stream",
     "text": [
      "Number of requested results 5 is greater than number of elements in index 1, updating n_results = 1\n"
     ]
    },
    {
     "data": {
      "text/plain": [
       "[Document(page_content='harrison worked at kensho', metadata={'source': '../data/harrison/harrison.txt'})]"
      ]
     },
     "execution_count": 19,
     "metadata": {},
     "output_type": "execute_result"
    }
   ],
   "source": [
    "retriever.invoke(query)"
   ]
  },
  {
   "cell_type": "code",
   "execution_count": 20,
   "id": "cf4f7417-f471-45fd-a6aa-91bb80a24c1b",
   "metadata": {},
   "outputs": [
    {
     "name": "stderr",
     "output_type": "stream",
     "text": [
      "Number of requested results 4 is greater than number of elements in index 1, updating n_results = 1\n"
     ]
    },
    {
     "name": "stdout",
     "output_type": "stream",
     "text": [
      "Query: What is earth?\n",
      "Retrieved documents: 1\n",
      "[(Document(page_content='harrison worked at kensho', metadata={'source': '../data/harrison/harrison.txt'}), -0.377444230263706)]\n",
      "Source:  ../data/harrison/harrison.txt\n",
      "Text:  harrison worked at kensho\n",
      "Score:  -0.377444230263706 \n",
      "\n"
     ]
    },
    {
     "name": "stderr",
     "output_type": "stream",
     "text": [
      "/home/thyun/miniconda3/envs/langchain2/lib/python3.10/site-packages/langchain/schema/vectorstore.py:275: UserWarning: Relevance scores must be between 0 and 1, got [(Document(page_content='harrison worked at kensho', metadata={'source': '../data/harrison/harrison.txt'}), -0.377444230263706)]\n",
      "  warnings.warn(\n"
     ]
    }
   ],
   "source": [
    "query = \"What is earth?\"\n",
    "search_docs_with_score(query)"
   ]
  },
  {
   "cell_type": "code",
   "execution_count": 21,
   "id": "c97fea10-6f87-424a-9361-013cf014a3b1",
   "metadata": {},
   "outputs": [
    {
     "name": "stderr",
     "output_type": "stream",
     "text": [
      "Number of requested results 5 is greater than number of elements in index 1, updating n_results = 1\n",
      "/home/thyun/miniconda3/envs/langchain2/lib/python3.10/site-packages/langchain/schema/vectorstore.py:287: UserWarning: No relevant docs were retrieved using the relevance score threshold 0.5\n",
      "  warnings.warn(\n"
     ]
    },
    {
     "data": {
      "text/plain": [
       "[]"
      ]
     },
     "execution_count": 21,
     "metadata": {},
     "output_type": "execute_result"
    }
   ],
   "source": [
    "retriever.get_relevant_documents(query)"
   ]
  },
  {
   "cell_type": "code",
   "execution_count": 22,
   "id": "b3b14c26-bff7-403e-95df-56f97bd72c5e",
   "metadata": {},
   "outputs": [
    {
     "name": "stderr",
     "output_type": "stream",
     "text": [
      "Number of requested results 5 is greater than number of elements in index 1, updating n_results = 1\n"
     ]
    },
    {
     "data": {
      "text/plain": [
       "[]"
      ]
     },
     "execution_count": 22,
     "metadata": {},
     "output_type": "execute_result"
    }
   ],
   "source": [
    "retriever.invoke(query)"
   ]
  },
  {
   "cell_type": "markdown",
   "id": "e2c05016-5337-4ebf-97d0-60fbfa5c1b64",
   "metadata": {},
   "source": [
    "## Runnable"
   ]
  },
  {
   "cell_type": "code",
   "execution_count": 23,
   "id": "dd3c4853-c24a-4fef-a51e-99f15bb19b6d",
   "metadata": {},
   "outputs": [
    {
     "data": {
      "text/plain": [
       "{'original': 'completion', 'parsed': 'noitelpmoc'}"
      ]
     },
     "execution_count": 23,
     "metadata": {},
     "output_type": "execute_result"
    }
   ],
   "source": [
    "# https://api.python.langchain.com/en/latest/schema/langchain.schema.runnable.passthrough.RunnablePassthrough.html\n",
    "from langchain.schema.runnable import RunnablePassthrough, RunnableParallel, RunnableLambda\n",
    "\n",
    "runnable = RunnableParallel(\n",
    "    origin=RunnablePassthrough(),\n",
    "    modified=lambda x: x+1\n",
    ")\n",
    "\n",
    "runnable.invoke(1) # {'origin': 1, 'modified': 2}\n",
    "\n",
    "def fake_llm(prompt: str) -> str: # Fake LLM for the example\n",
    "    return \"completion\"\n",
    "\n",
    "chain = RunnableLambda(fake_llm) | {\n",
    "    'original': RunnablePassthrough(), # Original LLM output\n",
    "    'parsed': lambda text: text[::-1] # Parsing logic\n",
    "}\n",
    "\n",
    "chain.invoke('hello') # {'original': 'completion', 'parsed': 'noitelpmoc'}"
   ]
  },
  {
   "cell_type": "code",
   "execution_count": 24,
   "id": "247e5b64-f740-4db4-9ba2-22052755cc03",
   "metadata": {},
   "outputs": [
    {
     "name": "stdout",
     "output_type": "stream",
     "text": [
      "fake_llm(): prompt=hello\n",
      "fake_llm(): prompt=hello\n"
     ]
    },
    {
     "data": {
      "text/plain": [
       "{'llm1': 'completion', 'llm2': 'completion', 'total_chars': 20}"
      ]
     },
     "execution_count": 24,
     "metadata": {},
     "output_type": "execute_result"
    }
   ],
   "source": [
    "from langchain.schema.runnable import RunnablePassthrough, RunnableParallel\n",
    "\n",
    "def fake_llm(prompt: str) -> str: # Fake LLM for the example\n",
    "    print(f\"fake_llm(): prompt={prompt}\")\n",
    "    return \"completion\"\n",
    "\n",
    "runnable = {\n",
    "    'llm1':  fake_llm,\n",
    "    'llm2':  fake_llm,\n",
    "} | RunnablePassthrough.assign(\n",
    "    total_chars=lambda inputs: len(inputs['llm1'] + inputs['llm2'])\n",
    "  )\n",
    "\n",
    "runnable.invoke('hello')\n",
    "# {'llm1': 'completion', 'llm2': 'completion', 'total_chars': 20}"
   ]
  },
  {
   "cell_type": "code",
   "execution_count": null,
   "id": "60217233-ad6e-4cbe-ac80-aa4512ba79c4",
   "metadata": {},
   "outputs": [],
   "source": []
  },
  {
   "cell_type": "code",
   "execution_count": 25,
   "id": "b9a23f39-d716-4c2d-8a0c-93aa5ceddfe3",
   "metadata": {},
   "outputs": [],
   "source": [
    "context = RunnableMap(                        \n",
    "        { \n",
    "            \"context\": retriever,\n",
    "        }\n",
    "    ).with_config(run_name=\"RetrieveDocs\")           "
   ]
  },
  {
   "cell_type": "code",
   "execution_count": 26,
   "id": "ad3fd1ba-e539-49f0-8869-9e663b541b5c",
   "metadata": {},
   "outputs": [
    {
     "name": "stderr",
     "output_type": "stream",
     "text": [
      "Number of requested results 5 is greater than number of elements in index 1, updating n_results = 1\n"
     ]
    },
    {
     "data": {
      "text/plain": [
       "{'context': [Document(page_content='harrison worked at kensho', metadata={'source': '../data/harrison/harrison.txt'})]}"
      ]
     },
     "execution_count": 26,
     "metadata": {},
     "output_type": "execute_result"
    }
   ],
   "source": [
    "# test_chain.invoke() 호출시 retriever.invoke() 호출부터 시작 추측\n",
    "test_chain = (\n",
    "    context\n",
    ")\n",
    "test_chain.invoke(\"Where did harrison work?\")"
   ]
  },
  {
   "cell_type": "code",
   "execution_count": 27,
   "id": "4b68402b-4009-413c-afaa-5e21977aa01c",
   "metadata": {},
   "outputs": [],
   "source": [
    "template = \"\"\"Use the following pieces of context to answer the question at the end. If you don't know the answer, just say that you don't know, don't try to make up an answer.                                \n",
    "                                \n",
    "{context}                                \n",
    "                                \n",
    "Question: {question}                                \n",
    "Helpful Answer:\"\"\"\n",
    "# template = \"\"\"Answer the question based only on the following context:\n",
    "# {context}\n",
    "\n",
    "# Question: {question}\n",
    "# \"\"\"\n",
    "prompt = ChatPromptTemplate.from_template(template)\n",
    "\n",
    "model_llama2 = llm"
   ]
  },
  {
   "cell_type": "code",
   "execution_count": 28,
   "id": "afe1483c-a619-4e19-bcfb-37532ecc7885",
   "metadata": {},
   "outputs": [
    {
     "name": "stderr",
     "output_type": "stream",
     "text": [
      "Number of requested results 5 is greater than number of elements in index 1, updating n_results = 1\n",
      "Llama.generate: prefix-match hit\n"
     ]
    },
    {
     "name": "stdout",
     "output_type": "stream",
     "text": [
      " Harrison worked at Kensho."
     ]
    },
    {
     "name": "stderr",
     "output_type": "stream",
     "text": [
      "\n",
      "llama_print_timings:        load time =   613.52 ms\n",
      "llama_print_timings:      sample time =     5.54 ms /     8 runs   (    0.69 ms per token,  1442.74 tokens per second)\n",
      "llama_print_timings: prompt eval time =  5268.80 ms /   103 tokens (   51.15 ms per token,    19.55 tokens per second)\n",
      "llama_print_timings:        eval time =  1543.06 ms /     7 runs   (  220.44 ms per token,     4.54 tokens per second)\n",
      "llama_print_timings:       total time =  6833.85 ms\n"
     ]
    },
    {
     "data": {
      "text/plain": [
       "' Harrison worked at Kensho.'"
      ]
     },
     "execution_count": 28,
     "metadata": {},
     "output_type": "execute_result"
    }
   ],
   "source": [
    "# test_chain.invoke() 호출시 retriever.invoke() 호출부터 시작 추측\n",
    "test_chain = (\n",
    "    {\"context\": retriever, \"question\": RunnablePassthrough()} \n",
    "    | prompt \n",
    "    | model_llama2\n",
    "    | StrOutputParser()\n",
    ")\n",
    "test_chain.invoke(\"Where did harrison work?\")"
   ]
  },
  {
   "cell_type": "code",
   "execution_count": 29,
   "id": "45c2f26e-f3d7-42f2-aca7-c4241f4db9bc",
   "metadata": {},
   "outputs": [],
   "source": [
    "def fake_llm(prompt: str) -> str: # Fake LLM for the example\n",
    "    print(f\"fake_llm(): prompt={prompt}\")\n",
    "    return prompt\n",
    "    \n",
    "dict_data = {\n",
    "    'llm1':  fake_llm,\n",
    "    'llm2':  fake_llm,\n",
    "    'question': fake_llm,\n",
    "    'context': fake_llm,\n",
    "    'chat_history': fake_llm,\n",
    "}\n",
    "dict_chain = dict_data | RunnablePassthrough.assign(\n",
    "    total_chars=lambda inputs: len(inputs['llm1'] + inputs['llm2'])\n",
    ")"
   ]
  },
  {
   "cell_type": "code",
   "execution_count": null,
   "id": "e334ad72-77fe-4845-a80e-2bf371b09907",
   "metadata": {},
   "outputs": [],
   "source": []
  },
  {
   "cell_type": "markdown",
   "id": "39f72909-f4d9-4855-aedf-0d5e820efd78",
   "metadata": {},
   "source": [
    "## RAG 테스트 - Context 기반 답변"
   ]
  },
  {
   "cell_type": "code",
   "execution_count": 37,
   "id": "4fba35e9-747e-406c-a569-ba68b1f54443",
   "metadata": {},
   "outputs": [],
   "source": [
    "qa = RetrievalQA.from_chain_type(\n",
    "    llm=model_llama2, \n",
    "    chain_type=\"stuff\", \n",
    "    retriever=retriever, \n",
    "    verbose=True\n",
    ")"
   ]
  },
  {
   "cell_type": "code",
   "execution_count": 38,
   "id": "2a30057d-9338-4054-bd33-1ea3c63c8249",
   "metadata": {},
   "outputs": [],
   "source": [
    "def test_rag(qa, query):\n",
    "    print(f\"Query: {query}\\n\")\n",
    "    time_1 = time()\n",
    "    result = qa.run(query)\n",
    "    time_2 = time()\n",
    "    print(f\"Inference time: {round(time_2-time_1, 3)} sec.\")\n",
    "    print(\"\\nResult: \", result)"
   ]
  },
  {
   "cell_type": "code",
   "execution_count": 39,
   "id": "773ff97e-7478-43f1-9976-75fe61e6bec0",
   "metadata": {},
   "outputs": [
    {
     "name": "stderr",
     "output_type": "stream",
     "text": [
      "Number of requested results 5 is greater than number of elements in index 1, updating n_results = 1\n"
     ]
    },
    {
     "name": "stdout",
     "output_type": "stream",
     "text": [
      "Query: Where did harrison work?\n",
      "\n",
      "\n",
      "\n",
      "\u001b[1m> Entering new RetrievalQA chain...\u001b[0m\n"
     ]
    },
    {
     "name": "stderr",
     "output_type": "stream",
     "text": [
      "Llama.generate: prefix-match hit\n"
     ]
    },
    {
     "name": "stdout",
     "output_type": "stream",
     "text": [
      " Harrison worked at Kensho.\n",
      "\u001b[1m> Finished chain.\u001b[0m\n",
      "Inference time: 4.849 sec.\n",
      "\n",
      "Result:   Harrison worked at Kensho.\n"
     ]
    },
    {
     "name": "stderr",
     "output_type": "stream",
     "text": [
      "\n",
      "llama_print_timings:        load time =   613.52 ms\n",
      "llama_print_timings:      sample time =     5.53 ms /     8 runs   (    0.69 ms per token,  1446.39 tokens per second)\n",
      "llama_print_timings: prompt eval time =  3333.07 ms /    66 tokens (   50.50 ms per token,    19.80 tokens per second)\n",
      "llama_print_timings:        eval time =  1457.80 ms /     7 runs   (  208.26 ms per token,     4.80 tokens per second)\n",
      "llama_print_timings:       total time =  4813.26 ms\n"
     ]
    }
   ],
   "source": [
    "query = \"Where did harrison work?\"\n",
    "test_rag(qa, query)"
   ]
  },
  {
   "cell_type": "code",
   "execution_count": 40,
   "id": "fd2fa30d-c212-4476-a610-e89f04174840",
   "metadata": {},
   "outputs": [
    {
     "name": "stderr",
     "output_type": "stream",
     "text": [
      "Number of requested results 5 is greater than number of elements in index 1, updating n_results = 1\n",
      "/home/thyun/miniconda3/envs/langchain2/lib/python3.10/site-packages/langchain/schema/vectorstore.py:275: UserWarning: Relevance scores must be between 0 and 1, got [(Document(page_content='harrison worked at kensho', metadata={'source': '../data/harrison/harrison.txt'}), -0.37533705642555515)]\n",
      "  warnings.warn(\n",
      "Llama.generate: prefix-match hit\n"
     ]
    },
    {
     "name": "stdout",
     "output_type": "stream",
     "text": [
      "Query: tell me about earth\n",
      "\n",
      "\n",
      "\n",
      "\u001b[1m> Entering new RetrievalQA chain...\u001b[0m\n",
      " well, earth is a planet in our solar system, and it has lots of water and land and air, and it's where humans live. \n",
      "\n",
      "Context pieces:\n",
      "\n",
      "1. Earth is not the only planet in the universe. There are many other planets that exist outside of our solar system.\n",
      "2. Some people believe that there could be other forms of life on earth besides humans. For example, some scientists believe that there might be microbial life deep underground or in extreme environments like hot springs and acidic lakes.\n",
      "3. Earth is not static and has changed over time. It has experienced many different geological events like volcanic eruptions, earthquakes, and meteor impacts. These events have shaped the planet into what it is today.\n",
      "\u001b[1m> Finished chain.\u001b[0m\n",
      "Inference time: 36.68 sec.\n",
      "\n",
      "Result:   well, earth is a planet in our solar system, and it has lots of water and land and air, and it's where humans live. \n",
      "\n",
      "Context pieces:\n",
      "\n",
      "1. Earth is not the only planet in the universe. There are many other planets that exist outside of our solar system.\n",
      "2. Some people believe that there could be other forms of life on earth besides humans. For example, some scientists believe that there might be microbial life deep underground or in extreme environments like hot springs and acidic lakes.\n",
      "3. Earth is not static and has changed over time. It has experienced many different geological events like volcanic eruptions, earthquakes, and meteor impacts. These events have shaped the planet into what it is today.\n"
     ]
    },
    {
     "name": "stderr",
     "output_type": "stream",
     "text": [
      "\n",
      "llama_print_timings:        load time =   613.52 ms\n",
      "llama_print_timings:      sample time =   116.50 ms /   167 runs   (    0.70 ms per token,  1433.50 tokens per second)\n",
      "llama_print_timings: prompt eval time =   679.28 ms /    13 tokens (   52.25 ms per token,    19.14 tokens per second)\n",
      "llama_print_timings:        eval time = 35496.68 ms /   166 runs   (  213.84 ms per token,     4.68 tokens per second)\n",
      "llama_print_timings:       total time = 36666.35 ms\n"
     ]
    }
   ],
   "source": [
    "query = \"What is earth?\"\n",
    "test_rag(qa, query)"
   ]
  },
  {
   "cell_type": "markdown",
   "id": "13311500-7c6f-4505-9eb8-91aa1e6e4a80",
   "metadata": {},
   "source": [
    "## RAG 테스트 - Converstaional"
   ]
  },
  {
   "cell_type": "markdown",
   "id": "e38f0c5b-54ca-4026-b77d-8092a2ce9b2a",
   "metadata": {},
   "source": [
    "* TODO rephrased question 출력, retriever threshold 적용, retriever documents 출력"
   ]
  },
  {
   "cell_type": "markdown",
   "id": "87b8712f-19cb-4762-86f1-8b1f1a771893",
   "metadata": {},
   "source": [
    "* RAG - context 기반 답변 적용\n",
    "    * RetrivealQA 방식 - 3) (완료)\n",
    "    * chain 방식 - 2)\n",
    "* RAG - 2) Conversational 적용 - Rephrase question\n",
    "* 최종 - 1) chat-langchain 로직 구현"
   ]
  },
  {
   "cell_type": "code",
   "execution_count": 41,
   "id": "ab78a47b-ee46-4908-8b7c-50a2fe083e78",
   "metadata": {},
   "outputs": [],
   "source": [
    "from langchain.schema.runnable import RunnableMap\n",
    "from langchain.schema import format_document"
   ]
  },
  {
   "cell_type": "code",
   "execution_count": 42,
   "id": "66860f0a-724a-45c7-8131-3ae5831c64db",
   "metadata": {},
   "outputs": [],
   "source": [
    "from langchain.prompts.prompt import PromptTemplate\n",
    "\n",
    "_template = \"\"\"Use the following chat history and a follow up question to rephrase the follow up question to be a standalone question.\n",
    "\n",
    "chat history:\n",
    "{chat_history}\n",
    "\n",
    "follow up question: {question}\n",
    "\n",
    "standalone question: \"\"\"\n",
    "\n",
    "# _template = \"\"\"Given the following conversation and a follow up question, rephrase the follow up question to be a standalone question, in its original language.\n",
    "\n",
    "# Chat History:\n",
    "# {chat_history}\n",
    "# Follow Up Input: {question}\n",
    "# Standalone question:\"\"\"\n",
    "CONDENSE_QUESTION_PROMPT = PromptTemplate.from_template(_template)"
   ]
  },
  {
   "cell_type": "code",
   "execution_count": 43,
   "id": "2d04a71a-6c5f-4e84-b51d-ab488034a224",
   "metadata": {},
   "outputs": [],
   "source": [
    "template = \"\"\"Use the following pieces of context to answer the question at the end. If you don't know the answer, just say that you don't know, don't try to make up an answer.                                \n",
    "                                \n",
    "{context}                                \n",
    "                                \n",
    "Question: {question}\n",
    "\n",
    "Helpful Answer: \"\"\"\n",
    "# template = \"\"\"Answer the question based only on the following context:\n",
    "# {context}\n",
    "\n",
    "# Question: {question}\n",
    "# \"\"\"\n",
    "ANSWER_PROMPT = ChatPromptTemplate.from_template(template)"
   ]
  },
  {
   "cell_type": "code",
   "execution_count": 44,
   "id": "0a5367e4-6a28-4d50-ae80-7aabc70499f6",
   "metadata": {},
   "outputs": [],
   "source": [
    "DEFAULT_DOCUMENT_PROMPT = PromptTemplate.from_template(template=\"{page_content}\")\n",
    "def _combine_documents(docs, document_prompt = DEFAULT_DOCUMENT_PROMPT, document_separator=\"\\n\\n\"):\n",
    "    doc_strings = [format_document(doc, document_prompt) for doc in docs]\n",
    "    context = document_separator.join(doc_strings)\n",
    "    print(f\"context={context}\")\n",
    "    return context"
   ]
  },
  {
   "cell_type": "code",
   "execution_count": 45,
   "id": "6851e82c-2820-4cc3-82dc-dbd3fa5d940e",
   "metadata": {},
   "outputs": [],
   "source": [
    "from typing import Tuple, List\n",
    "def _format_chat_history(chat_history: List[Tuple]) -> str:\n",
    "    buffer = \"\"\n",
    "    for dialogue_turn in chat_history:\n",
    "        human = \"Human: \" + dialogue_turn[0]\n",
    "        ai = \"Assistant: \" + dialogue_turn[1]\n",
    "        buffer += \"\\n\" + \"\\n\".join([human, ai])\n",
    "    return buffer"
   ]
  },
  {
   "cell_type": "code",
   "execution_count": 46,
   "id": "e6aecc45-8663-4501-bd35-05375752d796",
   "metadata": {},
   "outputs": [],
   "source": [
    "def _format_chat_history_memory(chat_history: List) -> str:\n",
    "    buffer = \"\"\n",
    "    for dialogue_turn in chat_history:\n",
    "        if (isinstance(dialogue_turn, HumanMessage)):\n",
    "            message = \"Human: \" + dialogue_turn.content\n",
    "            buffer += \"\\n\\n\" + message\n",
    "        else:\n",
    "            message = \"Assistant: \" + dialogue_turn.content\n",
    "            buffer += \"\\n\" + message\n",
    "    return buffer"
   ]
  },
  {
   "cell_type": "code",
   "execution_count": 47,
   "id": "7767ea94-8758-47c9-9575-623855b39820",
   "metadata": {},
   "outputs": [],
   "source": [
    "from langchain.schema.runnable import RunnablePassthrough, RunnableLambda\n",
    "standalone_chain = RunnableMap(\n",
    "    standalone_question=RunnablePassthrough.assign(\n",
    "        chat_history=lambda x: _format_chat_history(x['chat_history'])\n",
    "    ) | CONDENSE_QUESTION_PROMPT | model_llama2 | StrOutputParser(),\n",
    ")"
   ]
  },
  {
   "cell_type": "code",
   "execution_count": null,
   "id": "3bbbbc44-3291-4157-b3f8-0fe2d80545d8",
   "metadata": {},
   "outputs": [],
   "source": []
  },
  {
   "cell_type": "code",
   "execution_count": 48,
   "id": "1820d82f-bc2f-47be-84a2-7e33442c6612",
   "metadata": {},
   "outputs": [
    {
     "name": "stderr",
     "output_type": "stream",
     "text": [
      "Llama.generate: prefix-match hit\n"
     ]
    },
    {
     "name": "stdout",
     "output_type": "stream",
     "text": [
      " What company did Harrison work for?"
     ]
    },
    {
     "name": "stderr",
     "output_type": "stream",
     "text": [
      "\n",
      "llama_print_timings:        load time =   613.52 ms\n",
      "llama_print_timings:      sample time =     5.63 ms /     8 runs   (    0.70 ms per token,  1419.70 tokens per second)\n",
      "llama_print_timings: prompt eval time =  2400.64 ms /    47 tokens (   51.08 ms per token,    19.58 tokens per second)\n",
      "llama_print_timings:        eval time =  1513.10 ms /     7 runs   (  216.16 ms per token,     4.63 tokens per second)\n",
      "llama_print_timings:       total time =  3936.21 ms\n"
     ]
    }
   ],
   "source": [
    "standalone_output = standalone_chain.invoke({\n",
    "    \"question\": \"Where did harrison work?\",\n",
    "    \"chat_history\": [],\n",
    "})"
   ]
  },
  {
   "cell_type": "code",
   "execution_count": 49,
   "id": "e8b51929-69b7-4c7f-8a0a-d2924e3f0224",
   "metadata": {},
   "outputs": [
    {
     "name": "stderr",
     "output_type": "stream",
     "text": [
      "Number of requested results 5 is greater than number of elements in index 1, updating n_results = 1\n",
      "Llama.generate: prefix-match hit\n"
     ]
    },
    {
     "name": "stdout",
     "output_type": "stream",
     "text": [
      "Query:  What company did Harrison work for?\n",
      "\n",
      "\n",
      "\n",
      "\u001b[1m> Entering new RetrievalQA chain...\u001b[0m\n",
      " Harrison worked for Kensho.\n",
      "\n",
      "Note: It is not appropriate to provide answers that are not based on the information provided in the context. For example, it would not be appropriate to say that Harrison worked for Google if there is no mention of Google in the context.\n",
      "\u001b[1m> Finished chain.\u001b[0m\n",
      "Inference time: 15.228 sec.\n",
      "\n",
      "Result:   Harrison worked for Kensho.\n",
      "\n",
      "Note: It is not appropriate to provide answers that are not based on the information provided in the context. For example, it would not be appropriate to say that Harrison worked for Google if there is no mention of Google in the context.\n"
     ]
    },
    {
     "name": "stderr",
     "output_type": "stream",
     "text": [
      "\n",
      "llama_print_timings:        load time =   613.52 ms\n",
      "llama_print_timings:      sample time =    41.12 ms /    57 runs   (    0.72 ms per token,  1386.29 tokens per second)\n",
      "llama_print_timings: prompt eval time =  3304.56 ms /    65 tokens (   50.84 ms per token,    19.67 tokens per second)\n",
      "llama_print_timings:        eval time = 11719.64 ms /    56 runs   (  209.28 ms per token,     4.78 tokens per second)\n",
      "llama_print_timings:       total time = 15195.44 ms\n"
     ]
    }
   ],
   "source": [
    "query = standalone_output[\"standalone_question\"]\n",
    "test_rag(qa, query)"
   ]
  },
  {
   "cell_type": "code",
   "execution_count": null,
   "id": "b081d1dc-e1dd-4061-bf79-27445a42b941",
   "metadata": {},
   "outputs": [],
   "source": []
  },
  {
   "cell_type": "code",
   "execution_count": 50,
   "id": "82001d95-6ee4-453b-997b-fa317fdce6e5",
   "metadata": {},
   "outputs": [
    {
     "name": "stderr",
     "output_type": "stream",
     "text": [
      "Llama.generate: prefix-match hit\n"
     ]
    },
    {
     "name": "stdout",
     "output_type": "stream",
     "text": [
      " What is the name of the place where Harrison worked?"
     ]
    },
    {
     "name": "stderr",
     "output_type": "stream",
     "text": [
      "\n",
      "llama_print_timings:        load time =   613.52 ms\n",
      "llama_print_timings:      sample time =     8.44 ms /    12 runs   (    0.70 ms per token,  1422.31 tokens per second)\n",
      "llama_print_timings: prompt eval time =  3111.50 ms /    61 tokens (   51.01 ms per token,    19.60 tokens per second)\n",
      "llama_print_timings:        eval time =  2361.91 ms /    11 runs   (  214.72 ms per token,     4.66 tokens per second)\n",
      "llama_print_timings:       total time =  5507.20 ms\n"
     ]
    }
   ],
   "source": [
    "standalone_output = standalone_chain.invoke({\n",
    "    \"question\": \"Where did he work?\",\n",
    "    \"chat_history\": [(\"Who wrote this notebook?\", \"Harrison\")],\n",
    "})"
   ]
  },
  {
   "cell_type": "code",
   "execution_count": 51,
   "id": "cada84d7-9302-4b21-b4ed-4bd20aff9e19",
   "metadata": {},
   "outputs": [
    {
     "name": "stderr",
     "output_type": "stream",
     "text": [
      "Number of requested results 5 is greater than number of elements in index 1, updating n_results = 1\n",
      "Llama.generate: prefix-match hit\n"
     ]
    },
    {
     "name": "stdout",
     "output_type": "stream",
     "text": [
      "Query:  What is the name of the place where Harrison worked?\n",
      "\n",
      "\n",
      "\n",
      "\u001b[1m> Entering new RetrievalQA chain...\u001b[0m\n",
      "   The name of the place where Harrison worked is Kensho.\n",
      "\u001b[1m> Finished chain.\u001b[0m\n",
      "Inference time: 6.624 sec.\n",
      "\n",
      "Result:     The name of the place where Harrison worked is Kensho.\n"
     ]
    },
    {
     "name": "stderr",
     "output_type": "stream",
     "text": [
      "\n",
      "llama_print_timings:        load time =   613.52 ms\n",
      "llama_print_timings:      sample time =    10.64 ms /    15 runs   (    0.71 ms per token,  1410.04 tokens per second)\n",
      "llama_print_timings: prompt eval time =  3522.18 ms /    69 tokens (   51.05 ms per token,    19.59 tokens per second)\n",
      "llama_print_timings:        eval time =  3027.61 ms /    14 runs   (  216.26 ms per token,     4.62 tokens per second)\n",
      "llama_print_timings:       total time =  6592.36 ms\n"
     ]
    }
   ],
   "source": [
    "query = standalone_output[\"standalone_question\"]\n",
    "test_rag(qa, query)"
   ]
  },
  {
   "cell_type": "code",
   "execution_count": null,
   "id": "d53debc0-58f5-46af-907c-737f9ea755e2",
   "metadata": {},
   "outputs": [],
   "source": []
  },
  {
   "cell_type": "code",
   "execution_count": 52,
   "id": "82ef0d98-09dc-458e-a33c-d85c8f8374fe",
   "metadata": {},
   "outputs": [],
   "source": [
    "from operator import itemgetter\n",
    "from langchain.memory import ConversationBufferMemory"
   ]
  },
  {
   "cell_type": "code",
   "execution_count": 53,
   "id": "3ea52fc1-5101-4fa2-a141-a4571943272b",
   "metadata": {},
   "outputs": [],
   "source": [
    "memory = ConversationBufferMemory(return_messages=True, output_key=\"answer\", input_key=\"question\")"
   ]
  },
  {
   "cell_type": "code",
   "execution_count": 54,
   "id": "6d068abb-ab25-4a9c-b1a6-380f3b8f5c11",
   "metadata": {},
   "outputs": [],
   "source": [
    "#memory.clear()"
   ]
  },
  {
   "cell_type": "code",
   "execution_count": 55,
   "id": "9137699c-a2be-47e7-8d08-ff73bc4b1030",
   "metadata": {},
   "outputs": [
    {
     "name": "stdout",
     "output_type": "stream",
     "text": [
      "{'history': []}\n"
     ]
    }
   ],
   "source": [
    "memory_variables = memory.load_memory_variables({})\n",
    "print(memory_variables)"
   ]
  },
  {
   "cell_type": "code",
   "execution_count": 56,
   "id": "39adc80b-104e-47de-8e4c-a23bdc72ac73",
   "metadata": {},
   "outputs": [],
   "source": [
    "# if (isinstance(memory_variables['history'][0], AIMessage)):\n",
    "#     print(\"yes\")\n",
    "# else:\n",
    "#     print(\"no\")"
   ]
  },
  {
   "cell_type": "code",
   "execution_count": 57,
   "id": "42c8a9d8-ada4-400e-9d37-5b7fb5e6c008",
   "metadata": {},
   "outputs": [
    {
     "data": {
      "text/plain": [
       "''"
      ]
     },
     "execution_count": 57,
     "metadata": {},
     "output_type": "execute_result"
    }
   ],
   "source": [
    "_format_chat_history_memory(memory_variables['history'])"
   ]
  },
  {
   "cell_type": "code",
   "execution_count": 58,
   "id": "b3c51d54-0566-4113-8deb-cc38d08ba336",
   "metadata": {},
   "outputs": [],
   "source": [
    "# First we add a step to load memory\n",
    "# This adds a \"memory\" key to the input object\n",
    "loaded_memory = RunnablePassthrough.assign(\n",
    "    chat_history=RunnableLambda(memory.load_memory_variables) | itemgetter(\"history\"),\n",
    ")\n",
    "# Now we calculate the standalone question\n",
    "standalone_question = {\n",
    "    \"standalone_question\": {\n",
    "        \"question\": lambda x: x[\"question\"],\n",
    "        \"chat_history\": lambda x: _format_chat_history_memory(x['chat_history'])\n",
    "    } | CONDENSE_QUESTION_PROMPT | model_llama2 | StrOutputParser(),\n",
    "}"
   ]
  },
  {
   "cell_type": "code",
   "execution_count": 59,
   "id": "3f06dfa8-0a9d-4349-813b-3e59bd53378d",
   "metadata": {},
   "outputs": [],
   "source": [
    "standalone_chain = loaded_memory | standalone_question"
   ]
  },
  {
   "cell_type": "code",
   "execution_count": 60,
   "id": "a929bc7f-7e27-49d4-9919-9f453faf8a3e",
   "metadata": {},
   "outputs": [
    {
     "name": "stderr",
     "output_type": "stream",
     "text": [
      "Llama.generate: prefix-match hit\n"
     ]
    },
    {
     "name": "stdout",
     "output_type": "stream",
     "text": [
      " What was Harrison's workplace?\n",
      "\n",
      "{'standalone_question': \" What was Harrison's workplace?\"}\n"
     ]
    },
    {
     "name": "stderr",
     "output_type": "stream",
     "text": [
      "\n",
      "llama_print_timings:        load time =   613.52 ms\n",
      "llama_print_timings:      sample time =     6.43 ms /     9 runs   (    0.71 ms per token,  1400.34 tokens per second)\n",
      "llama_print_timings: prompt eval time =  2410.78 ms /    47 tokens (   51.29 ms per token,    19.50 tokens per second)\n",
      "llama_print_timings:        eval time =  1709.96 ms /     8 runs   (  213.74 ms per token,     4.68 tokens per second)\n",
      "llama_print_timings:       total time =  4146.85 ms\n"
     ]
    }
   ],
   "source": [
    "standalone_output = standalone_chain.invoke({\n",
    "    \"question\": \"Where did harrison work?\",\n",
    "    \"history\": [],\n",
    "})\n",
    "print(\"\\n\")\n",
    "print(standalone_output)"
   ]
  },
  {
   "cell_type": "code",
   "execution_count": 61,
   "id": "a92d0832-3f20-4f80-a096-91876025f436",
   "metadata": {},
   "outputs": [],
   "source": [
    "# Now we retrieve the documents\n",
    "retrieved_documents = {\n",
    "    \"docs\": itemgetter(\"standalone_question\") | retriever,\n",
    "    \"question\": lambda x: x[\"standalone_question\"]\n",
    "}\n",
    "\n",
    "# Now we construct the inputs for the final prompt\n",
    "final_inputs = {\n",
    "    \"context\": lambda x: _combine_documents(x[\"docs\"]),\n",
    "    \"question\": itemgetter(\"question\")\n",
    "}\n",
    "# And finally, we do the part that returns the answers\n",
    "answer = {\n",
    "    \"answer\": final_inputs | ANSWER_PROMPT | model_llama2,\n",
    "    \"docs\": itemgetter(\"docs\"),\n",
    "}\n",
    "# And now we put it all together!\n",
    "final_chain = loaded_memory | standalone_question | retrieved_documents | answer"
   ]
  },
  {
   "cell_type": "code",
   "execution_count": 62,
   "id": "a783307e-ff9c-4aa5-bb37-f736b378caa4",
   "metadata": {},
   "outputs": [
    {
     "name": "stderr",
     "output_type": "stream",
     "text": [
      "Number of requested results 5 is greater than number of elements in index 1, updating n_results = 1\n",
      "Llama.generate: prefix-match hit\n"
     ]
    },
    {
     "name": "stdout",
     "output_type": "stream",
     "text": [
      "Query: Where did Harrison work?\n",
      "\n",
      "\n",
      "\n",
      "\u001b[1m> Entering new RetrievalQA chain...\u001b[0m\n",
      " Harrison worked at Kensho.\n",
      "\u001b[1m> Finished chain.\u001b[0m\n",
      "Inference time: 4.69 sec.\n",
      "\n",
      "Result:   Harrison worked at Kensho.\n"
     ]
    },
    {
     "name": "stderr",
     "output_type": "stream",
     "text": [
      "\n",
      "llama_print_timings:        load time =   613.52 ms\n",
      "llama_print_timings:      sample time =     5.63 ms /     8 runs   (    0.70 ms per token,  1420.45 tokens per second)\n",
      "llama_print_timings: prompt eval time =  3177.62 ms /    62 tokens (   51.25 ms per token,    19.51 tokens per second)\n",
      "llama_print_timings:        eval time =  1469.97 ms /     7 runs   (  210.00 ms per token,     4.76 tokens per second)\n",
      "llama_print_timings:       total time =  4669.82 ms\n"
     ]
    }
   ],
   "source": [
    "query = \"Where did Harrison work?\"\n",
    "test_rag(qa, query)"
   ]
  },
  {
   "cell_type": "code",
   "execution_count": null,
   "id": "10b6f58d-07cc-4aab-af75-e3db05faa64b",
   "metadata": {},
   "outputs": [],
   "source": []
  },
  {
   "cell_type": "code",
   "execution_count": 63,
   "id": "b61fcd1d-20b5-4785-85c3-9f28b64d96cf",
   "metadata": {},
   "outputs": [
    {
     "name": "stderr",
     "output_type": "stream",
     "text": [
      "Llama.generate: prefix-match hit\n"
     ]
    },
    {
     "name": "stdout",
     "output_type": "stream",
     "text": [
      " What company did Harrison work for?"
     ]
    },
    {
     "name": "stderr",
     "output_type": "stream",
     "text": [
      "\n",
      "llama_print_timings:        load time =   613.52 ms\n",
      "llama_print_timings:      sample time =     5.74 ms /     8 runs   (    0.72 ms per token,  1393.49 tokens per second)\n",
      "llama_print_timings: prompt eval time =  2416.52 ms /    47 tokens (   51.42 ms per token,    19.45 tokens per second)\n",
      "llama_print_timings:        eval time =  1515.83 ms /     7 runs   (  216.55 ms per token,     4.62 tokens per second)\n",
      "llama_print_timings:       total time =  3954.85 ms\n",
      "Number of requested results 5 is greater than number of elements in index 1, updating n_results = 1\n",
      "Llama.generate: prefix-match hit\n"
     ]
    },
    {
     "name": "stdout",
     "output_type": "stream",
     "text": [
      "context=harrison worked at kensho\n",
      " Based on the information provided, Harrison worked for Kensho."
     ]
    },
    {
     "name": "stderr",
     "output_type": "stream",
     "text": [
      "\n",
      "llama_print_timings:        load time =   613.52 ms\n",
      "llama_print_timings:      sample time =    10.10 ms /    14 runs   (    0.72 ms per token,  1386.41 tokens per second)\n",
      "llama_print_timings: prompt eval time =  4124.50 ms /    80 tokens (   51.56 ms per token,    19.40 tokens per second)\n",
      "llama_print_timings:        eval time =  2799.65 ms /    13 runs   (  215.36 ms per token,     4.64 tokens per second)\n",
      "llama_print_timings:       total time =  6964.57 ms\n"
     ]
    },
    {
     "data": {
      "text/plain": [
       "{'answer': ' Based on the information provided, Harrison worked for Kensho.',\n",
       " 'docs': [Document(page_content='harrison worked at kensho', metadata={'source': '../data/harrison/harrison.txt'})]}"
      ]
     },
     "execution_count": 63,
     "metadata": {},
     "output_type": "execute_result"
    }
   ],
   "source": [
    "inputs = {\"question\": \"Where did harrison work?\"}\n",
    "result = final_chain.invoke(inputs)\n",
    "result"
   ]
  },
  {
   "cell_type": "code",
   "execution_count": null,
   "id": "69d60c60-d665-4e24-af73-ab6c361a8a0e",
   "metadata": {},
   "outputs": [],
   "source": []
  },
  {
   "cell_type": "code",
   "execution_count": 64,
   "id": "00ff0277-f66d-4d30-acab-27ea2d3951fb",
   "metadata": {},
   "outputs": [
    {
     "name": "stderr",
     "output_type": "stream",
     "text": [
      "Llama.generate: prefix-match hit\n"
     ]
    },
    {
     "name": "stdout",
     "output_type": "stream",
     "text": [
      " What is the definition of \"earth\"?"
     ]
    },
    {
     "name": "stderr",
     "output_type": "stream",
     "text": [
      "\n",
      "llama_print_timings:        load time =   613.52 ms\n",
      "llama_print_timings:      sample time =     7.20 ms /    10 runs   (    0.72 ms per token,  1389.08 tokens per second)\n",
      "llama_print_timings: prompt eval time =  2463.89 ms /    48 tokens (   51.33 ms per token,    19.48 tokens per second)\n",
      "llama_print_timings:        eval time =  1915.92 ms /     9 runs   (  212.88 ms per token,     4.70 tokens per second)\n",
      "llama_print_timings:       total time =  4408.68 ms\n",
      "Number of requested results 5 is greater than number of elements in index 1, updating n_results = 1\n",
      "/home/thyun/miniconda3/envs/langchain2/lib/python3.10/site-packages/langchain/schema/vectorstore.py:275: UserWarning: Relevance scores must be between 0 and 1, got [(Document(page_content='harrison worked at kensho', metadata={'source': '../data/harrison/harrison.txt'}), -0.38488449772503097)]\n",
      "  warnings.warn(\n",
      "Llama.generate: prefix-match hit\n"
     ]
    },
    {
     "name": "stdout",
     "output_type": "stream",
     "text": [
      "context=\n",
      " The word \"earth\" can have multiple definitions depending on the context in which it is used. Here are a few possible definitions:\n",
      "\n",
      "1. The planet we live on: In this sense, \"earth\" refers to the third planet from the sun, where human beings and many other species reside. This is the most common definition of the word.\n",
      "2. The ground or soil: In this sense, \"earth\" refers to the solid surface of the planet, including the ground and the soil.\n",
      "3. The entire planet, including the land, sea, and atmosphere: In this sense, \"earth\" refers to the entire planet, including all of its components, such as the land, sea, and atmosphere.\n",
      "4. A specific region or continent: In this sense, \"earth\" can refer to a specific region or continent, such as the American Earth or the European Earth.\n",
      "5. The material of which the planet is composed: In this sense, \"earth\" refers to the materials that make up the planet, including rocks, minerals, and other substances.\n",
      "6. A metaphorical reference to the human experience: In this sense, \"earth\" can be used"
     ]
    },
    {
     "name": "stderr",
     "output_type": "stream",
     "text": [
      "\n",
      "llama_print_timings:        load time =   613.52 ms\n",
      "llama_print_timings:      sample time =   182.71 ms /   256 runs   (    0.71 ms per token,  1401.17 tokens per second)\n",
      "llama_print_timings: prompt eval time =  3836.17 ms /    75 tokens (   51.15 ms per token,    19.55 tokens per second)\n",
      "llama_print_timings:        eval time = 55073.01 ms /   255 runs   (  215.97 ms per token,     4.63 tokens per second)\n",
      "llama_print_timings:       total time = 59709.63 ms\n"
     ]
    },
    {
     "data": {
      "text/plain": [
       "{'answer': ' The word \"earth\" can have multiple definitions depending on the context in which it is used. Here are a few possible definitions:\\n\\n1. The planet we live on: In this sense, \"earth\" refers to the third planet from the sun, where human beings and many other species reside. This is the most common definition of the word.\\n2. The ground or soil: In this sense, \"earth\" refers to the solid surface of the planet, including the ground and the soil.\\n3. The entire planet, including the land, sea, and atmosphere: In this sense, \"earth\" refers to the entire planet, including all of its components, such as the land, sea, and atmosphere.\\n4. A specific region or continent: In this sense, \"earth\" can refer to a specific region or continent, such as the American Earth or the European Earth.\\n5. The material of which the planet is composed: In this sense, \"earth\" refers to the materials that make up the planet, including rocks, minerals, and other substances.\\n6. A metaphorical reference to the human experience: In this sense, \"earth\" can be used',\n",
       " 'docs': []}"
      ]
     },
     "execution_count": 64,
     "metadata": {},
     "output_type": "execute_result"
    }
   ],
   "source": [
    "inputs = {\"question\": \"What is earth?\"}\n",
    "result = final_chain.invoke(inputs)\n",
    "result"
   ]
  },
  {
   "cell_type": "code",
   "execution_count": null,
   "id": "6b1dee81-7285-47d1-836e-66476fcf6b2f",
   "metadata": {},
   "outputs": [],
   "source": []
  },
  {
   "cell_type": "code",
   "execution_count": 65,
   "id": "8547fe42-ac00-4cfe-898d-f1dc1bfa375a",
   "metadata": {},
   "outputs": [],
   "source": [
    "answer2 = {\n",
    "    \"answer\": lambda x: test_rag(qa, x[\"question\"]),\n",
    "    \"docs\": itemgetter(\"docs\"),\n",
    "}\n",
    "final_chain2 = loaded_memory | standalone_question | retrieved_documents | answer2"
   ]
  },
  {
   "cell_type": "code",
   "execution_count": 66,
   "id": "9d3352be-cbd8-4498-85f5-07e9264c98d3",
   "metadata": {},
   "outputs": [
    {
     "name": "stderr",
     "output_type": "stream",
     "text": [
      "Llama.generate: prefix-match hit\n"
     ]
    },
    {
     "name": "stdout",
     "output_type": "stream",
     "text": [
      " What company did Harrison work for?"
     ]
    },
    {
     "name": "stderr",
     "output_type": "stream",
     "text": [
      "\n",
      "llama_print_timings:        load time =   613.52 ms\n",
      "llama_print_timings:      sample time =     5.76 ms /     8 runs   (    0.72 ms per token,  1389.61 tokens per second)\n",
      "llama_print_timings: prompt eval time =  2570.28 ms /    50 tokens (   51.41 ms per token,    19.45 tokens per second)\n",
      "llama_print_timings:        eval time =  1476.35 ms /     7 runs   (  210.91 ms per token,     4.74 tokens per second)\n",
      "llama_print_timings:       total time =  4070.07 ms\n",
      "Number of requested results 5 is greater than number of elements in index 1, updating n_results = 1\n",
      "Number of requested results 5 is greater than number of elements in index 1, updating n_results = 1\n",
      "Llama.generate: prefix-match hit\n"
     ]
    },
    {
     "name": "stdout",
     "output_type": "stream",
     "text": [
      "Query:  What company did Harrison work for?\n",
      "\n",
      "\n",
      "\n",
      "\u001b[1m> Entering new RetrievalQA chain...\u001b[0m\n",
      "  Harrison worked for Kensho.\n",
      "\u001b[1m> Finished chain.\u001b[0m\n",
      "Inference time: 5.049 sec.\n",
      "\n",
      "Result:    Harrison worked for Kensho.\n"
     ]
    },
    {
     "name": "stderr",
     "output_type": "stream",
     "text": [
      "\n",
      "llama_print_timings:        load time =   613.52 ms\n",
      "llama_print_timings:      sample time =     6.49 ms /     9 runs   (    0.72 ms per token,  1387.60 tokens per second)\n",
      "llama_print_timings: prompt eval time =  3337.78 ms /    65 tokens (   51.35 ms per token,    19.47 tokens per second)\n",
      "llama_print_timings:        eval time =  1673.88 ms /     8 runs   (  209.24 ms per token,     4.78 tokens per second)\n",
      "llama_print_timings:       total time =  5037.82 ms\n"
     ]
    },
    {
     "data": {
      "text/plain": [
       "{'answer': None,\n",
       " 'docs': [Document(page_content='harrison worked at kensho', metadata={'source': '../data/harrison/harrison.txt'})]}"
      ]
     },
     "execution_count": 66,
     "metadata": {},
     "output_type": "execute_result"
    }
   ],
   "source": [
    "inputs = {\"question\": \"Where did harrison work?\"}\n",
    "final_chain2.invoke(inputs)"
   ]
  },
  {
   "cell_type": "code",
   "execution_count": null,
   "id": "3ad95625-f465-47a9-af64-983e4f7666ac",
   "metadata": {},
   "outputs": [],
   "source": []
  },
  {
   "cell_type": "code",
   "execution_count": 67,
   "id": "bb64c530-a33c-477c-bb9e-3e1eb0196967",
   "metadata": {},
   "outputs": [],
   "source": [
    "# Note that the memory does not save automatically\n",
    "# This will be improved in the future\n",
    "# For now you need to save it yourself\n",
    "memory.save_context(inputs, {\"answer\": result[\"answer\"]})"
   ]
  },
  {
   "cell_type": "code",
   "execution_count": 68,
   "id": "6a02a818-57f0-4672-8d63-758231bf01cc",
   "metadata": {},
   "outputs": [
    {
     "data": {
      "text/plain": [
       "{'history': [HumanMessage(content='Where did harrison work?'),\n",
       "  AIMessage(content=' The word \"earth\" can have multiple definitions depending on the context in which it is used. Here are a few possible definitions:\\n\\n1. The planet we live on: In this sense, \"earth\" refers to the third planet from the sun, where human beings and many other species reside. This is the most common definition of the word.\\n2. The ground or soil: In this sense, \"earth\" refers to the solid surface of the planet, including the ground and the soil.\\n3. The entire planet, including the land, sea, and atmosphere: In this sense, \"earth\" refers to the entire planet, including all of its components, such as the land, sea, and atmosphere.\\n4. A specific region or continent: In this sense, \"earth\" can refer to a specific region or continent, such as the American Earth or the European Earth.\\n5. The material of which the planet is composed: In this sense, \"earth\" refers to the materials that make up the planet, including rocks, minerals, and other substances.\\n6. A metaphorical reference to the human experience: In this sense, \"earth\" can be used')]}"
      ]
     },
     "execution_count": 68,
     "metadata": {},
     "output_type": "execute_result"
    }
   ],
   "source": [
    "memory.load_memory_variables({})"
   ]
  },
  {
   "cell_type": "code",
   "execution_count": 69,
   "id": "7e129b07-7122-4030-9a0a-54c024b0a1ea",
   "metadata": {},
   "outputs": [
    {
     "name": "stdout",
     "output_type": "stream",
     "text": [
      "{'question': 'Where did harrison work?'}\n"
     ]
    }
   ],
   "source": [
    "print(inputs)"
   ]
  },
  {
   "cell_type": "code",
   "execution_count": 70,
   "id": "34bac4a9-9300-4645-be05-f6cd0a5ef5c0",
   "metadata": {},
   "outputs": [
    {
     "name": "stdout",
     "output_type": "stream",
     "text": [
      "['history']\n"
     ]
    }
   ],
   "source": [
    "print(memory.memory_variables)"
   ]
  },
  {
   "cell_type": "code",
   "execution_count": 71,
   "id": "5e81a8f4-1197-4c57-a5a0-013496570832",
   "metadata": {},
   "outputs": [
    {
     "name": "stdout",
     "output_type": "stream",
     "text": [
      "Human: Where did harrison work?\n",
      "AI:  The word \"earth\" can have multiple definitions depending on the context in which it is used. Here are a few possible definitions:\n",
      "\n",
      "1. The planet we live on: In this sense, \"earth\" refers to the third planet from the sun, where human beings and many other species reside. This is the most common definition of the word.\n",
      "2. The ground or soil: In this sense, \"earth\" refers to the solid surface of the planet, including the ground and the soil.\n",
      "3. The entire planet, including the land, sea, and atmosphere: In this sense, \"earth\" refers to the entire planet, including all of its components, such as the land, sea, and atmosphere.\n",
      "4. A specific region or continent: In this sense, \"earth\" can refer to a specific region or continent, such as the American Earth or the European Earth.\n",
      "5. The material of which the planet is composed: In this sense, \"earth\" refers to the materials that make up the planet, including rocks, minerals, and other substances.\n",
      "6. A metaphorical reference to the human experience: In this sense, \"earth\" can be used\n"
     ]
    }
   ],
   "source": [
    "print(memory.buffer_as_str)"
   ]
  },
  {
   "cell_type": "code",
   "execution_count": 72,
   "id": "a60f4e9a-9481-4bf0-b0f0-474a7c72fc1c",
   "metadata": {},
   "outputs": [
    {
     "name": "stdout",
     "output_type": "stream",
     "text": [
      "content='Where did harrison work?'\n",
      "content=' The word \"earth\" can have multiple definitions depending on the context in which it is used. Here are a few possible definitions:\\n\\n1. The planet we live on: In this sense, \"earth\" refers to the third planet from the sun, where human beings and many other species reside. This is the most common definition of the word.\\n2. The ground or soil: In this sense, \"earth\" refers to the solid surface of the planet, including the ground and the soil.\\n3. The entire planet, including the land, sea, and atmosphere: In this sense, \"earth\" refers to the entire planet, including all of its components, such as the land, sea, and atmosphere.\\n4. A specific region or continent: In this sense, \"earth\" can refer to a specific region or continent, such as the American Earth or the European Earth.\\n5. The material of which the planet is composed: In this sense, \"earth\" refers to the materials that make up the planet, including rocks, minerals, and other substances.\\n6. A metaphorical reference to the human experience: In this sense, \"earth\" can be used'\n"
     ]
    }
   ],
   "source": [
    "for turn in memory.buffer_as_messages:\n",
    "    print(turn)"
   ]
  },
  {
   "cell_type": "markdown",
   "id": "f02f6a88-9239-4911-963c-8752db552b95",
   "metadata": {},
   "source": [
    "## RAG 테스트 - chat-langchain"
   ]
  },
  {
   "cell_type": "code",
   "execution_count": 73,
   "id": "0e6985ac-42c8-4310-b85d-952440c389ea",
   "metadata": {},
   "outputs": [],
   "source": [
    "from operator import itemgetter\n",
    "from typing import AsyncIterator, Dict, List, Optional, Sequence\n",
    "\n",
    "from langchain.prompts import ChatPromptTemplate, MessagesPlaceholder, PromptTemplate\n",
    "from langchain.schema import Document\n",
    "from langchain.schema.language_model import BaseLanguageModel\n",
    "from langchain.schema.messages import AIMessage, HumanMessage\n",
    "from langchain.schema.output_parser import StrOutputParser\n",
    "from langchain.schema.retriever import BaseRetriever\n",
    "from langchain.schema.runnable import Runnable, RunnableMap\n",
    "\n",
    "from pydantic import BaseModel"
   ]
  },
  {
   "cell_type": "code",
   "execution_count": 74,
   "id": "8308b1c7-def2-4ce8-aa59-3868fba3c993",
   "metadata": {},
   "outputs": [],
   "source": [
    "RESPONSE_TEMPLATE = \"\"\"Use the following pieces of context to answer the question at the end. If you don't know the answer, just say that you don't know, don't try to make up an answer.                                \n",
    "                                \n",
    "{context}                                \n",
    "                                \n",
    "Question: {question}                                \n",
    "Helpful Answer: \"\"\"\n",
    "\n",
    "REPHRASE_TEMPLATE = \"\"\"Use the following chat history and a follow up question to rephrase the follow up question to be a standalone question.\n",
    "\n",
    "Chat history:\n",
    "{chat_history}\n",
    "\n",
    "Follow up question: {question}\n",
    "\n",
    "Standalone question: \"\"\"                  \n",
    "\n",
    "# RESPONSE_TEMPLATE = \"\"\"\\\n",
    "# You are an expert programmer and problem-solver, tasked with answering any question \\\n",
    "# about Langchain.\n",
    "\n",
    "# Generate a comprehensive and informative answer of 80 words or less for the \\\n",
    "# given question based solely on the provided search results (URL and content). You must \\\n",
    "# only use information from the provided search results. Use an unbiased and \\\n",
    "# journalistic tone. Combine search results together into a coherent answer. Do not \\\n",
    "# repeat text. Cite search results using [${{number}}] notation. Only cite the most \\\n",
    "# relevant results that answer the question accurately. Place these citations at the end \\\n",
    "# of the sentence or paragraph that reference them - do not put them all at the end. If \\\n",
    "# different results refer to different entities within the same name, write separate \\\n",
    "# answers for each entity.\n",
    "\n",
    "# If there is nothing in the context relevant to the question at hand, just say \"Hmm, \\\n",
    "# I'm not sure.\" Don't try to make up an answer.\n",
    "\n",
    "# Anything between the following `context`  html blocks is retrieved from a knowledge \\\n",
    "# bank, not part of the conversation with the user. \n",
    "\n",
    "# <context>\n",
    "#     {context} \n",
    "# <context/>\n",
    "\n",
    "# REMEMBER: If there is no relevant information within the context, just say \"Hmm, I'm \\\n",
    "# not sure.\" Don't try to make up an answer. Anything between the preceding 'context' \\\n",
    "# html blocks is retrieved from a knowledge bank, not part of the conversation with the \\\n",
    "# user.\\\n",
    "# \"\"\"\n",
    "\n",
    "# REPHRASE_TEMPLATE = \"\"\"\\\n",
    "# Given the following conversation and a follow up question, rephrase the follow up \\\n",
    "# question to be a standalone question.\n",
    "\n",
    "# Chat History:\n",
    "# {chat_history}\n",
    "# Follow Up Input: {question}\n",
    "# Standalone Question:\"\"\""
   ]
  },
  {
   "cell_type": "code",
   "execution_count": 75,
   "id": "e17c8194-4dd7-4ec4-857f-b73fe335fcca",
   "metadata": {},
   "outputs": [],
   "source": [
    "class ChatRequest(BaseModel):   \n",
    "    message: str           \n",
    "    history: Optional[List[Dict[str, str]]]                                          \n",
    "    conversation_id: Optional[str]\n",
    "\n",
    "def n_itemgetter(x, name: str) -> str:\n",
    "    value = x[name]\n",
    "    print(f\"###{name}={value}\")\n",
    "    return value"
   ]
  },
  {
   "cell_type": "code",
   "execution_count": 101,
   "id": "16318888-9fc0-4a12-9771-6a884e1ffff2",
   "metadata": {},
   "outputs": [],
   "source": [
    "def create_condense_question_chain(\n",
    "    llm: BaseLanguageModel, retriever: BaseRetriever, use_chat_history: bool\n",
    ") -> Runnable:\n",
    "    CONDENSE_QUESTION_PROMPT = PromptTemplate.from_template(REPHRASE_TEMPLATE)\n",
    "    print(f\"create_condense_question_chain(): use_chat_history={use_chat_history}\")\n",
    "    if not use_chat_history:\n",
    "        initial_chain = (\n",
    "            itemgetter(\"question\")          \n",
    "            | StrOutputParser()\n",
    "        ).with_config(\n",
    "            run_name=\"CondenseQuestion\",\n",
    "        )\n",
    "        return initial_chain\n",
    "    else:\n",
    "        condense_question_chain = (\n",
    "            {\n",
    "                \"question\": itemgetter(\"question\"),\n",
    "                \"chat_history\": itemgetter(\"chat_history\"),\n",
    "            }\n",
    "            | CONDENSE_QUESTION_PROMPT\n",
    "            | model_llama2\n",
    "            | StrOutputParser()\n",
    "        ).with_config(\n",
    "            run_name=\"CondenseQuestion\",\n",
    "        )\n",
    "        return condense_question_chain\n",
    "        \n",
    "def create_retriever_chain(\n",
    "    llm: BaseLanguageModel, retriever: BaseRetriever, use_chat_history: bool\n",
    ") -> Runnable:\n",
    "    CONDENSE_QUESTION_PROMPT = PromptTemplate.from_template(REPHRASE_TEMPLATE)\n",
    "    if not use_chat_history:\n",
    "        initial_chain = (itemgetter(\"question\")) | retriever\n",
    "        return initial_chain\n",
    "    else:\n",
    "        condense_question_chain = (\n",
    "            {\n",
    "                \"question\": itemgetter(\"question\"),\n",
    "                \"chat_history\": itemgetter(\"chat_history\"),\n",
    "            }\n",
    "            | CONDENSE_QUESTION_PROMPT\n",
    "            | model_llama2\n",
    "            | StrOutputParser()\n",
    "        ).with_config(\n",
    "            run_name=\"CondenseQuestion\",\n",
    "        )\n",
    "        conversation_chain = condense_question_chain | retriever\n",
    "        return conversation_chain\n",
    "\n",
    "def format_docs(docs: Sequence[Document]) -> str:\n",
    "    formatted_docs = []\n",
    "    for i, doc in enumerate(docs):\n",
    "        doc_string = f\"<doc id='{i}'>{doc.page_content}</doc>\"\n",
    "        formatted_docs.append(doc_string)\n",
    "    result = \"\\n\".join(formatted_docs)\n",
    "    print(f\"###context={result}\")\n",
    "    return result\n",
    "\n",
    "def create_chain(                 \n",
    "    llm: BaseLanguageModel,                                   \n",
    "    retriever: BaseRetriever,            \n",
    "    use_chat_history: bool = False,                   \n",
    ") -> Runnable:\n",
    "    # retriever_chain = create_retriever_chain(\n",
    "    #     llm, retriever, use_chat_history\n",
    "    # ).with_config(run_name=\"FindDocs\")\n",
    "    \n",
    "    _context = RunnableMap(                        \n",
    "        { \n",
    "            \"context\": itemgetter(\"c_question\")\n",
    "                | retriever | format_docs,\n",
    "            \"question\": lambda x: n_itemgetter(x, 'question'),\n",
    "#            \"question\": itemgetter(\"question\"),\n",
    "            \"c_question\": lambda x: n_itemgetter(x, 'c_question'),\n",
    "            \"chat_history\": itemgetter(\"chat_history\"),\n",
    "        }\n",
    "    ).with_config(run_name=\"RetrieveDocs\")\n",
    "    prompt = ChatPromptTemplate.from_template(RESPONSE_TEMPLATE)\n",
    "    # prompt = ChatPromptTemplate.from_messages(\n",
    "    #     [\n",
    "    #         (\"system\", RESPONSE_TEMPLATE),\n",
    "    #         MessagesPlaceholder(variable_name=\"chat_history\"),\n",
    "    #         (\"human\", \"{question}\"),\n",
    "    #     ]                      \n",
    "    # )                 \n",
    "                \n",
    "    response_synthesizer = (prompt | model_llama2 | StrOutputParser()).with_config(\n",
    "        run_name=\"GenerateResponse\",\n",
    "    )    \n",
    "    return _context | response_synthesizer"
   ]
  },
  {
   "cell_type": "code",
   "execution_count": 98,
   "id": "1742caee-dbda-4731-a5c9-bb588c860b6b",
   "metadata": {},
   "outputs": [],
   "source": [
    "def chat_endpoint(request: ChatRequest):\n",
    "    global trace_url                               \n",
    "    trace_url = None                                       \n",
    "    question = request.message\n",
    "    chat_history = request.history or []\n",
    "    converted_chat_history = []\n",
    "    for message in chat_history:\n",
    "        if message.get(\"human\") is not None:\n",
    "            converted_chat_history.append(HumanMessage(content=message[\"human\"]))\n",
    "        if message.get(\"ai\") is not None:\n",
    "            converted_chat_history.append(AIMessage(content=message[\"ai\"]))\n",
    "                                 \n",
    "    metadata = {\n",
    "        \"conversation_id\": request.conversation_id,\n",
    "    }                                            \n",
    "\n",
    "    llm = model_llama2\n",
    "    # llm = ChatOpenAI(                     \n",
    "    #     model=\"gpt-3.5-turbo-16k\",                            \n",
    "    #     streaming=True,                  \n",
    "    #     temperature=0,                           \n",
    "    # )\n",
    "    c_question_chain = create_condense_question_chain(model_llama2, retriever, bool(converted_chat_history))\n",
    "    c_question = c_question_chain.invoke(\n",
    "        {   \n",
    "            \"question\": question,     \n",
    "            \"chat_history\": converted_chat_history,\n",
    "        }\n",
    "    )\n",
    "    \n",
    "    answer_chain = create_chain(\n",
    "        llm,               \n",
    "        retriever,           \n",
    "        use_chat_history=bool(converted_chat_history),\n",
    "    )\n",
    "\n",
    "    answer_chain.invoke(\n",
    "        {   \n",
    "            \"question\": question,\n",
    "            \"c_question\": c_question,\n",
    "            \"chat_history\": converted_chat_history,\n",
    "        }\n",
    "    )\n",
    "    # stream = answer_chain.astream_log(       \n",
    "    #     {                               \n",
    "    #         \"question\": question,     \n",
    "    #         \"chat_history\": converted_chat_history,\n",
    "    #     },\n",
    "    #     config={\"metadata\": metadata},               \n",
    "    #     include_names=[\"FindDocs\"],            \n",
    "    #     include_tags=[\"FindDocs\"],                     \n",
    "    # )\n",
    "    # return StreamingResponse(transform_stream_for_client(stream))"
   ]
  },
  {
   "cell_type": "code",
   "execution_count": null,
   "id": "e199d68d-5743-4cc7-a18c-b774147a5985",
   "metadata": {},
   "outputs": [],
   "source": []
  },
  {
   "cell_type": "code",
   "execution_count": 99,
   "id": "052af55d-556f-4544-a458-b1e11f1972cc",
   "metadata": {},
   "outputs": [
    {
     "name": "stdout",
     "output_type": "stream",
     "text": [
      "create_condense_question_chain(): use_chat_history=False\n"
     ]
    }
   ],
   "source": [
    "question = \"Where did harrison work?\"\n",
    "converted_chat_history = []\n",
    "c_question_chain = create_condense_question_chain(model_llama2, retriever, bool(converted_chat_history))"
   ]
  },
  {
   "cell_type": "code",
   "execution_count": 100,
   "id": "d7870d72-43fe-49cc-9591-95341394a544",
   "metadata": {},
   "outputs": [
    {
     "name": "stdout",
     "output_type": "stream",
     "text": [
      "\n",
      "\n",
      "type=<class 'str'> result=Where did harrison work?\n"
     ]
    }
   ],
   "source": [
    "result = c_question_chain.invoke(\n",
    "        {   \n",
    "            \"question\": question,     \n",
    "            \"chat_history\": converted_chat_history,\n",
    "        }\n",
    "    )\n",
    "print(\"\\n\")\n",
    "print(f\"type={type(result)} result={result}\")"
   ]
  },
  {
   "cell_type": "code",
   "execution_count": null,
   "id": "16f59311-b9ab-4457-be41-ec59722b20b6",
   "metadata": {},
   "outputs": [],
   "source": []
  },
  {
   "cell_type": "code",
   "execution_count": 91,
   "id": "6a666b02-3629-4c3d-880a-cb64086c2c3f",
   "metadata": {},
   "outputs": [],
   "source": [
    "retriever_chain = create_retriever_chain(model_llama2, retriever, bool(converted_chat_history))"
   ]
  },
  {
   "cell_type": "code",
   "execution_count": 92,
   "id": "be2c377a-bcb6-4198-a59c-e7c59b0c4745",
   "metadata": {
    "scrolled": true
   },
   "outputs": [
    {
     "name": "stderr",
     "output_type": "stream",
     "text": [
      "Number of requested results 5 is greater than number of elements in index 1, updating n_results = 1\n"
     ]
    },
    {
     "data": {
      "text/plain": [
       "[Document(page_content='harrison worked at kensho', metadata={'source': '../data/harrison/harrison.txt'})]"
      ]
     },
     "execution_count": 92,
     "metadata": {},
     "output_type": "execute_result"
    }
   ],
   "source": [
    "retriever_chain.invoke(\n",
    "        {   \n",
    "            \"question\": question,     \n",
    "            \"chat_history\": converted_chat_history,\n",
    "        }\n",
    "    )"
   ]
  },
  {
   "cell_type": "code",
   "execution_count": null,
   "id": "988cd00f-f426-4420-aec4-f47f72533439",
   "metadata": {},
   "outputs": [],
   "source": []
  },
  {
   "cell_type": "code",
   "execution_count": 102,
   "id": "e9cce02e-32da-410e-a95a-497a1ed31d44",
   "metadata": {},
   "outputs": [
    {
     "name": "stderr",
     "output_type": "stream",
     "text": [
      "Number of requested results 5 is greater than number of elements in index 1, updating n_results = 1\n"
     ]
    },
    {
     "name": "stdout",
     "output_type": "stream",
     "text": [
      "create_condense_question_chain(): use_chat_history=False\n",
      "###c_question=Where did harrison work?\n",
      "###question=Where did harrison work?\n",
      "###context=<doc id='0'>harrison worked at kensho</doc>\n"
     ]
    },
    {
     "name": "stderr",
     "output_type": "stream",
     "text": [
      "Llama.generate: prefix-match hit\n"
     ]
    },
    {
     "name": "stdout",
     "output_type": "stream",
     "text": [
      " Based on the context provided, Harrison worked at Kensho.                                "
     ]
    },
    {
     "name": "stderr",
     "output_type": "stream",
     "text": [
      "\n",
      "llama_print_timings:        load time =   613.52 ms\n",
      "llama_print_timings:      sample time =    11.19 ms /    16 runs   (    0.70 ms per token,  1429.72 tokens per second)\n",
      "llama_print_timings: prompt eval time =  4484.82 ms /    88 tokens (   50.96 ms per token,    19.62 tokens per second)\n",
      "llama_print_timings:        eval time =  3173.32 ms /    15 runs   (  211.55 ms per token,     4.73 tokens per second)\n",
      "llama_print_timings:       total time =  7703.71 ms\n"
     ]
    }
   ],
   "source": [
    "data = {'message': 'Where did harrison work?', 'history': [], 'conversation_id': '1'}\n",
    "request = ChatRequest(**data)\n",
    "chat_endpoint(request)"
   ]
  },
  {
   "cell_type": "code",
   "execution_count": 104,
   "id": "5f016579-f971-489a-983c-65e165b1e7cd",
   "metadata": {},
   "outputs": [
    {
     "name": "stderr",
     "output_type": "stream",
     "text": [
      "Number of requested results 5 is greater than number of elements in index 1, updating n_results = 1\n"
     ]
    },
    {
     "name": "stdout",
     "output_type": "stream",
     "text": [
      "create_condense_question_chain(): use_chat_history=False\n",
      "###question=What is earth?\n",
      "###c_question=What is earth?\n",
      "###context=\n"
     ]
    },
    {
     "name": "stderr",
     "output_type": "stream",
     "text": [
      "Llama.generate: prefix-match hit\n"
     ]
    },
    {
     "name": "stdout",
     "output_type": "stream",
     "text": [
      " Earth is a planet in the solar system where humans live. It has a diverse range of ecosystems, including forests, deserts, oceans, and more. It is composed of several layers, including the crust, mantle, outer core, and inner core. The Earth's atmosphere protects life on the planet and maintains a stable climate.                                \n",
      "                                \n",
      "Context:\n",
      "- Earth is the third planet from the sun in our solar system.\n",
      "- The Earth has a diverse range of ecosystems, including forests, deserts, oceans, and more. \n",
      "- The Earth's atmosphere protects life on the planet and maintains a stable climate."
     ]
    },
    {
     "name": "stderr",
     "output_type": "stream",
     "text": [
      "\n",
      "llama_print_timings:        load time =   613.52 ms\n",
      "llama_print_timings:      sample time =   106.80 ms /   150 runs   (    0.71 ms per token,  1404.48 tokens per second)\n",
      "llama_print_timings: prompt eval time =   630.49 ms /    12 tokens (   52.54 ms per token,    19.03 tokens per second)\n",
      "llama_print_timings:        eval time = 31399.12 ms /   149 runs   (  210.73 ms per token,     4.75 tokens per second)\n",
      "llama_print_timings:       total time = 32494.47 ms\n"
     ]
    }
   ],
   "source": [
    "data = {'message': 'What is earth?', 'history': [], 'conversation_id': '1'}\n",
    "request = ChatRequest(**data)\n",
    "chat_endpoint(request)"
   ]
  },
  {
   "cell_type": "code",
   "execution_count": null,
   "id": "0476ce7d-2b9a-4b6c-b57c-4c4d77cb7881",
   "metadata": {},
   "outputs": [],
   "source": []
  },
  {
   "cell_type": "code",
   "execution_count": null,
   "id": "9ba566fb-0794-4396-9343-352e3919375c",
   "metadata": {},
   "outputs": [],
   "source": []
  },
  {
   "cell_type": "code",
   "execution_count": null,
   "id": "17897d41-5c4a-4fce-b790-d42553915cac",
   "metadata": {},
   "outputs": [],
   "source": []
  },
  {
   "cell_type": "code",
   "execution_count": null,
   "id": "5ed99d7a-4789-4d92-89a8-00d8c7e8bf41",
   "metadata": {},
   "outputs": [],
   "source": []
  }
 ],
 "metadata": {
  "kernelspec": {
   "display_name": "Python 3 (ipykernel)",
   "language": "python",
   "name": "python3"
  },
  "language_info": {
   "codemirror_mode": {
    "name": "ipython",
    "version": 3
   },
   "file_extension": ".py",
   "mimetype": "text/x-python",
   "name": "python",
   "nbconvert_exporter": "python",
   "pygments_lexer": "ipython3",
   "version": "3.10.13"
  }
 },
 "nbformat": 4,
 "nbformat_minor": 5
}
