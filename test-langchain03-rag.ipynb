{
 "cells": [
  {
   "cell_type": "code",
   "execution_count": 1,
   "id": "9c858ef2-bcd6-4214-bcc5-9b1c7344003b",
   "metadata": {},
   "outputs": [],
   "source": [
    "# https://python.langchain.com/docs/use_cases/question_answering/"
   ]
  },
  {
   "cell_type": "code",
   "execution_count": 1,
   "id": "7db39a17-c664-499c-90d8-233b0fcb98b6",
   "metadata": {},
   "outputs": [
    {
     "name": "stdout",
     "output_type": "stream",
     "text": [
      "Collecting langchain\n",
      "  Downloading langchain-0.0.350-py3-none-any.whl.metadata (13 kB)\n",
      "Collecting openai\n",
      "  Downloading openai-1.3.9-py3-none-any.whl.metadata (17 kB)\n",
      "Collecting chromadb\n",
      "  Downloading chromadb-0.4.19-py3-none-any.whl.metadata (7.3 kB)\n",
      "Collecting langchainhub\n",
      "  Downloading langchainhub-0.1.14-py3-none-any.whl.metadata (478 bytes)\n",
      "Collecting bs4\n",
      "  Downloading bs4-0.0.1.tar.gz (1.1 kB)\n",
      "  Preparing metadata (setup.py) ... \u001b[?25ldone\n",
      "\u001b[?25hRequirement already satisfied: PyYAML>=5.3 in /home/thyun/miniconda3/envs/langchain/lib/python3.11/site-packages (from langchain) (6.0.1)\n",
      "Collecting SQLAlchemy<3,>=1.4 (from langchain)\n",
      "  Downloading SQLAlchemy-2.0.23-cp311-cp311-manylinux_2_17_x86_64.manylinux2014_x86_64.whl.metadata (9.6 kB)\n",
      "Collecting aiohttp<4.0.0,>=3.8.3 (from langchain)\n",
      "  Downloading aiohttp-3.9.1-cp311-cp311-manylinux_2_17_x86_64.manylinux2014_x86_64.whl.metadata (7.4 kB)\n",
      "Collecting dataclasses-json<0.7,>=0.5.7 (from langchain)\n",
      "  Downloading dataclasses_json-0.6.3-py3-none-any.whl.metadata (25 kB)\n",
      "Collecting jsonpatch<2.0,>=1.33 (from langchain)\n",
      "  Downloading jsonpatch-1.33-py2.py3-none-any.whl.metadata (3.0 kB)\n",
      "Collecting langchain-community<0.1,>=0.0.2 (from langchain)\n",
      "  Downloading langchain_community-0.0.3-py3-none-any.whl.metadata (7.0 kB)\n",
      "Collecting langchain-core<0.2,>=0.1 (from langchain)\n",
      "  Downloading langchain_core-0.1.0-py3-none-any.whl.metadata (977 bytes)\n",
      "Collecting langsmith<0.1.0,>=0.0.63 (from langchain)\n",
      "  Downloading langsmith-0.0.70-py3-none-any.whl.metadata (10 kB)\n",
      "Collecting numpy<2,>=1 (from langchain)\n",
      "  Downloading numpy-1.26.2-cp311-cp311-manylinux_2_17_x86_64.manylinux2014_x86_64.whl.metadata (61 kB)\n",
      "\u001b[2K     \u001b[90m━━━━━━━━━━━━━━━━━━━━━━━━━━━━━━━━━━━━━━━━\u001b[0m \u001b[32m61.2/61.2 kB\u001b[0m \u001b[31m6.9 MB/s\u001b[0m eta \u001b[36m0:00:00\u001b[0m\n",
      "\u001b[?25hCollecting pydantic<3,>=1 (from langchain)\n",
      "  Using cached pydantic-2.5.2-py3-none-any.whl.metadata (65 kB)\n",
      "Requirement already satisfied: requests<3,>=2 in /home/thyun/miniconda3/envs/langchain/lib/python3.11/site-packages (from langchain) (2.31.0)\n",
      "Collecting tenacity<9.0.0,>=8.1.0 (from langchain)\n",
      "  Downloading tenacity-8.2.3-py3-none-any.whl.metadata (1.0 kB)\n",
      "Requirement already satisfied: anyio<5,>=3.5.0 in /home/thyun/miniconda3/envs/langchain/lib/python3.11/site-packages (from openai) (4.1.0)\n",
      "Collecting distro<2,>=1.7.0 (from openai)\n",
      "  Downloading distro-1.8.0-py3-none-any.whl (20 kB)\n",
      "Collecting httpx<1,>=0.23.0 (from openai)\n",
      "  Downloading httpx-0.25.2-py3-none-any.whl.metadata (6.9 kB)\n",
      "Requirement already satisfied: sniffio in /home/thyun/miniconda3/envs/langchain/lib/python3.11/site-packages (from openai) (1.3.0)\n",
      "Collecting tqdm>4 (from openai)\n",
      "  Using cached tqdm-4.66.1-py3-none-any.whl.metadata (57 kB)\n",
      "Collecting typing-extensions<5,>=4.5 (from openai)\n",
      "  Downloading typing_extensions-4.9.0-py3-none-any.whl.metadata (3.0 kB)\n",
      "Collecting chroma-hnswlib==0.7.3 (from chromadb)\n",
      "  Downloading chroma_hnswlib-0.7.3-cp311-cp311-manylinux_2_17_x86_64.manylinux2014_x86_64.whl.metadata (252 bytes)\n",
      "Collecting fastapi>=0.95.2 (from chromadb)\n",
      "  Downloading fastapi-0.105.0-py3-none-any.whl.metadata (24 kB)\n",
      "Collecting uvicorn>=0.18.3 (from uvicorn[standard]>=0.18.3->chromadb)\n",
      "  Downloading uvicorn-0.24.0.post1-py3-none-any.whl.metadata (6.4 kB)\n",
      "Collecting posthog>=2.4.0 (from chromadb)\n",
      "  Downloading posthog-3.1.0-py2.py3-none-any.whl.metadata (2.0 kB)\n",
      "Collecting pulsar-client>=3.1.0 (from chromadb)\n",
      "  Downloading pulsar_client-3.3.0-cp311-cp311-manylinux_2_17_x86_64.manylinux2014_x86_64.whl.metadata (1.0 kB)\n",
      "Collecting onnxruntime>=1.14.1 (from chromadb)\n",
      "  Downloading onnxruntime-1.16.3-cp311-cp311-manylinux_2_17_x86_64.manylinux2014_x86_64.whl.metadata (4.3 kB)\n",
      "Collecting opentelemetry-api>=1.2.0 (from chromadb)\n",
      "  Downloading opentelemetry_api-1.21.0-py3-none-any.whl.metadata (1.4 kB)\n",
      "Collecting opentelemetry-exporter-otlp-proto-grpc>=1.2.0 (from chromadb)\n",
      "  Downloading opentelemetry_exporter_otlp_proto_grpc-1.21.0-py3-none-any.whl.metadata (2.4 kB)\n",
      "Collecting opentelemetry-instrumentation-fastapi>=0.41b0 (from chromadb)\n",
      "  Downloading opentelemetry_instrumentation_fastapi-0.42b0-py3-none-any.whl.metadata (2.3 kB)\n",
      "Collecting opentelemetry-sdk>=1.2.0 (from chromadb)\n",
      "  Downloading opentelemetry_sdk-1.21.0-py3-none-any.whl.metadata (1.5 kB)\n",
      "Collecting tokenizers>=0.13.2 (from chromadb)\n",
      "  Downloading tokenizers-0.15.0-cp311-cp311-manylinux_2_17_x86_64.manylinux2014_x86_64.whl.metadata (6.7 kB)\n",
      "Collecting pypika>=0.48.9 (from chromadb)\n",
      "  Downloading PyPika-0.48.9.tar.gz (67 kB)\n",
      "\u001b[2K     \u001b[90m━━━━━━━━━━━━━━━━━━━━━━━━━━━━━━━━━━━━━━━━\u001b[0m \u001b[32m67.3/67.3 kB\u001b[0m \u001b[31m9.1 MB/s\u001b[0m eta \u001b[36m0:00:00\u001b[0m\n",
      "\u001b[?25h  Installing build dependencies ... \u001b[?25ldone\n",
      "\u001b[?25h  Getting requirements to build wheel ... \u001b[?25ldone\n",
      "\u001b[?25h  Preparing metadata (pyproject.toml) ... \u001b[?25ldone\n",
      "\u001b[?25hRequirement already satisfied: overrides>=7.3.1 in /home/thyun/miniconda3/envs/langchain/lib/python3.11/site-packages (from chromadb) (7.4.0)\n",
      "Collecting importlib-resources (from chromadb)\n",
      "  Downloading importlib_resources-6.1.1-py3-none-any.whl.metadata (4.1 kB)\n",
      "Collecting grpcio>=1.58.0 (from chromadb)\n",
      "  Downloading grpcio-1.60.0-cp311-cp311-manylinux_2_17_x86_64.manylinux2014_x86_64.whl.metadata (4.0 kB)\n",
      "Collecting bcrypt>=4.0.1 (from chromadb)\n",
      "  Downloading bcrypt-4.1.1-cp37-abi3-manylinux_2_28_x86_64.whl.metadata (9.2 kB)\n",
      "Collecting typer>=0.9.0 (from chromadb)\n",
      "  Using cached typer-0.9.0-py3-none-any.whl (45 kB)\n",
      "Collecting kubernetes>=28.1.0 (from chromadb)\n",
      "  Downloading kubernetes-28.1.0-py2.py3-none-any.whl.metadata (1.5 kB)\n",
      "Collecting mmh3>=4.0.1 (from chromadb)\n",
      "  Downloading mmh3-4.0.1-cp311-cp311-manylinux_2_5_x86_64.manylinux1_x86_64.manylinux_2_17_x86_64.manylinux2014_x86_64.whl.metadata (13 kB)\n",
      "Collecting types-requests<3.0.0.0,>=2.31.0.2 (from langchainhub)\n",
      "  Downloading types_requests-2.31.0.10-py3-none-any.whl.metadata (1.8 kB)\n",
      "Requirement already satisfied: beautifulsoup4 in /home/thyun/miniconda3/envs/langchain/lib/python3.11/site-packages (from bs4) (4.12.2)\n",
      "Requirement already satisfied: attrs>=17.3.0 in /home/thyun/miniconda3/envs/langchain/lib/python3.11/site-packages (from aiohttp<4.0.0,>=3.8.3->langchain) (23.1.0)\n",
      "Collecting multidict<7.0,>=4.5 (from aiohttp<4.0.0,>=3.8.3->langchain)\n",
      "  Downloading multidict-6.0.4-cp311-cp311-manylinux_2_17_x86_64.manylinux2014_x86_64.whl (117 kB)\n",
      "\u001b[2K     \u001b[90m━━━━━━━━━━━━━━━━━━━━━━━━━━━━━━━━━━━━━━\u001b[0m \u001b[32m117.4/117.4 kB\u001b[0m \u001b[31m16.1 MB/s\u001b[0m eta \u001b[36m0:00:00\u001b[0m\n",
      "\u001b[?25hCollecting yarl<2.0,>=1.0 (from aiohttp<4.0.0,>=3.8.3->langchain)\n",
      "  Downloading yarl-1.9.4-cp311-cp311-manylinux_2_17_x86_64.manylinux2014_x86_64.whl.metadata (31 kB)\n",
      "Collecting frozenlist>=1.1.1 (from aiohttp<4.0.0,>=3.8.3->langchain)\n",
      "  Downloading frozenlist-1.4.0-cp311-cp311-manylinux_2_5_x86_64.manylinux1_x86_64.manylinux_2_17_x86_64.manylinux2014_x86_64.whl.metadata (5.2 kB)\n",
      "Collecting aiosignal>=1.1.2 (from aiohttp<4.0.0,>=3.8.3->langchain)\n",
      "  Using cached aiosignal-1.3.1-py3-none-any.whl (7.6 kB)\n",
      "Requirement already satisfied: idna>=2.8 in /home/thyun/miniconda3/envs/langchain/lib/python3.11/site-packages (from anyio<5,>=3.5.0->openai) (3.6)\n",
      "Collecting marshmallow<4.0.0,>=3.18.0 (from dataclasses-json<0.7,>=0.5.7->langchain)\n",
      "  Downloading marshmallow-3.20.1-py3-none-any.whl.metadata (7.8 kB)\n",
      "Collecting typing-inspect<1,>=0.4.0 (from dataclasses-json<0.7,>=0.5.7->langchain)\n",
      "  Downloading typing_inspect-0.9.0-py3-none-any.whl.metadata (1.5 kB)\n",
      "Collecting anyio<5,>=3.5.0 (from openai)\n",
      "  Downloading anyio-3.7.1-py3-none-any.whl.metadata (4.7 kB)\n",
      "Collecting starlette<0.28.0,>=0.27.0 (from fastapi>=0.95.2->chromadb)\n",
      "  Downloading starlette-0.27.0-py3-none-any.whl.metadata (5.8 kB)\n",
      "Requirement already satisfied: certifi in /home/thyun/miniconda3/envs/langchain/lib/python3.11/site-packages (from httpx<1,>=0.23.0->openai) (2023.11.17)\n",
      "Collecting httpcore==1.* (from httpx<1,>=0.23.0->openai)\n",
      "  Downloading httpcore-1.0.2-py3-none-any.whl.metadata (20 kB)\n",
      "Collecting h11<0.15,>=0.13 (from httpcore==1.*->httpx<1,>=0.23.0->openai)\n",
      "  Downloading h11-0.14.0-py3-none-any.whl (58 kB)\n",
      "\u001b[2K     \u001b[90m━━━━━━━━━━━━━━━━━━━━━━━━━━━━━━━━━━━━━━━━\u001b[0m \u001b[32m58.3/58.3 kB\u001b[0m \u001b[31m7.8 MB/s\u001b[0m eta \u001b[36m0:00:00\u001b[0m\n",
      "\u001b[?25hRequirement already satisfied: jsonpointer>=1.9 in /home/thyun/miniconda3/envs/langchain/lib/python3.11/site-packages (from jsonpatch<2.0,>=1.33->langchain) (2.4)\n",
      "Requirement already satisfied: six>=1.9.0 in /home/thyun/miniconda3/envs/langchain/lib/python3.11/site-packages (from kubernetes>=28.1.0->chromadb) (1.16.0)\n",
      "Requirement already satisfied: python-dateutil>=2.5.3 in /home/thyun/miniconda3/envs/langchain/lib/python3.11/site-packages (from kubernetes>=28.1.0->chromadb) (2.8.2)\n",
      "Collecting google-auth>=1.0.1 (from kubernetes>=28.1.0->chromadb)\n",
      "  Downloading google_auth-2.25.2-py2.py3-none-any.whl.metadata (4.7 kB)\n",
      "Requirement already satisfied: websocket-client!=0.40.0,!=0.41.*,!=0.42.*,>=0.32.0 in /home/thyun/miniconda3/envs/langchain/lib/python3.11/site-packages (from kubernetes>=28.1.0->chromadb) (1.7.0)\n",
      "Collecting requests-oauthlib (from kubernetes>=28.1.0->chromadb)\n",
      "  Downloading requests_oauthlib-1.3.1-py2.py3-none-any.whl (23 kB)\n",
      "Collecting oauthlib>=3.2.2 (from kubernetes>=28.1.0->chromadb)\n",
      "  Downloading oauthlib-3.2.2-py3-none-any.whl (151 kB)\n",
      "\u001b[2K     \u001b[90m━━━━━━━━━━━━━━━━━━━━━━━━━━━━━━━━━━━━━━\u001b[0m \u001b[32m151.7/151.7 kB\u001b[0m \u001b[31m21.1 MB/s\u001b[0m eta \u001b[36m0:00:00\u001b[0m\n",
      "\u001b[?25hCollecting urllib3<2.0,>=1.24.2 (from kubernetes>=28.1.0->chromadb)\n",
      "  Downloading urllib3-1.26.18-py2.py3-none-any.whl.metadata (48 kB)\n",
      "\u001b[2K     \u001b[90m━━━━━━━━━━━━━━━━━━━━━━━━━━━━━━━━━━━━━━━━\u001b[0m \u001b[32m48.9/48.9 kB\u001b[0m \u001b[31m6.1 MB/s\u001b[0m eta \u001b[36m0:00:00\u001b[0m\n",
      "\u001b[?25hRequirement already satisfied: packaging<24.0,>=23.2 in /home/thyun/miniconda3/envs/langchain/lib/python3.11/site-packages (from langchain-core<0.2,>=0.1->langchain) (23.2)\n",
      "Collecting coloredlogs (from onnxruntime>=1.14.1->chromadb)\n",
      "  Using cached coloredlogs-15.0.1-py2.py3-none-any.whl (46 kB)\n",
      "Collecting flatbuffers (from onnxruntime>=1.14.1->chromadb)\n",
      "  Using cached flatbuffers-23.5.26-py2.py3-none-any.whl.metadata (850 bytes)\n",
      "Collecting protobuf (from onnxruntime>=1.14.1->chromadb)\n",
      "  Using cached protobuf-4.25.1-cp37-abi3-manylinux2014_x86_64.whl.metadata (541 bytes)\n",
      "Collecting sympy (from onnxruntime>=1.14.1->chromadb)\n",
      "  Using cached sympy-1.12-py3-none-any.whl (5.7 MB)\n",
      "Collecting deprecated>=1.2.6 (from opentelemetry-api>=1.2.0->chromadb)\n",
      "  Downloading Deprecated-1.2.14-py2.py3-none-any.whl.metadata (5.4 kB)\n",
      "Collecting importlib-metadata<7.0,>=6.0 (from opentelemetry-api>=1.2.0->chromadb)\n",
      "  Downloading importlib_metadata-6.11.0-py3-none-any.whl.metadata (4.9 kB)\n",
      "Collecting backoff<3.0.0,>=1.10.0 (from opentelemetry-exporter-otlp-proto-grpc>=1.2.0->chromadb)\n",
      "  Downloading backoff-2.2.1-py3-none-any.whl (15 kB)\n",
      "Collecting googleapis-common-protos~=1.52 (from opentelemetry-exporter-otlp-proto-grpc>=1.2.0->chromadb)\n",
      "  Downloading googleapis_common_protos-1.62.0-py2.py3-none-any.whl.metadata (1.5 kB)\n",
      "Collecting opentelemetry-exporter-otlp-proto-common==1.21.0 (from opentelemetry-exporter-otlp-proto-grpc>=1.2.0->chromadb)\n",
      "  Downloading opentelemetry_exporter_otlp_proto_common-1.21.0-py3-none-any.whl.metadata (1.8 kB)\n",
      "Collecting opentelemetry-proto==1.21.0 (from opentelemetry-exporter-otlp-proto-grpc>=1.2.0->chromadb)\n",
      "  Downloading opentelemetry_proto-1.21.0-py3-none-any.whl.metadata (2.3 kB)\n",
      "Collecting opentelemetry-instrumentation-asgi==0.42b0 (from opentelemetry-instrumentation-fastapi>=0.41b0->chromadb)\n",
      "  Downloading opentelemetry_instrumentation_asgi-0.42b0-py3-none-any.whl.metadata (2.1 kB)\n",
      "Collecting opentelemetry-instrumentation==0.42b0 (from opentelemetry-instrumentation-fastapi>=0.41b0->chromadb)\n",
      "  Downloading opentelemetry_instrumentation-0.42b0-py3-none-any.whl.metadata (5.9 kB)\n",
      "Collecting opentelemetry-semantic-conventions==0.42b0 (from opentelemetry-instrumentation-fastapi>=0.41b0->chromadb)\n",
      "  Downloading opentelemetry_semantic_conventions-0.42b0-py3-none-any.whl.metadata (2.3 kB)\n",
      "Collecting opentelemetry-util-http==0.42b0 (from opentelemetry-instrumentation-fastapi>=0.41b0->chromadb)\n",
      "  Downloading opentelemetry_util_http-0.42b0-py3-none-any.whl.metadata (2.5 kB)\n",
      "Requirement already satisfied: setuptools>=16.0 in /home/thyun/miniconda3/envs/langchain/lib/python3.11/site-packages (from opentelemetry-instrumentation==0.42b0->opentelemetry-instrumentation-fastapi>=0.41b0->chromadb) (68.2.2)\n",
      "Collecting wrapt<2.0.0,>=1.0.0 (from opentelemetry-instrumentation==0.42b0->opentelemetry-instrumentation-fastapi>=0.41b0->chromadb)\n",
      "  Downloading wrapt-1.16.0-cp311-cp311-manylinux_2_5_x86_64.manylinux1_x86_64.manylinux_2_17_x86_64.manylinux2014_x86_64.whl.metadata (6.6 kB)\n",
      "Collecting asgiref~=3.0 (from opentelemetry-instrumentation-asgi==0.42b0->opentelemetry-instrumentation-fastapi>=0.41b0->chromadb)\n",
      "  Downloading asgiref-3.7.2-py3-none-any.whl.metadata (9.2 kB)\n",
      "Collecting monotonic>=1.5 (from posthog>=2.4.0->chromadb)\n",
      "  Downloading monotonic-1.6-py2.py3-none-any.whl (8.2 kB)\n",
      "Collecting annotated-types>=0.4.0 (from pydantic<3,>=1->langchain)\n",
      "  Using cached annotated_types-0.6.0-py3-none-any.whl.metadata (12 kB)\n",
      "Collecting pydantic-core==2.14.5 (from pydantic<3,>=1->langchain)\n",
      "  Downloading pydantic_core-2.14.5-cp311-cp311-manylinux_2_17_x86_64.manylinux2014_x86_64.whl.metadata (6.5 kB)\n",
      "Requirement already satisfied: charset-normalizer<4,>=2 in /home/thyun/miniconda3/envs/langchain/lib/python3.11/site-packages (from requests<3,>=2->langchain) (3.3.2)\n",
      "Collecting greenlet!=0.4.17 (from SQLAlchemy<3,>=1.4->langchain)\n",
      "  Downloading greenlet-3.0.2-cp311-cp311-manylinux_2_24_x86_64.manylinux_2_28_x86_64.whl.metadata (3.7 kB)\n",
      "Collecting huggingface_hub<1.0,>=0.16.4 (from tokenizers>=0.13.2->chromadb)\n",
      "  Using cached huggingface_hub-0.19.4-py3-none-any.whl.metadata (14 kB)\n",
      "Collecting click<9.0.0,>=7.1.1 (from typer>=0.9.0->chromadb)\n",
      "  Using cached click-8.1.7-py3-none-any.whl.metadata (3.0 kB)\n",
      "INFO: pip is looking at multiple versions of types-requests to determine which version is compatible with other requirements. This could take a while.\n",
      "Collecting types-requests<3.0.0.0,>=2.31.0.2 (from langchainhub)\n",
      "  Downloading types_requests-2.31.0.9-py3-none-any.whl.metadata (1.8 kB)\n",
      "  Downloading types_requests-2.31.0.8-py3-none-any.whl.metadata (1.6 kB)\n",
      "  Downloading types_requests-2.31.0.7-py3-none-any.whl.metadata (1.4 kB)\n",
      "  Downloading types_requests-2.31.0.6-py3-none-any.whl.metadata (1.4 kB)\n",
      "Collecting types-urllib3 (from types-requests<3.0.0.0,>=2.31.0.2->langchainhub)\n",
      "  Downloading types_urllib3-1.26.25.14-py3-none-any.whl.metadata (1.7 kB)\n",
      "Collecting httptools>=0.5.0 (from uvicorn[standard]>=0.18.3->chromadb)\n",
      "  Downloading httptools-0.6.1-cp311-cp311-manylinux_2_5_x86_64.manylinux1_x86_64.manylinux_2_17_x86_64.manylinux2014_x86_64.whl.metadata (3.6 kB)\n",
      "Collecting python-dotenv>=0.13 (from uvicorn[standard]>=0.18.3->chromadb)\n",
      "  Downloading python_dotenv-1.0.0-py3-none-any.whl (19 kB)\n",
      "Collecting uvloop!=0.15.0,!=0.15.1,>=0.14.0 (from uvicorn[standard]>=0.18.3->chromadb)\n",
      "  Downloading uvloop-0.19.0-cp311-cp311-manylinux_2_17_x86_64.manylinux2014_x86_64.whl.metadata (4.9 kB)\n",
      "Collecting watchfiles>=0.13 (from uvicorn[standard]>=0.18.3->chromadb)\n",
      "  Downloading watchfiles-0.21.0-cp311-cp311-manylinux_2_17_x86_64.manylinux2014_x86_64.whl.metadata (4.9 kB)\n",
      "Collecting websockets>=10.4 (from uvicorn[standard]>=0.18.3->chromadb)\n",
      "  Downloading websockets-12.0-cp311-cp311-manylinux_2_5_x86_64.manylinux1_x86_64.manylinux_2_17_x86_64.manylinux2014_x86_64.whl.metadata (6.6 kB)\n",
      "Requirement already satisfied: soupsieve>1.2 in /home/thyun/miniconda3/envs/langchain/lib/python3.11/site-packages (from beautifulsoup4->bs4) (2.5)\n",
      "Collecting cachetools<6.0,>=2.0.0 (from google-auth>=1.0.1->kubernetes>=28.1.0->chromadb)\n",
      "  Downloading cachetools-5.3.2-py3-none-any.whl.metadata (5.2 kB)\n",
      "Collecting pyasn1-modules>=0.2.1 (from google-auth>=1.0.1->kubernetes>=28.1.0->chromadb)\n",
      "  Downloading pyasn1_modules-0.3.0-py2.py3-none-any.whl (181 kB)\n",
      "\u001b[2K     \u001b[90m━━━━━━━━━━━━━━━━━━━━━━━━━━━━━━━━━━━━━━\u001b[0m \u001b[32m181.3/181.3 kB\u001b[0m \u001b[31m17.4 MB/s\u001b[0m eta \u001b[36m0:00:00\u001b[0m\n",
      "\u001b[?25hCollecting rsa<5,>=3.1.4 (from google-auth>=1.0.1->kubernetes>=28.1.0->chromadb)\n",
      "  Downloading rsa-4.9-py3-none-any.whl (34 kB)\n",
      "Collecting filelock (from huggingface_hub<1.0,>=0.16.4->tokenizers>=0.13.2->chromadb)\n",
      "  Using cached filelock-3.13.1-py3-none-any.whl.metadata (2.8 kB)\n",
      "Collecting fsspec>=2023.5.0 (from huggingface_hub<1.0,>=0.16.4->tokenizers>=0.13.2->chromadb)\n",
      "  Downloading fsspec-2023.12.2-py3-none-any.whl.metadata (6.8 kB)\n",
      "Collecting zipp>=0.5 (from importlib-metadata<7.0,>=6.0->opentelemetry-api>=1.2.0->chromadb)\n",
      "  Downloading zipp-3.17.0-py3-none-any.whl.metadata (3.7 kB)\n",
      "Collecting mypy-extensions>=0.3.0 (from typing-inspect<1,>=0.4.0->dataclasses-json<0.7,>=0.5.7->langchain)\n",
      "  Downloading mypy_extensions-1.0.0-py3-none-any.whl (4.7 kB)\n",
      "Collecting humanfriendly>=9.1 (from coloredlogs->onnxruntime>=1.14.1->chromadb)\n",
      "  Using cached humanfriendly-10.0-py2.py3-none-any.whl (86 kB)\n",
      "Collecting mpmath>=0.19 (from sympy->onnxruntime>=1.14.1->chromadb)\n",
      "  Using cached mpmath-1.3.0-py3-none-any.whl (536 kB)\n",
      "Collecting pyasn1<0.6.0,>=0.4.6 (from pyasn1-modules>=0.2.1->google-auth>=1.0.1->kubernetes>=28.1.0->chromadb)\n",
      "  Downloading pyasn1-0.5.1-py2.py3-none-any.whl.metadata (8.6 kB)\n",
      "Downloading langchain-0.0.350-py3-none-any.whl (809 kB)\n",
      "\u001b[2K   \u001b[90m━━━━━━━━━━━━━━━━━━━━━━━━━━━━━━━━━━━━━━━━\u001b[0m \u001b[32m809.1/809.1 kB\u001b[0m \u001b[31m54.4 MB/s\u001b[0m eta \u001b[36m0:00:00\u001b[0m\n",
      "\u001b[?25hDownloading openai-1.3.9-py3-none-any.whl (221 kB)\n",
      "\u001b[2K   \u001b[90m━━━━━━━━━━━━━━━━━━━━━━━━━━━━━━━━━━━━━━━━\u001b[0m \u001b[32m221.4/221.4 kB\u001b[0m \u001b[31m27.7 MB/s\u001b[0m eta \u001b[36m0:00:00\u001b[0m\n",
      "\u001b[?25hDownloading chromadb-0.4.19-py3-none-any.whl (505 kB)\n",
      "\u001b[2K   \u001b[90m━━━━━━━━━━━━━━━━━━━━━━━━━━━━━━━━━━━━━━━━\u001b[0m \u001b[32m506.0/506.0 kB\u001b[0m \u001b[31m46.7 MB/s\u001b[0m eta \u001b[36m0:00:00\u001b[0m\n",
      "\u001b[?25hDownloading chroma_hnswlib-0.7.3-cp311-cp311-manylinux_2_17_x86_64.manylinux2014_x86_64.whl (2.4 MB)\n",
      "\u001b[2K   \u001b[90m━━━━━━━━━━━━━━━━━━━━━━━━━━━━━━━━━━━━━━━━\u001b[0m \u001b[32m2.4/2.4 MB\u001b[0m \u001b[31m73.9 MB/s\u001b[0m eta \u001b[36m0:00:00\u001b[0m\n",
      "\u001b[?25hDownloading langchainhub-0.1.14-py3-none-any.whl (3.4 kB)\n",
      "Downloading aiohttp-3.9.1-cp311-cp311-manylinux_2_17_x86_64.manylinux2014_x86_64.whl (1.3 MB)\n",
      "\u001b[2K   \u001b[90m━━━━━━━━━━━━━━━━━━━━━━━━━━━━━━━━━━━━━━━━\u001b[0m \u001b[32m1.3/1.3 MB\u001b[0m \u001b[31m62.3 MB/s\u001b[0m eta \u001b[36m0:00:00\u001b[0m\n",
      "\u001b[?25hDownloading bcrypt-4.1.1-cp37-abi3-manylinux_2_28_x86_64.whl (699 kB)\n",
      "\u001b[2K   \u001b[90m━━━━━━━━━━━━━━━━━━━━━━━━━━━━━━━━━━━━━━━━\u001b[0m \u001b[32m699.4/699.4 kB\u001b[0m \u001b[31m54.1 MB/s\u001b[0m eta \u001b[36m0:00:00\u001b[0m\n",
      "\u001b[?25hDownloading dataclasses_json-0.6.3-py3-none-any.whl (28 kB)\n",
      "Downloading fastapi-0.105.0-py3-none-any.whl (93 kB)\n",
      "\u001b[2K   \u001b[90m━━━━━━━━━━━━━━━━━━━━━━━━━━━━━━━━━━━━━━━━\u001b[0m \u001b[32m93.1/93.1 kB\u001b[0m \u001b[31m13.0 MB/s\u001b[0m eta \u001b[36m0:00:00\u001b[0m\n",
      "\u001b[?25hDownloading anyio-3.7.1-py3-none-any.whl (80 kB)\n",
      "\u001b[2K   \u001b[90m━━━━━━━━━━━━━━━━━━━━━━━━━━━━━━━━━━━━━━━━\u001b[0m \u001b[32m80.9/80.9 kB\u001b[0m \u001b[31m11.2 MB/s\u001b[0m eta \u001b[36m0:00:00\u001b[0m\n",
      "\u001b[?25hDownloading grpcio-1.60.0-cp311-cp311-manylinux_2_17_x86_64.manylinux2014_x86_64.whl (5.4 MB)\n",
      "\u001b[2K   \u001b[90m━━━━━━━━━━━━━━━━━━━━━━━━━━━━━━━━━━━━━━━━\u001b[0m \u001b[32m5.4/5.4 MB\u001b[0m \u001b[31m75.2 MB/s\u001b[0m eta \u001b[36m0:00:00\u001b[0m00:01\u001b[0m00:01\u001b[0m\n",
      "\u001b[?25hDownloading httpx-0.25.2-py3-none-any.whl (74 kB)\n",
      "\u001b[2K   \u001b[90m━━━━━━━━━━━━━━━━━━━━━━━━━━━━━━━━━━━━━━━━\u001b[0m \u001b[32m75.0/75.0 kB\u001b[0m \u001b[31m9.9 MB/s\u001b[0m eta \u001b[36m0:00:00\u001b[0m\n",
      "\u001b[?25hDownloading httpcore-1.0.2-py3-none-any.whl (76 kB)\n",
      "\u001b[2K   \u001b[90m━━━━━━━━━━━━━━━━━━━━━━━━━━━━━━━━━━━━━━━━\u001b[0m \u001b[32m76.9/76.9 kB\u001b[0m \u001b[31m10.6 MB/s\u001b[0m eta \u001b[36m0:00:00\u001b[0m\n",
      "\u001b[?25hDownloading jsonpatch-1.33-py2.py3-none-any.whl (12 kB)\n",
      "Downloading kubernetes-28.1.0-py2.py3-none-any.whl (1.6 MB)\n",
      "\u001b[2K   \u001b[90m━━━━━━━━━━━━━━━━━━━━━━━━━━━━━━━━━━━━━━━━\u001b[0m \u001b[32m1.6/1.6 MB\u001b[0m \u001b[31m68.7 MB/s\u001b[0m eta \u001b[36m0:00:00\u001b[0m\n",
      "\u001b[?25hDownloading langchain_community-0.0.3-py3-none-any.whl (1.5 MB)\n",
      "\u001b[2K   \u001b[90m━━━━━━━━━━━━━━━━━━━━━━━━━━━━━━━━━━━━━━━━\u001b[0m \u001b[32m1.5/1.5 MB\u001b[0m \u001b[31m67.2 MB/s\u001b[0m eta \u001b[36m0:00:00\u001b[0m\n",
      "\u001b[?25hDownloading langchain_core-0.1.0-py3-none-any.whl (189 kB)\n",
      "\u001b[2K   \u001b[90m━━━━━━━━━━━━━━━━━━━━━━━━━━━━━━━━━━━━━━━━\u001b[0m \u001b[32m189.1/189.1 kB\u001b[0m \u001b[31m25.3 MB/s\u001b[0m eta \u001b[36m0:00:00\u001b[0m\n",
      "\u001b[?25hDownloading langsmith-0.0.70-py3-none-any.whl (45 kB)\n",
      "\u001b[2K   \u001b[90m━━━━━━━━━━━━━━━━━━━━━━━━━━━━━━━━━━━━━━━━\u001b[0m \u001b[32m46.0/46.0 kB\u001b[0m \u001b[31m5.8 MB/s\u001b[0m eta \u001b[36m0:00:00\u001b[0m\n",
      "\u001b[?25hDownloading mmh3-4.0.1-cp311-cp311-manylinux_2_5_x86_64.manylinux1_x86_64.manylinux_2_17_x86_64.manylinux2014_x86_64.whl (72 kB)\n",
      "\u001b[2K   \u001b[90m━━━━━━━━━━━━━━━━━━━━━━━━━━━━━━━━━━━━━━━━\u001b[0m \u001b[32m72.7/72.7 kB\u001b[0m \u001b[31m10.0 MB/s\u001b[0m eta \u001b[36m0:00:00\u001b[0m\n",
      "\u001b[?25hDownloading numpy-1.26.2-cp311-cp311-manylinux_2_17_x86_64.manylinux2014_x86_64.whl (18.2 MB)\n",
      "\u001b[2K   \u001b[90m━━━━━━━━━━━━━━━━━━━━━━━━━━━━━━━━━━━━━━━━\u001b[0m \u001b[32m18.2/18.2 MB\u001b[0m \u001b[31m71.2 MB/s\u001b[0m eta \u001b[36m0:00:00\u001b[0m00:01\u001b[0m00:01\u001b[0m\n",
      "\u001b[?25hDownloading onnxruntime-1.16.3-cp311-cp311-manylinux_2_17_x86_64.manylinux2014_x86_64.whl (6.4 MB)\n",
      "\u001b[2K   \u001b[90m━━━━━━━━━━━━━━━━━━━━━━━━━━━━━━━━━━━━━━━━\u001b[0m \u001b[32m6.4/6.4 MB\u001b[0m \u001b[31m38.4 MB/s\u001b[0m eta \u001b[36m0:00:00\u001b[0ma \u001b[36m0:00:01\u001b[0m\n",
      "\u001b[?25hDownloading opentelemetry_api-1.21.0-py3-none-any.whl (57 kB)\n",
      "\u001b[2K   \u001b[90m━━━━━━━━━━━━━━━━━━━━━━━━━━━━━━━━━━━━━━━━\u001b[0m \u001b[32m57.9/57.9 kB\u001b[0m \u001b[31m7.4 MB/s\u001b[0m eta \u001b[36m0:00:00\u001b[0m\n",
      "\u001b[?25hDownloading opentelemetry_exporter_otlp_proto_grpc-1.21.0-py3-none-any.whl (18 kB)\n",
      "Downloading opentelemetry_exporter_otlp_proto_common-1.21.0-py3-none-any.whl (17 kB)\n",
      "Downloading opentelemetry_proto-1.21.0-py3-none-any.whl (50 kB)\n",
      "\u001b[2K   \u001b[90m━━━━━━━━━━━━━━━━━━━━━━━━━━━━━━━━━━━━━━━━\u001b[0m \u001b[32m50.8/50.8 kB\u001b[0m \u001b[31m6.6 MB/s\u001b[0m eta \u001b[36m0:00:00\u001b[0m\n",
      "\u001b[?25hDownloading opentelemetry_instrumentation_fastapi-0.42b0-py3-none-any.whl (11 kB)\n",
      "Downloading opentelemetry_instrumentation-0.42b0-py3-none-any.whl (25 kB)\n",
      "Downloading opentelemetry_instrumentation_asgi-0.42b0-py3-none-any.whl (13 kB)\n",
      "Downloading opentelemetry_semantic_conventions-0.42b0-py3-none-any.whl (36 kB)\n",
      "Downloading opentelemetry_util_http-0.42b0-py3-none-any.whl (6.9 kB)\n",
      "Downloading opentelemetry_sdk-1.21.0-py3-none-any.whl (105 kB)\n",
      "\u001b[2K   \u001b[90m━━━━━━━━━━━━━━━━━━━━━━━━━━━━━━━━━━━━━━━━\u001b[0m \u001b[32m105.3/105.3 kB\u001b[0m \u001b[31m14.7 MB/s\u001b[0m eta \u001b[36m0:00:00\u001b[0m\n",
      "\u001b[?25hDownloading posthog-3.1.0-py2.py3-none-any.whl (37 kB)\n",
      "Downloading pulsar_client-3.3.0-cp311-cp311-manylinux_2_17_x86_64.manylinux2014_x86_64.whl (5.4 MB)\n",
      "\u001b[2K   \u001b[90m━━━━━━━━━━━━━━━━━━━━━━━━━━━━━━━━━━━━━━━━\u001b[0m \u001b[32m5.4/5.4 MB\u001b[0m \u001b[31m77.8 MB/s\u001b[0m eta \u001b[36m0:00:00\u001b[0m00:01\u001b[0m00:01\u001b[0m\n",
      "\u001b[?25hUsing cached pydantic-2.5.2-py3-none-any.whl (381 kB)\n",
      "Downloading pydantic_core-2.14.5-cp311-cp311-manylinux_2_17_x86_64.manylinux2014_x86_64.whl (2.1 MB)\n",
      "\u001b[2K   \u001b[90m━━━━━━━━━━━━━━━━━━━━━━━━━━━━━━━━━━━━━━━━\u001b[0m \u001b[32m2.1/2.1 MB\u001b[0m \u001b[31m65.5 MB/s\u001b[0m eta \u001b[36m0:00:00\u001b[0m\n",
      "\u001b[?25hDownloading SQLAlchemy-2.0.23-cp311-cp311-manylinux_2_17_x86_64.manylinux2014_x86_64.whl (3.2 MB)\n",
      "\u001b[2K   \u001b[90m━━━━━━━━━━━━━━━━━━━━━━━━━━━━━━━━━━━━━━━━\u001b[0m \u001b[32m3.2/3.2 MB\u001b[0m \u001b[31m75.5 MB/s\u001b[0m eta \u001b[36m0:00:00\u001b[0m00:01\u001b[0m\n",
      "\u001b[?25hDownloading tenacity-8.2.3-py3-none-any.whl (24 kB)\n",
      "Downloading tokenizers-0.15.0-cp311-cp311-manylinux_2_17_x86_64.manylinux2014_x86_64.whl (3.8 MB)\n",
      "\u001b[2K   \u001b[90m━━━━━━━━━━━━━━━━━━━━━━━━━━━━━━━━━━━━━━━━\u001b[0m \u001b[32m3.8/3.8 MB\u001b[0m \u001b[31m76.2 MB/s\u001b[0m eta \u001b[36m0:00:00\u001b[0ma \u001b[36m0:00:01\u001b[0m\n",
      "\u001b[?25hUsing cached tqdm-4.66.1-py3-none-any.whl (78 kB)\n",
      "Downloading types_requests-2.31.0.6-py3-none-any.whl (14 kB)\n",
      "Downloading typing_extensions-4.9.0-py3-none-any.whl (32 kB)\n",
      "Downloading uvicorn-0.24.0.post1-py3-none-any.whl (59 kB)\n",
      "\u001b[2K   \u001b[90m━━━━━━━━━━━━━━━━━━━━━━━━━━━━━━━━━━━━━━━━\u001b[0m \u001b[32m59.7/59.7 kB\u001b[0m \u001b[31m7.9 MB/s\u001b[0m eta \u001b[36m0:00:00\u001b[0m\n",
      "\u001b[?25hDownloading importlib_resources-6.1.1-py3-none-any.whl (33 kB)\n",
      "Using cached annotated_types-0.6.0-py3-none-any.whl (12 kB)\n",
      "Using cached click-8.1.7-py3-none-any.whl (97 kB)\n",
      "Downloading Deprecated-1.2.14-py2.py3-none-any.whl (9.6 kB)\n",
      "Downloading frozenlist-1.4.0-cp311-cp311-manylinux_2_5_x86_64.manylinux1_x86_64.manylinux_2_17_x86_64.manylinux2014_x86_64.whl (250 kB)\n",
      "\u001b[2K   \u001b[90m━━━━━━━━━━━━━━━━━━━━━━━━━━━━━━━━━━━━━━━━\u001b[0m \u001b[32m250.5/250.5 kB\u001b[0m \u001b[31m30.5 MB/s\u001b[0m eta \u001b[36m0:00:00\u001b[0m\n",
      "\u001b[?25hDownloading google_auth-2.25.2-py2.py3-none-any.whl (184 kB)\n",
      "\u001b[2K   \u001b[90m━━━━━━━━━━━━━━━━━━━━━━━━━━━━━━━━━━━━━━━━\u001b[0m \u001b[32m184.2/184.2 kB\u001b[0m \u001b[31m26.4 MB/s\u001b[0m eta \u001b[36m0:00:00\u001b[0m\n",
      "\u001b[?25hDownloading googleapis_common_protos-1.62.0-py2.py3-none-any.whl (228 kB)\n",
      "\u001b[2K   \u001b[90m━━━━━━━━━━━━━━━━━━━━━━━━━━━━━━━━━━━━━━━━\u001b[0m \u001b[32m228.7/228.7 kB\u001b[0m \u001b[31m29.4 MB/s\u001b[0m eta \u001b[36m0:00:00\u001b[0m\n",
      "\u001b[?25hDownloading greenlet-3.0.2-cp311-cp311-manylinux_2_24_x86_64.manylinux_2_28_x86_64.whl (616 kB)\n",
      "\u001b[2K   \u001b[90m━━━━━━━━━━━━━━━━━━━━━━━━━━━━━━━━━━━━━━━━\u001b[0m \u001b[32m616.9/616.9 kB\u001b[0m \u001b[31m48.5 MB/s\u001b[0m eta \u001b[36m0:00:00\u001b[0m\n",
      "\u001b[?25hDownloading httptools-0.6.1-cp311-cp311-manylinux_2_5_x86_64.manylinux1_x86_64.manylinux_2_17_x86_64.manylinux2014_x86_64.whl (318 kB)\n",
      "\u001b[2K   \u001b[90m━━━━━━━━━━━━━━━━━━━━━━━━━━━━━━━━━━━━━━━━\u001b[0m \u001b[32m318.5/318.5 kB\u001b[0m \u001b[31m36.1 MB/s\u001b[0m eta \u001b[36m0:00:00\u001b[0m\n",
      "\u001b[?25hUsing cached huggingface_hub-0.19.4-py3-none-any.whl (311 kB)\n",
      "Downloading importlib_metadata-6.11.0-py3-none-any.whl (23 kB)\n",
      "Downloading marshmallow-3.20.1-py3-none-any.whl (49 kB)\n",
      "\u001b[2K   \u001b[90m━━━━━━━━━━━━━━━━━━━━━━━━━━━━━━━━━━━━━━━━\u001b[0m \u001b[32m49.4/49.4 kB\u001b[0m \u001b[31m6.4 MB/s\u001b[0m eta \u001b[36m0:00:00\u001b[0m\n",
      "\u001b[?25hUsing cached protobuf-4.25.1-cp37-abi3-manylinux2014_x86_64.whl (294 kB)\n",
      "Downloading starlette-0.27.0-py3-none-any.whl (66 kB)\n",
      "\u001b[2K   \u001b[90m━━━━━━━━━━━━━━━━━━━━━━━━━━━━━━━━━━━━━━━━\u001b[0m \u001b[32m67.0/67.0 kB\u001b[0m \u001b[31m8.9 MB/s\u001b[0m eta \u001b[36m0:00:00\u001b[0m\n",
      "\u001b[?25hDownloading typing_inspect-0.9.0-py3-none-any.whl (8.8 kB)\n",
      "Downloading urllib3-1.26.18-py2.py3-none-any.whl (143 kB)\n",
      "\u001b[2K   \u001b[90m━━━━━━━━━━━━━━━━━━━━━━━━━━━━━━━━━━━━━━━━\u001b[0m \u001b[32m143.8/143.8 kB\u001b[0m \u001b[31m20.2 MB/s\u001b[0m eta \u001b[36m0:00:00\u001b[0m\n",
      "\u001b[?25hDownloading uvloop-0.19.0-cp311-cp311-manylinux_2_17_x86_64.manylinux2014_x86_64.whl (3.5 MB)\n",
      "\u001b[2K   \u001b[90m━━━━━━━━━━━━━━━━━━━━━━━━━━━━━━━━━━━━━━━━\u001b[0m \u001b[32m3.5/3.5 MB\u001b[0m \u001b[31m74.8 MB/s\u001b[0m eta \u001b[36m0:00:00\u001b[0ma \u001b[36m0:00:01\u001b[0m\n",
      "\u001b[?25hDownloading watchfiles-0.21.0-cp311-cp311-manylinux_2_17_x86_64.manylinux2014_x86_64.whl (1.3 MB)\n",
      "\u001b[2K   \u001b[90m━━━━━━━━━━━━━━━━━━━━━━━━━━━━━━━━━━━━━━━━\u001b[0m \u001b[32m1.3/1.3 MB\u001b[0m \u001b[31m65.5 MB/s\u001b[0m eta \u001b[36m0:00:00\u001b[0m\n",
      "\u001b[?25hDownloading websockets-12.0-cp311-cp311-manylinux_2_5_x86_64.manylinux1_x86_64.manylinux_2_17_x86_64.manylinux2014_x86_64.whl (130 kB)\n",
      "\u001b[2K   \u001b[90m━━━━━━━━━━━━━━━━━━━━━━━━━━━━━━━━━━━━━━━━\u001b[0m \u001b[32m130.9/130.9 kB\u001b[0m \u001b[31m17.7 MB/s\u001b[0m eta \u001b[36m0:00:00\u001b[0m\n",
      "\u001b[?25hDownloading yarl-1.9.4-cp311-cp311-manylinux_2_17_x86_64.manylinux2014_x86_64.whl (328 kB)\n",
      "\u001b[2K   \u001b[90m━━━━━━━━━━━━━━━━━━━━━━━━━━━━━━━━━━━━━━━━\u001b[0m \u001b[32m328.1/328.1 kB\u001b[0m \u001b[31m34.8 MB/s\u001b[0m eta \u001b[36m0:00:00\u001b[0m\n",
      "\u001b[?25hUsing cached flatbuffers-23.5.26-py2.py3-none-any.whl (26 kB)\n",
      "Downloading types_urllib3-1.26.25.14-py3-none-any.whl (15 kB)\n",
      "Downloading asgiref-3.7.2-py3-none-any.whl (24 kB)\n",
      "Downloading cachetools-5.3.2-py3-none-any.whl (9.3 kB)\n",
      "Downloading fsspec-2023.12.2-py3-none-any.whl (168 kB)\n",
      "\u001b[2K   \u001b[90m━━━━━━━━━━━━━━━━━━━━━━━━━━━━━━━━━━━━━━━━\u001b[0m \u001b[32m169.0/169.0 kB\u001b[0m \u001b[31m22.8 MB/s\u001b[0m eta \u001b[36m0:00:00\u001b[0m\n",
      "\u001b[?25hDownloading wrapt-1.16.0-cp311-cp311-manylinux_2_5_x86_64.manylinux1_x86_64.manylinux_2_17_x86_64.manylinux2014_x86_64.whl (80 kB)\n",
      "\u001b[2K   \u001b[90m━━━━━━━━━━━━━━━━━━━━━━━━━━━━━━━━━━━━━━━━\u001b[0m \u001b[32m80.7/80.7 kB\u001b[0m \u001b[31m10.6 MB/s\u001b[0m eta \u001b[36m0:00:00\u001b[0m\n",
      "\u001b[?25hDownloading zipp-3.17.0-py3-none-any.whl (7.4 kB)\n",
      "Using cached filelock-3.13.1-py3-none-any.whl (11 kB)\n",
      "Downloading pyasn1-0.5.1-py2.py3-none-any.whl (84 kB)\n",
      "\u001b[2K   \u001b[90m━━━━━━━━━━━━━━━━━━━━━━━━━━━━━━━━━━━━━━━━\u001b[0m \u001b[32m84.9/84.9 kB\u001b[0m \u001b[31m11.8 MB/s\u001b[0m eta \u001b[36m0:00:00\u001b[0m\n",
      "\u001b[?25hBuilding wheels for collected packages: bs4, pypika\n",
      "  Building wheel for bs4 (setup.py) ... \u001b[?25ldone\n",
      "\u001b[?25h  Created wheel for bs4: filename=bs4-0.0.1-py3-none-any.whl size=1256 sha256=9b069af6fcdb0a8f472bc2167fcc4f55b4046f79eaa5b1f0cde2edaaf3a39b11\n",
      "  Stored in directory: /home/thyun/.cache/pip/wheels/d4/c8/5b/b5be9c20e5e4503d04a6eac8a3cd5c2393505c29f02bea0960\n",
      "  Building wheel for pypika (pyproject.toml) ... \u001b[?25ldone\n",
      "\u001b[?25h  Created wheel for pypika: filename=PyPika-0.48.9-py2.py3-none-any.whl size=53723 sha256=6650a33d65fd6f2ad4575e7e6c690a5ec0df32d56327b8ee71fb3afaf9a49f74\n",
      "  Stored in directory: /home/thyun/.cache/pip/wheels/a3/01/bd/4c40ceb9d5354160cb186dcc153360f4ab7eb23e2b24daf96d\n",
      "Successfully built bs4 pypika\n",
      "Installing collected packages: types-urllib3, pypika, mpmath, monotonic, mmh3, flatbuffers, zipp, wrapt, websockets, uvloop, urllib3, typing-extensions, types-requests, tqdm, tenacity, sympy, python-dotenv, pyasn1, pulsar-client, protobuf, opentelemetry-util-http, opentelemetry-semantic-conventions, oauthlib, numpy, mypy-extensions, multidict, marshmallow, jsonpatch, importlib-resources, humanfriendly, httptools, h11, grpcio, greenlet, fsspec, frozenlist, filelock, distro, click, cachetools, bcrypt, backoff, asgiref, anyio, annotated-types, yarl, watchfiles, uvicorn, typing-inspect, typer, starlette, SQLAlchemy, rsa, pydantic-core, pyasn1-modules, opentelemetry-proto, importlib-metadata, httpcore, googleapis-common-protos, deprecated, coloredlogs, chroma-hnswlib, bs4, aiosignal, requests-oauthlib, pydantic, posthog, opentelemetry-exporter-otlp-proto-common, opentelemetry-api, onnxruntime, langchainhub, huggingface_hub, httpx, google-auth, dataclasses-json, aiohttp, tokenizers, opentelemetry-sdk, opentelemetry-instrumentation, openai, langsmith, kubernetes, fastapi, opentelemetry-instrumentation-asgi, opentelemetry-exporter-otlp-proto-grpc, langchain-core, opentelemetry-instrumentation-fastapi, langchain-community, langchain, chromadb\n",
      "  Attempting uninstall: urllib3\n",
      "    Found existing installation: urllib3 2.1.0\n",
      "    Uninstalling urllib3-2.1.0:\n",
      "      Successfully uninstalled urllib3-2.1.0\n",
      "  Attempting uninstall: anyio\n",
      "    Found existing installation: anyio 4.1.0\n",
      "    Uninstalling anyio-4.1.0:\n",
      "      Successfully uninstalled anyio-4.1.0\n",
      "Successfully installed SQLAlchemy-2.0.23 aiohttp-3.9.1 aiosignal-1.3.1 annotated-types-0.6.0 anyio-3.7.1 asgiref-3.7.2 backoff-2.2.1 bcrypt-4.1.1 bs4-0.0.1 cachetools-5.3.2 chroma-hnswlib-0.7.3 chromadb-0.4.19 click-8.1.7 coloredlogs-15.0.1 dataclasses-json-0.6.3 deprecated-1.2.14 distro-1.8.0 fastapi-0.105.0 filelock-3.13.1 flatbuffers-23.5.26 frozenlist-1.4.0 fsspec-2023.12.2 google-auth-2.25.2 googleapis-common-protos-1.62.0 greenlet-3.0.2 grpcio-1.60.0 h11-0.14.0 httpcore-1.0.2 httptools-0.6.1 httpx-0.25.2 huggingface_hub-0.19.4 humanfriendly-10.0 importlib-metadata-6.11.0 importlib-resources-6.1.1 jsonpatch-1.33 kubernetes-28.1.0 langchain-0.0.350 langchain-community-0.0.3 langchain-core-0.1.0 langchainhub-0.1.14 langsmith-0.0.70 marshmallow-3.20.1 mmh3-4.0.1 monotonic-1.6 mpmath-1.3.0 multidict-6.0.4 mypy-extensions-1.0.0 numpy-1.26.2 oauthlib-3.2.2 onnxruntime-1.16.3 openai-1.3.9 opentelemetry-api-1.21.0 opentelemetry-exporter-otlp-proto-common-1.21.0 opentelemetry-exporter-otlp-proto-grpc-1.21.0 opentelemetry-instrumentation-0.42b0 opentelemetry-instrumentation-asgi-0.42b0 opentelemetry-instrumentation-fastapi-0.42b0 opentelemetry-proto-1.21.0 opentelemetry-sdk-1.21.0 opentelemetry-semantic-conventions-0.42b0 opentelemetry-util-http-0.42b0 posthog-3.1.0 protobuf-4.25.1 pulsar-client-3.3.0 pyasn1-0.5.1 pyasn1-modules-0.3.0 pydantic-2.5.2 pydantic-core-2.14.5 pypika-0.48.9 python-dotenv-1.0.0 requests-oauthlib-1.3.1 rsa-4.9 starlette-0.27.0 sympy-1.12 tenacity-8.2.3 tokenizers-0.15.0 tqdm-4.66.1 typer-0.9.0 types-requests-2.31.0.6 types-urllib3-1.26.25.14 typing-extensions-4.9.0 typing-inspect-0.9.0 urllib3-1.26.18 uvicorn-0.24.0.post1 uvloop-0.19.0 watchfiles-0.21.0 websockets-12.0 wrapt-1.16.0 yarl-1.9.4 zipp-3.17.0\n",
      "Note: you may need to restart the kernel to use updated packages.\n"
     ]
    }
   ],
   "source": [
    "pip install -U langchain openai chromadb langchainhub bs4"
   ]
  },
  {
   "cell_type": "code",
   "execution_count": 8,
   "id": "dd7741f6-9cfb-4030-8327-729d685c36b7",
   "metadata": {},
   "outputs": [
    {
     "name": "stdout",
     "output_type": "stream",
     "text": [
      "Collecting sentence-transformers\n",
      "  Downloading sentence-transformers-2.2.2.tar.gz (85 kB)\n",
      "\u001b[2K     \u001b[90m━━━━━━━━━━━━━━━━━━━━━━━━━━━━━━━━━━━━━━━━\u001b[0m \u001b[32m86.0/86.0 kB\u001b[0m \u001b[31m5.3 MB/s\u001b[0m eta \u001b[36m0:00:00\u001b[0m\n",
      "\u001b[?25h  Preparing metadata (setup.py) ... \u001b[?25ldone\n",
      "\u001b[?25hCollecting transformers<5.0.0,>=4.6.0 (from sentence-transformers)\n",
      "  Downloading transformers-4.36.1-py3-none-any.whl.metadata (126 kB)\n",
      "\u001b[2K     \u001b[90m━━━━━━━━━━━━━━━━━━━━━━━━━━━━━━━━━━━━━━\u001b[0m \u001b[32m126.8/126.8 kB\u001b[0m \u001b[31m15.0 MB/s\u001b[0m eta \u001b[36m0:00:00\u001b[0m\n",
      "\u001b[?25hRequirement already satisfied: tqdm in /home/thyun/miniconda3/envs/langchain/lib/python3.11/site-packages (from sentence-transformers) (4.66.1)\n",
      "Collecting torch>=1.6.0 (from sentence-transformers)\n",
      "  Downloading torch-2.1.1-cp311-cp311-manylinux1_x86_64.whl.metadata (25 kB)\n",
      "Collecting torchvision (from sentence-transformers)\n",
      "  Downloading torchvision-0.16.1-cp311-cp311-manylinux1_x86_64.whl.metadata (6.6 kB)\n",
      "Requirement already satisfied: numpy in /home/thyun/miniconda3/envs/langchain/lib/python3.11/site-packages (from sentence-transformers) (1.26.2)\n",
      "Collecting scikit-learn (from sentence-transformers)\n",
      "  Downloading scikit_learn-1.3.2-cp311-cp311-manylinux_2_17_x86_64.manylinux2014_x86_64.whl.metadata (11 kB)\n",
      "Collecting scipy (from sentence-transformers)\n",
      "  Downloading scipy-1.11.4-cp311-cp311-manylinux_2_17_x86_64.manylinux2014_x86_64.whl.metadata (60 kB)\n",
      "\u001b[2K     \u001b[90m━━━━━━━━━━━━━━━━━━━━━━━━━━━━━━━━━━━━━━━━\u001b[0m \u001b[32m60.4/60.4 kB\u001b[0m \u001b[31m7.9 MB/s\u001b[0m eta \u001b[36m0:00:00\u001b[0m\n",
      "\u001b[?25hCollecting nltk (from sentence-transformers)\n",
      "  Using cached nltk-3.8.1-py3-none-any.whl (1.5 MB)\n",
      "Collecting sentencepiece (from sentence-transformers)\n",
      "  Downloading sentencepiece-0.1.99-cp311-cp311-manylinux_2_17_x86_64.manylinux2014_x86_64.whl (1.3 MB)\n",
      "\u001b[2K     \u001b[90m━━━━━━━━━━━━━━━━━━━━━━━━━━━━━━━━━━━━━━━━\u001b[0m \u001b[32m1.3/1.3 MB\u001b[0m \u001b[31m39.2 MB/s\u001b[0m eta \u001b[36m0:00:00\u001b[0m\n",
      "\u001b[?25hRequirement already satisfied: huggingface-hub>=0.4.0 in /home/thyun/miniconda3/envs/langchain/lib/python3.11/site-packages (from sentence-transformers) (0.19.4)\n",
      "Requirement already satisfied: filelock in /home/thyun/miniconda3/envs/langchain/lib/python3.11/site-packages (from huggingface-hub>=0.4.0->sentence-transformers) (3.13.1)\n",
      "Requirement already satisfied: fsspec>=2023.5.0 in /home/thyun/miniconda3/envs/langchain/lib/python3.11/site-packages (from huggingface-hub>=0.4.0->sentence-transformers) (2023.12.2)\n",
      "Requirement already satisfied: requests in /home/thyun/miniconda3/envs/langchain/lib/python3.11/site-packages (from huggingface-hub>=0.4.0->sentence-transformers) (2.31.0)\n",
      "Requirement already satisfied: pyyaml>=5.1 in /home/thyun/miniconda3/envs/langchain/lib/python3.11/site-packages (from huggingface-hub>=0.4.0->sentence-transformers) (6.0.1)\n",
      "Requirement already satisfied: typing-extensions>=3.7.4.3 in /home/thyun/miniconda3/envs/langchain/lib/python3.11/site-packages (from huggingface-hub>=0.4.0->sentence-transformers) (4.9.0)\n",
      "Requirement already satisfied: packaging>=20.9 in /home/thyun/miniconda3/envs/langchain/lib/python3.11/site-packages (from huggingface-hub>=0.4.0->sentence-transformers) (23.2)\n",
      "Requirement already satisfied: sympy in /home/thyun/miniconda3/envs/langchain/lib/python3.11/site-packages (from torch>=1.6.0->sentence-transformers) (1.12)\n",
      "Collecting networkx (from torch>=1.6.0->sentence-transformers)\n",
      "  Using cached networkx-3.2.1-py3-none-any.whl.metadata (5.2 kB)\n",
      "Requirement already satisfied: jinja2 in /home/thyun/miniconda3/envs/langchain/lib/python3.11/site-packages (from torch>=1.6.0->sentence-transformers) (3.1.2)\n",
      "Collecting nvidia-cuda-nvrtc-cu12==12.1.105 (from torch>=1.6.0->sentence-transformers)\n",
      "  Using cached nvidia_cuda_nvrtc_cu12-12.1.105-py3-none-manylinux1_x86_64.whl (23.7 MB)\n",
      "Collecting nvidia-cuda-runtime-cu12==12.1.105 (from torch>=1.6.0->sentence-transformers)\n",
      "  Using cached nvidia_cuda_runtime_cu12-12.1.105-py3-none-manylinux1_x86_64.whl (823 kB)\n",
      "Collecting nvidia-cuda-cupti-cu12==12.1.105 (from torch>=1.6.0->sentence-transformers)\n",
      "  Using cached nvidia_cuda_cupti_cu12-12.1.105-py3-none-manylinux1_x86_64.whl (14.1 MB)\n",
      "Collecting nvidia-cudnn-cu12==8.9.2.26 (from torch>=1.6.0->sentence-transformers)\n",
      "  Using cached nvidia_cudnn_cu12-8.9.2.26-py3-none-manylinux1_x86_64.whl.metadata (1.6 kB)\n",
      "Collecting nvidia-cublas-cu12==12.1.3.1 (from torch>=1.6.0->sentence-transformers)\n",
      "  Using cached nvidia_cublas_cu12-12.1.3.1-py3-none-manylinux1_x86_64.whl (410.6 MB)\n",
      "Collecting nvidia-cufft-cu12==11.0.2.54 (from torch>=1.6.0->sentence-transformers)\n",
      "  Using cached nvidia_cufft_cu12-11.0.2.54-py3-none-manylinux1_x86_64.whl (121.6 MB)\n",
      "Collecting nvidia-curand-cu12==10.3.2.106 (from torch>=1.6.0->sentence-transformers)\n",
      "  Using cached nvidia_curand_cu12-10.3.2.106-py3-none-manylinux1_x86_64.whl (56.5 MB)\n",
      "Collecting nvidia-cusolver-cu12==11.4.5.107 (from torch>=1.6.0->sentence-transformers)\n",
      "  Using cached nvidia_cusolver_cu12-11.4.5.107-py3-none-manylinux1_x86_64.whl (124.2 MB)\n",
      "Collecting nvidia-cusparse-cu12==12.1.0.106 (from torch>=1.6.0->sentence-transformers)\n",
      "  Using cached nvidia_cusparse_cu12-12.1.0.106-py3-none-manylinux1_x86_64.whl (196.0 MB)\n",
      "Collecting nvidia-nccl-cu12==2.18.1 (from torch>=1.6.0->sentence-transformers)\n",
      "  Using cached nvidia_nccl_cu12-2.18.1-py3-none-manylinux1_x86_64.whl (209.8 MB)\n",
      "Collecting nvidia-nvtx-cu12==12.1.105 (from torch>=1.6.0->sentence-transformers)\n",
      "  Using cached nvidia_nvtx_cu12-12.1.105-py3-none-manylinux1_x86_64.whl (99 kB)\n",
      "Collecting triton==2.1.0 (from torch>=1.6.0->sentence-transformers)\n",
      "  Downloading triton-2.1.0-0-cp311-cp311-manylinux2014_x86_64.manylinux_2_17_x86_64.whl.metadata (1.3 kB)\n",
      "Collecting nvidia-nvjitlink-cu12 (from nvidia-cusolver-cu12==11.4.5.107->torch>=1.6.0->sentence-transformers)\n",
      "  Using cached nvidia_nvjitlink_cu12-12.3.101-py3-none-manylinux1_x86_64.whl.metadata (1.5 kB)\n",
      "Collecting regex!=2019.12.17 (from transformers<5.0.0,>=4.6.0->sentence-transformers)\n",
      "  Downloading regex-2023.10.3-cp311-cp311-manylinux_2_17_x86_64.manylinux2014_x86_64.whl.metadata (40 kB)\n",
      "\u001b[2K     \u001b[90m━━━━━━━━━━━━━━━━━━━━━━━━━━━━━━━━━━━━━━━━\u001b[0m \u001b[32m40.9/40.9 kB\u001b[0m \u001b[31m4.3 MB/s\u001b[0m eta \u001b[36m0:00:00\u001b[0m\n",
      "\u001b[?25hRequirement already satisfied: tokenizers<0.19,>=0.14 in /home/thyun/miniconda3/envs/langchain/lib/python3.11/site-packages (from transformers<5.0.0,>=4.6.0->sentence-transformers) (0.15.0)\n",
      "Collecting safetensors>=0.3.1 (from transformers<5.0.0,>=4.6.0->sentence-transformers)\n",
      "  Downloading safetensors-0.4.1-cp311-cp311-manylinux_2_17_x86_64.manylinux2014_x86_64.whl.metadata (3.8 kB)\n",
      "Requirement already satisfied: click in /home/thyun/miniconda3/envs/langchain/lib/python3.11/site-packages (from nltk->sentence-transformers) (8.1.7)\n",
      "Collecting joblib (from nltk->sentence-transformers)\n",
      "  Using cached joblib-1.3.2-py3-none-any.whl.metadata (5.4 kB)\n",
      "Collecting threadpoolctl>=2.0.0 (from scikit-learn->sentence-transformers)\n",
      "  Using cached threadpoolctl-3.2.0-py3-none-any.whl.metadata (10.0 kB)\n",
      "Collecting pillow!=8.3.*,>=5.3.0 (from torchvision->sentence-transformers)\n",
      "  Downloading Pillow-10.1.0-cp311-cp311-manylinux_2_28_x86_64.whl.metadata (9.5 kB)\n",
      "Requirement already satisfied: MarkupSafe>=2.0 in /home/thyun/miniconda3/envs/langchain/lib/python3.11/site-packages (from jinja2->torch>=1.6.0->sentence-transformers) (2.1.3)\n",
      "Requirement already satisfied: charset-normalizer<4,>=2 in /home/thyun/miniconda3/envs/langchain/lib/python3.11/site-packages (from requests->huggingface-hub>=0.4.0->sentence-transformers) (3.3.2)\n",
      "Requirement already satisfied: idna<4,>=2.5 in /home/thyun/miniconda3/envs/langchain/lib/python3.11/site-packages (from requests->huggingface-hub>=0.4.0->sentence-transformers) (3.6)\n",
      "Requirement already satisfied: urllib3<3,>=1.21.1 in /home/thyun/miniconda3/envs/langchain/lib/python3.11/site-packages (from requests->huggingface-hub>=0.4.0->sentence-transformers) (1.26.18)\n",
      "Requirement already satisfied: certifi>=2017.4.17 in /home/thyun/miniconda3/envs/langchain/lib/python3.11/site-packages (from requests->huggingface-hub>=0.4.0->sentence-transformers) (2023.11.17)\n",
      "Requirement already satisfied: mpmath>=0.19 in /home/thyun/miniconda3/envs/langchain/lib/python3.11/site-packages (from sympy->torch>=1.6.0->sentence-transformers) (1.3.0)\n",
      "Downloading torch-2.1.1-cp311-cp311-manylinux1_x86_64.whl (670.2 MB)\n",
      "\u001b[2K   \u001b[90m━━━━━━━━━━━━━━━━━━━━━━━━━━━━━━━━━━━━━━━━\u001b[0m \u001b[32m670.2/670.2 MB\u001b[0m \u001b[31m14.7 MB/s\u001b[0m eta \u001b[36m0:00:00\u001b[0m00:01\u001b[0m00:01\u001b[0m\n",
      "\u001b[?25hUsing cached nvidia_cudnn_cu12-8.9.2.26-py3-none-manylinux1_x86_64.whl (731.7 MB)\n",
      "Downloading triton-2.1.0-0-cp311-cp311-manylinux2014_x86_64.manylinux_2_17_x86_64.whl (89.2 MB)\n",
      "\u001b[2K   \u001b[90m━━━━━━━━━━━━━━━━━━━━━━━━━━━━━━━━━━━━━━━━\u001b[0m \u001b[32m89.2/89.2 MB\u001b[0m \u001b[31m43.3 MB/s\u001b[0m eta \u001b[36m0:00:00\u001b[0m00:01\u001b[0m00:01\u001b[0m\n",
      "\u001b[?25hDownloading transformers-4.36.1-py3-none-any.whl (8.3 MB)\n",
      "\u001b[2K   \u001b[90m━━━━━━━━━━━━━━━━━━━━━━━━━━━━━━━━━━━━━━━━\u001b[0m \u001b[32m8.3/8.3 MB\u001b[0m \u001b[31m67.8 MB/s\u001b[0m eta \u001b[36m0:00:00\u001b[0ma \u001b[36m0:00:01\u001b[0m\n",
      "\u001b[?25hDownloading scikit_learn-1.3.2-cp311-cp311-manylinux_2_17_x86_64.manylinux2014_x86_64.whl (10.9 MB)\n",
      "\u001b[2K   \u001b[90m━━━━━━━━━━━━━━━━━━━━━━━━━━━━━━━━━━━━━━━━\u001b[0m \u001b[32m10.9/10.9 MB\u001b[0m \u001b[31m75.8 MB/s\u001b[0m eta \u001b[36m0:00:00\u001b[0m00:01\u001b[0m0:01\u001b[0m\n",
      "\u001b[?25hDownloading scipy-1.11.4-cp311-cp311-manylinux_2_17_x86_64.manylinux2014_x86_64.whl (36.4 MB)\n",
      "\u001b[2K   \u001b[90m━━━━━━━━━━━━━━━━━━━━━━━━━━━━━━━━━━━━━━━━\u001b[0m \u001b[32m36.4/36.4 MB\u001b[0m \u001b[31m63.6 MB/s\u001b[0m eta \u001b[36m0:00:00\u001b[0m00:01\u001b[0m00:01\u001b[0m\n",
      "\u001b[?25hDownloading torchvision-0.16.1-cp311-cp311-manylinux1_x86_64.whl (6.8 MB)\n",
      "\u001b[2K   \u001b[90m━━━━━━━━━━━━━━━━━━━━━━━━━━━━━━━━━━━━━━━━\u001b[0m \u001b[32m6.8/6.8 MB\u001b[0m \u001b[31m79.1 MB/s\u001b[0m eta \u001b[36m0:00:00\u001b[0ma \u001b[36m0:00:01\u001b[0m\n",
      "\u001b[?25hUsing cached joblib-1.3.2-py3-none-any.whl (302 kB)\n",
      "Downloading Pillow-10.1.0-cp311-cp311-manylinux_2_28_x86_64.whl (3.6 MB)\n",
      "\u001b[2K   \u001b[90m━━━━━━━━━━━━━━━━━━━━━━━━━━━━━━━━━━━━━━━━\u001b[0m \u001b[32m3.6/3.6 MB\u001b[0m \u001b[31m73.0 MB/s\u001b[0m eta \u001b[36m0:00:00\u001b[0ma \u001b[36m0:00:01\u001b[0m\n",
      "\u001b[?25hDownloading regex-2023.10.3-cp311-cp311-manylinux_2_17_x86_64.manylinux2014_x86_64.whl (785 kB)\n",
      "\u001b[2K   \u001b[90m━━━━━━━━━━━━━━━━━━━━━━━━━━━━━━━━━━━━━━━━\u001b[0m \u001b[32m785.1/785.1 kB\u001b[0m \u001b[31m56.6 MB/s\u001b[0m eta \u001b[36m0:00:00\u001b[0m\n",
      "\u001b[?25hDownloading safetensors-0.4.1-cp311-cp311-manylinux_2_17_x86_64.manylinux2014_x86_64.whl (1.3 MB)\n",
      "\u001b[2K   \u001b[90m━━━━━━━━━━━━━━━━━━━━━━━━━━━━━━━━━━━━━━━━\u001b[0m \u001b[32m1.3/1.3 MB\u001b[0m \u001b[31m61.0 MB/s\u001b[0m eta \u001b[36m0:00:00\u001b[0m\n",
      "\u001b[?25hUsing cached threadpoolctl-3.2.0-py3-none-any.whl (15 kB)\n",
      "Using cached networkx-3.2.1-py3-none-any.whl (1.6 MB)\n",
      "Using cached nvidia_nvjitlink_cu12-12.3.101-py3-none-manylinux1_x86_64.whl (20.5 MB)\n",
      "Building wheels for collected packages: sentence-transformers\n",
      "  Building wheel for sentence-transformers (setup.py) ... \u001b[?25ldone\n",
      "\u001b[?25h  Created wheel for sentence-transformers: filename=sentence_transformers-2.2.2-py3-none-any.whl size=125923 sha256=8b672ff62a70bef535a11f5996cfec461d23f869d3b15ff776a66f76c215fd09\n",
      "  Stored in directory: /home/thyun/.cache/pip/wheels/ff/27/bf/ffba8b318b02d7f691a57084ee154e26ed24d012b0c7805881\n",
      "Successfully built sentence-transformers\n",
      "Installing collected packages: sentencepiece, triton, threadpoolctl, scipy, safetensors, regex, pillow, nvidia-nvtx-cu12, nvidia-nvjitlink-cu12, nvidia-nccl-cu12, nvidia-curand-cu12, nvidia-cufft-cu12, nvidia-cuda-runtime-cu12, nvidia-cuda-nvrtc-cu12, nvidia-cuda-cupti-cu12, nvidia-cublas-cu12, networkx, joblib, scikit-learn, nvidia-cusparse-cu12, nvidia-cudnn-cu12, nltk, nvidia-cusolver-cu12, transformers, torch, torchvision, sentence-transformers\n",
      "Successfully installed joblib-1.3.2 networkx-3.2.1 nltk-3.8.1 nvidia-cublas-cu12-12.1.3.1 nvidia-cuda-cupti-cu12-12.1.105 nvidia-cuda-nvrtc-cu12-12.1.105 nvidia-cuda-runtime-cu12-12.1.105 nvidia-cudnn-cu12-8.9.2.26 nvidia-cufft-cu12-11.0.2.54 nvidia-curand-cu12-10.3.2.106 nvidia-cusolver-cu12-11.4.5.107 nvidia-cusparse-cu12-12.1.0.106 nvidia-nccl-cu12-2.18.1 nvidia-nvjitlink-cu12-12.3.101 nvidia-nvtx-cu12-12.1.105 pillow-10.1.0 regex-2023.10.3 safetensors-0.4.1 scikit-learn-1.3.2 scipy-1.11.4 sentence-transformers-2.2.2 sentencepiece-0.1.99 threadpoolctl-3.2.0 torch-2.1.1 torchvision-0.16.1 transformers-4.36.1 triton-2.1.0\n"
     ]
    }
   ],
   "source": [
    "!pip install sentence-transformers"
   ]
  },
  {
   "cell_type": "code",
   "execution_count": 20,
   "id": "0a76ef4d-dbb7-42eb-992f-0be60147ecd0",
   "metadata": {},
   "outputs": [],
   "source": [
    "import bs4\n",
    "from langchain import hub\n",
    "from langchain.chat_models import ChatOpenAI\n",
    "from langchain.document_loaders import WebBaseLoader\n",
    "from langchain.embeddings import OpenAIEmbeddings\n",
    "from langchain.embeddings.huggingface import HuggingFaceEmbeddings\n",
    "from langchain.schema import StrOutputParser\n",
    "from langchain.schema.runnable import RunnablePassthrough\n",
    "from langchain.text_splitter import RecursiveCharacterTextSplitter\n",
    "from langchain.vectorstores import Chroma\n",
    "from langchain.prompts import ChatPromptTemplate"
   ]
  },
  {
   "cell_type": "code",
   "execution_count": 2,
   "id": "a88200a6-e27a-4696-8938-ecb5b159899f",
   "metadata": {},
   "outputs": [],
   "source": [
    "#embeddings = OpenAIEmbeddings()\n",
    "embeddings = HuggingFaceEmbeddings(model_name=\"all-MiniLM-L6-v2\")"
   ]
  },
  {
   "cell_type": "code",
   "execution_count": 3,
   "id": "c7b7f68b-b4e3-4cb6-8337-8040c8adef68",
   "metadata": {},
   "outputs": [],
   "source": [
    "loader = WebBaseLoader(\n",
    "    web_paths=(\"https://lilianweng.github.io/posts/2023-06-23-agent/\",),\n",
    "    bs_kwargs=dict(\n",
    "        parse_only=bs4.SoupStrainer(\n",
    "            class_=(\"post-content\", \"post-title\", \"post-header\")\n",
    "        )\n",
    "    ),\n",
    ")\n",
    "docs = loader.load()\n",
    "\n",
    "text_splitter = RecursiveCharacterTextSplitter(chunk_size=1000, chunk_overlap=200)\n",
    "splits = text_splitter.split_documents(docs)"
   ]
  },
  {
   "cell_type": "code",
   "execution_count": 4,
   "id": "5493d076-16d9-425f-ab4f-1b25738de01c",
   "metadata": {},
   "outputs": [],
   "source": [
    "# save to disk\n",
    "#vectorstore = Chroma.from_documents(documents=splits, embedding=embeddings, persist_directory=\"./chroma_db\")\n",
    "\n",
    "# load from disk\n",
    "vectorstore = Chroma(embedding_function=embeddings, persist_directory=\"./chroma_db\")"
   ]
  },
  {
   "cell_type": "code",
   "execution_count": 5,
   "id": "8c19db2e-af00-4336-b06b-6f5568421dd4",
   "metadata": {},
   "outputs": [],
   "source": [
    "retriever = vectorstore.as_retriever()\n",
    "\n",
    "prompt = hub.pull(\"rlm/rag-prompt\")\n",
    "llm = ChatOpenAI(model_name=\"gpt-3.5-turbo-16k\", temperature=0)\n",
    "\n",
    "def format_docs(docs):\n",
    "    return \"\\n\\n\".join(doc.page_content for doc in docs)\n",
    "\n",
    "rag_chain = (\n",
    "    {\"context\": retriever | format_docs, \"question\": RunnablePassthrough()}\n",
    "    | prompt\n",
    "    | llm\n",
    "    | StrOutputParser()\n",
    ")"
   ]
  },
  {
   "cell_type": "code",
   "execution_count": null,
   "id": "fa98a1bd-7e0d-4187-98c3-c309116789d2",
   "metadata": {},
   "outputs": [],
   "source": [
    "rag_chain.invoke(\"What is Task Decomposition?\")"
   ]
  },
  {
   "cell_type": "markdown",
   "id": "14ec0b85-c66a-4ee0-86a8-50a4230395de",
   "metadata": {},
   "source": [
    "## Step 1. Load"
   ]
  },
  {
   "cell_type": "code",
   "execution_count": 8,
   "id": "800957e4-9b1d-4186-b109-4b03e522536f",
   "metadata": {},
   "outputs": [
    {
     "data": {
      "text/plain": [
       "1"
      ]
     },
     "execution_count": 8,
     "metadata": {},
     "output_type": "execute_result"
    }
   ],
   "source": [
    "len(docs)"
   ]
  },
  {
   "cell_type": "code",
   "execution_count": 9,
   "id": "833dafd8-ce72-4ab1-a9db-01abb35c58de",
   "metadata": {},
   "outputs": [
    {
     "data": {
      "text/plain": [
       "42824"
      ]
     },
     "execution_count": 9,
     "metadata": {},
     "output_type": "execute_result"
    }
   ],
   "source": [
    "len(docs[0].page_content)"
   ]
  },
  {
   "cell_type": "code",
   "execution_count": 10,
   "id": "a0a20e27-200d-4c32-b4a2-1586ab2981db",
   "metadata": {},
   "outputs": [
    {
     "name": "stdout",
     "output_type": "stream",
     "text": [
      "\n",
      "\n",
      "      LLM Powered Autonomous Agents\n",
      "    \n",
      "Date: June 23, 2023  |  Estimated Reading Time: 31 min  |  Author: Lilian Weng\n",
      "\n",
      "\n",
      "Building agents with LLM (large language model) as its core controller is a cool concept. Several proof-of-concepts demos, such as AutoGPT, GPT-Engineer and BabyAGI, serve as inspiring examples. The potentiality of LLM extends beyond generating well-written copies, stories, essays and programs; it can be framed as a powerful general problem solver.\n",
      "Agent System Overview#\n",
      "In\n"
     ]
    }
   ],
   "source": [
    "print(docs[0].page_content[:500])"
   ]
  },
  {
   "cell_type": "code",
   "execution_count": 8,
   "id": "f57b34e0-39b2-4d6b-b673-86a9d1e23c8a",
   "metadata": {},
   "outputs": [
    {
     "name": "stdout",
     "output_type": "stream",
     "text": [
      "\n",
      "\n",
      "      LLM Powered Autonomous Agents\n",
      "    \n",
      "Date: June 23, 2023  |  Estimated Reading Time: 31 min  |  Author: Lilian Weng\n",
      "\n",
      "\n",
      "Building agents with LLM (large language model) as its core controller is a cool concept. Several proof-of-concepts demos, such as AutoGPT, GPT-Engineer and BabyAGI, serve as inspiring examples. The potentiality of LLM extends beyond generating well-written copies, stories, essays and programs; it can be framed as a powerful general problem solver.\n",
      "Agent System Overview#\n",
      "In a LLM-powered autonomous agent system, LLM functions as the agent’s brain, complemented by several key components:\n",
      "\n",
      "Planning\n",
      "\n",
      "Subgoal and decomposition: The agent breaks down large tasks into smaller, manageable subgoals, enabling efficient handling of complex tasks.\n",
      "Reflection and refinement: The agent can do self-criticism and self-reflection over past actions, learn from mistakes and refine them for future steps, thereby improving the quality of final results.\n",
      "\n",
      "\n",
      "Memory\n",
      "\n",
      "Short-term memory: I would consider all the in-context learning (See Prompt Engineering) as utilizing short-term memory of the model to learn.\n",
      "Long-term memory: This provides the agent with the capability to retain and recall (infinite) information over extended periods, often by leveraging an external vector store and fast retrieval.\n",
      "\n",
      "\n",
      "Tool use\n",
      "\n",
      "The agent learns to call external APIs for extra information that is missing from the model weights (often hard to change after pre-training), including current information, code execution capability, access to proprietary information sources and more.\n",
      "\n",
      "\n",
      "\n",
      "\n",
      "Fig. 1. Overview of a LLM-powered autonomous agent system.\n",
      "Component One: Planning#\n",
      "A complicated task usually involves many steps. An agent needs to know what they are and plan ahead.\n",
      "Task Decomposition#\n",
      "Chain of thought (CoT; Wei et al. 2022) has become a standard prompting technique for enhancing model performance on complex tasks. The model is instructed to “think step by step” to utilize more test-time computation to decompose hard tasks into smaller and simpler steps. CoT transforms big tasks into multiple manageable tasks and shed lights into an interpretation of the model’s thinking process.\n",
      "Tree of Thoughts (Yao et al. 2023) extends CoT by exploring multiple reasoning possibilities at each step. It first decomposes the problem into multiple thought steps and generates multiple thoughts per step, creating a tree structure. The search process can be BFS (breadth-first search) or DFS (depth-first search) with each state evaluated by a classifier (via a prompt) or majority vote.\n",
      "Task decomposition can be done (1) by LLM with simple prompting like \"Steps for XYZ.\\n1.\", \"What are the subgoals for achieving XYZ?\", (2) by using task-specific instructions; e.g. \"Write a story outline.\" for writing a novel, or (3) with human inputs.\n",
      "Another quite distinct approach, LLM+P (Liu et al. 2023), involves relying on an external classical planner to do long-horizon planning. This approach utilizes the Planning Domain Definition Language (PDDL) as an intermediate interface to describe the planning problem. In this process, LLM (1) translates the problem into “Problem PDDL”, then (2) requests a classical planner to generate a PDDL plan based on an existing “Domain PDDL”, and finally (3) translates the PDDL plan back into natural language. Essentially, the planning step is outsourced to an external tool, assuming the availability of domain-specific PDDL and a suitable planner which is common in certain robotic setups but not in many other domains.\n",
      "Self-Reflection#\n",
      "Self-reflection is a vital aspect that allows autonomous agents to improve iteratively by refining past action decisions and correcting previous mistakes. It plays a crucial role in real-world tasks where trial and error are inevitable.\n",
      "ReAct (Yao et al. 2023) integrates reasoning and acting within LLM by extending the action space to be a combination of task-specific discrete actions and the language space. The former enables LLM to interact with the environment (e.g. use Wikipedia search API), while the latter prompting LLM to generate reasoning traces in natural language.\n",
      "The ReAct prompt template incorporates explicit steps for LLM to think, roughly formatted as:\n",
      "Thought: ...\n",
      "Action: ...\n",
      "Observation: ...\n",
      "... (Repeated many times)\n",
      "\n",
      "Fig. 2.  Examples of reasoning trajectories for knowledge-intensive tasks (e.g. HotpotQA, FEVER) and decision-making tasks (e.g. AlfWorld Env, WebShop). (Image source: Yao et al. 2023).\n",
      "In both experiments on knowledge-intensive tasks and decision-making tasks, ReAct works better than the Act-only baseline where Thought: … step is removed.\n",
      "Reflexion (Shinn & Labash 2023) is a framework to equips agents with dynamic memory and self-reflection capabilities to improve reasoning skills. Reflexion has a standard RL setup, in which the reward model provides a simple binary reward and the action space follows the setup in ReAct where the task-specific action space is augmented with language to enable complex reasoning steps. After each action $a_t$, the agent computes a heuristic $h_t$ and optionally may decide to reset the environment to start a new trial depending on the self-reflection results.\n",
      "\n",
      "Fig. 3. Illustration of the Reflexion framework. (Image source: Shinn & Labash, 2023)\n",
      "The heuristic function determines when the trajectory is inefficient or contains hallucination and should be stopped. Inefficient planning refers to trajectories that take too long without success. Hallucination is defined as encountering a sequence of consecutive identical actions that lead to the same observation in the environment.\n",
      "Self-reflection is created by showing two-shot examples to LLM and each example is a pair of (failed trajectory, ideal reflection for guiding future changes in the plan). Then reflections are added into the agent’s working memory, up to three, to be used as context for querying LLM.\n",
      "\n",
      "Fig. 4. Experiments on AlfWorld Env and HotpotQA. Hallucination is a more common failure than inefficient planning in AlfWorld. (Image source: Shinn & Labash, 2023)\n",
      "Chain of Hindsight (CoH; Liu et al. 2023) encourages the model to improve on its own outputs by explicitly presenting it with a sequence of past outputs, each annotated with feedback. Human feedback data is a collection of $D_h = \\{(x, y_i , r_i , z_i)\\}_{i=1}^n$, where $x$ is the prompt, each $y_i$ is a model completion, $r_i$ is the human rating of $y_i$, and $z_i$ is the corresponding human-provided hindsight feedback. Assume the feedback tuples are ranked by reward, $r_n \\geq r_{n-1} \\geq \\dots \\geq r_1$ The process is supervised fine-tuning where the data is a sequence in the form of $\\tau_h = (x, z_i, y_i, z_j, y_j, \\dots, z_n, y_n)$, where $\\leq i \\leq j \\leq n$. The model is finetuned to only predict $y_n$ where conditioned on the sequence prefix, such that the model can self-reflect to produce better output based on the feedback sequence. The model can optionally receive multiple rounds of instructions with human annotators at test time.\n",
      "To avoid overfitting, CoH adds a regularization term to maximize the log-likelihood of the pre-training dataset. To avoid shortcutting and copying (because there are many common words in feedback sequences), they randomly mask 0% - 5% of past tokens during training.\n",
      "The training dataset in their experiments is a combination of WebGPT comparisons, summarization from human feedback and human preference dataset.\n",
      "\n",
      "Fig. 5. After fine-tuning with CoH, the model can follow instructions to produce outputs with incremental improvement in a sequence. (Image source: Liu et al. 2023)\n",
      "The idea of CoH is to present a history of sequentially improved outputs  in context and train the model to take on the trend to produce better outputs. Algorithm Distillation (AD; Laskin et al. 2023) applies the same idea to cross-episode trajectories in reinforcement learning tasks, where an algorithm is encapsulated in a long history-conditioned policy. Considering that an agent interacts with the environment many times and in each episode the agent gets a little better, AD concatenates this learning history and feeds that into the model. Hence we should expect the next predicted action to lead to better performance than previous trials. The goal is to learn the process of RL instead of training a task-specific policy itself.\n",
      "\n",
      "Fig. 6. Illustration of how Algorithm Distillation (AD) works. (Image source: Laskin et al. 2023).\n",
      "The paper hypothesizes that any algorithm that generates a set of learning histories can be distilled into a neural network by performing behavioral cloning over actions. The history data is generated by a set of source policies, each trained for a specific task. At the training stage, during each RL run, a random task is sampled and a subsequence of multi-episode history is used for training, such that the learned policy is task-agnostic.\n",
      "In reality, the model has limited context window length, so episodes should be short enough to construct multi-episode history. Multi-episodic contexts of 2-4 episodes are necessary to learn a near-optimal in-context RL algorithm. The emergence of in-context RL requires long enough context.\n",
      "In comparison with three baselines, including ED (expert distillation, behavior cloning with expert trajectories instead of learning history), source policy (used for generating trajectories for distillation by UCB), RL^2 (Duan et al. 2017; used as upper bound since it needs online RL), AD demonstrates in-context RL with performance getting close to RL^2 despite only using offline RL and learns much faster than other baselines. When conditioned on partial training history of the source policy, AD also improves much faster than ED baseline.\n",
      "\n",
      "Fig. 7. Comparison of AD, ED, source policy and RL^2 on environments that require memory and exploration. Only binary reward is assigned. The source policies are trained with A3C for \"dark\" environments and DQN for watermaze.(Image source: Laskin et al. 2023)\n",
      "Component Two: Memory#\n",
      "(Big thank you to ChatGPT for helping me draft this section. I’ve learned a lot about the human brain and data structure for fast MIPS in my conversations with ChatGPT.)\n",
      "Types of Memory#\n",
      "Memory can be defined as the processes used to acquire, store, retain, and later retrieve information. There are several types of memory in human brains.\n",
      "\n",
      "\n",
      "Sensory Memory: This is the earliest stage of memory, providing the ability to retain impressions of sensory information (visual, auditory, etc) after the original stimuli have ended. Sensory memory typically only lasts for up to a few seconds. Subcategories include iconic memory (visual), echoic memory (auditory), and haptic memory (touch).\n",
      "\n",
      "\n",
      "Short-Term Memory (STM) or Working Memory: It stores information that we are currently aware of and needed to carry out complex cognitive tasks such as learning and reasoning. Short-term memory is believed to have the capacity of about 7 items (Miller 1956) and lasts for 20-30 seconds.\n",
      "\n",
      "\n",
      "Long-Term Memory (LTM): Long-term memory can store information for a remarkably long time, ranging from a few days to decades, with an essentially unlimited storage capacity. There are two subtypes of LTM:\n",
      "\n",
      "Explicit / declarative memory: This is memory of facts and events, and refers to those memories that can be consciously recalled, including episodic memory (events and experiences) and semantic memory (facts and concepts).\n",
      "Implicit / procedural memory: This type of memory is unconscious and involves skills and routines that are performed automatically, like riding a bike or typing on a keyboard.\n",
      "\n",
      "\n",
      "\n",
      "\n",
      "Fig. 8. Categorization of human memory.\n",
      "We can roughly consider the following mappings:\n",
      "\n",
      "Sensory memory as learning embedding representations for raw inputs, including text, image or other modalities;\n",
      "Short-term memory as in-context learning. It is short and finite, as it is restricted by the finite context window length of Transformer.\n",
      "Long-term memory as the external vector store that the agent can attend to at query time, accessible via fast retrieval.\n",
      "\n",
      "Maximum Inner Product Search (MIPS)#\n",
      "The external memory can alleviate the restriction of finite attention span.  A standard practice is to save the embedding representation of information into a vector store database that can support fast maximum inner-product search (MIPS). To optimize the retrieval speed, the common choice is the approximate nearest neighbors (ANN)​ algorithm to return approximately top k nearest neighbors to trade off a little accuracy lost for a huge speedup.\n",
      "A couple common choices of ANN algorithms for fast MIPS:\n",
      "\n",
      "LSH (Locality-Sensitive Hashing): It introduces a hashing function such that similar input items are mapped to the same buckets with high probability, where the number of buckets is much smaller than the number of inputs.\n",
      "ANNOY (Approximate Nearest Neighbors Oh Yeah): The core data structure are random projection trees, a set of binary trees where each non-leaf node represents a hyperplane splitting the input space into half and each leaf stores one data point. Trees are built independently and at random, so to some extent, it mimics a hashing function. ANNOY search happens in all the trees to iteratively search through the half that is closest to the query and then aggregates the results. The idea is quite related to KD tree but a lot more scalable.\n",
      "HNSW (Hierarchical Navigable Small World): It is inspired by the idea of small world networks where most nodes can be reached by any other nodes within a small number of steps; e.g. “six degrees of separation” feature of social networks. HNSW builds hierarchical layers of these small-world graphs, where the bottom layers contain the actual data points. The layers in the middle create shortcuts to speed up search. When performing a search, HNSW starts from a random node in the top layer and navigates towards the target. When it can’t get any closer, it moves down to the next layer, until it reaches the bottom layer. Each move in the upper layers can potentially cover a large distance in the data space, and each move in the lower layers refines the search quality.\n",
      "FAISS (Facebook AI Similarity Search): It operates on the assumption that in high dimensional space, distances between nodes follow a Gaussian distribution and thus there should exist clustering of data points. FAISS applies vector quantization by partitioning the vector space into clusters and then refining the quantization within clusters. Search first looks for cluster candidates with coarse quantization and then further looks into each cluster with finer quantization.\n",
      "ScaNN (Scalable Nearest Neighbors): The main innovation in ScaNN is anisotropic vector quantization. It quantizes a data point $x_i$ to $\\tilde{x}_i$ such that the inner product $\\langle q, x_i \\rangle$ is as similar to the original distance of $\\angle q, \\tilde{x}_i$ as possible, instead of picking the closet quantization centroid points.\n",
      "\n",
      "\n",
      "Fig. 9. Comparison of MIPS algorithms, measured in recall@10. (Image source: Google Blog, 2020)\n",
      "Check more MIPS algorithms and performance comparison in ann-benchmarks.com.\n",
      "Component Three: Tool Use#\n",
      "Tool use is a remarkable and distinguishing characteristic of human beings. We create, modify and utilize external objects to do things that go beyond our physical and cognitive limits. Equipping LLMs with external tools can significantly extend the model capabilities.\n",
      "\n",
      "Fig. 10. A picture of a sea otter using rock to crack open a seashell, while floating in the water. While some other animals can use tools, the complexity is not comparable with humans. (Image source: Animals using tools)\n",
      "MRKL (Karpas et al. 2022), short for “Modular Reasoning, Knowledge and Language”, is a neuro-symbolic architecture for autonomous agents. A MRKL system is proposed to contain a collection of “expert” modules and the general-purpose LLM works as a router to route inquiries to the best suitable expert module. These modules can be neural (e.g. deep learning models) or symbolic (e.g. math calculator, currency converter, weather API).\n",
      "They did an experiment on fine-tuning LLM to call a calculator, using arithmetic as a test case. Their experiments showed that it was harder to solve verbal math problems than explicitly stated math problems because LLMs (7B Jurassic1-large model) failed to extract the right arguments for the basic arithmetic reliably. The results highlight when the external symbolic tools can work reliably, knowing when to and how to use the tools are crucial, determined by the LLM capability.\n",
      "Both TALM (Tool Augmented Language Models; Parisi et al. 2022) and Toolformer (Schick et al. 2023) fine-tune a LM to learn to use external tool APIs. The dataset is expanded based on whether a newly added API call annotation can improve the quality of model outputs. See more details in the “External APIs” section of Prompt Engineering.\n",
      "ChatGPT Plugins and OpenAI API  function calling are good examples of LLMs augmented with tool use capability working in practice. The collection of tool APIs can be provided by other developers (as in Plugins) or self-defined (as in function calls).\n",
      "HuggingGPT (Shen et al. 2023) is a framework to use ChatGPT as the task planner to select models available in HuggingFace platform according to the model descriptions and summarize the response based on the execution results.\n",
      "\n",
      "Fig. 11. Illustration of how HuggingGPT works. (Image source: Shen et al. 2023)\n",
      "The system comprises of 4 stages:\n",
      "(1) Task planning: LLM works as the brain and parses the user requests into multiple tasks. There are four attributes associated with each task: task type, ID, dependencies, and arguments. They use few-shot examples to guide LLM to do task parsing and planning.\n",
      "Instruction:\n",
      "\n",
      "The AI assistant can parse user input to several tasks: [{\"task\": task, \"id\", task_id, \"dep\": dependency_task_ids, \"args\": {\"text\": text, \"image\": URL, \"audio\": URL, \"video\": URL}}]. The \"dep\" field denotes the id of the previous task which generates a new resource that the current task relies on. A special tag \"-task_id\" refers to the generated text image, audio and video in the dependency task with id as task_id. The task MUST be selected from the following options: {{ Available Task List }}. There is a logical relationship between tasks, please note their order. If the user input can't be parsed, you need to reply empty JSON. Here are several cases for your reference: {{ Demonstrations }}. The chat history is recorded as {{ Chat History }}. From this chat history, you can find the path of the user-mentioned resources for your task planning.\n",
      "\n",
      "(2) Model selection: LLM distributes the tasks to expert models, where the request is framed as a multiple-choice question. LLM is presented with a list of models to choose from. Due to the limited context length, task type based filtration is needed.\n",
      "Instruction:\n",
      "\n",
      "Given the user request and the call command, the AI assistant helps the user to select a suitable model from a list of models to process the user request. The AI assistant merely outputs the model id of the most appropriate model. The output must be in a strict JSON format: \"id\": \"id\", \"reason\": \"your detail reason for the choice\". We have a list of models for you to choose from {{ Candidate Models }}. Please select one model from the list.\n",
      "\n",
      "(3) Task execution: Expert models execute on the specific tasks and log results.\n",
      "Instruction:\n",
      "\n",
      "With the input and the inference results, the AI assistant needs to describe the process and results. The previous stages can be formed as - User Input: {{ User Input }}, Task Planning: {{ Tasks }}, Model Selection: {{ Model Assignment }}, Task Execution: {{ Predictions }}. You must first answer the user's request in a straightforward manner. Then describe the task process and show your analysis and model inference results to the user in the first person. If inference results contain a file path, must tell the user the complete file path.\n",
      "\n",
      "(4) Response generation: LLM receives the execution results and provides summarized results to users.\n",
      "To put HuggingGPT into real world usage, a couple challenges need to solve: (1) Efficiency improvement is needed as both LLM inference rounds and interactions with other models slow down the process; (2) It relies on a long context window to communicate over complicated task content; (3) Stability improvement of LLM outputs and external model services.\n",
      "API-Bank (Li et al. 2023) is a benchmark for evaluating the performance of tool-augmented LLMs. It contains 53 commonly used API tools, a complete tool-augmented LLM workflow, and 264 annotated dialogues that involve 568 API calls. The selection of APIs is quite diverse, including search engines, calculator, calendar queries, smart home control, schedule management, health data management, account authentication workflow and more. Because there are a large number of APIs, LLM first has access to API search engine to find the right API to call and then uses the corresponding documentation to make a call.\n",
      "\n",
      "Fig. 12. Pseudo code of how LLM makes an API call in API-Bank. (Image source: Li et al. 2023)\n",
      "In the API-Bank workflow, LLMs need to make a couple of decisions and at each step we can evaluate how accurate that decision is. Decisions include:\n",
      "\n",
      "Whether an API call is needed.\n",
      "Identify the right API to call: if not good enough, LLMs need to iteratively modify the API inputs (e.g. deciding search keywords for Search Engine API).\n",
      "Response based on the API results: the model can choose to refine and call again if results are not satisfied.\n",
      "\n",
      "This benchmark evaluates the agent’s tool use capabilities at three levels:\n",
      "\n",
      "Level-1 evaluates the ability to call the API. Given an API’s description, the model needs to determine whether to call a given API, call it correctly, and respond properly to API returns.\n",
      "Level-2 examines the ability to retrieve the API. The model needs to search for possible APIs that may solve the user’s requirement and learn how to use them by reading documentation.\n",
      "Level-3 assesses the ability to plan API beyond retrieve and call. Given unclear user requests (e.g. schedule group meetings, book flight/hotel/restaurant for a trip), the model may have to conduct multiple API calls to solve it.\n",
      "\n",
      "Case Studies#\n",
      "Scientific Discovery Agent#\n",
      "ChemCrow (Bran et al. 2023) is a domain-specific example in which LLM is augmented with 13 expert-designed tools to accomplish tasks across organic synthesis, drug discovery, and materials design. The workflow, implemented in LangChain, reflects what was previously described in the ReAct and MRKLs and combines CoT reasoning with tools relevant to the tasks:\n",
      "\n",
      "The LLM is provided with a list of tool names, descriptions of their utility, and details about the expected input/output.\n",
      "It is then instructed to answer a user-given prompt using the tools provided when necessary. The instruction suggests the model to follow the ReAct format - Thought, Action, Action Input, Observation.\n",
      "\n",
      "One interesting observation is that while the LLM-based evaluation concluded that GPT-4 and ChemCrow perform nearly equivalently, human evaluations with experts oriented towards the completion and chemical correctness of the solutions showed that ChemCrow outperforms GPT-4 by a large margin. This indicates a potential problem with using LLM to evaluate its own performance on domains that requires deep expertise. The lack of expertise may cause LLMs not knowing its flaws and thus cannot well judge the correctness of task results.\n",
      "Boiko et al. (2023) also looked into LLM-empowered agents for scientific discovery, to handle autonomous design, planning, and performance of complex scientific experiments. This agent can use tools to browse the Internet, read documentation, execute code, call robotics experimentation APIs and leverage other LLMs.\n",
      "For example, when requested to \"develop a novel anticancer drug\", the model came up with the following reasoning steps:\n",
      "\n",
      "inquired about current trends in anticancer drug discovery;\n",
      "selected a target;\n",
      "requested a scaffold targeting these compounds;\n",
      "Once the compound was identified, the model attempted its synthesis.\n",
      "\n",
      "They also discussed the risks, especially with illicit drugs and bioweapons. They developed a test set containing a list of known chemical weapon agents and asked the agent to synthesize them. 4 out of 11 requests (36%) were accepted to obtain a synthesis solution and the agent attempted to consult documentation to execute the procedure. 7 out of 11 were rejected and among these 7 rejected cases, 5 happened after a Web search while 2 were rejected based on prompt only.\n",
      "Generative Agents Simulation#\n",
      "Generative Agents (Park, et al. 2023) is super fun experiment where 25 virtual characters, each controlled by a LLM-powered agent, are living and interacting in a sandbox environment, inspired by The Sims. Generative agents create believable simulacra of human behavior for interactive applications.\n",
      "The design of generative agents combines LLM with memory, planning and reflection mechanisms to enable agents to behave conditioned on past experience, as well as to interact with other agents.\n",
      "\n",
      "Memory stream: is a long-term memory module (external database) that records a comprehensive list of agents’ experience in natural language.\n",
      "\n",
      "Each element is an observation, an event directly provided by the agent.\n",
      "- Inter-agent communication can trigger new natural language statements.\n",
      "\n",
      "\n",
      "Retrieval model: surfaces the context to inform the agent’s behavior, according to relevance, recency and importance.\n",
      "\n",
      "Recency: recent events have higher scores\n",
      "Importance: distinguish mundane from core memories. Ask LM directly.\n",
      "Relevance: based on how related it is to the current situation / query.\n",
      "\n",
      "\n",
      "Reflection mechanism: synthesizes memories into higher level inferences over time and guides the agent’s future behavior. They are higher-level summaries of past events (<- note that this is a bit different from self-reflection above)\n",
      "\n",
      "Prompt LM with 100 most recent observations and to generate 3 most salient high-level questions given a set of observations/statements. Then ask LM to answer those questions.\n",
      "\n",
      "\n",
      "Planning & Reacting: translate the reflections and the environment information into actions\n",
      "\n",
      "Planning is essentially in order to optimize believability at the moment vs in time.\n",
      "Prompt template: {Intro of an agent X}. Here is X's plan today in broad strokes: 1)\n",
      "Relationships between agents and observations of one agent by another are all taken into consideration for planning and reacting.\n",
      "Environment information is present in a tree structure.\n",
      "\n",
      "\n",
      "\n",
      "\n",
      "Fig. 13. The generative agent architecture. (Image source: Park et al. 2023)\n",
      "This fun simulation results in emergent social behavior, such as information diffusion, relationship memory (e.g. two agents continuing the conversation topic) and coordination of social events (e.g. host a party and invite many others).\n",
      "Proof-of-Concept Examples#\n",
      "AutoGPT has drawn a lot of attention into the possibility of setting up autonomous agents with LLM as the main controller. It has quite a lot of reliability issues given the natural language interface, but nevertheless a cool proof-of-concept demo. A lot of code in AutoGPT is about format parsing.\n",
      "Here is the system message used by AutoGPT, where {{...}} are user inputs:\n",
      "You are {{ai-name}}, {{user-provided AI bot description}}.\n",
      "Your decisions must always be made independently without seeking user assistance. Play to your strengths as an LLM and pursue simple strategies with no legal complications.\n",
      "\n",
      "GOALS:\n",
      "\n",
      "1. {{user-provided goal 1}}\n",
      "2. {{user-provided goal 2}}\n",
      "3. ...\n",
      "4. ...\n",
      "5. ...\n",
      "\n",
      "Constraints:\n",
      "1. ~4000 word limit for short term memory. Your short term memory is short, so immediately save important information to files.\n",
      "2. If you are unsure how you previously did something or want to recall past events, thinking about similar events will help you remember.\n",
      "3. No user assistance\n",
      "4. Exclusively use the commands listed in double quotes e.g. \"command name\"\n",
      "5. Use subprocesses for commands that will not terminate within a few minutes\n",
      "\n",
      "Commands:\n",
      "1. Google Search: \"google\", args: \"input\": \"<search>\"\n",
      "2. Browse Website: \"browse_website\", args: \"url\": \"<url>\", \"question\": \"<what_you_want_to_find_on_website>\"\n",
      "3. Start GPT Agent: \"start_agent\", args: \"name\": \"<name>\", \"task\": \"<short_task_desc>\", \"prompt\": \"<prompt>\"\n",
      "4. Message GPT Agent: \"message_agent\", args: \"key\": \"<key>\", \"message\": \"<message>\"\n",
      "5. List GPT Agents: \"list_agents\", args:\n",
      "6. Delete GPT Agent: \"delete_agent\", args: \"key\": \"<key>\"\n",
      "7. Clone Repository: \"clone_repository\", args: \"repository_url\": \"<url>\", \"clone_path\": \"<directory>\"\n",
      "8. Write to file: \"write_to_file\", args: \"file\": \"<file>\", \"text\": \"<text>\"\n",
      "9. Read file: \"read_file\", args: \"file\": \"<file>\"\n",
      "10. Append to file: \"append_to_file\", args: \"file\": \"<file>\", \"text\": \"<text>\"\n",
      "11. Delete file: \"delete_file\", args: \"file\": \"<file>\"\n",
      "12. Search Files: \"search_files\", args: \"directory\": \"<directory>\"\n",
      "13. Analyze Code: \"analyze_code\", args: \"code\": \"<full_code_string>\"\n",
      "14. Get Improved Code: \"improve_code\", args: \"suggestions\": \"<list_of_suggestions>\", \"code\": \"<full_code_string>\"\n",
      "15. Write Tests: \"write_tests\", args: \"code\": \"<full_code_string>\", \"focus\": \"<list_of_focus_areas>\"\n",
      "16. Execute Python File: \"execute_python_file\", args: \"file\": \"<file>\"\n",
      "17. Generate Image: \"generate_image\", args: \"prompt\": \"<prompt>\"\n",
      "18. Send Tweet: \"send_tweet\", args: \"text\": \"<text>\"\n",
      "19. Do Nothing: \"do_nothing\", args:\n",
      "20. Task Complete (Shutdown): \"task_complete\", args: \"reason\": \"<reason>\"\n",
      "\n",
      "Resources:\n",
      "1. Internet access for searches and information gathering.\n",
      "2. Long Term memory management.\n",
      "3. GPT-3.5 powered Agents for delegation of simple tasks.\n",
      "4. File output.\n",
      "\n",
      "Performance Evaluation:\n",
      "1. Continuously review and analyze your actions to ensure you are performing to the best of your abilities.\n",
      "2. Constructively self-criticize your big-picture behavior constantly.\n",
      "3. Reflect on past decisions and strategies to refine your approach.\n",
      "4. Every command has a cost, so be smart and efficient. Aim to complete tasks in the least number of steps.\n",
      "\n",
      "You should only respond in JSON format as described below\n",
      "Response Format:\n",
      "{\n",
      "    \"thoughts\": {\n",
      "        \"text\": \"thought\",\n",
      "        \"reasoning\": \"reasoning\",\n",
      "        \"plan\": \"- short bulleted\\n- list that conveys\\n- long-term plan\",\n",
      "        \"criticism\": \"constructive self-criticism\",\n",
      "        \"speak\": \"thoughts summary to say to user\"\n",
      "    },\n",
      "    \"command\": {\n",
      "        \"name\": \"command name\",\n",
      "        \"args\": {\n",
      "            \"arg name\": \"value\"\n",
      "        }\n",
      "    }\n",
      "}\n",
      "Ensure the response can be parsed by Python json.loads\n",
      "GPT-Engineer is another project to create a whole repository of code given a task specified in natural language. The GPT-Engineer is instructed to think over a list of smaller components to build and ask for user input to clarify questions as needed.\n",
      "Here are a sample conversation for task clarification sent to OpenAI ChatCompletion endpoint used by GPT-Engineer. The user inputs are wrapped in {{user input text}}.\n",
      "[\n",
      "  {\n",
      "    \"role\": \"system\",\n",
      "    \"content\": \"You will read instructions and not carry them out, only seek to clarify them.\\nSpecifically you will first summarise a list of super short bullets of areas that need clarification.\\nThen you will pick one clarifying question, and wait for an answer from the user.\\n\"\n",
      "  },\n",
      "  {\n",
      "    \"role\": \"user\",\n",
      "    \"content\": \"We are writing {{a Super Mario game in python. MVC components split in separate files. Keyboard control.}}\\n\"\n",
      "  },\n",
      "  {\n",
      "    \"role\": \"assistant\",\n",
      "    \"content\": \"Summary of areas that need clarification:\\n1. Specifics of the Super Mario game (e.g. level design, characters, gameplay mechanics)\\n2. Details about the MVC components (e.g. which components are in each file)\\n3. Keyboard control implementation (e.g. which keys to use, how to handle input)\\n\\nClarifying question:\\nCan you provide more details about the Super Mario game, such as level design, characters, and gameplay mechanics?\"\n",
      "  },\n",
      "  {\n",
      "    \"role\": \"user\",\n",
      "    \"content\": \"{{There are 10 levels in total. The main character is a plumber named Mario, who can walk and jump. It is a classical platform game just like Super Mario. The main character moves from left to right, trying to get to the destination, where there are many obstacles and attacks from enemies in the process.}}\\n\\nIs anything else unclear? If yes, only answer in the form:\\n{remaining unclear areas} remaining questions.\\n{Next question}\\nIf everything is sufficiently clear, only answer \\\"Nothing more to clarify.\\\".\"\n",
      "  },\n",
      "  {\n",
      "    \"role\": \"assistant\",\n",
      "    \"content\": \"Remaining unclear areas: 2 remaining questions.\\nCan you provide more information about how the MVC components are split into separate files?\"\n",
      "  },\n",
      "  {\n",
      "    \"role\": \"user\",\n",
      "    \"content\": \"{{Make your own assumptions and state them explicitly before starting}}\"\n",
      "  }\n",
      "]\n",
      "Then after these clarification, the agent moved into the code writing mode with a different system message.\n",
      "System message:\n",
      "\n",
      "You will get instructions for code to write.\n",
      "You will write a very long answer. Make sure that every detail of the architecture is, in the end, implemented as code.\n",
      "Make sure that every detail of the architecture is, in the end, implemented as code.\n",
      "Think step by step and reason yourself to the right decisions to make sure we get it right.\n",
      "You will first lay out the names of the core classes, functions, methods that will be necessary, as well as a quick comment on their purpose.\n",
      "Then you will output the content of each file including ALL code.\n",
      "Each file must strictly follow a markdown code block format, where the following tokens must be replaced such that\n",
      "FILENAME is the lowercase file name including the file extension,\n",
      "LANG is the markup code block language for the code’s language, and CODE is the code:\n",
      "FILENAME\n",
      "CODE\n",
      "You will start with the “entrypoint” file, then go to the ones that are imported by that file, and so on.\n",
      "Please note that the code should be fully functional. No placeholders.\n",
      "Follow a language and framework appropriate best practice file naming convention.\n",
      "Make sure that files contain all imports, types etc. Make sure that code in different files are compatible with each other.\n",
      "Ensure to implement all code, if you are unsure, write a plausible implementation.\n",
      "Include module dependency or package manager dependency definition file.\n",
      "Before you finish, double check that all parts of the architecture is present in the files.\n",
      "Useful to know:\n",
      "You almost always put different classes in different files.\n",
      "For Python, you always create an appropriate requirements.txt file.\n",
      "For NodeJS, you always create an appropriate package.json file.\n",
      "You always add a comment briefly describing the purpose of the function definition.\n",
      "You try to add comments explaining very complex bits of logic.\n",
      "You always follow the best practices for the requested languages in terms of describing the code written as a defined\n",
      "package/project.\n",
      "Python toolbelt preferences:\n",
      "\n",
      "pytest\n",
      "dataclasses\n",
      "\n",
      "\n",
      "Conversatin samples:\n",
      "[\n",
      "  {\n",
      "    \"role\": \"system\",\n",
      "    \"content\": \"You will get instructions for code to write.\\nYou will write a very long answer. Make sure that every detail of the architecture is, in the end, implemented as code.\\nMake sure that every detail of the architecture is, in the end, implemented as code.\\n\\nThink step by step and reason yourself to the right decisions to make sure we get it right.\\nYou will first lay out the names of the core classes, functions, methods that will be necessary, as well as a quick comment on their purpose.\\n\\nThen you will output the content of each file including ALL code.\\nEach file must strictly follow a markdown code block format, where the following tokens must be replaced such that\\nFILENAME is the lowercase file name including the file extension,\\nLANG is the markup code block language for the code's language, and CODE is the code:\\n\\nFILENAME\\n```LANG\\nCODE\\n```\\n\\nYou will start with the \\\"entrypoint\\\" file, then go to the ones that are imported by that file, and so on.\\nPlease note that the code should be fully functional. No placeholders.\\n\\nFollow a language and framework appropriate best practice file naming convention.\\nMake sure that files contain all imports, types etc. Make sure that code in different files are compatible with each other.\\nEnsure to implement all code, if you are unsure, write a plausible implementation.\\nInclude module dependency or package manager dependency definition file.\\nBefore you finish, double check that all parts of the architecture is present in the files.\\n\\nUseful to know:\\nYou almost always put different classes in different files.\\nFor Python, you always create an appropriate requirements.txt file.\\nFor NodeJS, you always create an appropriate package.json file.\\nYou always add a comment briefly describing the purpose of the function definition.\\nYou try to add comments explaining very complex bits of logic.\\nYou always follow the best practices for the requested languages in terms of describing the code written as a defined\\npackage/project.\\n\\n\\nPython toolbelt preferences:\\n- pytest\\n- dataclasses\\n\"\n",
      "  },\n",
      " #  … same conversation as earlier, ended with \"Make your own assumptions and state them explicitly before starting\".\n",
      "  {\n",
      "    \"role\": \"assistant\",\n",
      "    \"content\": \"Assumptions:\\n1. Model: The model will contain the game's data, such as level information, character states, and enemy positions.\\n2. View: The view will handle the game's visuals, including rendering the game objects, backgrounds, and updating the display.\\n3. Controller: The controller will manage user input, such as keyboard controls, and update the model accordingly.\\n\\nWith these assumptions in mind, is there any specific aspect of the keyboard control implementation you would like me to clarify?\"\n",
      "  },\n",
      "  {\n",
      "    \"role\": \"user\",\n",
      "    \"content\": \"Please now remember the steps:\\n\\nThink step by step and reason yourself to the right decisions to make sure we get it right.\\nFirst lay out the names of the core classes, functions, methods that will be necessary, As well as a quick comment on their purpose.\\n\\nThen you will output the content of each file including ALL code.\\nEach file must strictly follow a markdown code block format, where the following tokens must be replaced such that\\nFILENAME is the lowercase file name including the file extension,\\nLANG is the markup code block language for the code's language, and CODE is the code:\\n\\nFILENAME\\n```LANG\\nCODE\\n```\\n\\nPlease note that the code should be fully functional. No placeholders.\\n\\nYou will start with the \\\"entrypoint\\\" file, then go to the ones that are imported by that file, and so on.\\nFollow a language and framework appropriate best practice file naming convention.\\nMake sure that files contain all imports, types etc. The code should be fully functional. Make sure that code in different files are compatible with each other.\\nBefore you finish, double check that all parts of the architecture is present in the files.\\n\"\n",
      "  }\n",
      "]\n",
      "Challenges#\n",
      "After going through key ideas and demos of building LLM-centered agents, I start to see a couple common limitations:\n",
      "\n",
      "\n",
      "Finite context length: The restricted context capacity limits the inclusion of historical information, detailed instructions, API call context, and responses. The design of the system has to work with this limited communication bandwidth, while mechanisms like self-reflection to learn from past mistakes would benefit a lot from long or infinite context windows. Although vector stores and retrieval can provide access to a larger knowledge pool, their representation power is not as powerful as full attention.\n",
      "\n",
      "\n",
      "Challenges in long-term planning and task decomposition: Planning over a lengthy history and effectively exploring the solution space remain challenging. LLMs struggle to adjust plans when faced with unexpected errors, making them less robust compared to humans who learn from trial and error.\n",
      "\n",
      "\n",
      "Reliability of natural language interface: Current agent system relies on natural language as an interface between LLMs and external components such as memory and tools. However, the reliability of model outputs is questionable, as LLMs may make formatting errors and occasionally exhibit rebellious behavior (e.g. refuse to follow an instruction). Consequently, much of the agent demo code focuses on parsing model output.\n",
      "\n",
      "\n",
      "Citation#\n",
      "Cited as:\n",
      "\n",
      "Weng, Lilian. (Jun 2023). LLM-powered Autonomous Agents\". Lil’Log. https://lilianweng.github.io/posts/2023-06-23-agent/.\n",
      "\n",
      "Or\n",
      "@article{weng2023prompt,\n",
      "  title   = \"LLM-powered Autonomous Agents\"\",\n",
      "  author  = \"Weng, Lilian\",\n",
      "  journal = \"lilianweng.github.io\",\n",
      "  year    = \"2023\",\n",
      "  month   = \"Jun\",\n",
      "  url     = \"https://lilianweng.github.io/posts/2023-06-23-agent/\"\n",
      "}\n",
      "References#\n",
      "[1] Wei et al. “Chain of thought prompting elicits reasoning in large language models.” NeurIPS 2022\n",
      "[2] Yao et al. “Tree of Thoughts: Dliberate Problem Solving with Large Language Models.” arXiv preprint arXiv:2305.10601 (2023).\n",
      "[3] Liu et al. “Chain of Hindsight Aligns Language Models with Feedback\n",
      "“ arXiv preprint arXiv:2302.02676 (2023).\n",
      "[4] Liu et al. “LLM+P: Empowering Large Language Models with Optimal Planning Proficiency” arXiv preprint arXiv:2304.11477 (2023).\n",
      "[5] Yao et al. “ReAct: Synergizing reasoning and acting in language models.” ICLR 2023.\n",
      "[6] Google Blog. “Announcing ScaNN: Efficient Vector Similarity Search” July 28, 2020.\n",
      "[7] https://chat.openai.com/share/46ff149e-a4c7-4dd7-a800-fc4a642ea389\n",
      "[8] Shinn & Labash. “Reflexion: an autonomous agent with dynamic memory and self-reflection” arXiv preprint arXiv:2303.11366 (2023).\n",
      "[9] Laskin et al. “In-context Reinforcement Learning with Algorithm Distillation” ICLR 2023.\n",
      "[10] Karpas et al. “MRKL Systems A modular, neuro-symbolic architecture that combines large language models, external knowledge sources and discrete reasoning.” arXiv preprint arXiv:2205.00445 (2022).\n",
      "[11] Weaviate Blog. Why is Vector Search so fast? Sep 13, 2022.\n",
      "[12] Li et al. “API-Bank: A Benchmark for Tool-Augmented LLMs” arXiv preprint arXiv:2304.08244 (2023).\n",
      "[13] Shen et al. “HuggingGPT: Solving AI Tasks with ChatGPT and its Friends in HuggingFace” arXiv preprint arXiv:2303.17580 (2023).\n",
      "[14] Bran et al. “ChemCrow: Augmenting large-language models with chemistry tools.” arXiv preprint arXiv:2304.05376 (2023).\n",
      "[15] Boiko et al. “Emergent autonomous scientific research capabilities of large language models.” arXiv preprint arXiv:2304.05332 (2023).\n",
      "[16] Joon Sung Park, et al. “Generative Agents: Interactive Simulacra of Human Behavior.” arXiv preprint arXiv:2304.03442 (2023).\n",
      "[17] AutoGPT. https://github.com/Significant-Gravitas/Auto-GPT\n",
      "[18] GPT-Engineer. https://github.com/AntonOsika/gpt-engineer\n",
      "\n"
     ]
    }
   ],
   "source": [
    "print(docs[0].page_content)"
   ]
  },
  {
   "cell_type": "code",
   "execution_count": 11,
   "id": "740bac64-f0d7-43e2-8e60-87c2e56f3d8b",
   "metadata": {},
   "outputs": [
    {
     "name": "stdout",
     "output_type": "stream",
     "text": [
      "page_content='\\n\\n      LLM Powered Autonomous Agents\\n    \\nDate: June 23, 2023  |  Estimated Reading Time: 31 min  |  Author: Lilian Weng\\n\\n\\nBuilding agents with LLM (large language model) as its core controller is a cool concept. Several proof-of-concepts demos, such as AutoGPT, GPT-Engineer and BabyAGI, serve as inspiring examples. The potentiality of LLM extends beyond generating well-written copies, stories, essays and programs; it can be framed as a powerful general problem solver.\\nAgent System Overview#\\nIn a LLM-powered autonomous agent system, LLM functions as the agent’s brain, complemented by several key components:\\n\\nPlanning\\n\\nSubgoal and decomposition: The agent breaks down large tasks into smaller, manageable subgoals, enabling efficient handling of complex tasks.\\nReflection and refinement: The agent can do self-criticism and self-reflection over past actions, learn from mistakes and refine them for future steps, thereby improving the quality of final results.\\n\\n\\nMemory\\n\\nShort-term memory: I would consider all the in-context learning (See Prompt Engineering) as utilizing short-term memory of the model to learn.\\nLong-term memory: This provides the agent with the capability to retain and recall (infinite) information over extended periods, often by leveraging an external vector store and fast retrieval.\\n\\n\\nTool use\\n\\nThe agent learns to call external APIs for extra information that is missing from the model weights (often hard to change after pre-training), including current information, code execution capability, access to proprietary information sources and more.\\n\\n\\n\\n\\nFig. 1. Overview of a LLM-powered autonomous agent system.\\nComponent One: Planning#\\nA complicated task usually involves many steps. An agent needs to know what they are and plan ahead.\\nTask Decomposition#\\nChain of thought (CoT; Wei et al. 2022) has become a standard prompting technique for enhancing model performance on complex tasks. The model is instructed to “think step by step” to utilize more test-time computation to decompose hard tasks into smaller and simpler steps. CoT transforms big tasks into multiple manageable tasks and shed lights into an interpretation of the model’s thinking process.\\nTree of Thoughts (Yao et al. 2023) extends CoT by exploring multiple reasoning possibilities at each step. It first decomposes the problem into multiple thought steps and generates multiple thoughts per step, creating a tree structure. The search process can be BFS (breadth-first search) or DFS (depth-first search) with each state evaluated by a classifier (via a prompt) or majority vote.\\nTask decomposition can be done (1) by LLM with simple prompting like \"Steps for XYZ.\\\\n1.\", \"What are the subgoals for achieving XYZ?\", (2) by using task-specific instructions; e.g. \"Write a story outline.\" for writing a novel, or (3) with human inputs.\\nAnother quite distinct approach, LLM+P (Liu et al. 2023), involves relying on an external classical planner to do long-horizon planning. This approach utilizes the Planning Domain Definition Language (PDDL) as an intermediate interface to describe the planning problem. In this process, LLM (1) translates the problem into “Problem PDDL”, then (2) requests a classical planner to generate a PDDL plan based on an existing “Domain PDDL”, and finally (3) translates the PDDL plan back into natural language. Essentially, the planning step is outsourced to an external tool, assuming the availability of domain-specific PDDL and a suitable planner which is common in certain robotic setups but not in many other domains.\\nSelf-Reflection#\\nSelf-reflection is a vital aspect that allows autonomous agents to improve iteratively by refining past action decisions and correcting previous mistakes. It plays a crucial role in real-world tasks where trial and error are inevitable.\\nReAct (Yao et al. 2023) integrates reasoning and acting within LLM by extending the action space to be a combination of task-specific discrete actions and the language space. The former enables LLM to interact with the environment (e.g. use Wikipedia search API), while the latter prompting LLM to generate reasoning traces in natural language.\\nThe ReAct prompt template incorporates explicit steps for LLM to think, roughly formatted as:\\nThought: ...\\nAction: ...\\nObservation: ...\\n... (Repeated many times)\\n\\nFig. 2.  Examples of reasoning trajectories for knowledge-intensive tasks (e.g. HotpotQA, FEVER) and decision-making tasks (e.g. AlfWorld Env, WebShop). (Image source: Yao et al. 2023).\\nIn both experiments on knowledge-intensive tasks and decision-making tasks, ReAct works better than the Act-only baseline where Thought: … step is removed.\\nReflexion (Shinn & Labash 2023) is a framework to equips agents with dynamic memory and self-reflection capabilities to improve reasoning skills. Reflexion has a standard RL setup, in which the reward model provides a simple binary reward and the action space follows the setup in ReAct where the task-specific action space is augmented with language to enable complex reasoning steps. After each action $a_t$, the agent computes a heuristic $h_t$ and optionally may decide to reset the environment to start a new trial depending on the self-reflection results.\\n\\nFig. 3. Illustration of the Reflexion framework. (Image source: Shinn & Labash, 2023)\\nThe heuristic function determines when the trajectory is inefficient or contains hallucination and should be stopped. Inefficient planning refers to trajectories that take too long without success. Hallucination is defined as encountering a sequence of consecutive identical actions that lead to the same observation in the environment.\\nSelf-reflection is created by showing two-shot examples to LLM and each example is a pair of (failed trajectory, ideal reflection for guiding future changes in the plan). Then reflections are added into the agent’s working memory, up to three, to be used as context for querying LLM.\\n\\nFig. 4. Experiments on AlfWorld Env and HotpotQA. Hallucination is a more common failure than inefficient planning in AlfWorld. (Image source: Shinn & Labash, 2023)\\nChain of Hindsight (CoH; Liu et al. 2023) encourages the model to improve on its own outputs by explicitly presenting it with a sequence of past outputs, each annotated with feedback. Human feedback data is a collection of $D_h = \\\\{(x, y_i , r_i , z_i)\\\\}_{i=1}^n$, where $x$ is the prompt, each $y_i$ is a model completion, $r_i$ is the human rating of $y_i$, and $z_i$ is the corresponding human-provided hindsight feedback. Assume the feedback tuples are ranked by reward, $r_n \\\\geq r_{n-1} \\\\geq \\\\dots \\\\geq r_1$ The process is supervised fine-tuning where the data is a sequence in the form of $\\\\tau_h = (x, z_i, y_i, z_j, y_j, \\\\dots, z_n, y_n)$, where $\\\\leq i \\\\leq j \\\\leq n$. The model is finetuned to only predict $y_n$ where conditioned on the sequence prefix, such that the model can self-reflect to produce better output based on the feedback sequence. The model can optionally receive multiple rounds of instructions with human annotators at test time.\\nTo avoid overfitting, CoH adds a regularization term to maximize the log-likelihood of the pre-training dataset. To avoid shortcutting and copying (because there are many common words in feedback sequences), they randomly mask 0% - 5% of past tokens during training.\\nThe training dataset in their experiments is a combination of WebGPT comparisons, summarization from human feedback and human preference dataset.\\n\\nFig. 5. After fine-tuning with CoH, the model can follow instructions to produce outputs with incremental improvement in a sequence. (Image source: Liu et al. 2023)\\nThe idea of CoH is to present a history of sequentially improved outputs  in context and train the model to take on the trend to produce better outputs. Algorithm Distillation (AD; Laskin et al. 2023) applies the same idea to cross-episode trajectories in reinforcement learning tasks, where an algorithm is encapsulated in a long history-conditioned policy. Considering that an agent interacts with the environment many times and in each episode the agent gets a little better, AD concatenates this learning history and feeds that into the model. Hence we should expect the next predicted action to lead to better performance than previous trials. The goal is to learn the process of RL instead of training a task-specific policy itself.\\n\\nFig. 6. Illustration of how Algorithm Distillation (AD) works. (Image source: Laskin et al. 2023).\\nThe paper hypothesizes that any algorithm that generates a set of learning histories can be distilled into a neural network by performing behavioral cloning over actions. The history data is generated by a set of source policies, each trained for a specific task. At the training stage, during each RL run, a random task is sampled and a subsequence of multi-episode history is used for training, such that the learned policy is task-agnostic.\\nIn reality, the model has limited context window length, so episodes should be short enough to construct multi-episode history. Multi-episodic contexts of 2-4 episodes are necessary to learn a near-optimal in-context RL algorithm. The emergence of in-context RL requires long enough context.\\nIn comparison with three baselines, including ED (expert distillation, behavior cloning with expert trajectories instead of learning history), source policy (used for generating trajectories for distillation by UCB), RL^2 (Duan et al. 2017; used as upper bound since it needs online RL), AD demonstrates in-context RL with performance getting close to RL^2 despite only using offline RL and learns much faster than other baselines. When conditioned on partial training history of the source policy, AD also improves much faster than ED baseline.\\n\\nFig. 7. Comparison of AD, ED, source policy and RL^2 on environments that require memory and exploration. Only binary reward is assigned. The source policies are trained with A3C for \"dark\" environments and DQN for watermaze.(Image source: Laskin et al. 2023)\\nComponent Two: Memory#\\n(Big thank you to ChatGPT for helping me draft this section. I’ve learned a lot about the human brain and data structure for fast MIPS in my conversations with ChatGPT.)\\nTypes of Memory#\\nMemory can be defined as the processes used to acquire, store, retain, and later retrieve information. There are several types of memory in human brains.\\n\\n\\nSensory Memory: This is the earliest stage of memory, providing the ability to retain impressions of sensory information (visual, auditory, etc) after the original stimuli have ended. Sensory memory typically only lasts for up to a few seconds. Subcategories include iconic memory (visual), echoic memory (auditory), and haptic memory (touch).\\n\\n\\nShort-Term Memory (STM) or Working Memory: It stores information that we are currently aware of and needed to carry out complex cognitive tasks such as learning and reasoning. Short-term memory is believed to have the capacity of about 7 items (Miller 1956) and lasts for 20-30 seconds.\\n\\n\\nLong-Term Memory (LTM): Long-term memory can store information for a remarkably long time, ranging from a few days to decades, with an essentially unlimited storage capacity. There are two subtypes of LTM:\\n\\nExplicit / declarative memory: This is memory of facts and events, and refers to those memories that can be consciously recalled, including episodic memory (events and experiences) and semantic memory (facts and concepts).\\nImplicit / procedural memory: This type of memory is unconscious and involves skills and routines that are performed automatically, like riding a bike or typing on a keyboard.\\n\\n\\n\\n\\nFig. 8. Categorization of human memory.\\nWe can roughly consider the following mappings:\\n\\nSensory memory as learning embedding representations for raw inputs, including text, image or other modalities;\\nShort-term memory as in-context learning. It is short and finite, as it is restricted by the finite context window length of Transformer.\\nLong-term memory as the external vector store that the agent can attend to at query time, accessible via fast retrieval.\\n\\nMaximum Inner Product Search (MIPS)#\\nThe external memory can alleviate the restriction of finite attention span.  A standard practice is to save the embedding representation of information into a vector store database that can support fast maximum inner-product search (MIPS). To optimize the retrieval speed, the common choice is the approximate nearest neighbors (ANN)\\u200b algorithm to return approximately top k nearest neighbors to trade off a little accuracy lost for a huge speedup.\\nA couple common choices of ANN algorithms for fast MIPS:\\n\\nLSH (Locality-Sensitive Hashing): It introduces a hashing function such that similar input items are mapped to the same buckets with high probability, where the number of buckets is much smaller than the number of inputs.\\nANNOY (Approximate Nearest Neighbors Oh Yeah): The core data structure are random projection trees, a set of binary trees where each non-leaf node represents a hyperplane splitting the input space into half and each leaf stores one data point. Trees are built independently and at random, so to some extent, it mimics a hashing function. ANNOY search happens in all the trees to iteratively search through the half that is closest to the query and then aggregates the results. The idea is quite related to KD tree but a lot more scalable.\\nHNSW (Hierarchical Navigable Small World): It is inspired by the idea of small world networks where most nodes can be reached by any other nodes within a small number of steps; e.g. “six degrees of separation” feature of social networks. HNSW builds hierarchical layers of these small-world graphs, where the bottom layers contain the actual data points. The layers in the middle create shortcuts to speed up search. When performing a search, HNSW starts from a random node in the top layer and navigates towards the target. When it can’t get any closer, it moves down to the next layer, until it reaches the bottom layer. Each move in the upper layers can potentially cover a large distance in the data space, and each move in the lower layers refines the search quality.\\nFAISS (Facebook AI Similarity Search): It operates on the assumption that in high dimensional space, distances between nodes follow a Gaussian distribution and thus there should exist clustering of data points. FAISS applies vector quantization by partitioning the vector space into clusters and then refining the quantization within clusters. Search first looks for cluster candidates with coarse quantization and then further looks into each cluster with finer quantization.\\nScaNN (Scalable Nearest Neighbors): The main innovation in ScaNN is anisotropic vector quantization. It quantizes a data point $x_i$ to $\\\\tilde{x}_i$ such that the inner product $\\\\langle q, x_i \\\\rangle$ is as similar to the original distance of $\\\\angle q, \\\\tilde{x}_i$ as possible, instead of picking the closet quantization centroid points.\\n\\n\\nFig. 9. Comparison of MIPS algorithms, measured in recall@10. (Image source: Google Blog, 2020)\\nCheck more MIPS algorithms and performance comparison in ann-benchmarks.com.\\nComponent Three: Tool Use#\\nTool use is a remarkable and distinguishing characteristic of human beings. We create, modify and utilize external objects to do things that go beyond our physical and cognitive limits. Equipping LLMs with external tools can significantly extend the model capabilities.\\n\\nFig. 10. A picture of a sea otter using rock to crack open a seashell, while floating in the water. While some other animals can use tools, the complexity is not comparable with humans. (Image source: Animals using tools)\\nMRKL (Karpas et al. 2022), short for “Modular Reasoning, Knowledge and Language”, is a neuro-symbolic architecture for autonomous agents. A MRKL system is proposed to contain a collection of “expert” modules and the general-purpose LLM works as a router to route inquiries to the best suitable expert module. These modules can be neural (e.g. deep learning models) or symbolic (e.g. math calculator, currency converter, weather API).\\nThey did an experiment on fine-tuning LLM to call a calculator, using arithmetic as a test case. Their experiments showed that it was harder to solve verbal math problems than explicitly stated math problems because LLMs (7B Jurassic1-large model) failed to extract the right arguments for the basic arithmetic reliably. The results highlight when the external symbolic tools can work reliably, knowing when to and how to use the tools are crucial, determined by the LLM capability.\\nBoth TALM (Tool Augmented Language Models; Parisi et al. 2022) and Toolformer (Schick et al. 2023) fine-tune a LM to learn to use external tool APIs. The dataset is expanded based on whether a newly added API call annotation can improve the quality of model outputs. See more details in the “External APIs” section of Prompt Engineering.\\nChatGPT Plugins and OpenAI API  function calling are good examples of LLMs augmented with tool use capability working in practice. The collection of tool APIs can be provided by other developers (as in Plugins) or self-defined (as in function calls).\\nHuggingGPT (Shen et al. 2023) is a framework to use ChatGPT as the task planner to select models available in HuggingFace platform according to the model descriptions and summarize the response based on the execution results.\\n\\nFig. 11. Illustration of how HuggingGPT works. (Image source: Shen et al. 2023)\\nThe system comprises of 4 stages:\\n(1) Task planning: LLM works as the brain and parses the user requests into multiple tasks. There are four attributes associated with each task: task type, ID, dependencies, and arguments. They use few-shot examples to guide LLM to do task parsing and planning.\\nInstruction:\\n\\nThe AI assistant can parse user input to several tasks: [{\"task\": task, \"id\", task_id, \"dep\": dependency_task_ids, \"args\": {\"text\": text, \"image\": URL, \"audio\": URL, \"video\": URL}}]. The \"dep\" field denotes the id of the previous task which generates a new resource that the current task relies on. A special tag \"-task_id\" refers to the generated text image, audio and video in the dependency task with id as task_id. The task MUST be selected from the following options: {{ Available Task List }}. There is a logical relationship between tasks, please note their order. If the user input can\\'t be parsed, you need to reply empty JSON. Here are several cases for your reference: {{ Demonstrations }}. The chat history is recorded as {{ Chat History }}. From this chat history, you can find the path of the user-mentioned resources for your task planning.\\n\\n(2) Model selection: LLM distributes the tasks to expert models, where the request is framed as a multiple-choice question. LLM is presented with a list of models to choose from. Due to the limited context length, task type based filtration is needed.\\nInstruction:\\n\\nGiven the user request and the call command, the AI assistant helps the user to select a suitable model from a list of models to process the user request. The AI assistant merely outputs the model id of the most appropriate model. The output must be in a strict JSON format: \"id\": \"id\", \"reason\": \"your detail reason for the choice\". We have a list of models for you to choose from {{ Candidate Models }}. Please select one model from the list.\\n\\n(3) Task execution: Expert models execute on the specific tasks and log results.\\nInstruction:\\n\\nWith the input and the inference results, the AI assistant needs to describe the process and results. The previous stages can be formed as - User Input: {{ User Input }}, Task Planning: {{ Tasks }}, Model Selection: {{ Model Assignment }}, Task Execution: {{ Predictions }}. You must first answer the user\\'s request in a straightforward manner. Then describe the task process and show your analysis and model inference results to the user in the first person. If inference results contain a file path, must tell the user the complete file path.\\n\\n(4) Response generation: LLM receives the execution results and provides summarized results to users.\\nTo put HuggingGPT into real world usage, a couple challenges need to solve: (1) Efficiency improvement is needed as both LLM inference rounds and interactions with other models slow down the process; (2) It relies on a long context window to communicate over complicated task content; (3) Stability improvement of LLM outputs and external model services.\\nAPI-Bank (Li et al. 2023) is a benchmark for evaluating the performance of tool-augmented LLMs. It contains 53 commonly used API tools, a complete tool-augmented LLM workflow, and 264 annotated dialogues that involve 568 API calls. The selection of APIs is quite diverse, including search engines, calculator, calendar queries, smart home control, schedule management, health data management, account authentication workflow and more. Because there are a large number of APIs, LLM first has access to API search engine to find the right API to call and then uses the corresponding documentation to make a call.\\n\\nFig. 12. Pseudo code of how LLM makes an API call in API-Bank. (Image source: Li et al. 2023)\\nIn the API-Bank workflow, LLMs need to make a couple of decisions and at each step we can evaluate how accurate that decision is. Decisions include:\\n\\nWhether an API call is needed.\\nIdentify the right API to call: if not good enough, LLMs need to iteratively modify the API inputs (e.g. deciding search keywords for Search Engine API).\\nResponse based on the API results: the model can choose to refine and call again if results are not satisfied.\\n\\nThis benchmark evaluates the agent’s tool use capabilities at three levels:\\n\\nLevel-1 evaluates the ability to call the API. Given an API’s description, the model needs to determine whether to call a given API, call it correctly, and respond properly to API returns.\\nLevel-2 examines the ability to retrieve the API. The model needs to search for possible APIs that may solve the user’s requirement and learn how to use them by reading documentation.\\nLevel-3 assesses the ability to plan API beyond retrieve and call. Given unclear user requests (e.g. schedule group meetings, book flight/hotel/restaurant for a trip), the model may have to conduct multiple API calls to solve it.\\n\\nCase Studies#\\nScientific Discovery Agent#\\nChemCrow (Bran et al. 2023) is a domain-specific example in which LLM is augmented with 13 expert-designed tools to accomplish tasks across organic synthesis, drug discovery, and materials design. The workflow, implemented in LangChain, reflects what was previously described in the ReAct and MRKLs and combines CoT reasoning with tools relevant to the tasks:\\n\\nThe LLM is provided with a list of tool names, descriptions of their utility, and details about the expected input/output.\\nIt is then instructed to answer a user-given prompt using the tools provided when necessary. The instruction suggests the model to follow the ReAct format - Thought, Action, Action Input, Observation.\\n\\nOne interesting observation is that while the LLM-based evaluation concluded that GPT-4 and ChemCrow perform nearly equivalently, human evaluations with experts oriented towards the completion and chemical correctness of the solutions showed that ChemCrow outperforms GPT-4 by a large margin. This indicates a potential problem with using LLM to evaluate its own performance on domains that requires deep expertise. The lack of expertise may cause LLMs not knowing its flaws and thus cannot well judge the correctness of task results.\\nBoiko et al. (2023) also looked into LLM-empowered agents for scientific discovery, to handle autonomous design, planning, and performance of complex scientific experiments. This agent can use tools to browse the Internet, read documentation, execute code, call robotics experimentation APIs and leverage other LLMs.\\nFor example, when requested to \"develop a novel anticancer drug\", the model came up with the following reasoning steps:\\n\\ninquired about current trends in anticancer drug discovery;\\nselected a target;\\nrequested a scaffold targeting these compounds;\\nOnce the compound was identified, the model attempted its synthesis.\\n\\nThey also discussed the risks, especially with illicit drugs and bioweapons. They developed a test set containing a list of known chemical weapon agents and asked the agent to synthesize them. 4 out of 11 requests (36%) were accepted to obtain a synthesis solution and the agent attempted to consult documentation to execute the procedure. 7 out of 11 were rejected and among these 7 rejected cases, 5 happened after a Web search while 2 were rejected based on prompt only.\\nGenerative Agents Simulation#\\nGenerative Agents (Park, et al. 2023) is super fun experiment where 25 virtual characters, each controlled by a LLM-powered agent, are living and interacting in a sandbox environment, inspired by The Sims. Generative agents create believable simulacra of human behavior for interactive applications.\\nThe design of generative agents combines LLM with memory, planning and reflection mechanisms to enable agents to behave conditioned on past experience, as well as to interact with other agents.\\n\\nMemory stream: is a long-term memory module (external database) that records a comprehensive list of agents’ experience in natural language.\\n\\nEach element is an observation, an event directly provided by the agent.\\n- Inter-agent communication can trigger new natural language statements.\\n\\n\\nRetrieval model: surfaces the context to inform the agent’s behavior, according to relevance, recency and importance.\\n\\nRecency: recent events have higher scores\\nImportance: distinguish mundane from core memories. Ask LM directly.\\nRelevance: based on how related it is to the current situation / query.\\n\\n\\nReflection mechanism: synthesizes memories into higher level inferences over time and guides the agent’s future behavior. They are higher-level summaries of past events (<- note that this is a bit different from self-reflection above)\\n\\nPrompt LM with 100 most recent observations and to generate 3 most salient high-level questions given a set of observations/statements. Then ask LM to answer those questions.\\n\\n\\nPlanning & Reacting: translate the reflections and the environment information into actions\\n\\nPlanning is essentially in order to optimize believability at the moment vs in time.\\nPrompt template: {Intro of an agent X}. Here is X\\'s plan today in broad strokes: 1)\\nRelationships between agents and observations of one agent by another are all taken into consideration for planning and reacting.\\nEnvironment information is present in a tree structure.\\n\\n\\n\\n\\nFig. 13. The generative agent architecture. (Image source: Park et al. 2023)\\nThis fun simulation results in emergent social behavior, such as information diffusion, relationship memory (e.g. two agents continuing the conversation topic) and coordination of social events (e.g. host a party and invite many others).\\nProof-of-Concept Examples#\\nAutoGPT has drawn a lot of attention into the possibility of setting up autonomous agents with LLM as the main controller. It has quite a lot of reliability issues given the natural language interface, but nevertheless a cool proof-of-concept demo. A lot of code in AutoGPT is about format parsing.\\nHere is the system message used by AutoGPT, where {{...}} are user inputs:\\nYou are {{ai-name}}, {{user-provided AI bot description}}.\\nYour decisions must always be made independently without seeking user assistance. Play to your strengths as an LLM and pursue simple strategies with no legal complications.\\n\\nGOALS:\\n\\n1. {{user-provided goal 1}}\\n2. {{user-provided goal 2}}\\n3. ...\\n4. ...\\n5. ...\\n\\nConstraints:\\n1. ~4000 word limit for short term memory. Your short term memory is short, so immediately save important information to files.\\n2. If you are unsure how you previously did something or want to recall past events, thinking about similar events will help you remember.\\n3. No user assistance\\n4. Exclusively use the commands listed in double quotes e.g. \"command name\"\\n5. Use subprocesses for commands that will not terminate within a few minutes\\n\\nCommands:\\n1. Google Search: \"google\", args: \"input\": \"<search>\"\\n2. Browse Website: \"browse_website\", args: \"url\": \"<url>\", \"question\": \"<what_you_want_to_find_on_website>\"\\n3. Start GPT Agent: \"start_agent\", args: \"name\": \"<name>\", \"task\": \"<short_task_desc>\", \"prompt\": \"<prompt>\"\\n4. Message GPT Agent: \"message_agent\", args: \"key\": \"<key>\", \"message\": \"<message>\"\\n5. List GPT Agents: \"list_agents\", args:\\n6. Delete GPT Agent: \"delete_agent\", args: \"key\": \"<key>\"\\n7. Clone Repository: \"clone_repository\", args: \"repository_url\": \"<url>\", \"clone_path\": \"<directory>\"\\n8. Write to file: \"write_to_file\", args: \"file\": \"<file>\", \"text\": \"<text>\"\\n9. Read file: \"read_file\", args: \"file\": \"<file>\"\\n10. Append to file: \"append_to_file\", args: \"file\": \"<file>\", \"text\": \"<text>\"\\n11. Delete file: \"delete_file\", args: \"file\": \"<file>\"\\n12. Search Files: \"search_files\", args: \"directory\": \"<directory>\"\\n13. Analyze Code: \"analyze_code\", args: \"code\": \"<full_code_string>\"\\n14. Get Improved Code: \"improve_code\", args: \"suggestions\": \"<list_of_suggestions>\", \"code\": \"<full_code_string>\"\\n15. Write Tests: \"write_tests\", args: \"code\": \"<full_code_string>\", \"focus\": \"<list_of_focus_areas>\"\\n16. Execute Python File: \"execute_python_file\", args: \"file\": \"<file>\"\\n17. Generate Image: \"generate_image\", args: \"prompt\": \"<prompt>\"\\n18. Send Tweet: \"send_tweet\", args: \"text\": \"<text>\"\\n19. Do Nothing: \"do_nothing\", args:\\n20. Task Complete (Shutdown): \"task_complete\", args: \"reason\": \"<reason>\"\\n\\nResources:\\n1. Internet access for searches and information gathering.\\n2. Long Term memory management.\\n3. GPT-3.5 powered Agents for delegation of simple tasks.\\n4. File output.\\n\\nPerformance Evaluation:\\n1. Continuously review and analyze your actions to ensure you are performing to the best of your abilities.\\n2. Constructively self-criticize your big-picture behavior constantly.\\n3. Reflect on past decisions and strategies to refine your approach.\\n4. Every command has a cost, so be smart and efficient. Aim to complete tasks in the least number of steps.\\n\\nYou should only respond in JSON format as described below\\nResponse Format:\\n{\\n    \"thoughts\": {\\n        \"text\": \"thought\",\\n        \"reasoning\": \"reasoning\",\\n        \"plan\": \"- short bulleted\\\\n- list that conveys\\\\n- long-term plan\",\\n        \"criticism\": \"constructive self-criticism\",\\n        \"speak\": \"thoughts summary to say to user\"\\n    },\\n    \"command\": {\\n        \"name\": \"command name\",\\n        \"args\": {\\n            \"arg name\": \"value\"\\n        }\\n    }\\n}\\nEnsure the response can be parsed by Python json.loads\\nGPT-Engineer is another project to create a whole repository of code given a task specified in natural language. The GPT-Engineer is instructed to think over a list of smaller components to build and ask for user input to clarify questions as needed.\\nHere are a sample conversation for task clarification sent to OpenAI ChatCompletion endpoint used by GPT-Engineer. The user inputs are wrapped in {{user input text}}.\\n[\\n  {\\n    \"role\": \"system\",\\n    \"content\": \"You will read instructions and not carry them out, only seek to clarify them.\\\\nSpecifically you will first summarise a list of super short bullets of areas that need clarification.\\\\nThen you will pick one clarifying question, and wait for an answer from the user.\\\\n\"\\n  },\\n  {\\n    \"role\": \"user\",\\n    \"content\": \"We are writing {{a Super Mario game in python. MVC components split in separate files. Keyboard control.}}\\\\n\"\\n  },\\n  {\\n    \"role\": \"assistant\",\\n    \"content\": \"Summary of areas that need clarification:\\\\n1. Specifics of the Super Mario game (e.g. level design, characters, gameplay mechanics)\\\\n2. Details about the MVC components (e.g. which components are in each file)\\\\n3. Keyboard control implementation (e.g. which keys to use, how to handle input)\\\\n\\\\nClarifying question:\\\\nCan you provide more details about the Super Mario game, such as level design, characters, and gameplay mechanics?\"\\n  },\\n  {\\n    \"role\": \"user\",\\n    \"content\": \"{{There are 10 levels in total. The main character is a plumber named Mario, who can walk and jump. It is a classical platform game just like Super Mario. The main character moves from left to right, trying to get to the destination, where there are many obstacles and attacks from enemies in the process.}}\\\\n\\\\nIs anything else unclear? If yes, only answer in the form:\\\\n{remaining unclear areas} remaining questions.\\\\n{Next question}\\\\nIf everything is sufficiently clear, only answer \\\\\"Nothing more to clarify.\\\\\".\"\\n  },\\n  {\\n    \"role\": \"assistant\",\\n    \"content\": \"Remaining unclear areas: 2 remaining questions.\\\\nCan you provide more information about how the MVC components are split into separate files?\"\\n  },\\n  {\\n    \"role\": \"user\",\\n    \"content\": \"{{Make your own assumptions and state them explicitly before starting}}\"\\n  }\\n]\\nThen after these clarification, the agent moved into the code writing mode with a different system message.\\nSystem message:\\n\\nYou will get instructions for code to write.\\nYou will write a very long answer. Make sure that every detail of the architecture is, in the end, implemented as code.\\nMake sure that every detail of the architecture is, in the end, implemented as code.\\nThink step by step and reason yourself to the right decisions to make sure we get it right.\\nYou will first lay out the names of the core classes, functions, methods that will be necessary, as well as a quick comment on their purpose.\\nThen you will output the content of each file including ALL code.\\nEach file must strictly follow a markdown code block format, where the following tokens must be replaced such that\\nFILENAME is the lowercase file name including the file extension,\\nLANG is the markup code block language for the code’s language, and CODE is the code:\\nFILENAME\\nCODE\\nYou will start with the “entrypoint” file, then go to the ones that are imported by that file, and so on.\\nPlease note that the code should be fully functional. No placeholders.\\nFollow a language and framework appropriate best practice file naming convention.\\nMake sure that files contain all imports, types etc. Make sure that code in different files are compatible with each other.\\nEnsure to implement all code, if you are unsure, write a plausible implementation.\\nInclude module dependency or package manager dependency definition file.\\nBefore you finish, double check that all parts of the architecture is present in the files.\\nUseful to know:\\nYou almost always put different classes in different files.\\nFor Python, you always create an appropriate requirements.txt file.\\nFor NodeJS, you always create an appropriate package.json file.\\nYou always add a comment briefly describing the purpose of the function definition.\\nYou try to add comments explaining very complex bits of logic.\\nYou always follow the best practices for the requested languages in terms of describing the code written as a defined\\npackage/project.\\nPython toolbelt preferences:\\n\\npytest\\ndataclasses\\n\\n\\nConversatin samples:\\n[\\n  {\\n    \"role\": \"system\",\\n    \"content\": \"You will get instructions for code to write.\\\\nYou will write a very long answer. Make sure that every detail of the architecture is, in the end, implemented as code.\\\\nMake sure that every detail of the architecture is, in the end, implemented as code.\\\\n\\\\nThink step by step and reason yourself to the right decisions to make sure we get it right.\\\\nYou will first lay out the names of the core classes, functions, methods that will be necessary, as well as a quick comment on their purpose.\\\\n\\\\nThen you will output the content of each file including ALL code.\\\\nEach file must strictly follow a markdown code block format, where the following tokens must be replaced such that\\\\nFILENAME is the lowercase file name including the file extension,\\\\nLANG is the markup code block language for the code\\'s language, and CODE is the code:\\\\n\\\\nFILENAME\\\\n```LANG\\\\nCODE\\\\n```\\\\n\\\\nYou will start with the \\\\\"entrypoint\\\\\" file, then go to the ones that are imported by that file, and so on.\\\\nPlease note that the code should be fully functional. No placeholders.\\\\n\\\\nFollow a language and framework appropriate best practice file naming convention.\\\\nMake sure that files contain all imports, types etc. Make sure that code in different files are compatible with each other.\\\\nEnsure to implement all code, if you are unsure, write a plausible implementation.\\\\nInclude module dependency or package manager dependency definition file.\\\\nBefore you finish, double check that all parts of the architecture is present in the files.\\\\n\\\\nUseful to know:\\\\nYou almost always put different classes in different files.\\\\nFor Python, you always create an appropriate requirements.txt file.\\\\nFor NodeJS, you always create an appropriate package.json file.\\\\nYou always add a comment briefly describing the purpose of the function definition.\\\\nYou try to add comments explaining very complex bits of logic.\\\\nYou always follow the best practices for the requested languages in terms of describing the code written as a defined\\\\npackage/project.\\\\n\\\\n\\\\nPython toolbelt preferences:\\\\n- pytest\\\\n- dataclasses\\\\n\"\\n  },\\n #  … same conversation as earlier, ended with \"Make your own assumptions and state them explicitly before starting\".\\n  {\\n    \"role\": \"assistant\",\\n    \"content\": \"Assumptions:\\\\n1. Model: The model will contain the game\\'s data, such as level information, character states, and enemy positions.\\\\n2. View: The view will handle the game\\'s visuals, including rendering the game objects, backgrounds, and updating the display.\\\\n3. Controller: The controller will manage user input, such as keyboard controls, and update the model accordingly.\\\\n\\\\nWith these assumptions in mind, is there any specific aspect of the keyboard control implementation you would like me to clarify?\"\\n  },\\n  {\\n    \"role\": \"user\",\\n    \"content\": \"Please now remember the steps:\\\\n\\\\nThink step by step and reason yourself to the right decisions to make sure we get it right.\\\\nFirst lay out the names of the core classes, functions, methods that will be necessary, As well as a quick comment on their purpose.\\\\n\\\\nThen you will output the content of each file including ALL code.\\\\nEach file must strictly follow a markdown code block format, where the following tokens must be replaced such that\\\\nFILENAME is the lowercase file name including the file extension,\\\\nLANG is the markup code block language for the code\\'s language, and CODE is the code:\\\\n\\\\nFILENAME\\\\n```LANG\\\\nCODE\\\\n```\\\\n\\\\nPlease note that the code should be fully functional. No placeholders.\\\\n\\\\nYou will start with the \\\\\"entrypoint\\\\\" file, then go to the ones that are imported by that file, and so on.\\\\nFollow a language and framework appropriate best practice file naming convention.\\\\nMake sure that files contain all imports, types etc. The code should be fully functional. Make sure that code in different files are compatible with each other.\\\\nBefore you finish, double check that all parts of the architecture is present in the files.\\\\n\"\\n  }\\n]\\nChallenges#\\nAfter going through key ideas and demos of building LLM-centered agents, I start to see a couple common limitations:\\n\\n\\nFinite context length: The restricted context capacity limits the inclusion of historical information, detailed instructions, API call context, and responses. The design of the system has to work with this limited communication bandwidth, while mechanisms like self-reflection to learn from past mistakes would benefit a lot from long or infinite context windows. Although vector stores and retrieval can provide access to a larger knowledge pool, their representation power is not as powerful as full attention.\\n\\n\\nChallenges in long-term planning and task decomposition: Planning over a lengthy history and effectively exploring the solution space remain challenging. LLMs struggle to adjust plans when faced with unexpected errors, making them less robust compared to humans who learn from trial and error.\\n\\n\\nReliability of natural language interface: Current agent system relies on natural language as an interface between LLMs and external components such as memory and tools. However, the reliability of model outputs is questionable, as LLMs may make formatting errors and occasionally exhibit rebellious behavior (e.g. refuse to follow an instruction). Consequently, much of the agent demo code focuses on parsing model output.\\n\\n\\nCitation#\\nCited as:\\n\\nWeng, Lilian. (Jun 2023). LLM-powered Autonomous Agents\". Lil’Log. https://lilianweng.github.io/posts/2023-06-23-agent/.\\n\\nOr\\n@article{weng2023prompt,\\n  title   = \"LLM-powered Autonomous Agents\"\",\\n  author  = \"Weng, Lilian\",\\n  journal = \"lilianweng.github.io\",\\n  year    = \"2023\",\\n  month   = \"Jun\",\\n  url     = \"https://lilianweng.github.io/posts/2023-06-23-agent/\"\\n}\\nReferences#\\n[1] Wei et al. “Chain of thought prompting elicits reasoning in large language models.” NeurIPS 2022\\n[2] Yao et al. “Tree of Thoughts: Dliberate Problem Solving with Large Language Models.” arXiv preprint arXiv:2305.10601 (2023).\\n[3] Liu et al. “Chain of Hindsight Aligns Language Models with Feedback\\n“ arXiv preprint arXiv:2302.02676 (2023).\\n[4] Liu et al. “LLM+P: Empowering Large Language Models with Optimal Planning Proficiency” arXiv preprint arXiv:2304.11477 (2023).\\n[5] Yao et al. “ReAct: Synergizing reasoning and acting in language models.” ICLR 2023.\\n[6] Google Blog. “Announcing ScaNN: Efficient Vector Similarity Search” July 28, 2020.\\n[7] https://chat.openai.com/share/46ff149e-a4c7-4dd7-a800-fc4a642ea389\\n[8] Shinn & Labash. “Reflexion: an autonomous agent with dynamic memory and self-reflection” arXiv preprint arXiv:2303.11366 (2023).\\n[9] Laskin et al. “In-context Reinforcement Learning with Algorithm Distillation” ICLR 2023.\\n[10] Karpas et al. “MRKL Systems A modular, neuro-symbolic architecture that combines large language models, external knowledge sources and discrete reasoning.” arXiv preprint arXiv:2205.00445 (2022).\\n[11] Weaviate Blog. Why is Vector Search so fast? Sep 13, 2022.\\n[12] Li et al. “API-Bank: A Benchmark for Tool-Augmented LLMs” arXiv preprint arXiv:2304.08244 (2023).\\n[13] Shen et al. “HuggingGPT: Solving AI Tasks with ChatGPT and its Friends in HuggingFace” arXiv preprint arXiv:2303.17580 (2023).\\n[14] Bran et al. “ChemCrow: Augmenting large-language models with chemistry tools.” arXiv preprint arXiv:2304.05376 (2023).\\n[15] Boiko et al. “Emergent autonomous scientific research capabilities of large language models.” arXiv preprint arXiv:2304.05332 (2023).\\n[16] Joon Sung Park, et al. “Generative Agents: Interactive Simulacra of Human Behavior.” arXiv preprint arXiv:2304.03442 (2023).\\n[17] AutoGPT. https://github.com/Significant-Gravitas/Auto-GPT\\n[18] GPT-Engineer. https://github.com/AntonOsika/gpt-engineer\\n' metadata={'source': 'https://lilianweng.github.io/posts/2023-06-23-agent/'}\n"
     ]
    }
   ],
   "source": [
    "print(docs[0])"
   ]
  },
  {
   "cell_type": "markdown",
   "id": "bc909554-b6dd-4034-aeb4-abc32529fb5f",
   "metadata": {},
   "source": [
    "## Step 2. Split"
   ]
  },
  {
   "cell_type": "code",
   "execution_count": 11,
   "id": "c7a35892-68e9-4fb2-b6ce-8dc1f6ef04a8",
   "metadata": {},
   "outputs": [
    {
     "data": {
      "text/plain": [
       "68"
      ]
     },
     "execution_count": 11,
     "metadata": {},
     "output_type": "execute_result"
    }
   ],
   "source": [
    "len(splits)"
   ]
  },
  {
   "cell_type": "code",
   "execution_count": 13,
   "id": "90607f7d-e2a0-4928-8c1b-614b592b08bd",
   "metadata": {},
   "outputs": [
    {
     "data": {
      "text/plain": [
       "654"
      ]
     },
     "execution_count": 13,
     "metadata": {},
     "output_type": "execute_result"
    }
   ],
   "source": [
    "len(splits[0].page_content)"
   ]
  },
  {
   "cell_type": "code",
   "execution_count": 18,
   "id": "f9362cf3-93fb-485e-8583-717cb7179c74",
   "metadata": {},
   "outputs": [
    {
     "data": {
      "text/plain": [
       "{'source': 'https://lilianweng.github.io/posts/2023-06-23-agent/',\n",
       " 'title': \"LLM Powered Autonomous Agents | Lil'Log\",\n",
       " 'description': 'Building agents with LLM (large language model) as its core controller is a cool concept. Several proof-of-concepts demos, such as AutoGPT, GPT-Engineer and BabyAGI, serve as inspiring examples. The potentiality of LLM extends beyond generating well-written copies, stories, essays and programs; it can be framed as a powerful general problem solver.\\nAgent System Overview In a LLM-powered autonomous agent system, LLM functions as the agent’s brain, complemented by several key components:',\n",
       " 'language': 'en'}"
      ]
     },
     "execution_count": 18,
     "metadata": {},
     "output_type": "execute_result"
    }
   ],
   "source": [
    "splits[10].metadata"
   ]
  },
  {
   "cell_type": "markdown",
   "id": "cfbfd056-5581-46f5-8037-aee7e176f3ba",
   "metadata": {},
   "source": [
    "## Step 4. Retrieve"
   ]
  },
  {
   "cell_type": "code",
   "execution_count": 20,
   "id": "04642e1e-ca23-4ef7-afc2-a1cc4373ca31",
   "metadata": {},
   "outputs": [],
   "source": [
    "retriever = vectorstore.as_retriever(search_type=\"similarity\", search_kwargs={\"k\": 6})"
   ]
  },
  {
   "cell_type": "code",
   "execution_count": 24,
   "id": "27998245-4a8e-418f-adf2-a203e3f64ede",
   "metadata": {},
   "outputs": [],
   "source": [
    "retrieved_docs = retriever.get_relevant_documents(\n",
    "    \"What are the approaches to Task Decomposition?\"\n",
    ")"
   ]
  },
  {
   "cell_type": "code",
   "execution_count": 25,
   "id": "73f8ab4d-fea2-4221-86da-f2c0235963aa",
   "metadata": {},
   "outputs": [
    {
     "data": {
      "text/plain": [
       "6"
      ]
     },
     "execution_count": 25,
     "metadata": {},
     "output_type": "execute_result"
    }
   ],
   "source": [
    "len(retrieved_docs)"
   ]
  },
  {
   "cell_type": "code",
   "execution_count": 38,
   "id": "562162de-3d07-4383-9617-7d11b651aa85",
   "metadata": {},
   "outputs": [
    {
     "data": {
      "text/plain": [
       "'Tree of Thoughts (Yao et al. 2023) extends CoT by exploring multiple reasoning possibilities at each step. It first decomposes the problem into multiple thought steps and generates multiple thoughts per step, creating a tree structure. The search process can be BFS (breadth-first search) or DFS (depth-first search) with each state evaluated by a classifier (via a prompt) or majority vote.\\nTask decomposition can be done (1) by LLM with simple prompting like \"Steps for XYZ.\\\\n1.\", \"What are the subgoals for achieving XYZ?\", (2) by using task-specific instructions; e.g. \"Write a story outline.\" for writing a novel, or (3) with human inputs.'"
      ]
     },
     "execution_count": 38,
     "metadata": {},
     "output_type": "execute_result"
    }
   ],
   "source": [
    "retrieved_docs[0].page_content"
   ]
  },
  {
   "cell_type": "code",
   "execution_count": 41,
   "id": "326e239b-4804-4c0b-b895-ed2077e9b6b6",
   "metadata": {},
   "outputs": [
    {
     "data": {
      "text/plain": [
       "'Fig. 1. Overview of a LLM-powered autonomous agent system.\\nComponent One: Planning#\\nA complicated task usually involves many steps. An agent needs to know what they are and plan ahead.\\nTask Decomposition#\\nChain of thought (CoT; Wei et al. 2022) has become a standard prompting technique for enhancing model performance on complex tasks. The model is instructed to “think step by step” to utilize more test-time computation to decompose hard tasks into smaller and simpler steps. CoT transforms big tasks into multiple manageable tasks and shed lights into an interpretation of the model’s thinking process.'"
      ]
     },
     "execution_count": 41,
     "metadata": {},
     "output_type": "execute_result"
    }
   ],
   "source": [
    "retrieved_docs[2].page_content"
   ]
  },
  {
   "cell_type": "markdown",
   "id": "bb941333-c190-4137-992b-15d2556c2110",
   "metadata": {},
   "source": [
    "## Step 5. Generate"
   ]
  },
  {
   "cell_type": "code",
   "execution_count": null,
   "id": "c99cc857-953b-4039-8300-2c050e58f997",
   "metadata": {},
   "outputs": [],
   "source": [
    "# https://smith.langchain.com/hub/rlm/rag-prompt"
   ]
  },
  {
   "cell_type": "code",
   "execution_count": 28,
   "id": "457afed2-9a25-4f82-af9e-2dc2e939e5bd",
   "metadata": {},
   "outputs": [
    {
     "name": "stdout",
     "output_type": "stream",
     "text": [
      "Human: You are an assistant for question-answering tasks. Use the following pieces of retrieved context to answer the question. If you don't know the answer, just say that you don't know. Use three sentences maximum and keep the answer concise.\n",
      "Question: filler question \n",
      "Context: filler context \n",
      "Answer:\n"
     ]
    }
   ],
   "source": [
    "print(\n",
    "    prompt.invoke(\n",
    "        {\"context\": \"filler context\", \"question\": \"filler question\"}\n",
    "    ).to_string()\n",
    ")"
   ]
  },
  {
   "cell_type": "code",
   "execution_count": 29,
   "id": "3b8a8ec8-c5ac-4096-8240-2e0f4298fe0c",
   "metadata": {},
   "outputs": [
    {
     "name": "stdout",
     "output_type": "stream",
     "text": [
      "Task decomposition is a technique used to break down complex tasks into smaller and simpler steps. It can be done through prompting techniques like Chain of Thought (CoT) or Tree of Thoughts, as well as task-specific instructions or human inputs. Task decomposition helps agents plan and execute complicated tasks more effectively."
     ]
    }
   ],
   "source": [
    "for chunk in rag_chain.stream(\"What is Task Decomposition?\"):\n",
    "    print(chunk, end=\"\", flush=True)"
   ]
  },
  {
   "cell_type": "code",
   "execution_count": null,
   "id": "ebee4a14-92b1-4be3-99ac-8073f28813a5",
   "metadata": {},
   "outputs": [],
   "source": []
  },
  {
   "cell_type": "code",
   "execution_count": 30,
   "id": "b755efcd-a330-442b-bbe6-226de18d5df9",
   "metadata": {},
   "outputs": [
    {
     "data": {
      "text/plain": [
       "\"Task decomposition is a technique used to break down complex tasks into smaller and simpler steps. It can be done through prompting the model to think step by step or by providing task-specific instructions. Task decomposition helps in enhancing model performance and understanding the model's thinking process. Thanks for asking!\""
      ]
     },
     "execution_count": 30,
     "metadata": {},
     "output_type": "execute_result"
    }
   ],
   "source": [
    "from langchain.prompts import PromptTemplate\n",
    "\n",
    "template = \"\"\"Use the following pieces of context to answer the question at the end.\n",
    "If you don't know the answer, just say that you don't know, don't try to make up an answer.\n",
    "Use three sentences maximum and keep the answer as concise as possible.\n",
    "Always say \"thanks for asking!\" at the end of the answer.\n",
    "{context}\n",
    "Question: {question}\n",
    "Helpful Answer:\"\"\"\n",
    "rag_prompt_custom = PromptTemplate.from_template(template)\n",
    "\n",
    "rag_chain = (\n",
    "    {\"context\": retriever | format_docs, \"question\": RunnablePassthrough()}\n",
    "    | rag_prompt_custom\n",
    "    | llm\n",
    "    | StrOutputParser()\n",
    ")\n",
    "\n",
    "rag_chain.invoke(\"What is Task Decomposition?\")"
   ]
  },
  {
   "cell_type": "code",
   "execution_count": null,
   "id": "acc9b681-32f5-415f-9385-7020c0606452",
   "metadata": {},
   "outputs": [],
   "source": []
  },
  {
   "cell_type": "code",
   "execution_count": 31,
   "id": "e30fad6a-7d7f-40a1-aa74-28ab08a94dc8",
   "metadata": {},
   "outputs": [
    {
     "data": {
      "text/plain": [
       "{'documents': [{'description': 'Building agents with LLM (large language model) as its core controller is a cool concept. Several proof-of-concepts demos, such as AutoGPT, GPT-Engineer and BabyAGI, serve as inspiring examples. The potentiality of LLM extends beyond generating well-written copies, stories, essays and programs; it can be framed as a powerful general problem solver.\\nAgent System Overview In a LLM-powered autonomous agent system, LLM functions as the agent’s brain, complemented by several key components:',\n",
       "   'language': 'en',\n",
       "   'source': 'https://lilianweng.github.io/posts/2023-06-23-agent/',\n",
       "   'title': \"LLM Powered Autonomous Agents | Lil'Log\"},\n",
       "  {'description': 'Building agents with LLM (large language model) as its core controller is a cool concept. Several proof-of-concepts demos, such as AutoGPT, GPT-Engineer and BabyAGI, serve as inspiring examples. The potentiality of LLM extends beyond generating well-written copies, stories, essays and programs; it can be framed as a powerful general problem solver.\\nAgent System Overview In a LLM-powered autonomous agent system, LLM functions as the agent’s brain, complemented by several key components:',\n",
       "   'language': 'en',\n",
       "   'source': 'https://lilianweng.github.io/posts/2023-06-23-agent/',\n",
       "   'title': \"LLM Powered Autonomous Agents | Lil'Log\"},\n",
       "  {'description': 'Building agents with LLM (large language model) as its core controller is a cool concept. Several proof-of-concepts demos, such as AutoGPT, GPT-Engineer and BabyAGI, serve as inspiring examples. The potentiality of LLM extends beyond generating well-written copies, stories, essays and programs; it can be framed as a powerful general problem solver.\\nAgent System Overview In a LLM-powered autonomous agent system, LLM functions as the agent’s brain, complemented by several key components:',\n",
       "   'language': 'en',\n",
       "   'source': 'https://lilianweng.github.io/posts/2023-06-23-agent/',\n",
       "   'title': \"LLM Powered Autonomous Agents | Lil'Log\"},\n",
       "  {'description': 'Building agents with LLM (large language model) as its core controller is a cool concept. Several proof-of-concepts demos, such as AutoGPT, GPT-Engineer and BabyAGI, serve as inspiring examples. The potentiality of LLM extends beyond generating well-written copies, stories, essays and programs; it can be framed as a powerful general problem solver.\\nAgent System Overview In a LLM-powered autonomous agent system, LLM functions as the agent’s brain, complemented by several key components:',\n",
       "   'language': 'en',\n",
       "   'source': 'https://lilianweng.github.io/posts/2023-06-23-agent/',\n",
       "   'title': \"LLM Powered Autonomous Agents | Lil'Log\"}],\n",
       " 'answer': 'Task decomposition is a technique used to break down complex tasks into smaller and simpler steps. It allows agents or models to better understand and plan for the individual components of a task. Thanks for asking!'}"
      ]
     },
     "execution_count": 31,
     "metadata": {},
     "output_type": "execute_result"
    }
   ],
   "source": [
    "from operator import itemgetter\n",
    "\n",
    "from langchain.schema.runnable import RunnableParallel\n",
    "\n",
    "rag_chain_from_docs = (\n",
    "    {\n",
    "        \"context\": lambda input: format_docs(input[\"documents\"]),\n",
    "        \"question\": itemgetter(\"question\"),\n",
    "    }\n",
    "    | rag_prompt_custom\n",
    "    | llm\n",
    "    | StrOutputParser()\n",
    ")\n",
    "rag_chain_with_source = RunnableParallel(\n",
    "    {\"documents\": retriever, \"question\": RunnablePassthrough()}\n",
    ") | {\n",
    "    \"documents\": lambda input: [doc.metadata for doc in input[\"documents\"]],\n",
    "    \"answer\": rag_chain_from_docs,\n",
    "}\n",
    "\n",
    "rag_chain_with_source.invoke(\"What is Task Decomposition\")"
   ]
  },
  {
   "cell_type": "code",
   "execution_count": null,
   "id": "9d2061ef-a77c-4b10-9bee-9334c4116a10",
   "metadata": {},
   "outputs": [],
   "source": []
  },
  {
   "cell_type": "code",
   "execution_count": 32,
   "id": "522ed30a-ba92-4acc-9dc7-288eae56c8d5",
   "metadata": {},
   "outputs": [],
   "source": [
    "from langchain.prompts import ChatPromptTemplate, MessagesPlaceholder\n",
    "\n",
    "condense_q_system_prompt = \"\"\"Given a chat history and the latest user question \\\n",
    "which might reference the chat history, formulate a standalone question \\\n",
    "which can be understood without the chat history. Do NOT answer the question, \\\n",
    "just reformulate it if needed and otherwise return it as is.\"\"\"\n",
    "condense_q_prompt = ChatPromptTemplate.from_messages(\n",
    "    [\n",
    "        (\"system\", condense_q_system_prompt),\n",
    "        MessagesPlaceholder(variable_name=\"chat_history\"),\n",
    "        (\"human\", \"{question}\"),\n",
    "    ]\n",
    ")\n",
    "condense_q_chain = condense_q_prompt | llm | StrOutputParser()"
   ]
  },
  {
   "cell_type": "code",
   "execution_count": 33,
   "id": "971a0b99-564e-4555-8b0c-128900bfb50f",
   "metadata": {},
   "outputs": [
    {
     "data": {
      "text/plain": [
       "'What is the definition of \"large\" in the context of a language model?'"
      ]
     },
     "execution_count": 33,
     "metadata": {},
     "output_type": "execute_result"
    }
   ],
   "source": [
    "from langchain.schema.messages import AIMessage, HumanMessage\n",
    "\n",
    "condense_q_chain.invoke(\n",
    "    {\n",
    "        \"chat_history\": [\n",
    "            HumanMessage(content=\"What does LLM stand for?\"),\n",
    "            AIMessage(content=\"Large language model\"),\n",
    "        ],\n",
    "        \"question\": \"What is meant by large\",\n",
    "    }\n",
    ")"
   ]
  },
  {
   "cell_type": "code",
   "execution_count": 34,
   "id": "c8ce4a8d-4a4a-453e-94a3-665669e491e3",
   "metadata": {},
   "outputs": [
    {
     "data": {
      "text/plain": [
       "'How do transformer models function?'"
      ]
     },
     "execution_count": 34,
     "metadata": {},
     "output_type": "execute_result"
    }
   ],
   "source": [
    "condense_q_chain.invoke(\n",
    "    {\n",
    "        \"chat_history\": [\n",
    "            HumanMessage(content=\"What does LLM stand for?\"),\n",
    "            AIMessage(content=\"Large language model\"),\n",
    "        ],\n",
    "        \"question\": \"How do transformers work\",\n",
    "    }\n",
    ")"
   ]
  },
  {
   "cell_type": "code",
   "execution_count": 35,
   "id": "6d4e8b94-b9b4-4ef7-9f4f-7e17d7fd70f7",
   "metadata": {},
   "outputs": [],
   "source": [
    "qa_system_prompt = \"\"\"You are an assistant for question-answering tasks. \\\n",
    "Use the following pieces of retrieved context to answer the question. \\\n",
    "If you don't know the answer, just say that you don't know. \\\n",
    "Use three sentences maximum and keep the answer concise.\\\n",
    "\n",
    "{context}\"\"\"\n",
    "qa_prompt = ChatPromptTemplate.from_messages(\n",
    "    [\n",
    "        (\"system\", qa_system_prompt),\n",
    "        MessagesPlaceholder(variable_name=\"chat_history\"),\n",
    "        (\"human\", \"{question}\"),\n",
    "    ]\n",
    ")\n",
    "\n",
    "\n",
    "def condense_question(input: dict):\n",
    "    if input.get(\"chat_history\"):\n",
    "        return condense_q_chain\n",
    "    else:\n",
    "        return input[\"question\"]\n",
    "\n",
    "\n",
    "rag_chain = (\n",
    "    RunnablePassthrough.assign(context=condense_question | retriever | format_docs)\n",
    "    | qa_prompt\n",
    "    | llm\n",
    ")"
   ]
  },
  {
   "cell_type": "code",
   "execution_count": 36,
   "id": "a5fa6b50-4094-4cb9-b55b-2abad821ecc8",
   "metadata": {},
   "outputs": [
    {
     "data": {
      "text/plain": [
       "AIMessage(content='Common ways of task decomposition include:\\n\\n1. Using Chain of Thought (CoT): CoT is a prompting technique where the model is instructed to \"think step by step\" and decompose complex tasks into smaller and simpler steps. This technique utilizes more test-time computation and helps the model understand and interpret its thinking process.\\n\\n2. Task-specific instructions: For certain tasks, specific instructions can be provided to guide the task decomposition process. For example, in the context of writing a novel, the instruction \"Write a story outline\" can help break down the task into subgoals and steps.\\n\\n3. Human inputs: Task decomposition can also be done with the help of human inputs. Humans can provide guidance, expertise, or domain-specific knowledge to assist in breaking down the task into manageable subtasks or steps.')"
      ]
     },
     "execution_count": 36,
     "metadata": {},
     "output_type": "execute_result"
    }
   ],
   "source": [
    "chat_history = []\n",
    "\n",
    "question = \"What is Task Decomposition?\"\n",
    "ai_msg = rag_chain.invoke({\"question\": question, \"chat_history\": chat_history})\n",
    "chat_history.extend([HumanMessage(content=question), ai_msg])\n",
    "\n",
    "second_question = \"What are common ways of doing it?\"\n",
    "rag_chain.invoke({\"question\": second_question, \"chat_history\": chat_history})"
   ]
  },
  {
   "cell_type": "code",
   "execution_count": null,
   "id": "831534fe-1a68-40ca-931b-414f5f09b4ee",
   "metadata": {},
   "outputs": [],
   "source": []
  },
  {
   "cell_type": "code",
   "execution_count": null,
   "id": "3b0eac90-9b9a-487c-8c72-badd5f1fbc73",
   "metadata": {},
   "outputs": [],
   "source": [
    "# cleanup\n",
    "vectorstore.delete_collection()"
   ]
  },
  {
   "cell_type": "code",
   "execution_count": null,
   "id": "2fea595c-fbbf-4073-85b8-df2585407498",
   "metadata": {},
   "outputs": [],
   "source": []
  },
  {
   "cell_type": "code",
   "execution_count": null,
   "id": "38610d65-ed46-439a-8892-197e74bc6082",
   "metadata": {},
   "outputs": [],
   "source": []
  },
  {
   "cell_type": "code",
   "execution_count": null,
   "id": "f1663061-2e02-405f-830e-94cce3fde8f2",
   "metadata": {},
   "outputs": [],
   "source": []
  },
  {
   "cell_type": "markdown",
   "id": "98681bf9-3213-4550-bec7-61c55958de89",
   "metadata": {},
   "source": [
    "# 한글 테스트01 - 위키피디아"
   ]
  },
  {
   "cell_type": "code",
   "execution_count": 6,
   "id": "d2af12b0-6e85-4eca-bcec-1c5bd8589acd",
   "metadata": {},
   "outputs": [],
   "source": [
    "loader = WebBaseLoader(\n",
    "    web_paths=(\"https://ko.wikipedia.org/wiki/SVB_%ED%8C%8C%EC%82%B0_%EC%82%AC%EA%B1%B4\",),\n",
    "    bs_kwargs=dict(\n",
    "        parse_only=bs4.SoupStrainer(\n",
    "            class_=(\"mw-body\")\n",
    "#            class_=(\"post-content\", \"post-title\", \"post-header\")\n",
    "        )\n",
    "    ),\n",
    ")\n",
    "docs = loader.load()\n",
    "\n",
    "text_splitter = RecursiveCharacterTextSplitter(chunk_size=1000, chunk_overlap=200)\n",
    "splits = text_splitter.split_documents(docs)"
   ]
  },
  {
   "cell_type": "code",
   "execution_count": 7,
   "id": "7cdc67bd-0a7d-49f0-ba98-59425b67d064",
   "metadata": {},
   "outputs": [
    {
     "name": "stdout",
     "output_type": "stream",
     "text": [
      "1\n"
     ]
    }
   ],
   "source": [
    "print(len(docs))"
   ]
  },
  {
   "cell_type": "code",
   "execution_count": 8,
   "id": "80556c13-7d44-4840-ba0a-a48fec5590cc",
   "metadata": {},
   "outputs": [
    {
     "name": "stdout",
     "output_type": "stream",
     "text": [
      "\n",
      "\n",
      "\n",
      "\n",
      "\n",
      "\n",
      "목차 토글\n",
      "\n",
      "\n",
      "\n",
      "\n",
      "\n",
      "\n",
      "\n",
      "SVB 파산 사건\n",
      "\n",
      "\n",
      "\n",
      "16개 언어\n",
      "\n",
      "\n",
      "\n",
      "\n",
      "AfrikaansالعربيةБеларускаяΕλληνικάEnglishEspañolفارسیFrançaisעבריתItalianoBahasa MelayuPortuguêsРусскийTürkçe吴语中文\n",
      "\n",
      "링크 편집\n",
      "\n",
      "\n",
      "\n",
      "\n",
      "\n",
      "\n",
      "\n",
      "\n",
      "\n",
      "\n",
      "\n",
      "문서토론\n",
      "\n",
      "\n",
      "\n",
      "\n",
      "\n",
      "한국어\n",
      "\n",
      "\n",
      "\n",
      "\n",
      "\n",
      "\n",
      "\n",
      "\n",
      "\n",
      "\n",
      "\n",
      "\n",
      "\n",
      "\n",
      "\n",
      "\n",
      "\n",
      "읽기편집역사 보기\n",
      "\n",
      "\n",
      "\n",
      "\n",
      "\n",
      "\n",
      "\n",
      "도구\n",
      "\n",
      "\n",
      "\n",
      "\n",
      "\n",
      "도구\n",
      "사이드바로 이동\n",
      "숨기기\n",
      "\n",
      "\n",
      "\n",
      "\t\t동작\n",
      "\t\n",
      "\n",
      "\n",
      "읽기편집역사 보기\n",
      "\n",
      "\n",
      "\n",
      "\n",
      "\n",
      "\t\t일반\n",
      "\t\n",
      "\n",
      "\n",
      "여기를 가리키는 문서가리키는 글의 최근 바뀜파일 올리기특수 문서 목록고유 링크문서 정보이 문서 인용하기축약된 URL 얻기위키데이터 항목\n",
      "\n",
      "\n",
      "\n",
      "\n",
      "\n",
      "\t\t인쇄/내보내기\n",
      "\t\n",
      "\n",
      "\n",
      "책 만들기PDF로 다운로드인쇄용 판\n",
      "\n",
      "\n",
      "\n",
      "\n",
      "\n",
      "\n",
      "\n",
      "\n",
      "\n",
      "\n",
      "\n",
      "\n",
      "\n",
      "\n",
      "\n",
      "\n",
      "\n",
      "\n",
      "\n",
      "\n",
      "\n",
      "\n",
      "\n",
      "\n",
      "\n",
      "위키백과, 우리 모두의 백과사전.\n",
      "\n",
      "\n",
      "\n",
      "\n",
      "\n",
      "실리콘 밸리 뱅크(SVB)는 지난 3월 10일 뱅크런 사태로 인하여 2일만에 파산하였다. 미국 은행 규모 16위인 실리콘밸리뱅크(SVB)가 사실상 파산 상태에 들어가면서 금융권 전반으로 파장이 확산될지 우려되고 있다. 이 은행 파산은 2008년 금융위기 이후 최대 규모 은행이 무너진 것이고, 미국 역사상으로는 두 번째 규모다.\n",
      "\n",
      "\n",
      "실리콘밸리은행(SVB) 소개[편집]\n",
      "1983년 10월 출범한 실리콘밸리은행은 스타트업과 벤처캐피털로부터 예금을 받고 대출 및 투자를 해 혁신생태계 형성·발전 지원에 특화한 지역은행이다. 미국에서 16번째로 컸으며, 실리콘 밸리에서는 가장 큰 은행이었다. 실리콘밸리은행의 주요 고객층은 실리콘밸리에 존재하는 기술중심 스타트업 기업들이었다. SVB는 미국 닷컴버블의 후반 때부터 최근까지 수익이 없던 스타트업 기업들에 대출을 해주었다. 이후 코로나 팬데믹을 거치면서 스타트업들이 빠르게 성장하였고, 투자자들은 이러한 스타트업들에 투자를 하기 시작했다. 스타트업들의 성장은 곧 SVB의 성장을 의미했다.\n",
      "스타트업 및 투자자의 모든 자금을 흡수한 SVB는 지급준비율을 넘어선 충분한 자금이 모이게 되었다. 그리고 자금 상황이 좋아진 스타트업들의 대출사업은 줄어들게 되었다. 이러한 상황에서 SVB는 모아둔 자금과 투자금을 통해 수익을 창출하고자 하였고, 마땅한 투자 상품을 찾던 중 비교적 위험성이 낮은 미국 국채에 투자하게 되었다. 이자는 1%정도였고, 미국 국채는 미국이 망하지 않는 한 수익성이 보장되기에 이와 같은 결정을 내리게 되었다.\n",
      "\n",
      "실리콘밸리은행(SVB)의 파산 원인[편집]\n",
      "지난 코로나 팬데믹으로 인한 양적완화 정책들로 인해 수많은 투자금들이 주식, 부동산 등에 투자되며 미국의 경제는 성장세를 보였다. 하지만 전세계 시장에 미국의 달러화가 너무 많이 유통되면서 미국의 화폐가치가 급락하게 되었다. 그래서 연방준비제도는 테이퍼링 정책을 시행하겠다는 계획 및 발표를 하며 조금씩 금리를 올릴 준비를 하고 있었다. 이런 상황에서 우크라이나와 러시아 전쟁이 발발하게 되었다. 전쟁은 국제 정세를 혼란스럽게 만들었고, 우크라이나 및 러시아와의 무역 비중이 높은 나라들의 경제가 조금씩 흔들리기 시작했다. 세계 경제 상황은 각 국가들과 긴밀하게 연결되어 있기 때문에 이러한 기조는 미국 또한 피해갈 수 없었다. 미국의 경제 성장률은 예상치보다 크게 하락하는 상황에서 물가는 지속적으로 상승하는 스태그플레이션 현상이 우려되는 지경에 이르렀다. 이런 상황에서 연방준비제도는 기준금리를 급격하게 상승시켜 물가를 진정시키기 시작했고, 한국을 비롯하여 다른 국가들도 금리를 상승시키기 시작했다.\n",
      "기준금리가 상승하면서 수많은 경제 상황들이 연쇄적으로 일어났다. 실리콘밸리 시장에 투자되던 투자금들은 모두 회수 또는 투자되지 않기 시작했고, SVB의 고객들인 스타트업들은 자금이 부족해지기 시작했다. 이에 SVB에 자신들의 예금액을 되찾을 수 밖에 없게 되었다. 올해 초, 1750억 달러의 예금액을 보유했으나 고객들은 이에 약 4분의1에 해당하는 420억 달러를 인출했다. 이에 그치지 않고 SVB의 고객들은 지속적으로 예금액을 되찾기 시작했고, 결국 SVB는 채권을 헐값에 팔아 부족한 예금액을 돌려줄 수 밖에 없었다. 미국 국채가 헐값이 된 이유는 기준금리 상승에 있다. 채권의 가치는 흔히 기준금리에 반비례하기 때문이다. 이를 쉽게 설명하자면, 만약 이자율이 1%인 채권에 100만원을 현재 투자했다고 가정한다면(1년기준) 1년뒤에 100만원의 1%인 1만원을 더하여 101만원을 되돌려 받게된다. 하지만 중간에 기준금리가 5%로 상승했다고 하자. 그러면 시중은행에 있는 투자상품에 100만원을 투자하면 1년뒤에 105만원을 받게된다. 이런 상황이 되면 당연히 채권에 투자했던 사람들은 채권을 팔고 은행 상품에 투자할 것이다. 하지만 100만원에 채권을 다시 팔 수 있을까? 전혀 아니다. 100만원만 있으면 5만원을 얻을 수 있는데 누가 100만원으로 1만원을 얻는 상품에 투자할 것인가? 자연스럽게 채권의 가치는 점점 떨어지게 되는 것이다.\n",
      "채권이 헐값이 되면서 SVB가 흔들리기 시작했다. SVB는 채권을 매각하면서 18억달러의 손해를 보았고, 재무 건전성에 악영향을 미치게 되었다. 이에벤처캐피털들은 스타트업들에게 당장 예금액을 되찾을 것을 권고하였고, 더많은 SVB고객들이 예금액을 되찾으려 하면서 뱅크런(BankRun)사태가 일어나게 되었다. SVB는 빠르게 무너졌고, 캘리포니아 당국은 SVB 자산을 압류하였다. 이후 미국 재무부, 연방준비은행, 연방예금보험공사는 SVB의 고객들에게 보험 대상과 한도에 상관없이 전액 환불을 하며 여기에 사용된 자금은 납세자들이 부담하지 않도록 할 것이라고 발표했다. 이러한 발표는 예금 보호가 목적으로 더이상의 뱅크런 사태를 막기 위한 조치로 보인다. 이후 SVB는 퍼스트시티즌스 뱅크셰어스가 SVB의 모든 자산 및 대출을 165억 달러로 인수하였다.\n",
      "\n",
      "실리콘밸리은행의 파산과 리먼브라더스 사태 비교[편집]\n",
      "리먼브라더스 사태의 원인은 복잡한 구조의 파생상품에 있다. 미국의 금융회사는 원래 고객들의 예금을 모아 대출 상품을 만들어 제공하는 단순한 형태였다. 하지만 미국이 닷컴버블을 거치면서 경제가 침체되었고, 이러한 상황을 타개하기 위해 정부는 경제 활성화 정책을 시행했다. 그 결과 대호황을 맞으면서 금융시장의 변화가 일어났다. 주요 변화는 2차 유동화시장이 발달한 것이다. 유동화 시장이 발달하게 되면 금융회사들은 자금 조달이 더욱 수월해지기에 더욱 공격적으로 상품을 판매할 수 있게 된다.\n",
      "그 당시 미국의 기준금리는 1%정도 였고, 투자자들은 대출을 해서 투자를 하는 모습을 보였다. 미국의 신용등급 기준은 프라임, Alt-A, 서브브라임으로 나뉘는데 신용도가 620점 미만이면 서브프라임으로 분류된다. 이 당시 주요 투자자들은 서브프라임이었고, 주로 주택담보대출을 받았다. 서브프라임 투자자들의 주택담보대출 상품은 처음 2년간 고정금리로 이자율을 책정받는데 2년이 지난 이후에 변동금리로 이자율 책정받는다. 그리고 이 당시, 담보인정비율(LTV)은 80%이상으로 책정되어 있었고, 이 비율은 이후에 더욱 높아진다. LTV를 설명하자면, 만약 본인이 5억짜리 주택을 사려고 대출을 받는다면, 4억까지 대출을 해준다는 것이다. 이런 상황에서 금융회사와 투자자들은 모두 공격적으로 대출을 해주고, 받으며 부동산의 가치는 빠르고 가파르게 상승하기 시작했다. 그리고 어느순간, 이자율보다 주택의 가치가 더 빠르게 올라가는 상황이 오게 되었다. 곧 사회는 '지금 부동산에 투자하지 않는다면 멍청이' 라는 분위기를 형성하게 되었다.\n",
      "리먼브라더스 사태 당시 거래되었던 상품은 주택저당증권인 MBS, 부채담보부증권인 CDO, 신용부도스왑인 CDS 등이다. 각 상품의 특징은 이러하다. MBS 유동화 전문회사가 투자자들에게 판매하기 위해 만든 상품으로 주택저당채권을 담보로 하여 만든 또 다른 채권이다. 그리고 이렇게 판매된 MBS들을 묶어서 하나의 상품으로 만든게 CDO이고, CDO 상품의 신용등급을 보장하기 위해 CDS라는 상품을 만들어낸다. 예시를 들어 CDS를 설명하자면, A회사가 B은행에서 1억을 대출을 받았다고 가정한다. B은행은 A회사가 파산하여 1억을 돌려받지 못할 경우를 생각하고 C은행이 매도한 CDS를 매수한다. 그러면 B은행은 일정 수수료를 C은행에 지불하다가 A회사가 파산하면 대출해주었던 금액을 C은행에게 대신 받을 수 있다. 즉 CDS는 위험을 보장하겠다는 약속을 판매하는 상품인 것이다. 이렇게 보장받는다면 상품의 신용등급은 매우 양호해진다.\n",
      "거래 순서는 우선 서브프라임 투자자들이 모기지 전문 은행에서 주택담보대출을 받으면 모기지 전문 은행은 이 채권을 유동화 전문 회사에 판매한다. 유동화 전문회사는 채권을 다시 MBS로 상품을 바꿔 개인투자자 혹은 정부기관, 투자회사, 보험회사들에게 상품을 판매한다. 투자회사와 정부기관, 보험회사들은 이를 다시 CDO, CDS 상품으로 만들어 투자자들에게 판매한다.\n",
      "이러한 구조는 곧 무너지게 되었는데, 시작점은 연준의 기준금리 인상이었다. 금리가 인상되자 수많은 서브프라임 채무자들은 하나둘 파산하기 시작했고, 집값은 급락하기 시작했다. 그러자 MBS, CDO의 가치가 덩달아 급락했고, 위의 순서대로 회사들이 파산하기 시작했다.\n",
      "모기지 전문 은행들은 더 많은 대출 상품을 팔기 위해 나중엔 노숙자들에게도 상품을 판매했는데 이런 거래의 신용등급은 굉장히 낮다. 하지만 유동성 전문회사는 이를 눈감고 투자은행에 판매했다. 투자은행들은 신용등급이 낮은 상품을 그냥 판매할 수 없기 때문에 신용등급을 높여야만 했는데 그 방법이 바로 CDO이다. 신용등급이 낮은 MBS와 신용등급이 높은 MBS를 결합한다면 거래하기에 충분히 적합하고 안전한 상품이 완성된다. 그리고 이렇게 완성된 CDO는 또 다른 CDO들과 결합되어 새로운 상품이 만들어 졌다. 이러한 과정에는 신용평가 기관도 참여했는데, 신용평가기관은 파생상품의 신용등급을 매긴다. 하지만 투자회사들로부터 거액의 돈을 받고, AAA등급을 매겨주었다. 마지막으로 문제가 된 CDS이다. CDO가 종잇조각이 되면서 CDS를 매도한 투자회사, 보험회사들은 막대한 보증금을 지불해야함 했는데 이를 다시 다른 금융회사들에게 넘기며 폭탄돌리기를 하였다.\n",
      "반면에 이번 SVB 파산 사건은 리먼브라더스 사태처럼 복잡한 이해관계가 없이 그저 위축된 경기에 재무상황이 악화된 스타트업들이 예상 외로 몰려들어 발생한 사태이다. 그렇기에 전문가들은 이번 사건이 리먼브라더스 사태처럼 번질 가능성은 매우 낮고, 여기에 동조하여 은행에 맡겨둔 예금을 인출하지 말고 은행을 믿어도 된다고 주장하였다. 하지만 경제는 심리에 따라 바뀌므로 좀 더 결과를 지켜봐야 한다고 말하는 전문가들도 존재한다.\n",
      "\n",
      "출처[편집]\n",
      "https://www.coindeskkorea.com/news/articleView.html?idxno=90390\n",
      "https://www.kcmi.re.kr/publications/pub_detail_view?syear=2023&zcd=002001016&zno=1712&cno=6086\n",
      "https://byline.network/2023/03/13-252/\n",
      "https://news.sbs.co.kr/news/endPage.do?news_id=N1007113659&plink=LINK&cooper=YOUTUBE\n",
      "https://www.hani.co.kr/arti/opinion/column/1084934.html\n",
      "https://biz.sbs.co.kr/article/20000107574\n",
      "https://www.yna.co.kr/view/AKR20230327125700009\n",
      "http://www.atlasnews.co.kr/news/articleView.html?idxno=2962\n",
      "http://news.einfomax.co.kr/news/articleView.html?idxno=4236270\n",
      "https://biz.chosun.com/site/data/html_dir/2012/06/28/2012062802785.html\n",
      "\n",
      "\n",
      "\n",
      "\n",
      "원본 주소 \"https://ko.wikipedia.org/w/index.php?title=SVB_파산_사건&oldid=35205460\"\n",
      "분류: 2023년 경제2023년 기술2023년 3월숨은 분류: 위키데이터 속성 P18을 사용하는 문서\n",
      "\n",
      "\n"
     ]
    }
   ],
   "source": [
    "print(docs[0].page_content)"
   ]
  },
  {
   "cell_type": "code",
   "execution_count": 9,
   "id": "e28c10b4-fe47-40b1-bbae-083cd3e9304e",
   "metadata": {},
   "outputs": [
    {
     "name": "stdout",
     "output_type": "stream",
     "text": [
      "page_content='\\n\\n\\n\\n\\n\\n목차 토글\\n\\n\\n\\n\\n\\n\\n\\nSVB 파산 사건\\n\\n\\n\\n16개 언어\\n\\n\\n\\n\\nAfrikaansالعربيةБеларускаяΕλληνικάEnglishEspañolفارسیFrançaisעבריתItalianoBahasa MelayuPortuguêsРусскийTürkçe吴语中文\\n\\n링크 편집\\n\\n\\n\\n\\n\\n\\n\\n\\n\\n\\n\\n문서토론\\n\\n\\n\\n\\n\\n한국어\\n\\n\\n\\n\\n\\n\\n\\n\\n\\n\\n\\n\\n\\n\\n\\n\\n\\n읽기편집역사 보기\\n\\n\\n\\n\\n\\n\\n\\n도구\\n\\n\\n\\n\\n\\n도구\\n사이드바로 이동\\n숨기기\\n\\n\\n\\n\\t\\t동작\\n\\t\\n\\n\\n읽기편집역사 보기\\n\\n\\n\\n\\n\\n\\t\\t일반\\n\\t\\n\\n\\n여기를 가리키는 문서가리키는 글의 최근 바뀜파일 올리기특수 문서 목록고유 링크문서 정보이 문서 인용하기축약된 URL 얻기위키데이터 항목\\n\\n\\n\\n\\n\\n\\t\\t인쇄/내보내기\\n\\t\\n\\n\\n책 만들기PDF로 다운로드인쇄용 판\\n\\n\\n\\n\\n\\n\\n\\n\\n\\n\\n\\n\\n\\n\\n\\n\\n\\n\\n\\n\\n\\n\\n\\n\\n\\n위키백과, 우리 모두의 백과사전.\\n\\n\\n\\n\\n\\n실리콘 밸리 뱅크(SVB)는 지난 3월 10일 뱅크런 사태로 인하여 2일만에 파산하였다. 미국 은행 규모 16위인 실리콘밸리뱅크(SVB)가 사실상 파산 상태에 들어가면서 금융권 전반으로 파장이 확산될지 우려되고 있다. 이 은행 파산은 2008년 금융위기 이후 최대 규모 은행이 무너진 것이고, 미국 역사상으로는 두 번째 규모다.\\n\\n\\n실리콘밸리은행(SVB) 소개[편집]\\n1983년 10월 출범한 실리콘밸리은행은 스타트업과 벤처캐피털로부터 예금을 받고 대출 및 투자를 해 혁신생태계 형성·발전 지원에 특화한 지역은행이다. 미국에서 16번째로 컸으며, 실리콘 밸리에서는 가장 큰 은행이었다. 실리콘밸리은행의 주요 고객층은 실리콘밸리에 존재하는 기술중심 스타트업 기업들이었다. SVB는 미국 닷컴버블의 후반 때부터 최근까지 수익이 없던 스타트업 기업들에 대출을 해주었다. 이후 코로나 팬데믹을 거치면서 스타트업들이 빠르게 성장하였고, 투자자들은 이러한 스타트업들에 투자를 하기 시작했다. 스타트업들의 성장은 곧 SVB의 성장을 의미했다.\\n스타트업 및 투자자의 모든 자금을 흡수한 SVB는 지급준비율을 넘어선 충분한 자금이 모이게 되었다. 그리고 자금 상황이 좋아진 스타트업들의 대출사업은 줄어들게 되었다. 이러한 상황에서 SVB는 모아둔 자금과 투자금을 통해 수익을 창출하고자 하였고, 마땅한 투자 상품을 찾던 중 비교적 위험성이 낮은 미국 국채에 투자하게 되었다. 이자는 1%정도였고, 미국 국채는 미국이 망하지 않는 한 수익성이 보장되기에 이와 같은 결정을 내리게 되었다.\\n\\n실리콘밸리은행(SVB)의 파산 원인[편집]\\n지난 코로나 팬데믹으로 인한 양적완화 정책들로 인해 수많은 투자금들이 주식, 부동산 등에 투자되며 미국의 경제는 성장세를 보였다. 하지만 전세계 시장에 미국의 달러화가 너무 많이 유통되면서 미국의 화폐가치가 급락하게 되었다. 그래서 연방준비제도는 테이퍼링 정책을 시행하겠다는 계획 및 발표를 하며 조금씩 금리를 올릴 준비를 하고 있었다. 이런 상황에서 우크라이나와 러시아 전쟁이 발발하게 되었다. 전쟁은 국제 정세를 혼란스럽게 만들었고, 우크라이나 및 러시아와의 무역 비중이 높은 나라들의 경제가 조금씩 흔들리기 시작했다. 세계 경제 상황은 각 국가들과 긴밀하게 연결되어 있기 때문에 이러한 기조는 미국 또한 피해갈 수 없었다. 미국의 경제 성장률은 예상치보다 크게 하락하는 상황에서 물가는 지속적으로 상승하는 스태그플레이션 현상이 우려되는 지경에 이르렀다. 이런 상황에서 연방준비제도는 기준금리를 급격하게 상승시켜 물가를 진정시키기 시작했고, 한국을 비롯하여 다른 국가들도 금리를 상승시키기 시작했다.\\n기준금리가 상승하면서 수많은 경제 상황들이 연쇄적으로 일어났다. 실리콘밸리 시장에 투자되던 투자금들은 모두 회수 또는 투자되지 않기 시작했고, SVB의 고객들인 스타트업들은 자금이 부족해지기 시작했다. 이에 SVB에 자신들의 예금액을 되찾을 수 밖에 없게 되었다. 올해 초, 1750억 달러의 예금액을 보유했으나 고객들은 이에 약 4분의1에 해당하는 420억 달러를 인출했다. 이에 그치지 않고 SVB의 고객들은 지속적으로 예금액을 되찾기 시작했고, 결국 SVB는 채권을 헐값에 팔아 부족한 예금액을 돌려줄 수 밖에 없었다. 미국 국채가 헐값이 된 이유는 기준금리 상승에 있다. 채권의 가치는 흔히 기준금리에 반비례하기 때문이다. 이를 쉽게 설명하자면, 만약 이자율이 1%인 채권에 100만원을 현재 투자했다고 가정한다면(1년기준) 1년뒤에 100만원의 1%인 1만원을 더하여 101만원을 되돌려 받게된다. 하지만 중간에 기준금리가 5%로 상승했다고 하자. 그러면 시중은행에 있는 투자상품에 100만원을 투자하면 1년뒤에 105만원을 받게된다. 이런 상황이 되면 당연히 채권에 투자했던 사람들은 채권을 팔고 은행 상품에 투자할 것이다. 하지만 100만원에 채권을 다시 팔 수 있을까? 전혀 아니다. 100만원만 있으면 5만원을 얻을 수 있는데 누가 100만원으로 1만원을 얻는 상품에 투자할 것인가? 자연스럽게 채권의 가치는 점점 떨어지게 되는 것이다.\\n채권이 헐값이 되면서 SVB가 흔들리기 시작했다. SVB는 채권을 매각하면서 18억달러의 손해를 보았고, 재무 건전성에 악영향을 미치게 되었다. 이에벤처캐피털들은 스타트업들에게 당장 예금액을 되찾을 것을 권고하였고, 더많은 SVB고객들이 예금액을 되찾으려 하면서 뱅크런(BankRun)사태가 일어나게 되었다. SVB는 빠르게 무너졌고, 캘리포니아 당국은 SVB 자산을 압류하였다. 이후 미국 재무부, 연방준비은행, 연방예금보험공사는 SVB의 고객들에게 보험 대상과 한도에 상관없이 전액 환불을 하며 여기에 사용된 자금은 납세자들이 부담하지 않도록 할 것이라고 발표했다. 이러한 발표는 예금 보호가 목적으로 더이상의 뱅크런 사태를 막기 위한 조치로 보인다. 이후 SVB는 퍼스트시티즌스 뱅크셰어스가 SVB의 모든 자산 및 대출을 165억 달러로 인수하였다.\\n\\n실리콘밸리은행의 파산과 리먼브라더스 사태 비교[편집]\\n리먼브라더스 사태의 원인은 복잡한 구조의 파생상품에 있다. 미국의 금융회사는 원래 고객들의 예금을 모아 대출 상품을 만들어 제공하는 단순한 형태였다. 하지만 미국이 닷컴버블을 거치면서 경제가 침체되었고, 이러한 상황을 타개하기 위해 정부는 경제 활성화 정책을 시행했다. 그 결과 대호황을 맞으면서 금융시장의 변화가 일어났다. 주요 변화는 2차 유동화시장이 발달한 것이다. 유동화 시장이 발달하게 되면 금융회사들은 자금 조달이 더욱 수월해지기에 더욱 공격적으로 상품을 판매할 수 있게 된다.\\n그 당시 미국의 기준금리는 1%정도 였고, 투자자들은 대출을 해서 투자를 하는 모습을 보였다. 미국의 신용등급 기준은 프라임, Alt-A, 서브브라임으로 나뉘는데 신용도가 620점 미만이면 서브프라임으로 분류된다. 이 당시 주요 투자자들은 서브프라임이었고, 주로 주택담보대출을 받았다. 서브프라임 투자자들의 주택담보대출 상품은 처음 2년간 고정금리로 이자율을 책정받는데 2년이 지난 이후에 변동금리로 이자율 책정받는다. 그리고 이 당시, 담보인정비율(LTV)은 80%이상으로 책정되어 있었고, 이 비율은 이후에 더욱 높아진다. LTV를 설명하자면, 만약 본인이 5억짜리 주택을 사려고 대출을 받는다면, 4억까지 대출을 해준다는 것이다. 이런 상황에서 금융회사와 투자자들은 모두 공격적으로 대출을 해주고, 받으며 부동산의 가치는 빠르고 가파르게 상승하기 시작했다. 그리고 어느순간, 이자율보다 주택의 가치가 더 빠르게 올라가는 상황이 오게 되었다. 곧 사회는 \\'지금 부동산에 투자하지 않는다면 멍청이\\' 라는 분위기를 형성하게 되었다.\\n리먼브라더스 사태 당시 거래되었던 상품은 주택저당증권인 MBS, 부채담보부증권인 CDO, 신용부도스왑인 CDS 등이다. 각 상품의 특징은 이러하다. MBS 유동화 전문회사가 투자자들에게 판매하기 위해 만든 상품으로 주택저당채권을 담보로 하여 만든 또 다른 채권이다. 그리고 이렇게 판매된 MBS들을 묶어서 하나의 상품으로 만든게 CDO이고, CDO 상품의 신용등급을 보장하기 위해 CDS라는 상품을 만들어낸다. 예시를 들어 CDS를 설명하자면, A회사가 B은행에서 1억을 대출을 받았다고 가정한다. B은행은 A회사가 파산하여 1억을 돌려받지 못할 경우를 생각하고 C은행이 매도한 CDS를 매수한다. 그러면 B은행은 일정 수수료를 C은행에 지불하다가 A회사가 파산하면 대출해주었던 금액을 C은행에게 대신 받을 수 있다. 즉 CDS는 위험을 보장하겠다는 약속을 판매하는 상품인 것이다. 이렇게 보장받는다면 상품의 신용등급은 매우 양호해진다.\\n거래 순서는 우선 서브프라임 투자자들이 모기지 전문 은행에서 주택담보대출을 받으면 모기지 전문 은행은 이 채권을 유동화 전문 회사에 판매한다. 유동화 전문회사는 채권을 다시 MBS로 상품을 바꿔 개인투자자 혹은 정부기관, 투자회사, 보험회사들에게 상품을 판매한다. 투자회사와 정부기관, 보험회사들은 이를 다시 CDO, CDS 상품으로 만들어 투자자들에게 판매한다.\\n이러한 구조는 곧 무너지게 되었는데, 시작점은 연준의 기준금리 인상이었다. 금리가 인상되자 수많은 서브프라임 채무자들은 하나둘 파산하기 시작했고, 집값은 급락하기 시작했다. 그러자 MBS, CDO의 가치가 덩달아 급락했고, 위의 순서대로 회사들이 파산하기 시작했다.\\n모기지 전문 은행들은 더 많은 대출 상품을 팔기 위해 나중엔 노숙자들에게도 상품을 판매했는데 이런 거래의 신용등급은 굉장히 낮다. 하지만 유동성 전문회사는 이를 눈감고 투자은행에 판매했다. 투자은행들은 신용등급이 낮은 상품을 그냥 판매할 수 없기 때문에 신용등급을 높여야만 했는데 그 방법이 바로 CDO이다. 신용등급이 낮은 MBS와 신용등급이 높은 MBS를 결합한다면 거래하기에 충분히 적합하고 안전한 상품이 완성된다. 그리고 이렇게 완성된 CDO는 또 다른 CDO들과 결합되어 새로운 상품이 만들어 졌다. 이러한 과정에는 신용평가 기관도 참여했는데, 신용평가기관은 파생상품의 신용등급을 매긴다. 하지만 투자회사들로부터 거액의 돈을 받고, AAA등급을 매겨주었다. 마지막으로 문제가 된 CDS이다. CDO가 종잇조각이 되면서 CDS를 매도한 투자회사, 보험회사들은 막대한 보증금을 지불해야함 했는데 이를 다시 다른 금융회사들에게 넘기며 폭탄돌리기를 하였다.\\n반면에 이번 SVB 파산 사건은 리먼브라더스 사태처럼 복잡한 이해관계가 없이 그저 위축된 경기에 재무상황이 악화된 스타트업들이 예상 외로 몰려들어 발생한 사태이다. 그렇기에 전문가들은 이번 사건이 리먼브라더스 사태처럼 번질 가능성은 매우 낮고, 여기에 동조하여 은행에 맡겨둔 예금을 인출하지 말고 은행을 믿어도 된다고 주장하였다. 하지만 경제는 심리에 따라 바뀌므로 좀 더 결과를 지켜봐야 한다고 말하는 전문가들도 존재한다.\\n\\n출처[편집]\\nhttps://www.coindeskkorea.com/news/articleView.html?idxno=90390\\nhttps://www.kcmi.re.kr/publications/pub_detail_view?syear=2023&zcd=002001016&zno=1712&cno=6086\\nhttps://byline.network/2023/03/13-252/\\nhttps://news.sbs.co.kr/news/endPage.do?news_id=N1007113659&plink=LINK&cooper=YOUTUBE\\nhttps://www.hani.co.kr/arti/opinion/column/1084934.html\\nhttps://biz.sbs.co.kr/article/20000107574\\nhttps://www.yna.co.kr/view/AKR20230327125700009\\nhttp://www.atlasnews.co.kr/news/articleView.html?idxno=2962\\nhttp://news.einfomax.co.kr/news/articleView.html?idxno=4236270\\nhttps://biz.chosun.com/site/data/html_dir/2012/06/28/2012062802785.html\\n\\n\\n\\n\\n원본 주소 \"https://ko.wikipedia.org/w/index.php?title=SVB_파산_사건&oldid=35205460\"\\n분류: 2023년 경제2023년 기술2023년 3월숨은 분류: 위키데이터 속성 P18을 사용하는 문서\\n\\n' metadata={'source': 'https://ko.wikipedia.org/wiki/SVB_%ED%8C%8C%EC%82%B0_%EC%82%AC%EA%B1%B4'}\n"
     ]
    }
   ],
   "source": [
    "print(docs[0])"
   ]
  },
  {
   "cell_type": "code",
   "execution_count": 10,
   "id": "84be9ed1-1d27-4b70-8825-ca8c177adf21",
   "metadata": {},
   "outputs": [],
   "source": [
    "# save to disk\n",
    "#vectorstore = Chroma.from_documents(documents=splits, embedding=embeddings, persist_directory=\"./chroma_db_svb\")\n",
    "\n",
    "# load from disk\n",
    "vectorstore = Chroma(embedding_function=embeddings, persist_directory=\"./chroma_db_svb\")\n",
    "\n",
    "retriever = vectorstore.as_retriever()"
   ]
  },
  {
   "cell_type": "code",
   "execution_count": 22,
   "id": "70a2ec5b-c86b-465d-8504-6814f7bd5bab",
   "metadata": {},
   "outputs": [],
   "source": [
    "# https://smith.langchain.com/hub/rlm/rag-prompt\n",
    "# You are an assistant for question-answering tasks. Use the following pieces of retrieved context to answer the question. If you don't know the answer, just say that you don't know. Use three sentences maximum and keep the answer concise.\n",
    "# Question: {question} \n",
    "# Context: {context} \n",
    "# Answer:\n",
    "prompt = hub.pull(\"rlm/rag-prompt\")\n",
    "\n",
    "template = \"\"\"You are an assistant for question-answering tasks. Use the following pieces of context to answer the question at the end. If you don't know the answer, just say that you don't know, don't try to make up an answer.\n",
    "Question: {question}\n",
    "Context: {context}\n",
    "Answer: \"\"\"\n",
    "prompt_custom = ChatPromptTemplate.from_template(template)"
   ]
  },
  {
   "cell_type": "code",
   "execution_count": 23,
   "id": "8edc8177-a7e3-474e-8697-e7f70f14204d",
   "metadata": {},
   "outputs": [],
   "source": [
    "\n",
    "llm = ChatOpenAI(model_name=\"gpt-3.5-turbo\", temperature=0)\n",
    "\n",
    "def format_docs(docs):\n",
    "    return \"\\n\\n\".join(doc.page_content for doc in docs)\n",
    "\n",
    "rag_chain = (\n",
    "    {\"context\": retriever | format_docs, \"question\": RunnablePassthrough()}\n",
    "    | prompt\n",
    "    | llm\n",
    "    | StrOutputParser()\n",
    ")"
   ]
  },
  {
   "cell_type": "code",
   "execution_count": 24,
   "id": "70fff784-f46d-4eb0-a1fd-31ab0cb7b4bd",
   "metadata": {},
   "outputs": [],
   "source": [
    "query = \"실리콘 밸리 은행 파산 사건 요약해 줘\"\n",
    "retrieved_docs = retriever.get_relevant_documents(\n",
    "    query\n",
    ")"
   ]
  },
  {
   "cell_type": "code",
   "execution_count": 25,
   "id": "5e98c45e-bf88-4b7d-a722-b8dc1f39be1d",
   "metadata": {},
   "outputs": [
    {
     "data": {
      "text/plain": [
       "4"
      ]
     },
     "execution_count": 25,
     "metadata": {},
     "output_type": "execute_result"
    }
   ],
   "source": [
    "len(retrieved_docs)"
   ]
  },
  {
   "cell_type": "code",
   "execution_count": 26,
   "id": "2590a9b2-bd85-4acf-a963-c9f58e5cba89",
   "metadata": {},
   "outputs": [
    {
     "name": "stdout",
     "output_type": "stream",
     "text": [
      "실리콘 밸리 뱅크(SVB)는 지난 3월 10일 뱅크런 사태로 인하여 2일만에 파산하였다. 미국 은행 규모 16위인 실리콘밸리뱅크(SVB)가 사실상 파산 상태에 들어가면서 금융권 전반으로 파장이 확산될지 우려되고 있다. 이 은행 파산은 2008년 금융위기 이후 최대 규모 은행이 무너진 것이고, 미국 역사상으로는 두 번째 규모다.\n",
      "\n",
      "\n",
      "실리콘밸리은행(SVB) 소개[편집]\n",
      "1983년 10월 출범한 실리콘밸리은행은 스타트업과 벤처캐피털로부터 예금을 받고 대출 및 투자를 해 혁신생태계 형성·발전 지원에 특화한 지역은행이다. 미국에서 16번째로 컸으며, 실리콘 밸리에서는 가장 큰 은행이었다. 실리콘밸리은행의 주요 고객층은 실리콘밸리에 존재하는 기술중심 스타트업 기업들이었다. SVB는 미국 닷컴버블의 후반 때부터 최근까지 수익이 없던 스타트업 기업들에 대출을 해주었다. 이후 코로나 팬데믹을 거치면서 스타트업들이 빠르게 성장하였고, 투자자들은 이러한 스타트업들에 투자를 하기 시작했다. 스타트업들의 성장은 곧 SVB의 성장을 의미했다.\n",
      "스타트업 및 투자자의 모든 자금을 흡수한 SVB는 지급준비율을 넘어선 충분한 자금이 모이게 되었다. 그리고 자금 상황이 좋아진 스타트업들의 대출사업은 줄어들게 되었다. 이러한 상황에서 SVB는 모아둔 자금과 투자금을 통해 수익을 창출하고자 하였고, 마땅한 투자 상품을 찾던 중 비교적 위험성이 낮은 미국 국채에 투자하게 되었다. 이자는 1%정도였고, 미국 국채는 미국이 망하지 않는 한 수익성이 보장되기에 이와 같은 결정을 내리게 되었다.\n"
     ]
    }
   ],
   "source": [
    "print(retrieved_docs[0].page_content)"
   ]
  },
  {
   "cell_type": "code",
   "execution_count": 15,
   "id": "1e04b2d5-553a-41b2-bb74-874820f87e8b",
   "metadata": {},
   "outputs": [
    {
     "data": {
      "text/plain": [
       "'실리콘 밸리 뱅크는 3월 10일 뱅크런 사태로 인해 2일만에 파산하였습니다. 이는 2008년 금융위기 이후 최대 규모의 은행 파산 사례이며, 미국 역사상 두 번째로 큰 규모입니다. 실리콘 밸리 뱅크는 스타트업과 벤처캐피털로부터 예금을 받고 대출 및 투자를 해 혁신생태계 형성·발전 지원에 특화한 지역은행이었습니다.'"
      ]
     },
     "execution_count": 15,
     "metadata": {},
     "output_type": "execute_result"
    }
   ],
   "source": [
    "rag_chain.invoke(\"실리콘 밸리 은행 파산 사건 요약해 줘\")"
   ]
  },
  {
   "cell_type": "code",
   "execution_count": 16,
   "id": "aa4d15d8-1f6f-4c40-b5ff-396efef18e18",
   "metadata": {},
   "outputs": [
    {
     "data": {
      "text/plain": [
       "'실리콘 밸리 뱅크(SVB)는 3월 10일 뱅크런 사태로 인해 2일만에 파산하였습니다. 이는 2008년 금융위기 이후 최대 규모의 은행 파산 사례이며, 미국 역사상 두 번째로 큰 규모입니다.'"
      ]
     },
     "execution_count": 16,
     "metadata": {},
     "output_type": "execute_result"
    }
   ],
   "source": [
    "rag_chain.invoke(\"실리콘 밸리 은행 파산 사건 자세히 설명해 줘\")"
   ]
  },
  {
   "cell_type": "code",
   "execution_count": 17,
   "id": "2b3ee5b4-ae72-47e0-ab32-c1596bdf9dae",
   "metadata": {},
   "outputs": [
    {
     "data": {
      "text/plain": [
       "'실리콘 밸리 은행 파산 사건은 지난 3월 10일에 발생했습니다.'"
      ]
     },
     "execution_count": 17,
     "metadata": {},
     "output_type": "execute_result"
    }
   ],
   "source": [
    "rag_chain.invoke(\"실리콘 밸리 은행 파산 사건은 언제 발생했어?\")"
   ]
  },
  {
   "cell_type": "code",
   "execution_count": 18,
   "id": "b3de6cc6-584f-4852-a77d-8657283fe4f7",
   "metadata": {},
   "outputs": [
    {
     "data": {
      "text/plain": [
       "'2008년에 발생했습니다.'"
      ]
     },
     "execution_count": 18,
     "metadata": {},
     "output_type": "execute_result"
    }
   ],
   "source": [
    "rag_chain.invoke(\"실리콘 밸리 은행 파산 사건은 몇 년도에 발생했어?\")"
   ]
  },
  {
   "cell_type": "code",
   "execution_count": null,
   "id": "c1c39a24-9c52-4cb9-845b-df4d68b65920",
   "metadata": {},
   "outputs": [],
   "source": []
  },
  {
   "cell_type": "code",
   "execution_count": 28,
   "id": "c5007633-eb73-4db0-89e6-4a7f8c036829",
   "metadata": {},
   "outputs": [],
   "source": [
    "rag_chain = (\n",
    "    {\"context\": retriever | format_docs, \"question\": RunnablePassthrough()}\n",
    "    | prompt_custom\n",
    "    | llm\n",
    "    | StrOutputParser()\n",
    ")"
   ]
  },
  {
   "cell_type": "code",
   "execution_count": 29,
   "id": "7512172f-e603-410c-a8b0-577b14ec628a",
   "metadata": {},
   "outputs": [
    {
     "data": {
      "text/plain": [
       "'실리콘 밸리 뱅크(SVB)는 3월 10일 뱅크런 사태로 인해 2일 만에 파산하였습니다. 이는 2008년 금융위기 이후 최대 규모의 은행 파산 사례이며, 미국 역사상 두 번째로 큰 규모입니다. SVB는 실리콘 밸리에서 가장 큰 은행으로, 스타트업과 벤처캐피털로부터 예금을 받고 대출 및 투자를 해 혁신생태계 형성·발전을 지원하는 지역은행입니다. SVB는 스타트업들에 대출을 해주었으며, 코로나 팬데믹으로 인해 스타트업들이 빠르게 성장하면서 SVB의 성장을 의미했습니다. 그러나 기준금리 상승으로 인해 경제 상황이 악화되고, 투자금 회수와 스타트업들의 자금 부족으로 SVB는 예금액을 되찾을 수 없게 되었고, 채권을 팔아 부족한 예금액을 돌려줄 수밖에 없었습니다.'"
      ]
     },
     "execution_count": 29,
     "metadata": {},
     "output_type": "execute_result"
    }
   ],
   "source": [
    "rag_chain.invoke(\"실리콘 밸리 은행 파산 사건 요약해 줘\")"
   ]
  },
  {
   "cell_type": "code",
   "execution_count": 33,
   "id": "23619a85-6f99-4bcd-b909-f20921974c7b",
   "metadata": {},
   "outputs": [
    {
     "data": {
      "text/plain": [
       "'실리콘 밸리 뱅크(SVB)는 3월 10일 뱅크런 사태로 인해 2일만에 파산한 미국 은행입니다. 이는 2008년 금융위기 이후 최대 규모의 은행 파산 사례이며, 미국 역사상 두 번째로 큰 규모입니다. 이 파산으로 인해 금융권 전반에 파장이 확산될 우려가 있습니다.'"
      ]
     },
     "execution_count": 33,
     "metadata": {},
     "output_type": "execute_result"
    }
   ],
   "source": [
    "rag_chain.invoke(\"실리콘 밸리 은행 파산 사건 자세히 설명해 줘\")"
   ]
  },
  {
   "cell_type": "code",
   "execution_count": 31,
   "id": "249622bf-201b-43a8-895d-813c0f9aa366",
   "metadata": {},
   "outputs": [
    {
     "data": {
      "text/plain": [
       "'실리콘 밸리 은행 파산 사건은 3월 10일에 발생했습니다.'"
      ]
     },
     "execution_count": 31,
     "metadata": {},
     "output_type": "execute_result"
    }
   ],
   "source": [
    "rag_chain.invoke(\"실리콘 밸리 은행 파산 사건은 언제 발생했어?\")"
   ]
  },
  {
   "cell_type": "code",
   "execution_count": 32,
   "id": "0afca393-55fd-4bde-a4b4-f944f2f6deb4",
   "metadata": {},
   "outputs": [
    {
     "data": {
      "text/plain": [
       "'실리콘 밸리 은행 파산 사건은 2008년에 발생했습니다.'"
      ]
     },
     "execution_count": 32,
     "metadata": {},
     "output_type": "execute_result"
    }
   ],
   "source": [
    "rag_chain.invoke(\"실리콘 밸리 은행 파산 사건은 몇 년도에 발생했어?\")"
   ]
  },
  {
   "cell_type": "code",
   "execution_count": null,
   "id": "3f7523b6-e07b-4812-a0e4-47aa4121c3f0",
   "metadata": {},
   "outputs": [],
   "source": []
  },
  {
   "cell_type": "markdown",
   "id": "cefe988e-2680-45fa-aa05-3ac5a5826e5c",
   "metadata": {},
   "source": [
    "# 한글 테스트02 - 나무위키"
   ]
  },
  {
   "cell_type": "code",
   "execution_count": 58,
   "id": "7c231b72-7393-46fa-8c33-e983c2379d3b",
   "metadata": {},
   "outputs": [],
   "source": [
    "from langchain.schema import Document"
   ]
  },
  {
   "cell_type": "code",
   "execution_count": 59,
   "id": "e3e710f0-bcd1-43e9-94c3-f61b87f12677",
   "metadata": {},
   "outputs": [
    {
     "name": "stdout",
     "output_type": "stream",
     "text": [
      "6539\n"
     ]
    }
   ],
   "source": [
    "content=\"\"\"\n",
    "1. 개요[편집]\n",
    "2023년 3월 10일 실리콘밸리 은행이 파산한 사건.\n",
    "2. 배경[편집]\n",
    "우선 이 사건을 이해하기 위해서는 실리콘밸리 은행(이하 SVB)이 스타트업들의 은행으로 불리는 매우 특수한 구조라는 점에 착안할 필요가 있다.\n",
    "\n",
    "스타트업들은 기본적으로 투자자의 돈을 받으며 설립 시 3차, 4차 펀딩까지도 가며 미국 자본시장의 투자력은 어마무시하다. 즉 이들 스타트업은 현금을 많이 들고 있었고 스타트업이 주요 고객인 SVB에는 그 현금들이 그대로 쌓였다. 그런데 스타트업 기업은 일반 기업들과 큰 차이점이 있으니 바로 빚을 내서 인프라에 투자하지 않는다는 점이다. 애초에 어지간하게 큰 대기업이 아닌 이상 펀딩에 성공했다면 당분간 은행에 별도로 빚을 낼 일도 없다. 설령 빚을 내 투자했더라도 스타트업의 특성상 캐시카우를 처음부터 확실히 쥐고 있는 경우가 드물다. 즉 이들 스타트업은 안정 궤도에 오르기까지 실제 벌어들이는 이익이 크지 않다는 점도 특징이다.\n",
    "\n",
    "이런 특성들은 SVB의 입장, 즉 은행 입장에서는 악영향이다. 은행은 돈을 빌려주고 이자를 받아야 하는데 전통적인 기업은 이것이 가능하다. 은행에서 빚을 내 과감하게 선행 투자를 하고 그로 인해 기업의 이익이 증대되면 이게 곧 은행의 이자 수익으로 이어지는 선순환이다. 그러나 SVB의 주요 고객 포트폴리오는 죄다 현금 부자인 스타트업이었으니 역설적으로 스타트업들의 수익률이 오를수록 SVB에는 현금만 쌓여가는데 이 현금을 빌려줄 곳이 없었다.\n",
    "\n",
    "사실 여기서 포트폴리오 다변화에 성공하여 다른 산업에도 돈을 빌려주었다면 얘기가 달라졌을 것이다. SVB의 전문가들도 바보는 아니었기 때문에 포트폴리오 다변화를 시도했다. 쌓여있는 현금을 어떻게든 굴려야 은행의 이익으로 이어지는 것은 당연하다. 그런데 SVB가 가장 많이 투자한 분야 중 하나가 미국 국채, 그것도 장기채였다. 저금리가 계속 이어진다는 가정 하에서는 나쁘지 않은 판단이었을 수도 있다. 초우량 안전자산으로 분류되는 미국 국채를 다량 보유하고 있으면 수입이 크지 않지만 안정적으로 계속해서 수익을 올릴 수 있었을 것이다. 그러나 후술하듯이 은행이 자산의 큰 비중을 장기채로 가져가는 것은 드물다 못해 거의 없는 일이며 많은 기사에서 이것을 경영 파탄의 원인으로 지적했다.\n",
    "\n",
    "그러다가 미국의 인플레이션과 그로 인한 금리 인상이 SVB에게는 악몽으로 다가오고 말았다.\n",
    "\n",
    "기준금리가 오르면 미국 국채 금리도 같이 인상된다. 채권자들[1]에게는 사실 파티 타임인데 이자율이 오르면 그만큼 자신들의 이자 수익도 늘어난다는 뜻이기 때문이다. 국채 가격의 하락 문제가 있지만 만기까지 보유할 것으로 분류하면 회계상 손실도 인식되지 않는다. 그러나 SVB와 같이 상술한 것처럼 이자율이 낮았던 시절에 미국 국채 장기채를 너무 많이 사들인 상태면 비극이 된다. 이런 상태에서 이자율이 오르니까 이들 장기채는 문자 그대로 똥값이 되고 말았다.[2] 이러면 단기채는 그때그때 높은 수익이 나지만 장기채는 낮은 이율 그대로이므로 수익이 좋지 못하게 된다. 10년 후에 2% 주는 채권이 있고(장기채), 1년 후에 5% 주는 채권(단기채)이 있을 때 그 중에서 고르라면 투자자들은 당연히 후자를 고를 수밖에 없다. 즉 같은 미국 국채라도 현재와 같이 높은 금리 하에서 단기채는 인기가 있어 값이 하락해도 그 폭이 상대적으로 작지만 장기채는 사려는 사람이 없으므로 그 폭이 훨씬 더 크다.\n",
    "\n",
    "그리고 이 폭락 사태는 그대로 SVB가 보유한 자산 가치 하락으로 이어졌는데 은행의 투자 포트폴리오에서 절반 이상이 장기채인 상황에서[3] 장기채 가격이 바닥에 떨어지고 만 것이다. 그런데 위에 써 놓았듯 SVB는 전통적인 대출이자 수입이 현저히 적은 은행이다. 이러다보니 현금은 죄다 장기채에 묶여 있고 그 장기채는 가치가 하락했으며 다른 수익 나올 구멍도 없다.\n",
    "\n",
    "게다가 코로나바이러스감염증-19 사태는 SVB의 상황을 더욱 악화시켰다. 코로나 사태로 인해 스타트업의 유동성이 좋아졌다. 코로나로 인한 특수 상황에서 여러 스타트업들이 돈을 많이 벌었고 그 현금은 전부 SVB에 쌓였다. 그러나 코로나가 서서히 종식되면서 스타트업의 코로나 특수 경기는 저물기 시작했고 흘러넘치던 유동성도 점점 제자리로 돌아왔다. 즉 유동성 경색이 시작되었다. 이런 상황에서 위에서 언급한 미국 국채 금리의 상승이 다른 은행과 달리 역설적으로 SVB에는 더 큰 악재로 다가온 것이다.\n",
    "3. 파산[편집]\n",
    "2023년 3월 9일 이자율 상승으로 인한 국채 매각으로 18억 달러에 달하는 손해를 입고 주가가 크게 하락했다. 뱅크런이 시작되어 주요 투자자들과 기업이 돈을 빼기 시작했고 3월 10일 주가가 66%가 빠지면서 주식거래가 중지됐다.\n",
    "\n",
    "SVB가 손실을 공개하고 유상증자 계획을 발표하자마자 투자자들은 SVB의 주식을 팔아치우기 시작했으며 스타트업들도 유동성이 경색되고 안 좋은 소문이 돌자 쌓여 있던 현금을 인출하기 시작했다. 슬랙과 같은 업무용 메신저와 폰뱅킹의 보급화로 뱅크런 속도가 미친 듯이 가속화되어 단 하루만에 56조 원이 인출되었다.# 주가 폭락과 기술력 발전의 시너지 효과로 SVB는 뱅크런이 일어나 자산이 급감하고 결과적으로 SVB의 시가총액이 하루만에 60%가 날아가고 말았다.\n",
    "\n",
    "이 뱅크런 사태가 매우 빠르게 진행된 원인은 버튼 하나로 예금을 순식간에 옮길 수 있는 스마트폰을 이용한 스마트뱅킹의 점유율이 매우 높은 탓에 뱅크런 속도가 대응할 수 없을 만큼 지나치게 빨라졌기 때문이다. 2008년 세계금융위기보다는 규모가 비교적 작았지만 SNS발 가짜 뉴스 확산에 겁먹은 고객들이 일제히 스마트폰 뱅킹앱을 열고 서둘러 예금을 대량으로 인출하였던 것이 작은 불씨를 더욱 키우고 말았다.\n",
    "\n",
    "결국 2023년 3월 10일 늦은 밤 캘리포니아 주정부에서 SVB의 은행업허가를 취소[4]하고 파산관재인(receiver)으로 연방예금보험공사(FDIC)를 지정하면서 미국 은행 역사상 두 번째로 큰 규모의 파산 사태가 터졌다.\n",
    "4. 파산 이후[편집]\n",
    "연방예금보험공사(FDIC)는 예금자 보호 절차에 들어가 10일 SVB 전 지점을 폐쇄하고 2090억 달러[5]에 달하는 자산을 압류했다.# 실리콘밸리의 경제와 미국 경제 및 세계 경제에 어떤 영향이 갈지 전 세계 언론이 관심을 두었다.#\n",
    "\n",
    "특히 실리콘밸리에 기반을 둔 스타트업 회사들이 줄도산할 것이라는 우려가 번졌다.#,# 관련 사태로 인해 글로벌 주가와 비트코인 시세도 하락했다.# 이참에 부동산 관련 은행과 부실은행을 정리한다는 말이 돌았지만 2008년 서브프라임 모기지 사태와 다르게 시스템의 위기 자체로 번지지 않을 것이라는 전망도 제기되었다.#\n",
    "\n",
    "한편 일론 머스크는 본인이 인수할 의사가 있다고 발표했다. #\n",
    "\n",
    "파산 소식이 퍼지며 전 세계 증시가 3월 13일 월요일 폭락할 것이라는 블랙 먼데이 우려가 번졌다. SVB에 돈이 묶인 한국 기업들과 투자가들도 당황했으며# 국민연금공단도 투자비용으로 보면 큰 부분은 아니지만 10만 주를 가지고 있었다.\n",
    "\n",
    "한편 뉴욕의 시그니처 은행 역시 실리콘밸리 은행이 파산한 지 며칠도 채 안 된 한국시간으로 3월 13일 오전 파산선고가 내려졌다. # 소비자들 입장에서 연쇄적인 도미노 파산을 심히 우려하게 되었다. 퍼스트리퍼블릭 은행, 팩웨스트 뱅코프, 웨스턴 얼라이언스 뱅코프 등 지역 은행의 주가들도 폭락하면서 위기에 놓였다.\n",
    "\n",
    "미국 정부는 실리콘밸리은행에 고객이 예치한 돈을 보험 대상 한도와 상관 없이 전액 보증하는 대책을 마련하였다. 재무부, 연방준비제도, 연방예금보험공사가 발표한 공동 성명에 따르면 모든 예금주는 현지 시각 13일부터 예금 전액에 접근할 수 있다.[6][7] 한편 예금에 대해서는 보장한다고 했지만 주식과 채권은 보장하지 않는다고 한다. 그래서 한국 국민연금도 돈을 물린 것으로 전해졌다.#\n",
    "\n",
    "3월 13일, HSBC가 SVB 영국 법인을 상징적인 금액인 1파운드에 인수하기로 했다. 이에 따라 영국의 거래 기업들의 유동성 문제가 해소될 가능성이 생겼다. #\n",
    "\n",
    "SVB 파산 사태에도 불구하고 연방준비제도 (FOMC)가 금리를 0.25% 올려 베이비 스탭을 강행했다. 높은 금리 때문에 자금 조달이 어려워진 것이 SVB 사태의 원인으로 꼽혀서 연준이 금리를 올릴지 말지 귀추가 주목되었는데 금리 인상은 결국 멈추지 않았다. 다만 제롬 파월 의장은 이번 금리 인상이 마지막일 수 있다는 의미심장한 메시지를 전달했다. 원래 5.5 ~ 6%까지 금리를 올리려고 했으나 SVB 사태로 인해 5% 선에서 장기간 동결하는 식으로 FOMC가 보다 온건적인 정책으로 선회한 것이 아니냐는 분석도 제기되었다.\n",
    "\n",
    "3월 27일, 노스캐롤라이나에 본사가 있는 퍼스트 시티즌 은행이 실리콘밸리 은행을 인수하기로 결의하고 실행하였다.#\n",
    "\n",
    "5월 1일, 퍼스트리퍼블릭 은행이 결국 파산하였다는 소식이 전해졌다. 동시에 JP모건 체이스가 퍼스트리퍼블릭 은행을 인수하겠다고 발표했다.\n",
    "\n",
    "10월 3일, 실리콘밸리 파이낸셜 그룹의 투자은행 부문이 Jeff Leerink 주도하의 컨소시엄에 매각하는 절차가 완료되었다.\n",
    "5. 향후 전망[편집]\n",
    "5.1. 낙관적 전망[편집]\n",
    "금융업계 및 정부 경제 당국에서는 SVB의 파산이 서브프라임 모기지 사태와 다르게 금융업 전체로의 위기로 번지지는 않을 거라는 전망이 우세했다. 은행의 파산은 확실한 악재이기 때문에 단기적으로 금융시장에 충격을 줄 수 있고 그것이 전체적인 주가 하락과 암호화폐 하락 등으로 이어지기는 했지만 SVB의 포트폴리오가 워낙 특수했기 때문에 다른 은행들은 SVB처럼 망하지는 않을 거라는 게 일반적인 금융 전문가들의 시각이다. 애초에 금리가 오르면서 다른 은행들은 이자 파티를 벌이게 되었으므로 어지간하게 어디 묶여 있지 않은 이상은 망할 가능성은 적다.[8]\n",
    "5.2. 비관적 전망[편집]\n",
    "SVB의 파산 사태가 금융권 전체로 충격이 퍼질 것이란 시각도 있는데 이는 전통적인 위기관리 시스템인 신용등급 평가가 이 사례에서 무력화되었음이 드러났기 때문이다. 일주일 전까지 신용등급이 A3였던 은행이 일주일도 안 돼서 C로 폭락하면서 파산한 것이 이 사건이다. 즉 신용등급으로도 부실 기업이나 은행을 거를 수 없다면 무엇을 신뢰하고 투자할 수 있겠는가라는 의문이 제기된 것. 이것 때문에 JP 모건조차도 믿을 수 없다거나 망할 수 있다는 얘기가 나오기도 했다. 이는 2008년 대침체와 월가 점령 시위 이후에도 미국 금융계가 사회 구성원들의 신뢰를 완전히 회복하지 못했음을 나타낸다.\n",
    "\n",
    "실제로 SVB 파산 고작 3일 만인 3월 13일 시그니처 은행이 추가로 파산선고를 받으면서 심상치 않은 흐름이 보였다. # 다만 시그니처 은행은 전통적인 은행과 달리 암호화폐 전문 은행이었던 만큼 그 여파가 전통적인 은행이 무너지는 것만큼 크지 않으리라는 예측도 있었다. 일단 연방예금보험공사는 SVB와 마찬가지로 시그니처 은행의 자산을 넘겨받아 예금 지급에 최선을 다하겠다고 밝혔지만 얼마 지나지 않아 퍼스트리퍼블릭 은행 역시 파산 위기에 몰리면서 사태가 확대될 조짐이 나왔는데 5월 1일 퍼스트리퍼블릭 은행이 최종 파산하면서 실제로 사태가 확대되었다.\n",
    "\n",
    "연준이 긴급자금지원을 했지만 만약 퍼스트 시티즌 뱅크에게 인수된 실리콘밸리 은행과 JP모건 체이스에게 인수된 퍼스트리퍼블릭 은행처럼 찰스 슈왑# 마저 파산한다면 여파가 여타 대형 은행까지 더 크게 번질 가능성도 생겼다.\n",
    "6. 기타[편집]\n",
    "은행이 자산 배치와 사업 구조를 다변화(diversify)하지 않을 경우 아무리 보수적으로 기업 구조를 짜더라도 은행 자체가 망할 수 있음을 증명한 희귀한 사례가 되었다. 금융기관이 몰락하는 것은 지나치게 공격적인(위험한) 투자 일변도로 포트폴리오를 구성해서 일어나는 경우가 많은데 이처럼 그 반대의 경우도 가능함을 보여준 셈이다. 투자의 제1계명인 계란을 한 바구니에 담지 말라는 대원칙을 위반했기 때문에 일어난 일이다.\n",
    "이 사건은 뱅크런이 발생할 경우 투자은행이 주도하여 채권 투자와 수신 영업을 통해 원금과 이자 지급을 가능케 하는 발행어음형 CMA의 안정성을 담보할 수 없다는 점을 시사하며 예금자 보호가 되는 은행 예금 및 종합금융형 CMA와 예금자 보호가 되지 않지만 AA 등급 이상의 채권을 담보로 하는 RP형 CMA도 원금 손실 가능성은 없지만 금융기관이 파산할 경우 돈이 묶이는 성가신 상황이 발생할 수 있다는 사실을 상기시켰다. 오히려 예금자 보호가 되지는 않더라도 금융기관의 파산 여부가 유동성에 영향을 끼치지 않는 MMW형 CMA가 오히려 은행 예금이나 다른 CMA 상품보다 더 안전할 수 있다. MMW형 CMA는 운용 주체가 중권 금융기관인 한국증권금융이고 예금자보호법 적용은 받지 않지만 자본시장법 74조에 근거하여 원금과 이자뿐만 아니라 상시 유동성 그 자체를 보장하도록 운용하고 있다. 즉, 불특정 고객이 자기가 맡긴 돈을 아무 때나 출금하더라도 문제가 발생하지 않도록 예탁금을 운용해야 한다. 한국증권금융이 이런 책임을 져버릴 경우 무조건 국가가 배상해야 한다. 은행 예금은 예금자 보호법에 의해 원금과 이자를 합해서 5천만원까지 보장이 되지만 실시간 지급이 보장된다는 뜻은 아니다. 즉, MMW형 CMA가 은행 예금보다 뱅크런 위험에서는 더 안전함을 시사하는 셈이다.[9]\n",
    "여배우 샤론 스톤이 파산 사태로 절반이나 되는 자산을 날렸다고 한다.\n",
    "미국 실리콘밸리은행(SVB)의 뱅크런은 소셜미디어 트위터가 촉발했다는 연구 논문이 나왔다.\n",
    "\"\"\"\n",
    "print(len(content))\n",
    "doc_init = Document(page_content=content, metadata={'source': 'https://namu.wiki/w/%EC%8B%A4%EB%A6%AC%EC%BD%98%EB%B0%B8%EB%A6%AC%20%EC%9D%80%ED%96%89%20%ED%8C%8C%EC%82%B0', 'title': '실리콘밸리 은행 파산 - 나무위키', 'language': 'No language found.'})"
   ]
  },
  {
   "cell_type": "code",
   "execution_count": 60,
   "id": "94edf2c6-3209-44db-a1fe-79190153d6c3",
   "metadata": {},
   "outputs": [],
   "source": [
    "docs = [doc_init]\n",
    "text_splitter = RecursiveCharacterTextSplitter(chunk_size=10000, chunk_overlap=200)\n",
    "splits = text_splitter.split_documents(docs)"
   ]
  },
  {
   "cell_type": "code",
   "execution_count": 61,
   "id": "fc5c2020-f046-4646-9e55-1fa3447fd62b",
   "metadata": {},
   "outputs": [
    {
     "name": "stdout",
     "output_type": "stream",
     "text": [
      "1\n"
     ]
    }
   ],
   "source": [
    "print(len(splits))"
   ]
  },
  {
   "cell_type": "code",
   "execution_count": 62,
   "id": "203e0c67-5f62-454c-b6dc-bd9beee2fbd8",
   "metadata": {},
   "outputs": [
    {
     "name": "stdout",
     "output_type": "stream",
     "text": [
      "page_content='1. 개요[편집]\\n2023년 3월 10일 실리콘밸리 은행이 파산한 사건.\\n2. 배경[편집]\\n우선 이 사건을 이해하기 위해서는 실리콘밸리 은행(이하 SVB)이 스타트업들의 은행으로 불리는 매우 특수한 구조라는 점에 착안할 필요가 있다.\\n\\n스타트업들은 기본적으로 투자자의 돈을 받으며 설립 시 3차, 4차 펀딩까지도 가며 미국 자본시장의 투자력은 어마무시하다. 즉 이들 스타트업은 현금을 많이 들고 있었고 스타트업이 주요 고객인 SVB에는 그 현금들이 그대로 쌓였다. 그런데 스타트업 기업은 일반 기업들과 큰 차이점이 있으니 바로 빚을 내서 인프라에 투자하지 않는다는 점이다. 애초에 어지간하게 큰 대기업이 아닌 이상 펀딩에 성공했다면 당분간 은행에 별도로 빚을 낼 일도 없다. 설령 빚을 내 투자했더라도 스타트업의 특성상 캐시카우를 처음부터 확실히 쥐고 있는 경우가 드물다. 즉 이들 스타트업은 안정 궤도에 오르기까지 실제 벌어들이는 이익이 크지 않다는 점도 특징이다.\\n\\n이런 특성들은 SVB의 입장, 즉 은행 입장에서는 악영향이다. 은행은 돈을 빌려주고 이자를 받아야 하는데 전통적인 기업은 이것이 가능하다. 은행에서 빚을 내 과감하게 선행 투자를 하고 그로 인해 기업의 이익이 증대되면 이게 곧 은행의 이자 수익으로 이어지는 선순환이다. 그러나 SVB의 주요 고객 포트폴리오는 죄다 현금 부자인 스타트업이었으니 역설적으로 스타트업들의 수익률이 오를수록 SVB에는 현금만 쌓여가는데 이 현금을 빌려줄 곳이 없었다.\\n\\n사실 여기서 포트폴리오 다변화에 성공하여 다른 산업에도 돈을 빌려주었다면 얘기가 달라졌을 것이다. SVB의 전문가들도 바보는 아니었기 때문에 포트폴리오 다변화를 시도했다. 쌓여있는 현금을 어떻게든 굴려야 은행의 이익으로 이어지는 것은 당연하다. 그런데 SVB가 가장 많이 투자한 분야 중 하나가 미국 국채, 그것도 장기채였다. 저금리가 계속 이어진다는 가정 하에서는 나쁘지 않은 판단이었을 수도 있다. 초우량 안전자산으로 분류되는 미국 국채를 다량 보유하고 있으면 수입이 크지 않지만 안정적으로 계속해서 수익을 올릴 수 있었을 것이다. 그러나 후술하듯이 은행이 자산의 큰 비중을 장기채로 가져가는 것은 드물다 못해 거의 없는 일이며 많은 기사에서 이것을 경영 파탄의 원인으로 지적했다.\\n\\n그러다가 미국의 인플레이션과 그로 인한 금리 인상이 SVB에게는 악몽으로 다가오고 말았다.\\n\\n기준금리가 오르면 미국 국채 금리도 같이 인상된다. 채권자들[1]에게는 사실 파티 타임인데 이자율이 오르면 그만큼 자신들의 이자 수익도 늘어난다는 뜻이기 때문이다. 국채 가격의 하락 문제가 있지만 만기까지 보유할 것으로 분류하면 회계상 손실도 인식되지 않는다. 그러나 SVB와 같이 상술한 것처럼 이자율이 낮았던 시절에 미국 국채 장기채를 너무 많이 사들인 상태면 비극이 된다. 이런 상태에서 이자율이 오르니까 이들 장기채는 문자 그대로 똥값이 되고 말았다.[2] 이러면 단기채는 그때그때 높은 수익이 나지만 장기채는 낮은 이율 그대로이므로 수익이 좋지 못하게 된다. 10년 후에 2% 주는 채권이 있고(장기채), 1년 후에 5% 주는 채권(단기채)이 있을 때 그 중에서 고르라면 투자자들은 당연히 후자를 고를 수밖에 없다. 즉 같은 미국 국채라도 현재와 같이 높은 금리 하에서 단기채는 인기가 있어 값이 하락해도 그 폭이 상대적으로 작지만 장기채는 사려는 사람이 없으므로 그 폭이 훨씬 더 크다.\\n\\n그리고 이 폭락 사태는 그대로 SVB가 보유한 자산 가치 하락으로 이어졌는데 은행의 투자 포트폴리오에서 절반 이상이 장기채인 상황에서[3] 장기채 가격이 바닥에 떨어지고 만 것이다. 그런데 위에 써 놓았듯 SVB는 전통적인 대출이자 수입이 현저히 적은 은행이다. 이러다보니 현금은 죄다 장기채에 묶여 있고 그 장기채는 가치가 하락했으며 다른 수익 나올 구멍도 없다.\\n\\n게다가 코로나바이러스감염증-19 사태는 SVB의 상황을 더욱 악화시켰다. 코로나 사태로 인해 스타트업의 유동성이 좋아졌다. 코로나로 인한 특수 상황에서 여러 스타트업들이 돈을 많이 벌었고 그 현금은 전부 SVB에 쌓였다. 그러나 코로나가 서서히 종식되면서 스타트업의 코로나 특수 경기는 저물기 시작했고 흘러넘치던 유동성도 점점 제자리로 돌아왔다. 즉 유동성 경색이 시작되었다. 이런 상황에서 위에서 언급한 미국 국채 금리의 상승이 다른 은행과 달리 역설적으로 SVB에는 더 큰 악재로 다가온 것이다.\\n3. 파산[편집]\\n2023년 3월 9일 이자율 상승으로 인한 국채 매각으로 18억 달러에 달하는 손해를 입고 주가가 크게 하락했다. 뱅크런이 시작되어 주요 투자자들과 기업이 돈을 빼기 시작했고 3월 10일 주가가 66%가 빠지면서 주식거래가 중지됐다.\\n\\nSVB가 손실을 공개하고 유상증자 계획을 발표하자마자 투자자들은 SVB의 주식을 팔아치우기 시작했으며 스타트업들도 유동성이 경색되고 안 좋은 소문이 돌자 쌓여 있던 현금을 인출하기 시작했다. 슬랙과 같은 업무용 메신저와 폰뱅킹의 보급화로 뱅크런 속도가 미친 듯이 가속화되어 단 하루만에 56조 원이 인출되었다.# 주가 폭락과 기술력 발전의 시너지 효과로 SVB는 뱅크런이 일어나 자산이 급감하고 결과적으로 SVB의 시가총액이 하루만에 60%가 날아가고 말았다.\\n\\n이 뱅크런 사태가 매우 빠르게 진행된 원인은 버튼 하나로 예금을 순식간에 옮길 수 있는 스마트폰을 이용한 스마트뱅킹의 점유율이 매우 높은 탓에 뱅크런 속도가 대응할 수 없을 만큼 지나치게 빨라졌기 때문이다. 2008년 세계금융위기보다는 규모가 비교적 작았지만 SNS발 가짜 뉴스 확산에 겁먹은 고객들이 일제히 스마트폰 뱅킹앱을 열고 서둘러 예금을 대량으로 인출하였던 것이 작은 불씨를 더욱 키우고 말았다.\\n\\n결국 2023년 3월 10일 늦은 밤 캘리포니아 주정부에서 SVB의 은행업허가를 취소[4]하고 파산관재인(receiver)으로 연방예금보험공사(FDIC)를 지정하면서 미국 은행 역사상 두 번째로 큰 규모의 파산 사태가 터졌다.\\n4. 파산 이후[편집]\\n연방예금보험공사(FDIC)는 예금자 보호 절차에 들어가 10일 SVB 전 지점을 폐쇄하고 2090억 달러[5]에 달하는 자산을 압류했다.# 실리콘밸리의 경제와 미국 경제 및 세계 경제에 어떤 영향이 갈지 전 세계 언론이 관심을 두었다.#\\n\\n특히 실리콘밸리에 기반을 둔 스타트업 회사들이 줄도산할 것이라는 우려가 번졌다.#,# 관련 사태로 인해 글로벌 주가와 비트코인 시세도 하락했다.# 이참에 부동산 관련 은행과 부실은행을 정리한다는 말이 돌았지만 2008년 서브프라임 모기지 사태와 다르게 시스템의 위기 자체로 번지지 않을 것이라는 전망도 제기되었다.#\\n\\n한편 일론 머스크는 본인이 인수할 의사가 있다고 발표했다. #\\n\\n파산 소식이 퍼지며 전 세계 증시가 3월 13일 월요일 폭락할 것이라는 블랙 먼데이 우려가 번졌다. SVB에 돈이 묶인 한국 기업들과 투자가들도 당황했으며# 국민연금공단도 투자비용으로 보면 큰 부분은 아니지만 10만 주를 가지고 있었다.\\n\\n한편 뉴욕의 시그니처 은행 역시 실리콘밸리 은행이 파산한 지 며칠도 채 안 된 한국시간으로 3월 13일 오전 파산선고가 내려졌다. # 소비자들 입장에서 연쇄적인 도미노 파산을 심히 우려하게 되었다. 퍼스트리퍼블릭 은행, 팩웨스트 뱅코프, 웨스턴 얼라이언스 뱅코프 등 지역 은행의 주가들도 폭락하면서 위기에 놓였다.\\n\\n미국 정부는 실리콘밸리은행에 고객이 예치한 돈을 보험 대상 한도와 상관 없이 전액 보증하는 대책을 마련하였다. 재무부, 연방준비제도, 연방예금보험공사가 발표한 공동 성명에 따르면 모든 예금주는 현지 시각 13일부터 예금 전액에 접근할 수 있다.[6][7] 한편 예금에 대해서는 보장한다고 했지만 주식과 채권은 보장하지 않는다고 한다. 그래서 한국 국민연금도 돈을 물린 것으로 전해졌다.#\\n\\n3월 13일, HSBC가 SVB 영국 법인을 상징적인 금액인 1파운드에 인수하기로 했다. 이에 따라 영국의 거래 기업들의 유동성 문제가 해소될 가능성이 생겼다. #\\n\\nSVB 파산 사태에도 불구하고 연방준비제도 (FOMC)가 금리를 0.25% 올려 베이비 스탭을 강행했다. 높은 금리 때문에 자금 조달이 어려워진 것이 SVB 사태의 원인으로 꼽혀서 연준이 금리를 올릴지 말지 귀추가 주목되었는데 금리 인상은 결국 멈추지 않았다. 다만 제롬 파월 의장은 이번 금리 인상이 마지막일 수 있다는 의미심장한 메시지를 전달했다. 원래 5.5 ~ 6%까지 금리를 올리려고 했으나 SVB 사태로 인해 5% 선에서 장기간 동결하는 식으로 FOMC가 보다 온건적인 정책으로 선회한 것이 아니냐는 분석도 제기되었다.\\n\\n3월 27일, 노스캐롤라이나에 본사가 있는 퍼스트 시티즌 은행이 실리콘밸리 은행을 인수하기로 결의하고 실행하였다.#\\n\\n5월 1일, 퍼스트리퍼블릭 은행이 결국 파산하였다는 소식이 전해졌다. 동시에 JP모건 체이스가 퍼스트리퍼블릭 은행을 인수하겠다고 발표했다.\\n\\n10월 3일, 실리콘밸리 파이낸셜 그룹의 투자은행 부문이 Jeff Leerink 주도하의 컨소시엄에 매각하는 절차가 완료되었다.\\n5. 향후 전망[편집]\\n5.1. 낙관적 전망[편집]\\n금융업계 및 정부 경제 당국에서는 SVB의 파산이 서브프라임 모기지 사태와 다르게 금융업 전체로의 위기로 번지지는 않을 거라는 전망이 우세했다. 은행의 파산은 확실한 악재이기 때문에 단기적으로 금융시장에 충격을 줄 수 있고 그것이 전체적인 주가 하락과 암호화폐 하락 등으로 이어지기는 했지만 SVB의 포트폴리오가 워낙 특수했기 때문에 다른 은행들은 SVB처럼 망하지는 않을 거라는 게 일반적인 금융 전문가들의 시각이다. 애초에 금리가 오르면서 다른 은행들은 이자 파티를 벌이게 되었으므로 어지간하게 어디 묶여 있지 않은 이상은 망할 가능성은 적다.[8]\\n5.2. 비관적 전망[편집]\\nSVB의 파산 사태가 금융권 전체로 충격이 퍼질 것이란 시각도 있는데 이는 전통적인 위기관리 시스템인 신용등급 평가가 이 사례에서 무력화되었음이 드러났기 때문이다. 일주일 전까지 신용등급이 A3였던 은행이 일주일도 안 돼서 C로 폭락하면서 파산한 것이 이 사건이다. 즉 신용등급으로도 부실 기업이나 은행을 거를 수 없다면 무엇을 신뢰하고 투자할 수 있겠는가라는 의문이 제기된 것. 이것 때문에 JP 모건조차도 믿을 수 없다거나 망할 수 있다는 얘기가 나오기도 했다. 이는 2008년 대침체와 월가 점령 시위 이후에도 미국 금융계가 사회 구성원들의 신뢰를 완전히 회복하지 못했음을 나타낸다.\\n\\n실제로 SVB 파산 고작 3일 만인 3월 13일 시그니처 은행이 추가로 파산선고를 받으면서 심상치 않은 흐름이 보였다. # 다만 시그니처 은행은 전통적인 은행과 달리 암호화폐 전문 은행이었던 만큼 그 여파가 전통적인 은행이 무너지는 것만큼 크지 않으리라는 예측도 있었다. 일단 연방예금보험공사는 SVB와 마찬가지로 시그니처 은행의 자산을 넘겨받아 예금 지급에 최선을 다하겠다고 밝혔지만 얼마 지나지 않아 퍼스트리퍼블릭 은행 역시 파산 위기에 몰리면서 사태가 확대될 조짐이 나왔는데 5월 1일 퍼스트리퍼블릭 은행이 최종 파산하면서 실제로 사태가 확대되었다.\\n\\n연준이 긴급자금지원을 했지만 만약 퍼스트 시티즌 뱅크에게 인수된 실리콘밸리 은행과 JP모건 체이스에게 인수된 퍼스트리퍼블릭 은행처럼 찰스 슈왑# 마저 파산한다면 여파가 여타 대형 은행까지 더 크게 번질 가능성도 생겼다.\\n6. 기타[편집]\\n은행이 자산 배치와 사업 구조를 다변화(diversify)하지 않을 경우 아무리 보수적으로 기업 구조를 짜더라도 은행 자체가 망할 수 있음을 증명한 희귀한 사례가 되었다. 금융기관이 몰락하는 것은 지나치게 공격적인(위험한) 투자 일변도로 포트폴리오를 구성해서 일어나는 경우가 많은데 이처럼 그 반대의 경우도 가능함을 보여준 셈이다. 투자의 제1계명인 계란을 한 바구니에 담지 말라는 대원칙을 위반했기 때문에 일어난 일이다.\\n이 사건은 뱅크런이 발생할 경우 투자은행이 주도하여 채권 투자와 수신 영업을 통해 원금과 이자 지급을 가능케 하는 발행어음형 CMA의 안정성을 담보할 수 없다는 점을 시사하며 예금자 보호가 되는 은행 예금 및 종합금융형 CMA와 예금자 보호가 되지 않지만 AA 등급 이상의 채권을 담보로 하는 RP형 CMA도 원금 손실 가능성은 없지만 금융기관이 파산할 경우 돈이 묶이는 성가신 상황이 발생할 수 있다는 사실을 상기시켰다. 오히려 예금자 보호가 되지는 않더라도 금융기관의 파산 여부가 유동성에 영향을 끼치지 않는 MMW형 CMA가 오히려 은행 예금이나 다른 CMA 상품보다 더 안전할 수 있다. MMW형 CMA는 운용 주체가 중권 금융기관인 한국증권금융이고 예금자보호법 적용은 받지 않지만 자본시장법 74조에 근거하여 원금과 이자뿐만 아니라 상시 유동성 그 자체를 보장하도록 운용하고 있다. 즉, 불특정 고객이 자기가 맡긴 돈을 아무 때나 출금하더라도 문제가 발생하지 않도록 예탁금을 운용해야 한다. 한국증권금융이 이런 책임을 져버릴 경우 무조건 국가가 배상해야 한다. 은행 예금은 예금자 보호법에 의해 원금과 이자를 합해서 5천만원까지 보장이 되지만 실시간 지급이 보장된다는 뜻은 아니다. 즉, MMW형 CMA가 은행 예금보다 뱅크런 위험에서는 더 안전함을 시사하는 셈이다.[9]\\n여배우 샤론 스톤이 파산 사태로 절반이나 되는 자산을 날렸다고 한다.\\n미국 실리콘밸리은행(SVB)의 뱅크런은 소셜미디어 트위터가 촉발했다는 연구 논문이 나왔다.' metadata={'source': 'https://namu.wiki/w/%EC%8B%A4%EB%A6%AC%EC%BD%98%EB%B0%B8%EB%A6%AC%20%EC%9D%80%ED%96%89%20%ED%8C%8C%EC%82%B0', 'title': '실리콘밸리 은행 파산 - 나무위키', 'language': 'No language found.'}\n"
     ]
    }
   ],
   "source": [
    "print(splits[0])"
   ]
  },
  {
   "cell_type": "code",
   "execution_count": 64,
   "id": "92fd0698-cbcd-45de-bb20-dff3c0d74c75",
   "metadata": {},
   "outputs": [],
   "source": [
    "# save to disk\n",
    "vectorstore = Chroma.from_documents(documents=splits, embedding=embeddings, persist_directory=\"./chroma_db_svb05\")\n",
    "\n",
    "# load from disk\n",
    "#vectorstore = Chroma(embedding_function=embeddings, persist_directory=\"./chroma_db_svb04\")"
   ]
  },
  {
   "cell_type": "code",
   "execution_count": 67,
   "id": "318c9064-bd6b-41c1-a562-fb89a036f4c4",
   "metadata": {},
   "outputs": [],
   "source": [
    "retriever = vectorstore.as_retriever(search_kwargs={'k': 1})\n",
    "\n",
    "prompt = hub.pull(\"rlm/rag-prompt\")\n",
    "llm = ChatOpenAI(model_name=\"gpt-3.5-turbo-16k\", temperature=0)\n",
    "\n",
    "def format_docs(docs):\n",
    "    return \"\\n\\n\".join(doc.page_content for doc in docs)\n",
    "\n",
    "rag_chain = (\n",
    "    {\"context\": retriever | format_docs, \"question\": RunnablePassthrough()}\n",
    "    | prompt\n",
    "    | llm\n",
    "    | StrOutputParser()\n",
    ")"
   ]
  },
  {
   "cell_type": "code",
   "execution_count": 68,
   "id": "1e3c8f98-70ac-4927-8677-518c81b05727",
   "metadata": {},
   "outputs": [
    {
     "data": {
      "text/plain": [
       "'2023년 3월 10일, 실리콘밸리 은행이 파산하였고 이는 이자율 상승으로 인한 국채 매각으로 인한 손해와 스타트업들의 유동성 경색 등이 원인이었다. 파산 이후에는 연방예금보험공사(FDIC)가 예금자 보호 절차에 들어가 은행을 폐쇄하고 자산을 압류하였다. 이 사태로 인해 실리콘밸리의 경제와 미국 경제에도 영향을 미쳤다.'"
      ]
     },
     "execution_count": 68,
     "metadata": {},
     "output_type": "execute_result"
    }
   ],
   "source": [
    "rag_chain.invoke(\"실리콘 밸리 은행 파산 사건 요약해 줘\")"
   ]
  },
  {
   "cell_type": "code",
   "execution_count": 69,
   "id": "31116920-ee25-423b-82db-6d32e41690b6",
   "metadata": {},
   "outputs": [
    {
     "data": {
      "text/plain": [
       "'2023년 3월 10일, 실리콘밸리 은행이 파산한 사건입니다. 이 사건은 은행의 포트폴리오 구조와 자산 배치의 문제로 인해 발생하였습니다. 파산 이후에는 다른 은행들에도 영향을 미칠 수 있는 위기 상황이었습니다.'"
      ]
     },
     "execution_count": 69,
     "metadata": {},
     "output_type": "execute_result"
    }
   ],
   "source": [
    "rag_chain.invoke(\"실리콘 밸리 은행 파산 사건 자세히 설명해 줘\")"
   ]
  },
  {
   "cell_type": "code",
   "execution_count": 47,
   "id": "81e8e399-0889-486f-b80d-fc7666bed408",
   "metadata": {},
   "outputs": [
    {
     "data": {
      "text/plain": [
       "'2023년 3월 10일에 실리콘밸리 은행이 파산했습니다.'"
      ]
     },
     "execution_count": 47,
     "metadata": {},
     "output_type": "execute_result"
    }
   ],
   "source": [
    "rag_chain.invoke(\"실리콘 밸리 은행 파산 사건은 언제 발생했어?\")"
   ]
  },
  {
   "cell_type": "code",
   "execution_count": null,
   "id": "1d58de12-01de-4079-a442-6df2caf60502",
   "metadata": {},
   "outputs": [],
   "source": []
  }
 ],
 "metadata": {
  "kernelspec": {
   "display_name": "Python 3 (ipykernel)",
   "language": "python",
   "name": "python3"
  },
  "language_info": {
   "codemirror_mode": {
    "name": "ipython",
    "version": 3
   },
   "file_extension": ".py",
   "mimetype": "text/x-python",
   "name": "python",
   "nbconvert_exporter": "python",
   "pygments_lexer": "ipython3",
   "version": "3.11.5"
  }
 },
 "nbformat": 4,
 "nbformat_minor": 5
}
